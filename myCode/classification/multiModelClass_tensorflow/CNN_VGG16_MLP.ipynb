{
 "cells": [
  {
   "attachments": {
    "image.png": {
     "image/png": "[encoded data removed]"
    }
   },
   "cell_type": "markdown",
   "metadata": {},
   "source": [
    "![image.png](attachment:image.png)"
   ]
  },
  {
   "cell_type": "code",
   "execution_count": 31,
   "metadata": {},
   "outputs": [],
   "source": [
    "import numpy as np\n",
    "import pandas as pd\n",
    "import os\n",
    "import cv2\n",
    "import matplotlib.pyplot as plt\n",
    "import pathlib\n",
    "import glob\n",
    "import splitfolders\n",
    "\n",
    "from sklearn.preprocessing import StandardScaler\n",
    "from sklearn.neural_network import MLPClassifier\n",
    "from sklearn.metrics import classification_report, ConfusionMatrixDisplay, confusion_matrix\n",
    "from sklearn.metrics import accuracy_score\n",
    "from sklearn.model_selection import RandomizedSearchCV, GridSearchCV, train_test_split, StratifiedKFold\n",
    "\n",
    "\n",
    "import tensorflow as tf\n",
    "from tensorflow.keras import models, layers\n",
    "from tensorflow.keras.applications import VGG16\n",
    "from tensorflow.keras.models import Sequential, Model, load_model\n",
    "from tensorflow.keras.preprocessing.image import ImageDataGenerator\n",
    "from tensorflow.keras.preprocessing import image_dataset_from_directory"
   ]
  },
  {
   "cell_type": "code",
   "execution_count": 32,
   "metadata": {},
   "outputs": [],
   "source": [
    "Dataset_dir = r\"D:\\code_study\\ML_CODE\\dataSets\\Pistachio_Image_Dataset\\Pistachio_Image_Dataset\"\n",
    "Dataset_dir = pathlib.Path(Dataset_dir)\n",
    "\n",
    "Total_images = glob.glob(\"D:\\code_study\\ML_CODE\\dataSets\\Pistachio_Image_Dataset\\Pistachio_Image_Dataset\")"
   ]
  },
  {
   "cell_type": "code",
   "execution_count": 23,
   "metadata": {},
   "outputs": [],
   "source": [
    "splitfolders.ratio(Dataset_dir, output='output', seed=101, ratio=(.7, .15, .15))"
   ]
  },
  {
   "cell_type": "code",
   "execution_count": 33,
   "metadata": {},
   "outputs": [
    {
     "name": "stdout",
     "output_type": "stream",
     "text": [
      "Total number of training images:  1503\n",
      "Total number of test images:  324\n",
      "Total number of validation images:  321\n"
     ]
    }
   ],
   "source": [
    "train_path = './output/train'\n",
    "test_path = './output/test'\n",
    "val_path = './output/val'\n",
    "\n",
    "Total_TrainImages = glob.glob(train_path + '/*/*.jpg')\n",
    "print(\"Total number of training images: \", len(Total_TrainImages))\n",
    "\n",
    "Total_TestImages = glob.glob(test_path + '/*/*.jpg')\n",
    "print(\"Total number of test images: \", len(Total_TestImages))\n",
    "\n",
    "Total_ValImages = glob.glob(val_path + '/*/*.jpg')\n",
    "print(\"Total number of validation images: \", len(Total_ValImages))\n"
   ]
  },
  {
   "cell_type": "code",
   "execution_count": 34,
   "metadata": {},
   "outputs": [
    {
     "data": {
      "text/html": [
       "<div>\n",
       "<style scoped>\n",
       "    .dataframe tbody tr th:only-of-type {\n",
       "        vertical-align: middle;\n",
       "    }\n",
       "\n",
       "    .dataframe tbody tr th {\n",
       "        vertical-align: top;\n",
       "    }\n",
       "\n",
       "    .dataframe thead th {\n",
       "        text-align: right;\n",
       "    }\n",
       "</style>\n",
       "<table border=\"1\" class=\"dataframe\">\n",
       "  <thead>\n",
       "    <tr style=\"text-align: right;\">\n",
       "      <th></th>\n",
       "      <th>Filename</th>\n",
       "      <th>ClassId</th>\n",
       "    </tr>\n",
       "  </thead>\n",
       "  <tbody>\n",
       "    <tr>\n",
       "      <th>0</th>\n",
       "      <td>kirmizi (1).jpg</td>\n",
       "      <td>Kirmizi_Pistachio</td>\n",
       "    </tr>\n",
       "    <tr>\n",
       "      <th>1</th>\n",
       "      <td>kirmizi (10).jpg</td>\n",
       "      <td>Kirmizi_Pistachio</td>\n",
       "    </tr>\n",
       "    <tr>\n",
       "      <th>2</th>\n",
       "      <td>kirmizi (12).jpg</td>\n",
       "      <td>Kirmizi_Pistachio</td>\n",
       "    </tr>\n",
       "    <tr>\n",
       "      <th>3</th>\n",
       "      <td>kirmizi (13).jpg</td>\n",
       "      <td>Kirmizi_Pistachio</td>\n",
       "    </tr>\n",
       "    <tr>\n",
       "      <th>4</th>\n",
       "      <td>kirmizi (14).jpg</td>\n",
       "      <td>Kirmizi_Pistachio</td>\n",
       "    </tr>\n",
       "    <tr>\n",
       "      <th>5</th>\n",
       "      <td>kirmizi (15).jpg</td>\n",
       "      <td>Kirmizi_Pistachio</td>\n",
       "    </tr>\n",
       "    <tr>\n",
       "      <th>6</th>\n",
       "      <td>kirmizi (16).jpg</td>\n",
       "      <td>Kirmizi_Pistachio</td>\n",
       "    </tr>\n",
       "    <tr>\n",
       "      <th>7</th>\n",
       "      <td>kirmizi (17).jpg</td>\n",
       "      <td>Kirmizi_Pistachio</td>\n",
       "    </tr>\n",
       "    <tr>\n",
       "      <th>8</th>\n",
       "      <td>kirmizi (18).jpg</td>\n",
       "      <td>Kirmizi_Pistachio</td>\n",
       "    </tr>\n",
       "    <tr>\n",
       "      <th>9</th>\n",
       "      <td>kirmizi (19).jpg</td>\n",
       "      <td>Kirmizi_Pistachio</td>\n",
       "    </tr>\n",
       "  </tbody>\n",
       "</table>\n",
       "</div>"
      ],
      "text/plain": [
       "           Filename            ClassId\n",
       "0   kirmizi (1).jpg  Kirmizi_Pistachio\n",
       "1  kirmizi (10).jpg  Kirmizi_Pistachio\n",
       "2  kirmizi (12).jpg  Kirmizi_Pistachio\n",
       "3  kirmizi (13).jpg  Kirmizi_Pistachio\n",
       "4  kirmizi (14).jpg  Kirmizi_Pistachio\n",
       "5  kirmizi (15).jpg  Kirmizi_Pistachio\n",
       "6  kirmizi (16).jpg  Kirmizi_Pistachio\n",
       "7  kirmizi (17).jpg  Kirmizi_Pistachio\n",
       "8  kirmizi (18).jpg  Kirmizi_Pistachio\n",
       "9  kirmizi (19).jpg  Kirmizi_Pistachio"
      ]
     },
     "execution_count": 34,
     "metadata": {},
     "output_type": "execute_result"
    }
   ],
   "source": [
    "train_image_names = pd.Series(Total_TrainImages)\n",
    "train_df = pd.DataFrame()\n",
    "train_df['Filename'] = train_image_names.map(lambda x: x.split('\\\\')[-1])\n",
    "train_df['ClassId'] = train_image_names.map(lambda x: x.split('\\\\')[-2])\n",
    "\n",
    "train_df.head(10)"
   ]
  },
  {
   "cell_type": "code",
   "execution_count": 35,
   "metadata": {},
   "outputs": [
    {
     "data": {
      "image/png": "[encoded data removed]",
      "text/plain": [
       "<Figure size 1000x1000 with 12 Axes>"
      ]
     },
     "metadata": {},
     "output_type": "display_data"
    }
   ],
   "source": [
    "plot_df = train_df.sample(12).reset_index()\n",
    "plt.figure(figsize=(10, 10))\n",
    "\n",
    "for i in range(12):\n",
    "    img_name = plot_df.loc[i, 'Filename']\n",
    "    label = (plot_df.loc[i, 'ClassId'])\n",
    "\n",
    "    plt.subplot(4, 4, i + 1)\n",
    "    plt.imshow(plt.imread(os.path.join(train_path, label, img_name)))\n",
    "    plt.title(label)\n",
    "    plt.xticks([])\n",
    "    plt.yticks([])"
   ]
  },
  {
   "cell_type": "code",
   "execution_count": 36,
   "metadata": {},
   "outputs": [],
   "source": [
    "train_datagen = ImageDataGenerator(\n",
    "    samplewise_center=True,\n",
    "    zoom_range = 0.1,\n",
    "    horizontal_flip=True,\n",
    "    vertical_flip=True,\n",
    "    rescale=1/255.,\n",
    ")\n",
    "\n",
    "test_datagen = ImageDataGenerator(rescale=1/255.)\n",
    "\n",
    "batch_size = 32\n",
    "\n",
    "img_size = 64"
   ]
  },
  {
   "cell_type": "code",
   "execution_count": 37,
   "metadata": {},
   "outputs": [
    {
     "name": "stdout",
     "output_type": "stream",
     "text": [
      "Found 1503 images belonging to 2 classes.\n",
      "Found 321 images belonging to 2 classes.\n",
      "Found 324 images belonging to 2 classes.\n"
     ]
    }
   ],
   "source": [
    "train_generator = train_datagen.flow_from_directory(\n",
    "    directory=train_path, \n",
    "    batch_size=batch_size,\n",
    "    class_mode='categorical',\n",
    "    target_size=(img_size, img_size)\n",
    ")\n",
    "\n",
    "val_generator = test_datagen.flow_from_directory(\n",
    "    directory=val_path,\n",
    "    batch_size=batch_size,\n",
    "    class_mode='categorical',\n",
    "    target_size=(img_size, img_size)\n",
    ")\n",
    "\n",
    "test_generator = test_datagen.flow_from_directory(\n",
    "    directory=test_path,\n",
    "    batch_size=batch_size,\n",
    "    class_mode='categorical',\n",
    "    target_size=(img_size, img_size)\n",
    ")"
   ]
  },
  {
   "cell_type": "code",
   "execution_count": 38,
   "metadata": {},
   "outputs": [
    {
     "name": "stdout",
     "output_type": "stream",
     "text": [
      "Found 2148 files belonging to 2 classes.\n",
      "Using 1719 files for training.\n",
      "Found 2148 files belonging to 2 classes.\n",
      "Using 429 files for validation.\n"
     ]
    }
   ],
   "source": [
    "data_train = image_dataset_from_directory(\n",
    "    Dataset_dir,\n",
    "    label_mode='categorical',\n",
    "    validation_split=0.2,\n",
    "    subset='training',\n",
    "    seed=0,\n",
    "    color_mode='rgb',\n",
    "    image_size=(img_size, img_size),\n",
    "    batch_size=batch_size,\n",
    ")\n",
    "\n",
    "data_test = image_dataset_from_directory(\n",
    "    Dataset_dir,\n",
    "    validation_split=0.2,\n",
    "    subset='validation',\n",
    "    label_mode='categorical',\n",
    "    seed=0,\n",
    "    color_mode='rgb',\n",
    "    image_size=(img_size, img_size),\n",
    "    batch_size=batch_size,\n",
    ")"
   ]
  },
  {
   "cell_type": "code",
   "execution_count": 30,
   "metadata": {},
   "outputs": [
    {
     "name": "stdout",
     "output_type": "stream",
     "text": [
      "Epoch 1/100\n"
     ]
    },
    {
     "ename": "KeyboardInterrupt",
     "evalue": "",
     "output_type": "error",
     "traceback": [
      "\u001b[1;31m---------------------------------------------------------------------------\u001b[0m",
      "\u001b[1;31mKeyboardInterrupt\u001b[0m                         Traceback (most recent call last)",
      "\u001b[1;32m~\\AppData\\Local\\Temp\\ipykernel_44364\\2117347912.py\u001b[0m in \u001b[0;36m<module>\u001b[1;34m\u001b[0m\n\u001b[0;32m     23\u001b[0m \u001b[0mcnn\u001b[0m\u001b[1;33m.\u001b[0m\u001b[0mcompile\u001b[0m\u001b[1;33m(\u001b[0m\u001b[0moptimizer\u001b[0m\u001b[1;33m=\u001b[0m\u001b[1;34m'adam'\u001b[0m\u001b[1;33m,\u001b[0m \u001b[0mloss\u001b[0m\u001b[1;33m=\u001b[0m\u001b[1;34m'binary_crossentropy'\u001b[0m\u001b[1;33m,\u001b[0m \u001b[0mmetrics\u001b[0m\u001b[1;33m=\u001b[0m\u001b[1;33m[\u001b[0m\u001b[1;34m'accuracy'\u001b[0m\u001b[1;33m]\u001b[0m\u001b[1;33m)\u001b[0m\u001b[1;33m\u001b[0m\u001b[1;33m\u001b[0m\u001b[0m\n\u001b[0;32m     24\u001b[0m \u001b[1;33m\u001b[0m\u001b[0m\n\u001b[1;32m---> 25\u001b[1;33m \u001b[0mcnn\u001b[0m\u001b[1;33m.\u001b[0m\u001b[0mfit\u001b[0m\u001b[1;33m(\u001b[0m\u001b[0mx\u001b[0m \u001b[1;33m=\u001b[0m \u001b[0mtrain_generator\u001b[0m\u001b[1;33m,\u001b[0m \u001b[0mvalidation_data\u001b[0m\u001b[1;33m=\u001b[0m\u001b[0mval_generator\u001b[0m\u001b[1;33m,\u001b[0m \u001b[0mepochs\u001b[0m\u001b[1;33m=\u001b[0m\u001b[1;36m100\u001b[0m\u001b[1;33m)\u001b[0m\u001b[1;33m\u001b[0m\u001b[1;33m\u001b[0m\u001b[0m\n\u001b[0m",
      "\u001b[1;32mc:\\Users\\Leaper\\anaconda3\\envs\\tensorflowGpu\\lib\\site-packages\\tensorflow\\python\\keras\\engine\\training.py\u001b[0m in \u001b[0;36mfit\u001b[1;34m(self, x, y, batch_size, epochs, verbose, callbacks, validation_split, validation_data, shuffle, class_weight, sample_weight, initial_epoch, steps_per_epoch, validation_steps, validation_batch_size, validation_freq, max_queue_size, workers, use_multiprocessing)\u001b[0m\n\u001b[0;32m   1098\u001b[0m                 _r=1):\n\u001b[0;32m   1099\u001b[0m               \u001b[0mcallbacks\u001b[0m\u001b[1;33m.\u001b[0m\u001b[0mon_train_batch_begin\u001b[0m\u001b[1;33m(\u001b[0m\u001b[0mstep\u001b[0m\u001b[1;33m)\u001b[0m\u001b[1;33m\u001b[0m\u001b[1;33m\u001b[0m\u001b[0m\n\u001b[1;32m-> 1100\u001b[1;33m               \u001b[0mtmp_logs\u001b[0m \u001b[1;33m=\u001b[0m \u001b[0mself\u001b[0m\u001b[1;33m.\u001b[0m\u001b[0mtrain_function\u001b[0m\u001b[1;33m(\u001b[0m\u001b[0miterator\u001b[0m\u001b[1;33m)\u001b[0m\u001b[1;33m\u001b[0m\u001b[1;33m\u001b[0m\u001b[0m\n\u001b[0m\u001b[0;32m   1101\u001b[0m               \u001b[1;32mif\u001b[0m \u001b[0mdata_handler\u001b[0m\u001b[1;33m.\u001b[0m\u001b[0mshould_sync\u001b[0m\u001b[1;33m:\u001b[0m\u001b[1;33m\u001b[0m\u001b[1;33m\u001b[0m\u001b[0m\n\u001b[0;32m   1102\u001b[0m                 \u001b[0mcontext\u001b[0m\u001b[1;33m.\u001b[0m\u001b[0masync_wait\u001b[0m\u001b[1;33m(\u001b[0m\u001b[1;33m)\u001b[0m\u001b[1;33m\u001b[0m\u001b[1;33m\u001b[0m\u001b[0m\n",
      "\u001b[1;32mc:\\Users\\Leaper\\anaconda3\\envs\\tensorflowGpu\\lib\\site-packages\\tensorflow\\python\\eager\\def_function.py\u001b[0m in \u001b[0;36m__call__\u001b[1;34m(self, *args, **kwds)\u001b[0m\n\u001b[0;32m    826\u001b[0m     \u001b[0mtracing_count\u001b[0m \u001b[1;33m=\u001b[0m \u001b[0mself\u001b[0m\u001b[1;33m.\u001b[0m\u001b[0mexperimental_get_tracing_count\u001b[0m\u001b[1;33m(\u001b[0m\u001b[1;33m)\u001b[0m\u001b[1;33m\u001b[0m\u001b[1;33m\u001b[0m\u001b[0m\n\u001b[0;32m    827\u001b[0m     \u001b[1;32mwith\u001b[0m \u001b[0mtrace\u001b[0m\u001b[1;33m.\u001b[0m\u001b[0mTrace\u001b[0m\u001b[1;33m(\u001b[0m\u001b[0mself\u001b[0m\u001b[1;33m.\u001b[0m\u001b[0m_name\u001b[0m\u001b[1;33m)\u001b[0m \u001b[1;32mas\u001b[0m \u001b[0mtm\u001b[0m\u001b[1;33m:\u001b[0m\u001b[1;33m\u001b[0m\u001b[1;33m\u001b[0m\u001b[0m\n\u001b[1;32m--> 828\u001b[1;33m       \u001b[0mresult\u001b[0m \u001b[1;33m=\u001b[0m \u001b[0mself\u001b[0m\u001b[1;33m.\u001b[0m\u001b[0m_call\u001b[0m\u001b[1;33m(\u001b[0m\u001b[1;33m*\u001b[0m\u001b[0margs\u001b[0m\u001b[1;33m,\u001b[0m \u001b[1;33m**\u001b[0m\u001b[0mkwds\u001b[0m\u001b[1;33m)\u001b[0m\u001b[1;33m\u001b[0m\u001b[1;33m\u001b[0m\u001b[0m\n\u001b[0m\u001b[0;32m    829\u001b[0m       \u001b[0mcompiler\u001b[0m \u001b[1;33m=\u001b[0m \u001b[1;34m\"xla\"\u001b[0m \u001b[1;32mif\u001b[0m \u001b[0mself\u001b[0m\u001b[1;33m.\u001b[0m\u001b[0m_experimental_compile\u001b[0m \u001b[1;32melse\u001b[0m \u001b[1;34m\"nonXla\"\u001b[0m\u001b[1;33m\u001b[0m\u001b[1;33m\u001b[0m\u001b[0m\n\u001b[0;32m    830\u001b[0m       \u001b[0mnew_tracing_count\u001b[0m \u001b[1;33m=\u001b[0m \u001b[0mself\u001b[0m\u001b[1;33m.\u001b[0m\u001b[0mexperimental_get_tracing_count\u001b[0m\u001b[1;33m(\u001b[0m\u001b[1;33m)\u001b[0m\u001b[1;33m\u001b[0m\u001b[1;33m\u001b[0m\u001b[0m\n",
      "\u001b[1;32mc:\\Users\\Leaper\\anaconda3\\envs\\tensorflowGpu\\lib\\site-packages\\tensorflow\\python\\eager\\def_function.py\u001b[0m in \u001b[0;36m_call\u001b[1;34m(self, *args, **kwds)\u001b[0m\n\u001b[0;32m    886\u001b[0m         \u001b[1;31m# Lifting succeeded, so variables are initialized and we can run the\u001b[0m\u001b[1;33m\u001b[0m\u001b[1;33m\u001b[0m\u001b[1;33m\u001b[0m\u001b[0m\n\u001b[0;32m    887\u001b[0m         \u001b[1;31m# stateless function.\u001b[0m\u001b[1;33m\u001b[0m\u001b[1;33m\u001b[0m\u001b[1;33m\u001b[0m\u001b[0m\n\u001b[1;32m--> 888\u001b[1;33m         \u001b[1;32mreturn\u001b[0m \u001b[0mself\u001b[0m\u001b[1;33m.\u001b[0m\u001b[0m_stateless_fn\u001b[0m\u001b[1;33m(\u001b[0m\u001b[1;33m*\u001b[0m\u001b[0margs\u001b[0m\u001b[1;33m,\u001b[0m \u001b[1;33m**\u001b[0m\u001b[0mkwds\u001b[0m\u001b[1;33m)\u001b[0m\u001b[1;33m\u001b[0m\u001b[1;33m\u001b[0m\u001b[0m\n\u001b[0m\u001b[0;32m    889\u001b[0m     \u001b[1;32melse\u001b[0m\u001b[1;33m:\u001b[0m\u001b[1;33m\u001b[0m\u001b[1;33m\u001b[0m\u001b[0m\n\u001b[0;32m    890\u001b[0m       \u001b[0m_\u001b[0m\u001b[1;33m,\u001b[0m \u001b[0m_\u001b[0m\u001b[1;33m,\u001b[0m \u001b[0m_\u001b[0m\u001b[1;33m,\u001b[0m \u001b[0mfiltered_flat_args\u001b[0m \u001b[1;33m=\u001b[0m\u001b[0;31m \u001b[0m\u001b[0;31m\\\u001b[0m\u001b[1;33m\u001b[0m\u001b[1;33m\u001b[0m\u001b[0m\n",
      "\u001b[1;32mc:\\Users\\Leaper\\anaconda3\\envs\\tensorflowGpu\\lib\\site-packages\\tensorflow\\python\\eager\\function.py\u001b[0m in \u001b[0;36m__call__\u001b[1;34m(self, *args, **kwargs)\u001b[0m\n\u001b[0;32m   2941\u001b[0m        filtered_flat_args) = self._maybe_define_function(args, kwargs)\n\u001b[0;32m   2942\u001b[0m     return graph_function._call_flat(\n\u001b[1;32m-> 2943\u001b[1;33m         filtered_flat_args, captured_inputs=graph_function.captured_inputs)  # pylint: disable=protected-access\n\u001b[0m\u001b[0;32m   2944\u001b[0m \u001b[1;33m\u001b[0m\u001b[0m\n\u001b[0;32m   2945\u001b[0m   \u001b[1;33m@\u001b[0m\u001b[0mproperty\u001b[0m\u001b[1;33m\u001b[0m\u001b[1;33m\u001b[0m\u001b[0m\n",
      "\u001b[1;32mc:\\Users\\Leaper\\anaconda3\\envs\\tensorflowGpu\\lib\\site-packages\\tensorflow\\python\\eager\\function.py\u001b[0m in \u001b[0;36m_call_flat\u001b[1;34m(self, args, captured_inputs, cancellation_manager)\u001b[0m\n\u001b[0;32m   1917\u001b[0m       \u001b[1;31m# No tape is watching; skip to running the function.\u001b[0m\u001b[1;33m\u001b[0m\u001b[1;33m\u001b[0m\u001b[1;33m\u001b[0m\u001b[0m\n\u001b[0;32m   1918\u001b[0m       return self._build_call_outputs(self._inference_function.call(\n\u001b[1;32m-> 1919\u001b[1;33m           ctx, args, cancellation_manager=cancellation_manager))\n\u001b[0m\u001b[0;32m   1920\u001b[0m     forward_backward = self._select_forward_and_backward_functions(\n\u001b[0;32m   1921\u001b[0m         \u001b[0margs\u001b[0m\u001b[1;33m,\u001b[0m\u001b[1;33m\u001b[0m\u001b[1;33m\u001b[0m\u001b[0m\n",
      "\u001b[1;32mc:\\Users\\Leaper\\anaconda3\\envs\\tensorflowGpu\\lib\\site-packages\\tensorflow\\python\\eager\\function.py\u001b[0m in \u001b[0;36mcall\u001b[1;34m(self, ctx, args, cancellation_manager)\u001b[0m\n\u001b[0;32m    558\u001b[0m               \u001b[0minputs\u001b[0m\u001b[1;33m=\u001b[0m\u001b[0margs\u001b[0m\u001b[1;33m,\u001b[0m\u001b[1;33m\u001b[0m\u001b[1;33m\u001b[0m\u001b[0m\n\u001b[0;32m    559\u001b[0m               \u001b[0mattrs\u001b[0m\u001b[1;33m=\u001b[0m\u001b[0mattrs\u001b[0m\u001b[1;33m,\u001b[0m\u001b[1;33m\u001b[0m\u001b[1;33m\u001b[0m\u001b[0m\n\u001b[1;32m--> 560\u001b[1;33m               ctx=ctx)\n\u001b[0m\u001b[0;32m    561\u001b[0m         \u001b[1;32melse\u001b[0m\u001b[1;33m:\u001b[0m\u001b[1;33m\u001b[0m\u001b[1;33m\u001b[0m\u001b[0m\n\u001b[0;32m    562\u001b[0m           outputs = execute.execute_with_cancellation(\n",
      "\u001b[1;32mc:\\Users\\Leaper\\anaconda3\\envs\\tensorflowGpu\\lib\\site-packages\\tensorflow\\python\\eager\\execute.py\u001b[0m in \u001b[0;36mquick_execute\u001b[1;34m(op_name, num_outputs, inputs, attrs, ctx, name)\u001b[0m\n\u001b[0;32m     58\u001b[0m     \u001b[0mctx\u001b[0m\u001b[1;33m.\u001b[0m\u001b[0mensure_initialized\u001b[0m\u001b[1;33m(\u001b[0m\u001b[1;33m)\u001b[0m\u001b[1;33m\u001b[0m\u001b[1;33m\u001b[0m\u001b[0m\n\u001b[0;32m     59\u001b[0m     tensors = pywrap_tfe.TFE_Py_Execute(ctx._handle, device_name, op_name,\n\u001b[1;32m---> 60\u001b[1;33m                                         inputs, attrs, num_outputs)\n\u001b[0m\u001b[0;32m     61\u001b[0m   \u001b[1;32mexcept\u001b[0m \u001b[0mcore\u001b[0m\u001b[1;33m.\u001b[0m\u001b[0m_NotOkStatusException\u001b[0m \u001b[1;32mas\u001b[0m \u001b[0me\u001b[0m\u001b[1;33m:\u001b[0m\u001b[1;33m\u001b[0m\u001b[1;33m\u001b[0m\u001b[0m\n\u001b[0;32m     62\u001b[0m     \u001b[1;32mif\u001b[0m \u001b[0mname\u001b[0m \u001b[1;32mis\u001b[0m \u001b[1;32mnot\u001b[0m \u001b[1;32mNone\u001b[0m\u001b[1;33m:\u001b[0m\u001b[1;33m\u001b[0m\u001b[1;33m\u001b[0m\u001b[0m\n",
      "\u001b[1;31mKeyboardInterrupt\u001b[0m: "
     ]
    }
   ],
   "source": [
    "# #use cnn model\n",
    "# cnn = models.Sequential()\n",
    "\n",
    "# cnn.add(layers.Conv2D(filters=2048, kernel_size=3, activation='relu', input_shape=(64,64,3)))\n",
    "# cnn.add(layers.MaxPooling2D(pool_size=2, strides=2))\n",
    "\n",
    "# cnn.add(layers.Conv2D(filters=2048, kernel_size=3, activation='relu'))\n",
    "# cnn.add(layers.MaxPooling2D(pool_size=2, strides=2))\n",
    "\n",
    "# cnn.add(layers.Conv2D(filters=2048, kernel_size=3, activation='relu'))\n",
    "# cnn.add(layers.MaxPooling2D(pool_size=2, strides=2))\n",
    "\n",
    "# cnn.add(layers.Dense(2048, activation='relu'))\n",
    "# cnn.add(layers.MaxPool2D(pool_size=2, strides=2))\n",
    "\n",
    "# cnn.add(layers.Dense(2048, activation='relu'))\n",
    "# cnn.add(layers.MaxPool2D(pool_size=2, strides=2))\n",
    "\n",
    "# cnn.add(layers.Flatten())\n",
    "\n",
    "# cnn.add(layers.Dense(units=1, activation='sigmoid'))\n",
    "\n",
    "# cnn.compile(optimizer='adam', loss='binary_crossentropy', metrics=['accuracy'])\n",
    "\n",
    "# cnn.fit(x = train_generator, validation_data=val_generator, epochs=100)"
   ]
  },
  {
   "cell_type": "code",
   "execution_count": null,
   "metadata": {},
   "outputs": [],
   "source": [
    "print(cnn.summary)"
   ]
  },
  {
   "cell_type": "code",
   "execution_count": null,
   "metadata": {},
   "outputs": [],
   "source": [
    "test_loss, test_acc = cnn.evaluate(data_test, steps=len(data_test), verbose=1)"
   ]
  },
  {
   "cell_type": "code",
   "execution_count": 41,
   "metadata": {},
   "outputs": [
    {
     "name": "stdout",
     "output_type": "stream",
     "text": [
      "Epoch 1/50\n",
      "54/54 [==============================] - 4s 65ms/step - loss: 14.9174 - accuracy: 0.5958 - val_loss: 0.5245 - val_accuracy: 0.7188\n",
      "Epoch 2/50\n",
      "54/54 [==============================] - 4s 63ms/step - loss: 0.4591 - accuracy: 0.7722 - val_loss: 0.4791 - val_accuracy: 0.8125\n",
      "Epoch 3/50\n",
      "54/54 [==============================] - 4s 63ms/step - loss: 0.3817 - accuracy: 0.8389 - val_loss: 0.3130 - val_accuracy: 0.8438\n",
      "Epoch 4/50\n",
      "54/54 [==============================] - 4s 64ms/step - loss: 0.3786 - accuracy: 0.8361 - val_loss: 0.2996 - val_accuracy: 0.8750\n",
      "Epoch 5/50\n",
      "54/54 [==============================] - 4s 63ms/step - loss: 0.3646 - accuracy: 0.8464 - val_loss: 0.4319 - val_accuracy: 0.8750\n",
      "Epoch 6/50\n",
      "54/54 [==============================] - 4s 63ms/step - loss: 0.3451 - accuracy: 0.8431 - val_loss: 0.2448 - val_accuracy: 0.9062\n",
      "Epoch 7/50\n",
      "54/54 [==============================] - 4s 62ms/step - loss: 0.3086 - accuracy: 0.8668 - val_loss: 0.1411 - val_accuracy: 1.0000\n",
      "Epoch 8/50\n",
      "54/54 [==============================] - 3s 55ms/step - loss: 0.3171 - accuracy: 0.8769 - val_loss: 0.3334 - val_accuracy: 0.8750\n",
      "Epoch 9/50\n",
      "54/54 [==============================] - 4s 61ms/step - loss: 0.3271 - accuracy: 0.8624 - val_loss: 0.3980 - val_accuracy: 0.8125\n",
      "Epoch 10/50\n",
      "54/54 [==============================] - 4s 61ms/step - loss: 0.3092 - accuracy: 0.8696 - val_loss: 0.3553 - val_accuracy: 0.8438\n",
      "Epoch 11/50\n",
      "54/54 [==============================] - 4s 63ms/step - loss: 0.2869 - accuracy: 0.8874 - val_loss: 0.1859 - val_accuracy: 0.9688\n",
      "Epoch 12/50\n",
      "54/54 [==============================] - 3s 54ms/step - loss: 0.3083 - accuracy: 0.8607 - val_loss: 0.2989 - val_accuracy: 0.9375\n",
      "Epoch 13/50\n",
      "54/54 [==============================] - 3s 55ms/step - loss: 0.3314 - accuracy: 0.8847 - val_loss: 0.7410 - val_accuracy: 0.8125\n",
      "Epoch 14/50\n",
      "54/54 [==============================] - 3s 56ms/step - loss: 0.2822 - accuracy: 0.8836 - val_loss: 0.4220 - val_accuracy: 0.8125\n",
      "Epoch 15/50\n",
      "54/54 [==============================] - 3s 57ms/step - loss: 0.2431 - accuracy: 0.9047 - val_loss: 0.3703 - val_accuracy: 0.8750\n",
      "Epoch 16/50\n",
      "54/54 [==============================] - 3s 58ms/step - loss: 0.2414 - accuracy: 0.8941 - val_loss: 0.1342 - val_accuracy: 0.9688\n",
      "Epoch 17/50\n",
      "54/54 [==============================] - 3s 55ms/step - loss: 0.2755 - accuracy: 0.8813 - val_loss: 0.2895 - val_accuracy: 0.8750\n",
      "Epoch 18/50\n",
      "54/54 [==============================] - 3s 54ms/step - loss: 0.2272 - accuracy: 0.9131 - val_loss: 0.4012 - val_accuracy: 0.9062\n",
      "Epoch 19/50\n",
      "54/54 [==============================] - 3s 56ms/step - loss: 0.2372 - accuracy: 0.9115 - val_loss: 0.5770 - val_accuracy: 0.8125\n",
      "Epoch 20/50\n",
      "54/54 [==============================] - 3s 57ms/step - loss: 0.2564 - accuracy: 0.8917 - val_loss: 0.2598 - val_accuracy: 0.8750\n",
      "Epoch 21/50\n",
      "54/54 [==============================] - 3s 57ms/step - loss: 0.2352 - accuracy: 0.9039 - val_loss: 0.2775 - val_accuracy: 0.8750\n",
      "Epoch 22/50\n",
      "54/54 [==============================] - 3s 55ms/step - loss: 0.2621 - accuracy: 0.8869 - val_loss: 0.3241 - val_accuracy: 0.9062\n",
      "Epoch 23/50\n",
      "54/54 [==============================] - 3s 53ms/step - loss: 0.2502 - accuracy: 0.9022 - val_loss: 0.1892 - val_accuracy: 0.9062\n",
      "Epoch 24/50\n",
      "54/54 [==============================] - 3s 54ms/step - loss: 0.2281 - accuracy: 0.9036 - val_loss: 0.3173 - val_accuracy: 0.8125\n",
      "Epoch 25/50\n",
      "54/54 [==============================] - 3s 54ms/step - loss: 0.1982 - accuracy: 0.9080 - val_loss: 0.3972 - val_accuracy: 0.8125\n",
      "Epoch 26/50\n",
      "54/54 [==============================] - 3s 55ms/step - loss: 0.2316 - accuracy: 0.9080 - val_loss: 0.4077 - val_accuracy: 0.8438\n",
      "Epoch 27/50\n",
      "54/54 [==============================] - 3s 57ms/step - loss: 0.2096 - accuracy: 0.9112 - val_loss: 0.2203 - val_accuracy: 0.9375\n",
      "Epoch 28/50\n",
      "54/54 [==============================] - 3s 54ms/step - loss: 0.2171 - accuracy: 0.9181 - val_loss: 0.3875 - val_accuracy: 0.8125\n",
      "Epoch 29/50\n",
      "54/54 [==============================] - 3s 55ms/step - loss: 0.1995 - accuracy: 0.9090 - val_loss: 0.3496 - val_accuracy: 0.8125\n",
      "Epoch 30/50\n",
      "54/54 [==============================] - 3s 57ms/step - loss: 0.2022 - accuracy: 0.9185 - val_loss: 0.5455 - val_accuracy: 0.8750\n",
      "Epoch 31/50\n",
      "54/54 [==============================] - 3s 53ms/step - loss: 0.1981 - accuracy: 0.9193 - val_loss: 0.1829 - val_accuracy: 0.9062\n",
      "Epoch 32/50\n",
      "54/54 [==============================] - 3s 57ms/step - loss: 0.2281 - accuracy: 0.9124 - val_loss: 0.4591 - val_accuracy: 0.8438\n",
      "Epoch 33/50\n",
      "54/54 [==============================] - 3s 56ms/step - loss: 0.1964 - accuracy: 0.9244 - val_loss: 0.3306 - val_accuracy: 0.9062\n",
      "Epoch 34/50\n",
      "54/54 [==============================] - 3s 55ms/step - loss: 0.1886 - accuracy: 0.9247 - val_loss: 0.2076 - val_accuracy: 0.9062\n",
      "Epoch 35/50\n",
      "54/54 [==============================] - 3s 56ms/step - loss: 0.1895 - accuracy: 0.9321 - val_loss: 0.1253 - val_accuracy: 0.9688\n",
      "Epoch 36/50\n",
      "54/54 [==============================] - 3s 55ms/step - loss: 0.1781 - accuracy: 0.9273 - val_loss: 0.4661 - val_accuracy: 0.8438\n",
      "Epoch 37/50\n",
      "54/54 [==============================] - 3s 57ms/step - loss: 0.2054 - accuracy: 0.9238 - val_loss: 0.1957 - val_accuracy: 0.9062\n",
      "Epoch 38/50\n",
      "54/54 [==============================] - 3s 53ms/step - loss: 0.1768 - accuracy: 0.9271 - val_loss: 0.2940 - val_accuracy: 0.9688\n",
      "Epoch 39/50\n",
      "54/54 [==============================] - 6s 100ms/step - loss: 0.1902 - accuracy: 0.9164 - val_loss: 0.2541 - val_accuracy: 0.8750\n",
      "Epoch 40/50\n",
      "54/54 [==============================] - 4s 61ms/step - loss: 0.2488 - accuracy: 0.9138 - val_loss: 0.0974 - val_accuracy: 0.9375\n",
      "Epoch 41/50\n",
      "54/54 [==============================] - 10s 179ms/step - loss: 0.1752 - accuracy: 0.9341 - val_loss: 0.1156 - val_accuracy: 0.9688\n",
      "Epoch 42/50\n",
      "54/54 [==============================] - 4s 76ms/step - loss: 0.1851 - accuracy: 0.9230 - val_loss: 0.1413 - val_accuracy: 0.9375\n",
      "Epoch 43/50\n",
      "54/54 [==============================] - 5s 80ms/step - loss: 0.1818 - accuracy: 0.9307 - val_loss: 0.2900 - val_accuracy: 0.9062\n",
      "Epoch 44/50\n",
      "54/54 [==============================] - 3s 56ms/step - loss: 0.1889 - accuracy: 0.9267 - val_loss: 0.0865 - val_accuracy: 1.0000\n",
      "Epoch 45/50\n",
      "54/54 [==============================] - 3s 55ms/step - loss: 0.1691 - accuracy: 0.9344 - val_loss: 0.2778 - val_accuracy: 0.8750\n",
      "Epoch 46/50\n",
      "54/54 [==============================] - 3s 55ms/step - loss: 0.1803 - accuracy: 0.9261 - val_loss: 0.1886 - val_accuracy: 0.9375\n",
      "Epoch 47/50\n",
      "54/54 [==============================] - 3s 54ms/step - loss: 0.2086 - accuracy: 0.9191 - val_loss: 0.3932 - val_accuracy: 0.7500\n",
      "Epoch 48/50\n",
      "54/54 [==============================] - 3s 58ms/step - loss: 0.1718 - accuracy: 0.9320 - val_loss: 0.5741 - val_accuracy: 0.8750\n",
      "Epoch 49/50\n",
      "54/54 [==============================] - 3s 55ms/step - loss: 0.2038 - accuracy: 0.9204 - val_loss: 0.8766 - val_accuracy: 0.8750\n",
      "Epoch 50/50\n",
      "54/54 [==============================] - 3s 58ms/step - loss: 0.2322 - accuracy: 0.9297 - val_loss: 0.3127 - val_accuracy: 0.9062\n"
     ]
    }
   ],
   "source": [
    "#VGG16\n",
    "\n",
    "base_model = VGG16(weights='imagenet', include_top=False, input_shape=(64, 64, 3))\n",
    "\n",
    "base_model.trainable = False\n",
    "x = base_model.output\n",
    "x = layers.GlobalAveragePooling2D()(x)\n",
    "x = layers.Dropout(0.2)(x)\n",
    "x = layers.Dense(4096, activation='relu')(x)\n",
    "x = layers.Dropout(0.2)(x)\n",
    "x = layers.Dense(4096, activation='relu')(x)\n",
    "x = layers.Dropout(0.2)(x)\n",
    "x = layers.Dense(2048, activation='relu')(x)\n",
    "x = layers.Dropout(0.2)(x)\n",
    "x = layers.Dense(2048, activation='relu')(x)\n",
    "x = layers.Dropout(0.4)(x)\n",
    "\n",
    "predictions = layers.Dense(2, activation='sigmoid')(x)\n",
    "model = Model(inputs=base_model.input, outputs=predictions)\n",
    "\n",
    "model.compile(loss='categorical_crossentropy', optimizer='adam', metrics=['accuracy'])\n",
    "history = model.fit(data_train,\n",
    "                    epochs=50,\n",
    "                    validation_data=data_test,\n",
    "                    validation_steps=int(0.1 * len(data_test)),\n",
    "                    verbose=1)\n"
   ]
  },
  {
   "cell_type": "code",
   "execution_count": 42,
   "metadata": {},
   "outputs": [
    {
     "name": "stdout",
     "output_type": "stream",
     "text": [
      "Model: \"vgg16\"\n",
      "_________________________________________________________________\n",
      "Layer (type)                 Output Shape              Param #   \n",
      "=================================================================\n",
      "input_3 (InputLayer)         [(None, 64, 64, 3)]       0         \n",
      "_________________________________________________________________\n",
      "block1_conv1 (Conv2D)        (None, 64, 64, 64)        1792      \n",
      "_________________________________________________________________\n",
      "block1_conv2 (Conv2D)        (None, 64, 64, 64)        36928     \n",
      "_________________________________________________________________\n",
      "block1_pool (MaxPooling2D)   (None, 32, 32, 64)        0         \n",
      "_________________________________________________________________\n",
      "block2_conv1 (Conv2D)        (None, 32, 32, 128)       73856     \n",
      "_________________________________________________________________\n",
      "block2_conv2 (Conv2D)        (None, 32, 32, 128)       147584    \n",
      "_________________________________________________________________\n",
      "block2_pool (MaxPooling2D)   (None, 16, 16, 128)       0         \n",
      "_________________________________________________________________\n",
      "block3_conv1 (Conv2D)        (None, 16, 16, 256)       295168    \n",
      "_________________________________________________________________\n",
      "block3_conv2 (Conv2D)        (None, 16, 16, 256)       590080    \n",
      "_________________________________________________________________\n",
      "block3_conv3 (Conv2D)        (None, 16, 16, 256)       590080    \n",
      "_________________________________________________________________\n",
      "block3_pool (MaxPooling2D)   (None, 8, 8, 256)         0         \n",
      "_________________________________________________________________\n",
      "block4_conv1 (Conv2D)        (None, 8, 8, 512)         1180160   \n",
      "_________________________________________________________________\n",
      "block4_conv2 (Conv2D)        (None, 8, 8, 512)         2359808   \n",
      "_________________________________________________________________\n",
      "block4_conv3 (Conv2D)        (None, 8, 8, 512)         2359808   \n",
      "_________________________________________________________________\n",
      "block4_pool (MaxPooling2D)   (None, 4, 4, 512)         0         \n",
      "_________________________________________________________________\n",
      "block5_conv1 (Conv2D)        (None, 4, 4, 512)         2359808   \n",
      "_________________________________________________________________\n",
      "block5_conv2 (Conv2D)        (None, 4, 4, 512)         2359808   \n",
      "_________________________________________________________________\n",
      "block5_conv3 (Conv2D)        (None, 4, 4, 512)         2359808   \n",
      "_________________________________________________________________\n",
      "block5_pool (MaxPooling2D)   (None, 2, 2, 512)         0         \n",
      "=================================================================\n",
      "Total params: 14,714,688\n",
      "Trainable params: 0\n",
      "Non-trainable params: 14,714,688\n",
      "_________________________________________________________________\n",
      "None\n"
     ]
    }
   ],
   "source": [
    "print(base_model.summary())"
   ]
  },
  {
   "cell_type": "code",
   "execution_count": 45,
   "metadata": {},
   "outputs": [
    {
     "name": "stdout",
     "output_type": "stream",
     "text": [
      "14/14 [==============================] - 1s 67ms/step - loss: 0.4224 - accuracy: 0.9021\n",
      "Accuracy:90.210\n"
     ]
    }
   ],
   "source": [
    "test_loss, test_acc = model.evaluate(data_test, steps=len(data_test), verbose=1)\n",
    "print('Accuracy:%.3f' %(test_acc*100.0))\n"
   ]
  },
  {
   "cell_type": "markdown",
   "metadata": {},
   "source": []
  },
  {
   "cell_type": "code",
   "execution_count": 75,
   "metadata": {},
   "outputs": [
    {
     "data": {
      "text/html": [
       "<div>\n",
       "<style scoped>\n",
       "    .dataframe tbody tr th:only-of-type {\n",
       "        vertical-align: middle;\n",
       "    }\n",
       "\n",
       "    .dataframe tbody tr th {\n",
       "        vertical-align: top;\n",
       "    }\n",
       "\n",
       "    .dataframe thead th {\n",
       "        text-align: right;\n",
       "    }\n",
       "</style>\n",
       "<table border=\"1\" class=\"dataframe\">\n",
       "  <thead>\n",
       "    <tr style=\"text-align: right;\">\n",
       "      <th></th>\n",
       "      <th>Area</th>\n",
       "      <th>Perimeter</th>\n",
       "      <th>Major_Axis</th>\n",
       "      <th>Minor_Axis</th>\n",
       "      <th>Eccentricity</th>\n",
       "      <th>Eqdiasq</th>\n",
       "      <th>Solidity</th>\n",
       "      <th>Convex_Area</th>\n",
       "      <th>Extent</th>\n",
       "      <th>Aspect_Ratio</th>\n",
       "      <th>...</th>\n",
       "      <th>StdDev_RR</th>\n",
       "      <th>StdDev_RG</th>\n",
       "      <th>StdDev_RB</th>\n",
       "      <th>Skew_RR</th>\n",
       "      <th>Skew_RG</th>\n",
       "      <th>Skew_RB</th>\n",
       "      <th>Kurtosis_RR</th>\n",
       "      <th>Kurtosis_RG</th>\n",
       "      <th>Kurtosis_RB</th>\n",
       "      <th>Class</th>\n",
       "    </tr>\n",
       "  </thead>\n",
       "  <tbody>\n",
       "    <tr>\n",
       "      <th>0</th>\n",
       "      <td>63391</td>\n",
       "      <td>1568.4050</td>\n",
       "      <td>390.3396</td>\n",
       "      <td>236.7461</td>\n",
       "      <td>0.7951</td>\n",
       "      <td>284.0984</td>\n",
       "      <td>0.8665</td>\n",
       "      <td>73160</td>\n",
       "      <td>0.6394</td>\n",
       "      <td>1.6488</td>\n",
       "      <td>...</td>\n",
       "      <td>17.7206</td>\n",
       "      <td>19.6024</td>\n",
       "      <td>21.1342</td>\n",
       "      <td>0.4581</td>\n",
       "      <td>0.6635</td>\n",
       "      <td>0.7591</td>\n",
       "      <td>2.9692</td>\n",
       "      <td>3.0576</td>\n",
       "      <td>2.9542</td>\n",
       "      <td>Kirmizi_Pistachio</td>\n",
       "    </tr>\n",
       "    <tr>\n",
       "      <th>1</th>\n",
       "      <td>68358</td>\n",
       "      <td>1942.1870</td>\n",
       "      <td>410.8594</td>\n",
       "      <td>234.7525</td>\n",
       "      <td>0.8207</td>\n",
       "      <td>295.0188</td>\n",
       "      <td>0.8765</td>\n",
       "      <td>77991</td>\n",
       "      <td>0.6772</td>\n",
       "      <td>1.7502</td>\n",
       "      <td>...</td>\n",
       "      <td>26.7061</td>\n",
       "      <td>27.2112</td>\n",
       "      <td>25.1035</td>\n",
       "      <td>-0.3847</td>\n",
       "      <td>-0.2713</td>\n",
       "      <td>-0.2927</td>\n",
       "      <td>1.9807</td>\n",
       "      <td>2.1006</td>\n",
       "      <td>2.2152</td>\n",
       "      <td>Kirmizi_Pistachio</td>\n",
       "    </tr>\n",
       "    <tr>\n",
       "      <th>2</th>\n",
       "      <td>73589</td>\n",
       "      <td>1246.5380</td>\n",
       "      <td>452.3630</td>\n",
       "      <td>220.5547</td>\n",
       "      <td>0.8731</td>\n",
       "      <td>306.0987</td>\n",
       "      <td>0.9172</td>\n",
       "      <td>80234</td>\n",
       "      <td>0.7127</td>\n",
       "      <td>2.0510</td>\n",
       "      <td>...</td>\n",
       "      <td>19.0129</td>\n",
       "      <td>20.0703</td>\n",
       "      <td>20.7006</td>\n",
       "      <td>-0.6014</td>\n",
       "      <td>-0.4500</td>\n",
       "      <td>0.2998</td>\n",
       "      <td>3.5420</td>\n",
       "      <td>3.6856</td>\n",
       "      <td>4.1012</td>\n",
       "      <td>Kirmizi_Pistachio</td>\n",
       "    </tr>\n",
       "    <tr>\n",
       "      <th>3</th>\n",
       "      <td>71106</td>\n",
       "      <td>1445.2610</td>\n",
       "      <td>429.5291</td>\n",
       "      <td>216.0765</td>\n",
       "      <td>0.8643</td>\n",
       "      <td>300.8903</td>\n",
       "      <td>0.9589</td>\n",
       "      <td>74153</td>\n",
       "      <td>0.7028</td>\n",
       "      <td>1.9879</td>\n",
       "      <td>...</td>\n",
       "      <td>18.1773</td>\n",
       "      <td>18.7152</td>\n",
       "      <td>29.7883</td>\n",
       "      <td>-0.6943</td>\n",
       "      <td>-0.6278</td>\n",
       "      <td>-0.7798</td>\n",
       "      <td>2.8776</td>\n",
       "      <td>2.8748</td>\n",
       "      <td>2.8953</td>\n",
       "      <td>Kirmizi_Pistachio</td>\n",
       "    </tr>\n",
       "    <tr>\n",
       "      <th>4</th>\n",
       "      <td>80087</td>\n",
       "      <td>1251.5240</td>\n",
       "      <td>469.3783</td>\n",
       "      <td>220.9344</td>\n",
       "      <td>0.8823</td>\n",
       "      <td>319.3273</td>\n",
       "      <td>0.9657</td>\n",
       "      <td>82929</td>\n",
       "      <td>0.7459</td>\n",
       "      <td>2.1245</td>\n",
       "      <td>...</td>\n",
       "      <td>23.4298</td>\n",
       "      <td>24.0878</td>\n",
       "      <td>23.1157</td>\n",
       "      <td>-0.9287</td>\n",
       "      <td>-0.8134</td>\n",
       "      <td>-0.4970</td>\n",
       "      <td>2.9915</td>\n",
       "      <td>2.8813</td>\n",
       "      <td>2.7362</td>\n",
       "      <td>Kirmizi_Pistachio</td>\n",
       "    </tr>\n",
       "    <tr>\n",
       "      <th>...</th>\n",
       "      <td>...</td>\n",
       "      <td>...</td>\n",
       "      <td>...</td>\n",
       "      <td>...</td>\n",
       "      <td>...</td>\n",
       "      <td>...</td>\n",
       "      <td>...</td>\n",
       "      <td>...</td>\n",
       "      <td>...</td>\n",
       "      <td>...</td>\n",
       "      <td>...</td>\n",
       "      <td>...</td>\n",
       "      <td>...</td>\n",
       "      <td>...</td>\n",
       "      <td>...</td>\n",
       "      <td>...</td>\n",
       "      <td>...</td>\n",
       "      <td>...</td>\n",
       "      <td>...</td>\n",
       "      <td>...</td>\n",
       "      <td>...</td>\n",
       "    </tr>\n",
       "    <tr>\n",
       "      <th>2143</th>\n",
       "      <td>85983</td>\n",
       "      <td>1157.1160</td>\n",
       "      <td>444.3447</td>\n",
       "      <td>248.8627</td>\n",
       "      <td>0.8284</td>\n",
       "      <td>330.8730</td>\n",
       "      <td>0.9823</td>\n",
       "      <td>87536</td>\n",
       "      <td>0.6799</td>\n",
       "      <td>1.7855</td>\n",
       "      <td>...</td>\n",
       "      <td>20.8474</td>\n",
       "      <td>20.8118</td>\n",
       "      <td>21.1175</td>\n",
       "      <td>-0.6994</td>\n",
       "      <td>-0.7071</td>\n",
       "      <td>-0.6963</td>\n",
       "      <td>2.8853</td>\n",
       "      <td>2.6599</td>\n",
       "      <td>2.6317</td>\n",
       "      <td>Siirt_Pistachio</td>\n",
       "    </tr>\n",
       "    <tr>\n",
       "      <th>2144</th>\n",
       "      <td>85691</td>\n",
       "      <td>2327.3459</td>\n",
       "      <td>439.8794</td>\n",
       "      <td>278.9297</td>\n",
       "      <td>0.7732</td>\n",
       "      <td>330.3107</td>\n",
       "      <td>0.8886</td>\n",
       "      <td>96439</td>\n",
       "      <td>0.6590</td>\n",
       "      <td>1.5770</td>\n",
       "      <td>...</td>\n",
       "      <td>21.2621</td>\n",
       "      <td>22.5004</td>\n",
       "      <td>21.5821</td>\n",
       "      <td>-0.5567</td>\n",
       "      <td>-0.4968</td>\n",
       "      <td>-0.6597</td>\n",
       "      <td>2.3022</td>\n",
       "      <td>2.2664</td>\n",
       "      <td>2.5161</td>\n",
       "      <td>Siirt_Pistachio</td>\n",
       "    </tr>\n",
       "    <tr>\n",
       "      <th>2145</th>\n",
       "      <td>101136</td>\n",
       "      <td>1255.6190</td>\n",
       "      <td>475.2161</td>\n",
       "      <td>271.3299</td>\n",
       "      <td>0.8210</td>\n",
       "      <td>358.8459</td>\n",
       "      <td>0.9888</td>\n",
       "      <td>102286</td>\n",
       "      <td>0.7584</td>\n",
       "      <td>1.7514</td>\n",
       "      <td>...</td>\n",
       "      <td>21.1262</td>\n",
       "      <td>20.0279</td>\n",
       "      <td>17.4401</td>\n",
       "      <td>-0.9072</td>\n",
       "      <td>-0.8790</td>\n",
       "      <td>-0.4470</td>\n",
       "      <td>3.3112</td>\n",
       "      <td>3.4306</td>\n",
       "      <td>3.0697</td>\n",
       "      <td>Siirt_Pistachio</td>\n",
       "    </tr>\n",
       "    <tr>\n",
       "      <th>2146</th>\n",
       "      <td>97409</td>\n",
       "      <td>1195.2150</td>\n",
       "      <td>452.1823</td>\n",
       "      <td>274.5764</td>\n",
       "      <td>0.7945</td>\n",
       "      <td>352.1718</td>\n",
       "      <td>0.9902</td>\n",
       "      <td>98376</td>\n",
       "      <td>0.7635</td>\n",
       "      <td>1.6468</td>\n",
       "      <td>...</td>\n",
       "      <td>19.3274</td>\n",
       "      <td>19.1782</td>\n",
       "      <td>19.8930</td>\n",
       "      <td>-0.9473</td>\n",
       "      <td>-0.8404</td>\n",
       "      <td>-0.3153</td>\n",
       "      <td>3.4237</td>\n",
       "      <td>2.9606</td>\n",
       "      <td>3.0033</td>\n",
       "      <td>Siirt_Pistachio</td>\n",
       "    </tr>\n",
       "    <tr>\n",
       "      <th>2147</th>\n",
       "      <td>78466</td>\n",
       "      <td>2356.9080</td>\n",
       "      <td>445.9131</td>\n",
       "      <td>258.5125</td>\n",
       "      <td>0.8148</td>\n",
       "      <td>316.0791</td>\n",
       "      <td>0.8662</td>\n",
       "      <td>90591</td>\n",
       "      <td>0.6123</td>\n",
       "      <td>1.7249</td>\n",
       "      <td>...</td>\n",
       "      <td>24.5451</td>\n",
       "      <td>25.9279</td>\n",
       "      <td>24.4214</td>\n",
       "      <td>-0.7993</td>\n",
       "      <td>-0.5962</td>\n",
       "      <td>-0.3492</td>\n",
       "      <td>2.5278</td>\n",
       "      <td>2.2248</td>\n",
       "      <td>2.4480</td>\n",
       "      <td>Siirt_Pistachio</td>\n",
       "    </tr>\n",
       "  </tbody>\n",
       "</table>\n",
       "<p>2148 rows × 29 columns</p>\n",
       "</div>"
      ],
      "text/plain": [
       "        Area  Perimeter  Major_Axis  Minor_Axis  Eccentricity   Eqdiasq  \\\n",
       "0      63391  1568.4050    390.3396    236.7461        0.7951  284.0984   \n",
       "1      68358  1942.1870    410.8594    234.7525        0.8207  295.0188   \n",
       "2      73589  1246.5380    452.3630    220.5547        0.8731  306.0987   \n",
       "3      71106  1445.2610    429.5291    216.0765        0.8643  300.8903   \n",
       "4      80087  1251.5240    469.3783    220.9344        0.8823  319.3273   \n",
       "...      ...        ...         ...         ...           ...       ...   \n",
       "2143   85983  1157.1160    444.3447    248.8627        0.8284  330.8730   \n",
       "2144   85691  2327.3459    439.8794    278.9297        0.7732  330.3107   \n",
       "2145  101136  1255.6190    475.2161    271.3299        0.8210  358.8459   \n",
       "2146   97409  1195.2150    452.1823    274.5764        0.7945  352.1718   \n",
       "2147   78466  2356.9080    445.9131    258.5125        0.8148  316.0791   \n",
       "\n",
       "      Solidity  Convex_Area  Extent  Aspect_Ratio  ...  StdDev_RR  StdDev_RG  \\\n",
       "0       0.8665        73160  0.6394        1.6488  ...    17.7206    19.6024   \n",
       "1       0.8765        77991  0.6772        1.7502  ...    26.7061    27.2112   \n",
       "2       0.9172        80234  0.7127        2.0510  ...    19.0129    20.0703   \n",
       "3       0.9589        74153  0.7028        1.9879  ...    18.1773    18.7152   \n",
       "4       0.9657        82929  0.7459        2.1245  ...    23.4298    24.0878   \n",
       "...        ...          ...     ...           ...  ...        ...        ...   \n",
       "2143    0.9823        87536  0.6799        1.7855  ...    20.8474    20.8118   \n",
       "2144    0.8886        96439  0.6590        1.5770  ...    21.2621    22.5004   \n",
       "2145    0.9888       102286  0.7584        1.7514  ...    21.1262    20.0279   \n",
       "2146    0.9902        98376  0.7635        1.6468  ...    19.3274    19.1782   \n",
       "2147    0.8662        90591  0.6123        1.7249  ...    24.5451    25.9279   \n",
       "\n",
       "      StdDev_RB  Skew_RR  Skew_RG  Skew_RB  Kurtosis_RR  Kurtosis_RG  \\\n",
       "0       21.1342   0.4581   0.6635   0.7591       2.9692       3.0576   \n",
       "1       25.1035  -0.3847  -0.2713  -0.2927       1.9807       2.1006   \n",
       "2       20.7006  -0.6014  -0.4500   0.2998       3.5420       3.6856   \n",
       "3       29.7883  -0.6943  -0.6278  -0.7798       2.8776       2.8748   \n",
       "4       23.1157  -0.9287  -0.8134  -0.4970       2.9915       2.8813   \n",
       "...         ...      ...      ...      ...          ...          ...   \n",
       "2143    21.1175  -0.6994  -0.7071  -0.6963       2.8853       2.6599   \n",
       "2144    21.5821  -0.5567  -0.4968  -0.6597       2.3022       2.2664   \n",
       "2145    17.4401  -0.9072  -0.8790  -0.4470       3.3112       3.4306   \n",
       "2146    19.8930  -0.9473  -0.8404  -0.3153       3.4237       2.9606   \n",
       "2147    24.4214  -0.7993  -0.5962  -0.3492       2.5278       2.2248   \n",
       "\n",
       "      Kurtosis_RB              Class  \n",
       "0          2.9542  Kirmizi_Pistachio  \n",
       "1          2.2152  Kirmizi_Pistachio  \n",
       "2          4.1012  Kirmizi_Pistachio  \n",
       "3          2.8953  Kirmizi_Pistachio  \n",
       "4          2.7362  Kirmizi_Pistachio  \n",
       "...           ...                ...  \n",
       "2143       2.6317    Siirt_Pistachio  \n",
       "2144       2.5161    Siirt_Pistachio  \n",
       "2145       3.0697    Siirt_Pistachio  \n",
       "2146       3.0033    Siirt_Pistachio  \n",
       "2147       2.4480    Siirt_Pistachio  \n",
       "\n",
       "[2148 rows x 29 columns]"
      ]
     },
     "execution_count": 75,
     "metadata": {},
     "output_type": "execute_result"
    }
   ],
   "source": [
    "#MLP for 16 Featured data\n",
    "excel_path = r\"D:\\code_study\\ML_CODE\\dataSets\\Pistachio_Image_Dataset\\Pistachio_28_Features_Dataset\\Pistachio_28_Features_Dataset.xls\"\n",
    "feature_data = pd.read_excel(excel_path)\n",
    "feature_data"
   ]
  },
  {
   "cell_type": "code",
   "execution_count": 76,
   "metadata": {},
   "outputs": [
    {
     "name": "stdout",
     "output_type": "stream",
     "text": [
      "<class 'pandas.core.frame.DataFrame'>\n",
      "RangeIndex: 2148 entries, 0 to 2147\n",
      "Data columns (total 29 columns):\n",
      " #   Column         Non-Null Count  Dtype  \n",
      "---  ------         --------------  -----  \n",
      " 0   Area           2148 non-null   int64  \n",
      " 1   Perimeter      2148 non-null   float64\n",
      " 2   Major_Axis     2148 non-null   float64\n",
      " 3   Minor_Axis     2148 non-null   float64\n",
      " 4   Eccentricity   2148 non-null   float64\n",
      " 5   Eqdiasq        2148 non-null   float64\n",
      " 6   Solidity       2148 non-null   float64\n",
      " 7   Convex_Area    2148 non-null   int64  \n",
      " 8   Extent         2148 non-null   float64\n",
      " 9   Aspect_Ratio   2148 non-null   float64\n",
      " 10  Roundness      2148 non-null   float64\n",
      " 11  Compactness    2148 non-null   float64\n",
      " 12  Shapefactor_1  2148 non-null   float64\n",
      " 13  Shapefactor_2  2148 non-null   float64\n",
      " 14  Shapefactor_3  2148 non-null   float64\n",
      " 15  Shapefactor_4  2148 non-null   float64\n",
      " 16  Mean_RR        2148 non-null   float64\n",
      " 17  Mean_RG        2148 non-null   float64\n",
      " 18  Mean_RB        2148 non-null   float64\n",
      " 19  StdDev_RR      2148 non-null   float64\n",
      " 20  StdDev_RG      2148 non-null   float64\n",
      " 21  StdDev_RB      2148 non-null   float64\n",
      " 22  Skew_RR        2148 non-null   float64\n",
      " 23  Skew_RG        2148 non-null   float64\n",
      " 24  Skew_RB        2148 non-null   float64\n",
      " 25  Kurtosis_RR    2148 non-null   float64\n",
      " 26  Kurtosis_RG    2148 non-null   float64\n",
      " 27  Kurtosis_RB    2148 non-null   float64\n",
      " 28  Class          2148 non-null   object \n",
      "dtypes: float64(26), int64(2), object(1)\n",
      "memory usage: 486.8+ KB\n"
     ]
    }
   ],
   "source": [
    "feature_data.info()"
   ]
  },
  {
   "cell_type": "code",
   "execution_count": 77,
   "metadata": {},
   "outputs": [
    {
     "data": {
      "text/html": [
       "<div>\n",
       "<style scoped>\n",
       "    .dataframe tbody tr th:only-of-type {\n",
       "        vertical-align: middle;\n",
       "    }\n",
       "\n",
       "    .dataframe tbody tr th {\n",
       "        vertical-align: top;\n",
       "    }\n",
       "\n",
       "    .dataframe thead th {\n",
       "        text-align: right;\n",
       "    }\n",
       "</style>\n",
       "<table border=\"1\" class=\"dataframe\">\n",
       "  <thead>\n",
       "    <tr style=\"text-align: right;\">\n",
       "      <th></th>\n",
       "      <th>Area</th>\n",
       "      <th>Perimeter</th>\n",
       "      <th>Major_Axis</th>\n",
       "      <th>Minor_Axis</th>\n",
       "      <th>Eccentricity</th>\n",
       "      <th>Eqdiasq</th>\n",
       "      <th>Solidity</th>\n",
       "      <th>Convex_Area</th>\n",
       "      <th>Extent</th>\n",
       "      <th>Aspect_Ratio</th>\n",
       "      <th>...</th>\n",
       "      <th>Mean_RB</th>\n",
       "      <th>StdDev_RR</th>\n",
       "      <th>StdDev_RG</th>\n",
       "      <th>StdDev_RB</th>\n",
       "      <th>Skew_RR</th>\n",
       "      <th>Skew_RG</th>\n",
       "      <th>Skew_RB</th>\n",
       "      <th>Kurtosis_RR</th>\n",
       "      <th>Kurtosis_RG</th>\n",
       "      <th>Kurtosis_RB</th>\n",
       "    </tr>\n",
       "  </thead>\n",
       "  <tbody>\n",
       "    <tr>\n",
       "      <th>count</th>\n",
       "      <td>2148.000000</td>\n",
       "      <td>2148.000000</td>\n",
       "      <td>2148.000000</td>\n",
       "      <td>2148.000000</td>\n",
       "      <td>2148.000000</td>\n",
       "      <td>2148.000000</td>\n",
       "      <td>2148.000000</td>\n",
       "      <td>2148.000000</td>\n",
       "      <td>2148.000000</td>\n",
       "      <td>2148.000000</td>\n",
       "      <td>...</td>\n",
       "      <td>2148.000000</td>\n",
       "      <td>2148.000000</td>\n",
       "      <td>2148.000000</td>\n",
       "      <td>2148.000000</td>\n",
       "      <td>2148.000000</td>\n",
       "      <td>2148.000000</td>\n",
       "      <td>2148.000000</td>\n",
       "      <td>2148.000000</td>\n",
       "      <td>2148.000000</td>\n",
       "      <td>2148.000000</td>\n",
       "    </tr>\n",
       "    <tr>\n",
       "      <th>mean</th>\n",
       "      <td>79950.655493</td>\n",
       "      <td>1425.971751</td>\n",
       "      <td>446.248968</td>\n",
       "      <td>238.311842</td>\n",
       "      <td>0.840219</td>\n",
       "      <td>317.919173</td>\n",
       "      <td>0.940093</td>\n",
       "      <td>85015.839851</td>\n",
       "      <td>0.716067</td>\n",
       "      <td>1.898154</td>\n",
       "      <td>...</td>\n",
       "      <td>191.995311</td>\n",
       "      <td>21.380084</td>\n",
       "      <td>22.591454</td>\n",
       "      <td>22.427056</td>\n",
       "      <td>-0.735243</td>\n",
       "      <td>-0.615580</td>\n",
       "      <td>-0.367142</td>\n",
       "      <td>3.054000</td>\n",
       "      <td>2.903015</td>\n",
       "      <td>2.940572</td>\n",
       "    </tr>\n",
       "    <tr>\n",
       "      <th>std</th>\n",
       "      <td>13121.737799</td>\n",
       "      <td>375.565503</td>\n",
       "      <td>32.445304</td>\n",
       "      <td>30.310695</td>\n",
       "      <td>0.048759</td>\n",
       "      <td>26.908600</td>\n",
       "      <td>0.050452</td>\n",
       "      <td>13154.919327</td>\n",
       "      <td>0.052532</td>\n",
       "      <td>0.240100</td>\n",
       "      <td>...</td>\n",
       "      <td>13.030505</td>\n",
       "      <td>3.127813</td>\n",
       "      <td>3.622222</td>\n",
       "      <td>3.926325</td>\n",
       "      <td>0.384584</td>\n",
       "      <td>0.389219</td>\n",
       "      <td>0.426964</td>\n",
       "      <td>0.733993</td>\n",
       "      <td>0.651383</td>\n",
       "      <td>0.750171</td>\n",
       "    </tr>\n",
       "    <tr>\n",
       "      <th>min</th>\n",
       "      <td>29808.000000</td>\n",
       "      <td>858.363000</td>\n",
       "      <td>320.344500</td>\n",
       "      <td>133.509600</td>\n",
       "      <td>0.504900</td>\n",
       "      <td>194.814600</td>\n",
       "      <td>0.588000</td>\n",
       "      <td>37935.000000</td>\n",
       "      <td>0.427200</td>\n",
       "      <td>1.158500</td>\n",
       "      <td>...</td>\n",
       "      <td>146.787600</td>\n",
       "      <td>10.611100</td>\n",
       "      <td>11.985400</td>\n",
       "      <td>11.197100</td>\n",
       "      <td>-1.931600</td>\n",
       "      <td>-1.658200</td>\n",
       "      <td>-2.348600</td>\n",
       "      <td>1.662400</td>\n",
       "      <td>1.665500</td>\n",
       "      <td>1.522500</td>\n",
       "    </tr>\n",
       "    <tr>\n",
       "      <th>25%</th>\n",
       "      <td>71936.750000</td>\n",
       "      <td>1170.996250</td>\n",
       "      <td>426.508750</td>\n",
       "      <td>217.875825</td>\n",
       "      <td>0.817500</td>\n",
       "      <td>302.642850</td>\n",
       "      <td>0.919850</td>\n",
       "      <td>76467.000000</td>\n",
       "      <td>0.687000</td>\n",
       "      <td>1.736375</td>\n",
       "      <td>...</td>\n",
       "      <td>182.930675</td>\n",
       "      <td>19.253550</td>\n",
       "      <td>20.036675</td>\n",
       "      <td>19.722425</td>\n",
       "      <td>-0.990900</td>\n",
       "      <td>-0.875975</td>\n",
       "      <td>-0.645800</td>\n",
       "      <td>2.509700</td>\n",
       "      <td>2.437400</td>\n",
       "      <td>2.449425</td>\n",
       "    </tr>\n",
       "    <tr>\n",
       "      <th>50%</th>\n",
       "      <td>79905.500000</td>\n",
       "      <td>1262.785500</td>\n",
       "      <td>448.574750</td>\n",
       "      <td>236.416350</td>\n",
       "      <td>0.849650</td>\n",
       "      <td>318.965300</td>\n",
       "      <td>0.954150</td>\n",
       "      <td>85075.500000</td>\n",
       "      <td>0.726500</td>\n",
       "      <td>1.896250</td>\n",
       "      <td>...</td>\n",
       "      <td>192.036350</td>\n",
       "      <td>21.425100</td>\n",
       "      <td>22.523250</td>\n",
       "      <td>22.276900</td>\n",
       "      <td>-0.756600</td>\n",
       "      <td>-0.653050</td>\n",
       "      <td>-0.424550</td>\n",
       "      <td>2.941750</td>\n",
       "      <td>2.807050</td>\n",
       "      <td>2.783350</td>\n",
       "    </tr>\n",
       "    <tr>\n",
       "      <th>75%</th>\n",
       "      <td>89030.500000</td>\n",
       "      <td>1607.906250</td>\n",
       "      <td>468.509400</td>\n",
       "      <td>257.760150</td>\n",
       "      <td>0.875200</td>\n",
       "      <td>336.685525</td>\n",
       "      <td>0.976925</td>\n",
       "      <td>93893.500000</td>\n",
       "      <td>0.753600</td>\n",
       "      <td>2.067025</td>\n",
       "      <td>...</td>\n",
       "      <td>201.097725</td>\n",
       "      <td>23.695900</td>\n",
       "      <td>25.241900</td>\n",
       "      <td>25.140125</td>\n",
       "      <td>-0.502500</td>\n",
       "      <td>-0.405000</td>\n",
       "      <td>-0.158400</td>\n",
       "      <td>3.446500</td>\n",
       "      <td>3.247400</td>\n",
       "      <td>3.224650</td>\n",
       "    </tr>\n",
       "    <tr>\n",
       "      <th>max</th>\n",
       "      <td>124008.000000</td>\n",
       "      <td>2755.049100</td>\n",
       "      <td>541.966100</td>\n",
       "      <td>383.046100</td>\n",
       "      <td>0.946000</td>\n",
       "      <td>397.356100</td>\n",
       "      <td>0.995100</td>\n",
       "      <td>132478.000000</td>\n",
       "      <td>0.820400</td>\n",
       "      <td>3.085800</td>\n",
       "      <td>...</td>\n",
       "      <td>235.000700</td>\n",
       "      <td>30.838300</td>\n",
       "      <td>33.614600</td>\n",
       "      <td>42.756600</td>\n",
       "      <td>1.865400</td>\n",
       "      <td>2.257600</td>\n",
       "      <td>1.852100</td>\n",
       "      <td>8.890600</td>\n",
       "      <td>10.453900</td>\n",
       "      <td>11.533900</td>\n",
       "    </tr>\n",
       "  </tbody>\n",
       "</table>\n",
       "<p>8 rows × 28 columns</p>\n",
       "</div>"
      ],
      "text/plain": [
       "                Area    Perimeter   Major_Axis   Minor_Axis  Eccentricity  \\\n",
       "count    2148.000000  2148.000000  2148.000000  2148.000000   2148.000000   \n",
       "mean    79950.655493  1425.971751   446.248968   238.311842      0.840219   \n",
       "std     13121.737799   375.565503    32.445304    30.310695      0.048759   \n",
       "min     29808.000000   858.363000   320.344500   133.509600      0.504900   \n",
       "25%     71936.750000  1170.996250   426.508750   217.875825      0.817500   \n",
       "50%     79905.500000  1262.785500   448.574750   236.416350      0.849650   \n",
       "75%     89030.500000  1607.906250   468.509400   257.760150      0.875200   \n",
       "max    124008.000000  2755.049100   541.966100   383.046100      0.946000   \n",
       "\n",
       "           Eqdiasq     Solidity    Convex_Area       Extent  Aspect_Ratio  \\\n",
       "count  2148.000000  2148.000000    2148.000000  2148.000000   2148.000000   \n",
       "mean    317.919173     0.940093   85015.839851     0.716067      1.898154   \n",
       "std      26.908600     0.050452   13154.919327     0.052532      0.240100   \n",
       "min     194.814600     0.588000   37935.000000     0.427200      1.158500   \n",
       "25%     302.642850     0.919850   76467.000000     0.687000      1.736375   \n",
       "50%     318.965300     0.954150   85075.500000     0.726500      1.896250   \n",
       "75%     336.685525     0.976925   93893.500000     0.753600      2.067025   \n",
       "max     397.356100     0.995100  132478.000000     0.820400      3.085800   \n",
       "\n",
       "       ...      Mean_RB    StdDev_RR    StdDev_RG    StdDev_RB      Skew_RR  \\\n",
       "count  ...  2148.000000  2148.000000  2148.000000  2148.000000  2148.000000   \n",
       "mean   ...   191.995311    21.380084    22.591454    22.427056    -0.735243   \n",
       "std    ...    13.030505     3.127813     3.622222     3.926325     0.384584   \n",
       "min    ...   146.787600    10.611100    11.985400    11.197100    -1.931600   \n",
       "25%    ...   182.930675    19.253550    20.036675    19.722425    -0.990900   \n",
       "50%    ...   192.036350    21.425100    22.523250    22.276900    -0.756600   \n",
       "75%    ...   201.097725    23.695900    25.241900    25.140125    -0.502500   \n",
       "max    ...   235.000700    30.838300    33.614600    42.756600     1.865400   \n",
       "\n",
       "           Skew_RG      Skew_RB  Kurtosis_RR  Kurtosis_RG  Kurtosis_RB  \n",
       "count  2148.000000  2148.000000  2148.000000  2148.000000  2148.000000  \n",
       "mean     -0.615580    -0.367142     3.054000     2.903015     2.940572  \n",
       "std       0.389219     0.426964     0.733993     0.651383     0.750171  \n",
       "min      -1.658200    -2.348600     1.662400     1.665500     1.522500  \n",
       "25%      -0.875975    -0.645800     2.509700     2.437400     2.449425  \n",
       "50%      -0.653050    -0.424550     2.941750     2.807050     2.783350  \n",
       "75%      -0.405000    -0.158400     3.446500     3.247400     3.224650  \n",
       "max       2.257600     1.852100     8.890600    10.453900    11.533900  \n",
       "\n",
       "[8 rows x 28 columns]"
      ]
     },
     "execution_count": 77,
     "metadata": {},
     "output_type": "execute_result"
    }
   ],
   "source": [
    "feature_data.describe()"
   ]
  },
  {
   "cell_type": "code",
   "execution_count": 100,
   "metadata": {},
   "outputs": [
    {
     "data": {
      "text/plain": [
       "Kirmizi_Pistachio    1232\n",
       "Siirt_Pistachio       916\n",
       "Name: Class, dtype: int64"
      ]
     },
     "execution_count": 100,
     "metadata": {},
     "output_type": "execute_result"
    }
   ],
   "source": [
    "feature_data['Class'].value_counts()"
   ]
  },
  {
   "cell_type": "code",
   "execution_count": 102,
   "metadata": {},
   "outputs": [
    {
     "data": {
      "text/plain": [
       "916"
      ]
     },
     "execution_count": 102,
     "metadata": {},
     "output_type": "execute_result"
    }
   ],
   "source": [
    "Kirmizi_Pistachio = feature_data[feature_data['Class'] == 'Kirmizi_Pistachio'].shape[0]\n",
    "Siit_Pistachio = feature_data[feature_data['Class'] == 'Siirt_Pistachio'].shape[0]\n",
    "Siit_Pistachio"
   ]
  },
  {
   "cell_type": "code",
   "execution_count": 103,
   "metadata": {},
   "outputs": [
    {
     "data": {
      "text/plain": [
       "([<matplotlib.patches.Wedge at 0x1486a218d48>,\n",
       "  <matplotlib.patches.Wedge at 0x1486a274448>],\n",
       " [Text(-1.0532743721094677, 0.3171956762905301, 'Kirmizi_Pistachio'),\n",
       "  Text(1.3405309812509496, -0.4037037135157002, 'Siit_Pistachio')],\n",
       " [Text(-0.5745132938778914, 0.17301582343119823, '57.4%'),\n",
       "  Text(0.8617699165184675, -0.2595238158315215, '42.6%')])"
      ]
     },
     "execution_count": 103,
     "metadata": {},
     "output_type": "execute_result"
    },
    {
     "data": {
      "image/png": "[encoded data removed]",
      "text/plain": [
       "<Figure size 1000x1000 with 1 Axes>"
      ]
     },
     "metadata": {},
     "output_type": "display_data"
    }
   ],
   "source": [
    "#分析预测值分布\n",
    "lt_font = {'family': 'serif', 'size':18}\n",
    "\n",
    "plt.figure(figsize=(10, 10))\n",
    "plt.subplots_adjust(left=1, bottom=1, right=2.5, top=5, wspace=0.3, hspace=None)\n",
    "plt.subplot(1, 3, 1)\n",
    "plt.pie(x = [Kirmizi_Pistachio, Siit_Pistachio], labels=['Kirmizi_Pistachio', 'Siit_Pistachio'], colors=['tab:green', 'tab:blue'],\n",
    "        explode=[0, 0.3], shadow=True, autopct='%.1f%%', startangle=60)\n"
   ]
  },
  {
   "cell_type": "code",
   "execution_count": 104,
   "metadata": {},
   "outputs": [
    {
     "data": {
      "text/plain": [
       "0       Kirmizi_Pistachio\n",
       "1       Kirmizi_Pistachio\n",
       "2       Kirmizi_Pistachio\n",
       "3       Kirmizi_Pistachio\n",
       "4       Kirmizi_Pistachio\n",
       "              ...        \n",
       "2143      Siirt_Pistachio\n",
       "2144      Siirt_Pistachio\n",
       "2145      Siirt_Pistachio\n",
       "2146      Siirt_Pistachio\n",
       "2147      Siirt_Pistachio\n",
       "Name: Class, Length: 2148, dtype: object"
      ]
     },
     "execution_count": 104,
     "metadata": {},
     "output_type": "execute_result"
    }
   ],
   "source": [
    "feature_X = feature_data.drop(['Class'], axis=1)\n",
    "feature_y = feature_data['Class']\n",
    "feature_y"
   ]
  },
  {
   "cell_type": "code",
   "execution_count": 106,
   "metadata": {},
   "outputs": [],
   "source": [
    "X_train, X_test, y_train, y_test = train_test_split(feature_X, feature_y, test_size=0.2, random_state=42)\n"
   ]
  },
  {
   "cell_type": "code",
   "execution_count": 107,
   "metadata": {},
   "outputs": [
    {
     "name": "stdout",
     "output_type": "stream",
     "text": [
      "X_train shape: (1718, 28)\n",
      "y_train shape: (1718,)\n",
      "X_test shape: (430, 28)\n",
      "y_test shape: (430,)\n"
     ]
    }
   ],
   "source": [
    "print(\"X_train shape:\", X_train.shape)\n",
    "print('y_train shape:', y_train.shape)\n",
    "print(\"X_test shape:\", X_test.shape)\n",
    "print(\"y_test shape:\", y_test.shape)\n"
   ]
  },
  {
   "cell_type": "code",
   "execution_count": 108,
   "metadata": {},
   "outputs": [],
   "source": [
    "#feature scalling\n",
    "sc = StandardScaler()\n",
    "scaler = sc.fit(X_train)\n",
    "X_train_scaler = scaler.transform(X_train)\n",
    "X_test_scaler = scaler.transform(X_test)"
   ]
  },
  {
   "cell_type": "code",
   "execution_count": 109,
   "metadata": {},
   "outputs": [
    {
     "name": "stderr",
     "output_type": "stream",
     "text": [
      "c:\\Users\\Leaper\\anaconda3\\envs\\tensorflowGpu\\lib\\site-packages\\sklearn\\neural_network\\_multilayer_perceptron.py:696: ConvergenceWarning: Stochastic Optimizer: Maximum iterations (30) reached and the optimization hasn't converged yet.\n",
      "  ConvergenceWarning,\n"
     ]
    },
    {
     "data": {
      "text/plain": [
       "MLPClassifier(hidden_layer_sizes=(20, 25, 10), max_iter=30)"
      ]
     },
     "execution_count": 109,
     "metadata": {},
     "output_type": "execute_result"
    }
   ],
   "source": [
    "#MLP model\n",
    "mlp_clf = MLPClassifier(hidden_layer_sizes=(20, 25, 10), max_iter=30, activation='relu', solver='adam')\n",
    "mlp_clf.fit(X_train_scaler, y_train)"
   ]
  },
  {
   "cell_type": "code",
   "execution_count": 110,
   "metadata": {},
   "outputs": [
    {
     "name": "stdout",
     "output_type": "stream",
     "text": [
      "Accuracy: 0.93\n"
     ]
    }
   ],
   "source": [
    "y_pred = mlp_clf.predict(X_test_scaler)\n",
    "print('Accuracy: {:.2f}'.format(accuracy_score(y_test, y_pred)))\n"
   ]
  },
  {
   "cell_type": "code",
   "execution_count": 111,
   "metadata": {},
   "outputs": [
    {
     "data": {
      "text/plain": [
       "<sklearn.metrics._plot.confusion_matrix.ConfusionMatrixDisplay at 0x1486c45bc88>"
      ]
     },
     "execution_count": 111,
     "metadata": {},
     "output_type": "execute_result"
    },
    {
     "data": {
      "image/png": "[encoded data removed]",
      "text/plain": [
       "<Figure size 640x480 with 2 Axes>"
      ]
     },
     "metadata": {},
     "output_type": "display_data"
    }
   ],
   "source": [
    "predictions = mlp_clf.predict(X_test_scaler)\n",
    "cm = confusion_matrix(y_test, predictions, labels=mlp_clf.classes_)\n",
    "disp = ConfusionMatrixDisplay(confusion_matrix=cm, display_labels=mlp_clf.classes_)\n",
    "disp.plot()"
   ]
  },
  {
   "cell_type": "code",
   "execution_count": 112,
   "metadata": {},
   "outputs": [
    {
     "name": "stdout",
     "output_type": "stream",
     "text": [
      "                   precision    recall  f1-score   support\n",
      "\n",
      "Kirmizi_Pistachio       0.94      0.94      0.94       244\n",
      "  Siirt_Pistachio       0.92      0.92      0.92       186\n",
      "\n",
      "         accuracy                           0.93       430\n",
      "        macro avg       0.93      0.93      0.93       430\n",
      "     weighted avg       0.93      0.93      0.93       430\n",
      "\n"
     ]
    }
   ],
   "source": [
    "print(classification_report(y_test, y_pred))"
   ]
  },
  {
   "cell_type": "code",
   "execution_count": 113,
   "metadata": {},
   "outputs": [
    {
     "data": {
      "image/png": "[encoded data removed]",
      "text/plain": [
       "<Figure size 640x480 with 1 Axes>"
      ]
     },
     "metadata": {},
     "output_type": "display_data"
    }
   ],
   "source": [
    "plt.plot(mlp_clf.loss_curve_)\n",
    "plt.title(\"Loss Curve\", fontsize=14)\n",
    "plt.xlabel(\"Iteration\")\n",
    "plt.ylabel(\"Cost\")\n",
    "plt.show()"
   ]
  },
  {
   "cell_type": "code",
   "execution_count": 114,
   "metadata": {},
   "outputs": [
    {
     "name": "stdout",
     "output_type": "stream",
     "text": [
      "Fitting 3 folds for each of 20 candidates, totalling 60 fits\n"
     ]
    },
    {
     "name": "stderr",
     "output_type": "stream",
     "text": [
      "c:\\Users\\Leaper\\anaconda3\\envs\\tensorflowGpu\\lib\\site-packages\\sklearn\\neural_network\\_multilayer_perceptron.py:696: ConvergenceWarning: Stochastic Optimizer: Maximum iterations (50) reached and the optimization hasn't converged yet.\n",
      "  ConvergenceWarning,\n"
     ]
    },
    {
     "name": "stdout",
     "output_type": "stream",
     "text": [
      "[CV 1/3] END activation=tanh, alpha=0.001, hidden_layer_sizes=(150, 100, 50), learning_rate=constant, max_iter=50, solver=sgd;, score=0.904 total time=   0.6s\n"
     ]
    },
    {
     "name": "stderr",
     "output_type": "stream",
     "text": [
      "c:\\Users\\Leaper\\anaconda3\\envs\\tensorflowGpu\\lib\\site-packages\\sklearn\\neural_network\\_multilayer_perceptron.py:696: ConvergenceWarning: Stochastic Optimizer: Maximum iterations (50) reached and the optimization hasn't converged yet.\n",
      "  ConvergenceWarning,\n"
     ]
    },
    {
     "name": "stdout",
     "output_type": "stream",
     "text": [
      "[CV 2/3] END activation=tanh, alpha=0.001, hidden_layer_sizes=(150, 100, 50), learning_rate=constant, max_iter=50, solver=sgd;, score=0.880 total time=   0.6s\n"
     ]
    },
    {
     "name": "stderr",
     "output_type": "stream",
     "text": [
      "c:\\Users\\Leaper\\anaconda3\\envs\\tensorflowGpu\\lib\\site-packages\\sklearn\\neural_network\\_multilayer_perceptron.py:696: ConvergenceWarning: Stochastic Optimizer: Maximum iterations (50) reached and the optimization hasn't converged yet.\n",
      "  ConvergenceWarning,\n"
     ]
    },
    {
     "name": "stdout",
     "output_type": "stream",
     "text": [
      "[CV 3/3] END activation=tanh, alpha=0.001, hidden_layer_sizes=(150, 100, 50), learning_rate=constant, max_iter=50, solver=sgd;, score=0.893 total time=   0.6s\n"
     ]
    },
    {
     "name": "stderr",
     "output_type": "stream",
     "text": [
      "c:\\Users\\Leaper\\anaconda3\\envs\\tensorflowGpu\\lib\\site-packages\\sklearn\\neural_network\\_multilayer_perceptron.py:696: ConvergenceWarning: Stochastic Optimizer: Maximum iterations (100) reached and the optimization hasn't converged yet.\n",
      "  ConvergenceWarning,\n"
     ]
    },
    {
     "name": "stdout",
     "output_type": "stream",
     "text": [
      "[CV 1/3] END activation=relu, alpha=0.001, hidden_layer_sizes=(100, 50, 30), learning_rate=adaptive, max_iter=100, solver=sgd;, score=0.899 total time=   0.9s\n"
     ]
    },
    {
     "name": "stderr",
     "output_type": "stream",
     "text": [
      "c:\\Users\\Leaper\\anaconda3\\envs\\tensorflowGpu\\lib\\site-packages\\sklearn\\neural_network\\_multilayer_perceptron.py:696: ConvergenceWarning: Stochastic Optimizer: Maximum iterations (100) reached and the optimization hasn't converged yet.\n",
      "  ConvergenceWarning,\n"
     ]
    },
    {
     "name": "stdout",
     "output_type": "stream",
     "text": [
      "[CV 2/3] END activation=relu, alpha=0.001, hidden_layer_sizes=(100, 50, 30), learning_rate=adaptive, max_iter=100, solver=sgd;, score=0.895 total time=   0.9s\n"
     ]
    },
    {
     "name": "stderr",
     "output_type": "stream",
     "text": [
      "c:\\Users\\Leaper\\anaconda3\\envs\\tensorflowGpu\\lib\\site-packages\\sklearn\\neural_network\\_multilayer_perceptron.py:696: ConvergenceWarning: Stochastic Optimizer: Maximum iterations (100) reached and the optimization hasn't converged yet.\n",
      "  ConvergenceWarning,\n"
     ]
    },
    {
     "name": "stdout",
     "output_type": "stream",
     "text": [
      "[CV 3/3] END activation=relu, alpha=0.001, hidden_layer_sizes=(100, 50, 30), learning_rate=adaptive, max_iter=100, solver=sgd;, score=0.885 total time=   0.9s\n"
     ]
    },
    {
     "name": "stderr",
     "output_type": "stream",
     "text": [
      "c:\\Users\\Leaper\\anaconda3\\envs\\tensorflowGpu\\lib\\site-packages\\sklearn\\neural_network\\_multilayer_perceptron.py:696: ConvergenceWarning: Stochastic Optimizer: Maximum iterations (100) reached and the optimization hasn't converged yet.\n",
      "  ConvergenceWarning,\n"
     ]
    },
    {
     "name": "stdout",
     "output_type": "stream",
     "text": [
      "[CV 1/3] END activation=relu, alpha=0.001, hidden_layer_sizes=(512, 254, 50), learning_rate=adaptive, max_iter=100, solver=sgd;, score=0.906 total time=   3.0s\n"
     ]
    },
    {
     "name": "stderr",
     "output_type": "stream",
     "text": [
      "c:\\Users\\Leaper\\anaconda3\\envs\\tensorflowGpu\\lib\\site-packages\\sklearn\\neural_network\\_multilayer_perceptron.py:696: ConvergenceWarning: Stochastic Optimizer: Maximum iterations (100) reached and the optimization hasn't converged yet.\n",
      "  ConvergenceWarning,\n"
     ]
    },
    {
     "name": "stdout",
     "output_type": "stream",
     "text": [
      "[CV 2/3] END activation=relu, alpha=0.001, hidden_layer_sizes=(512, 254, 50), learning_rate=adaptive, max_iter=100, solver=sgd;, score=0.899 total time=   3.0s\n"
     ]
    },
    {
     "name": "stderr",
     "output_type": "stream",
     "text": [
      "c:\\Users\\Leaper\\anaconda3\\envs\\tensorflowGpu\\lib\\site-packages\\sklearn\\neural_network\\_multilayer_perceptron.py:696: ConvergenceWarning: Stochastic Optimizer: Maximum iterations (100) reached and the optimization hasn't converged yet.\n",
      "  ConvergenceWarning,\n"
     ]
    },
    {
     "name": "stdout",
     "output_type": "stream",
     "text": [
      "[CV 3/3] END activation=relu, alpha=0.001, hidden_layer_sizes=(512, 254, 50), learning_rate=adaptive, max_iter=100, solver=sgd;, score=0.899 total time=   4.8s\n"
     ]
    },
    {
     "name": "stderr",
     "output_type": "stream",
     "text": [
      "c:\\Users\\Leaper\\anaconda3\\envs\\tensorflowGpu\\lib\\site-packages\\sklearn\\neural_network\\_multilayer_perceptron.py:696: ConvergenceWarning: Stochastic Optimizer: Maximum iterations (200) reached and the optimization hasn't converged yet.\n",
      "  ConvergenceWarning,\n"
     ]
    },
    {
     "name": "stdout",
     "output_type": "stream",
     "text": [
      "[CV 1/3] END activation=relu, alpha=0.0001, hidden_layer_sizes=(512, 254, 50), learning_rate=adaptive, max_iter=200, solver=sgd;, score=0.920 total time=  14.1s\n"
     ]
    },
    {
     "name": "stderr",
     "output_type": "stream",
     "text": [
      "c:\\Users\\Leaper\\anaconda3\\envs\\tensorflowGpu\\lib\\site-packages\\sklearn\\neural_network\\_multilayer_perceptron.py:696: ConvergenceWarning: Stochastic Optimizer: Maximum iterations (200) reached and the optimization hasn't converged yet.\n",
      "  ConvergenceWarning,\n"
     ]
    },
    {
     "name": "stdout",
     "output_type": "stream",
     "text": [
      "[CV 2/3] END activation=relu, alpha=0.0001, hidden_layer_sizes=(512, 254, 50), learning_rate=adaptive, max_iter=200, solver=sgd;, score=0.904 total time=  13.8s\n"
     ]
    },
    {
     "name": "stderr",
     "output_type": "stream",
     "text": [
      "c:\\Users\\Leaper\\anaconda3\\envs\\tensorflowGpu\\lib\\site-packages\\sklearn\\neural_network\\_multilayer_perceptron.py:696: ConvergenceWarning: Stochastic Optimizer: Maximum iterations (200) reached and the optimization hasn't converged yet.\n",
      "  ConvergenceWarning,\n"
     ]
    },
    {
     "name": "stdout",
     "output_type": "stream",
     "text": [
      "[CV 3/3] END activation=relu, alpha=0.0001, hidden_layer_sizes=(512, 254, 50), learning_rate=adaptive, max_iter=200, solver=sgd;, score=0.907 total time=  13.8s\n"
     ]
    },
    {
     "name": "stderr",
     "output_type": "stream",
     "text": [
      "c:\\Users\\Leaper\\anaconda3\\envs\\tensorflowGpu\\lib\\site-packages\\sklearn\\neural_network\\_multilayer_perceptron.py:696: ConvergenceWarning: Stochastic Optimizer: Maximum iterations (50) reached and the optimization hasn't converged yet.\n",
      "  ConvergenceWarning,\n"
     ]
    },
    {
     "name": "stdout",
     "output_type": "stream",
     "text": [
      "[CV 1/3] END activation=relu, alpha=0.05, hidden_layer_sizes=(512, 254, 50), learning_rate=adaptive, max_iter=50, solver=adam;, score=0.927 total time=   3.9s\n"
     ]
    },
    {
     "name": "stderr",
     "output_type": "stream",
     "text": [
      "c:\\Users\\Leaper\\anaconda3\\envs\\tensorflowGpu\\lib\\site-packages\\sklearn\\neural_network\\_multilayer_perceptron.py:696: ConvergenceWarning: Stochastic Optimizer: Maximum iterations (50) reached and the optimization hasn't converged yet.\n",
      "  ConvergenceWarning,\n"
     ]
    },
    {
     "name": "stdout",
     "output_type": "stream",
     "text": [
      "[CV 2/3] END activation=relu, alpha=0.05, hidden_layer_sizes=(512, 254, 50), learning_rate=adaptive, max_iter=50, solver=adam;, score=0.925 total time=   3.9s\n"
     ]
    },
    {
     "name": "stderr",
     "output_type": "stream",
     "text": [
      "c:\\Users\\Leaper\\anaconda3\\envs\\tensorflowGpu\\lib\\site-packages\\sklearn\\neural_network\\_multilayer_perceptron.py:696: ConvergenceWarning: Stochastic Optimizer: Maximum iterations (50) reached and the optimization hasn't converged yet.\n",
      "  ConvergenceWarning,\n"
     ]
    },
    {
     "name": "stdout",
     "output_type": "stream",
     "text": [
      "[CV 3/3] END activation=relu, alpha=0.05, hidden_layer_sizes=(512, 254, 50), learning_rate=adaptive, max_iter=50, solver=adam;, score=0.932 total time=   3.9s\n"
     ]
    },
    {
     "name": "stderr",
     "output_type": "stream",
     "text": [
      "c:\\Users\\Leaper\\anaconda3\\envs\\tensorflowGpu\\lib\\site-packages\\sklearn\\neural_network\\_multilayer_perceptron.py:696: ConvergenceWarning: Stochastic Optimizer: Maximum iterations (100) reached and the optimization hasn't converged yet.\n",
      "  ConvergenceWarning,\n"
     ]
    },
    {
     "name": "stdout",
     "output_type": "stream",
     "text": [
      "[CV 1/3] END activation=tanh, alpha=0.001, hidden_layer_sizes=(128, 64, 40), learning_rate=adaptive, max_iter=100, solver=adam;, score=0.925 total time=   2.3s\n"
     ]
    },
    {
     "name": "stderr",
     "output_type": "stream",
     "text": [
      "c:\\Users\\Leaper\\anaconda3\\envs\\tensorflowGpu\\lib\\site-packages\\sklearn\\neural_network\\_multilayer_perceptron.py:696: ConvergenceWarning: Stochastic Optimizer: Maximum iterations (100) reached and the optimization hasn't converged yet.\n",
      "  ConvergenceWarning,\n"
     ]
    },
    {
     "name": "stdout",
     "output_type": "stream",
     "text": [
      "[CV 2/3] END activation=tanh, alpha=0.001, hidden_layer_sizes=(128, 64, 40), learning_rate=adaptive, max_iter=100, solver=adam;, score=0.918 total time=   2.4s\n"
     ]
    },
    {
     "name": "stderr",
     "output_type": "stream",
     "text": [
      "c:\\Users\\Leaper\\anaconda3\\envs\\tensorflowGpu\\lib\\site-packages\\sklearn\\neural_network\\_multilayer_perceptron.py:696: ConvergenceWarning: Stochastic Optimizer: Maximum iterations (100) reached and the optimization hasn't converged yet.\n",
      "  ConvergenceWarning,\n"
     ]
    },
    {
     "name": "stdout",
     "output_type": "stream",
     "text": [
      "[CV 3/3] END activation=tanh, alpha=0.001, hidden_layer_sizes=(128, 64, 40), learning_rate=adaptive, max_iter=100, solver=adam;, score=0.935 total time=   2.3s\n"
     ]
    },
    {
     "name": "stderr",
     "output_type": "stream",
     "text": [
      "c:\\Users\\Leaper\\anaconda3\\envs\\tensorflowGpu\\lib\\site-packages\\sklearn\\neural_network\\_multilayer_perceptron.py:696: ConvergenceWarning: Stochastic Optimizer: Maximum iterations (100) reached and the optimization hasn't converged yet.\n",
      "  ConvergenceWarning,\n"
     ]
    },
    {
     "name": "stdout",
     "output_type": "stream",
     "text": [
      "[CV 1/3] END activation=relu, alpha=0.05, hidden_layer_sizes=(150, 100, 50), learning_rate=adaptive, max_iter=100, solver=adam;, score=0.923 total time=   2.6s\n"
     ]
    },
    {
     "name": "stderr",
     "output_type": "stream",
     "text": [
      "c:\\Users\\Leaper\\anaconda3\\envs\\tensorflowGpu\\lib\\site-packages\\sklearn\\neural_network\\_multilayer_perceptron.py:696: ConvergenceWarning: Stochastic Optimizer: Maximum iterations (100) reached and the optimization hasn't converged yet.\n",
      "  ConvergenceWarning,\n"
     ]
    },
    {
     "name": "stdout",
     "output_type": "stream",
     "text": [
      "[CV 2/3] END activation=relu, alpha=0.05, hidden_layer_sizes=(150, 100, 50), learning_rate=adaptive, max_iter=100, solver=adam;, score=0.914 total time=   2.6s\n"
     ]
    },
    {
     "name": "stderr",
     "output_type": "stream",
     "text": [
      "c:\\Users\\Leaper\\anaconda3\\envs\\tensorflowGpu\\lib\\site-packages\\sklearn\\neural_network\\_multilayer_perceptron.py:696: ConvergenceWarning: Stochastic Optimizer: Maximum iterations (100) reached and the optimization hasn't converged yet.\n",
      "  ConvergenceWarning,\n"
     ]
    },
    {
     "name": "stdout",
     "output_type": "stream",
     "text": [
      "[CV 3/3] END activation=relu, alpha=0.05, hidden_layer_sizes=(150, 100, 50), learning_rate=adaptive, max_iter=100, solver=adam;, score=0.923 total time=   2.7s\n",
      "[CV 1/3] END activation=relu, alpha=0.001, hidden_layer_sizes=(128, 64, 40), learning_rate=adaptive, max_iter=200, solver=adam;, score=0.927 total time=   2.1s\n",
      "[CV 2/3] END activation=relu, alpha=0.001, hidden_layer_sizes=(128, 64, 40), learning_rate=adaptive, max_iter=200, solver=adam;, score=0.913 total time=   2.2s\n",
      "[CV 3/3] END activation=relu, alpha=0.001, hidden_layer_sizes=(128, 64, 40), learning_rate=adaptive, max_iter=200, solver=adam;, score=0.918 total time=   2.2s\n"
     ]
    },
    {
     "name": "stderr",
     "output_type": "stream",
     "text": [
      "c:\\Users\\Leaper\\anaconda3\\envs\\tensorflowGpu\\lib\\site-packages\\sklearn\\neural_network\\_multilayer_perceptron.py:696: ConvergenceWarning: Stochastic Optimizer: Maximum iterations (100) reached and the optimization hasn't converged yet.\n",
      "  ConvergenceWarning,\n"
     ]
    },
    {
     "name": "stdout",
     "output_type": "stream",
     "text": [
      "[CV 1/3] END activation=tanh, alpha=0.001, hidden_layer_sizes=(150, 100, 50), learning_rate=constant, max_iter=100, solver=sgd;, score=0.904 total time=   2.6s\n"
     ]
    },
    {
     "name": "stderr",
     "output_type": "stream",
     "text": [
      "c:\\Users\\Leaper\\anaconda3\\envs\\tensorflowGpu\\lib\\site-packages\\sklearn\\neural_network\\_multilayer_perceptron.py:696: ConvergenceWarning: Stochastic Optimizer: Maximum iterations (100) reached and the optimization hasn't converged yet.\n",
      "  ConvergenceWarning,\n"
     ]
    },
    {
     "name": "stdout",
     "output_type": "stream",
     "text": [
      "[CV 2/3] END activation=tanh, alpha=0.001, hidden_layer_sizes=(150, 100, 50), learning_rate=constant, max_iter=100, solver=sgd;, score=0.890 total time=   3.0s\n"
     ]
    },
    {
     "name": "stderr",
     "output_type": "stream",
     "text": [
      "c:\\Users\\Leaper\\anaconda3\\envs\\tensorflowGpu\\lib\\site-packages\\sklearn\\neural_network\\_multilayer_perceptron.py:696: ConvergenceWarning: Stochastic Optimizer: Maximum iterations (100) reached and the optimization hasn't converged yet.\n",
      "  ConvergenceWarning,\n"
     ]
    },
    {
     "name": "stdout",
     "output_type": "stream",
     "text": [
      "[CV 3/3] END activation=tanh, alpha=0.001, hidden_layer_sizes=(150, 100, 50), learning_rate=constant, max_iter=100, solver=sgd;, score=0.897 total time=   2.6s\n",
      "[CV 1/3] END activation=relu, alpha=0.001, hidden_layer_sizes=(512, 254, 50), learning_rate=adaptive, max_iter=200, solver=adam;, score=0.925 total time=   5.0s\n",
      "[CV 2/3] END activation=relu, alpha=0.001, hidden_layer_sizes=(512, 254, 50), learning_rate=adaptive, max_iter=200, solver=adam;, score=0.930 total time=   5.0s\n",
      "[CV 3/3] END activation=relu, alpha=0.001, hidden_layer_sizes=(512, 254, 50), learning_rate=adaptive, max_iter=200, solver=adam;, score=0.921 total time=   5.1s\n"
     ]
    },
    {
     "name": "stderr",
     "output_type": "stream",
     "text": [
      "c:\\Users\\Leaper\\anaconda3\\envs\\tensorflowGpu\\lib\\site-packages\\sklearn\\neural_network\\_multilayer_perceptron.py:696: ConvergenceWarning: Stochastic Optimizer: Maximum iterations (100) reached and the optimization hasn't converged yet.\n",
      "  ConvergenceWarning,\n"
     ]
    },
    {
     "name": "stdout",
     "output_type": "stream",
     "text": [
      "[CV 1/3] END activation=tanh, alpha=0.001, hidden_layer_sizes=(512, 254, 50), learning_rate=constant, max_iter=100, solver=sgd;, score=0.909 total time=   7.1s\n"
     ]
    },
    {
     "name": "stderr",
     "output_type": "stream",
     "text": [
      "c:\\Users\\Leaper\\anaconda3\\envs\\tensorflowGpu\\lib\\site-packages\\sklearn\\neural_network\\_multilayer_perceptron.py:696: ConvergenceWarning: Stochastic Optimizer: Maximum iterations (100) reached and the optimization hasn't converged yet.\n",
      "  ConvergenceWarning,\n"
     ]
    },
    {
     "name": "stdout",
     "output_type": "stream",
     "text": [
      "[CV 2/3] END activation=tanh, alpha=0.001, hidden_layer_sizes=(512, 254, 50), learning_rate=constant, max_iter=100, solver=sgd;, score=0.895 total time=   7.1s\n"
     ]
    },
    {
     "name": "stderr",
     "output_type": "stream",
     "text": [
      "c:\\Users\\Leaper\\anaconda3\\envs\\tensorflowGpu\\lib\\site-packages\\sklearn\\neural_network\\_multilayer_perceptron.py:696: ConvergenceWarning: Stochastic Optimizer: Maximum iterations (100) reached and the optimization hasn't converged yet.\n",
      "  ConvergenceWarning,\n"
     ]
    },
    {
     "name": "stdout",
     "output_type": "stream",
     "text": [
      "[CV 3/3] END activation=tanh, alpha=0.001, hidden_layer_sizes=(512, 254, 50), learning_rate=constant, max_iter=100, solver=sgd;, score=0.904 total time=   7.1s\n"
     ]
    },
    {
     "name": "stderr",
     "output_type": "stream",
     "text": [
      "c:\\Users\\Leaper\\anaconda3\\envs\\tensorflowGpu\\lib\\site-packages\\sklearn\\neural_network\\_multilayer_perceptron.py:696: ConvergenceWarning: Stochastic Optimizer: Maximum iterations (150) reached and the optimization hasn't converged yet.\n",
      "  ConvergenceWarning,\n"
     ]
    },
    {
     "name": "stdout",
     "output_type": "stream",
     "text": [
      "[CV 1/3] END activation=relu, alpha=0.0001, hidden_layer_sizes=(150, 100, 50), learning_rate=constant, max_iter=150, solver=sgd;, score=0.906 total time=   3.8s\n"
     ]
    },
    {
     "name": "stderr",
     "output_type": "stream",
     "text": [
      "c:\\Users\\Leaper\\anaconda3\\envs\\tensorflowGpu\\lib\\site-packages\\sklearn\\neural_network\\_multilayer_perceptron.py:696: ConvergenceWarning: Stochastic Optimizer: Maximum iterations (150) reached and the optimization hasn't converged yet.\n",
      "  ConvergenceWarning,\n"
     ]
    },
    {
     "name": "stdout",
     "output_type": "stream",
     "text": [
      "[CV 2/3] END activation=relu, alpha=0.0001, hidden_layer_sizes=(150, 100, 50), learning_rate=constant, max_iter=150, solver=sgd;, score=0.902 total time=   3.8s\n"
     ]
    },
    {
     "name": "stderr",
     "output_type": "stream",
     "text": [
      "c:\\Users\\Leaper\\anaconda3\\envs\\tensorflowGpu\\lib\\site-packages\\sklearn\\neural_network\\_multilayer_perceptron.py:696: ConvergenceWarning: Stochastic Optimizer: Maximum iterations (150) reached and the optimization hasn't converged yet.\n",
      "  ConvergenceWarning,\n"
     ]
    },
    {
     "name": "stdout",
     "output_type": "stream",
     "text": [
      "[CV 3/3] END activation=relu, alpha=0.0001, hidden_layer_sizes=(150, 100, 50), learning_rate=constant, max_iter=150, solver=sgd;, score=0.897 total time=   3.7s\n"
     ]
    },
    {
     "name": "stderr",
     "output_type": "stream",
     "text": [
      "c:\\Users\\Leaper\\anaconda3\\envs\\tensorflowGpu\\lib\\site-packages\\sklearn\\neural_network\\_multilayer_perceptron.py:696: ConvergenceWarning: Stochastic Optimizer: Maximum iterations (150) reached and the optimization hasn't converged yet.\n",
      "  ConvergenceWarning,\n"
     ]
    },
    {
     "name": "stdout",
     "output_type": "stream",
     "text": [
      "[CV 1/3] END activation=tanh, alpha=0.001, hidden_layer_sizes=(150, 100, 50), learning_rate=constant, max_iter=150, solver=sgd;, score=0.911 total time=   3.9s\n"
     ]
    },
    {
     "name": "stderr",
     "output_type": "stream",
     "text": [
      "c:\\Users\\Leaper\\anaconda3\\envs\\tensorflowGpu\\lib\\site-packages\\sklearn\\neural_network\\_multilayer_perceptron.py:696: ConvergenceWarning: Stochastic Optimizer: Maximum iterations (150) reached and the optimization hasn't converged yet.\n",
      "  ConvergenceWarning,\n"
     ]
    },
    {
     "name": "stdout",
     "output_type": "stream",
     "text": [
      "[CV 2/3] END activation=tanh, alpha=0.001, hidden_layer_sizes=(150, 100, 50), learning_rate=constant, max_iter=150, solver=sgd;, score=0.894 total time=   4.0s\n"
     ]
    },
    {
     "name": "stderr",
     "output_type": "stream",
     "text": [
      "c:\\Users\\Leaper\\anaconda3\\envs\\tensorflowGpu\\lib\\site-packages\\sklearn\\neural_network\\_multilayer_perceptron.py:696: ConvergenceWarning: Stochastic Optimizer: Maximum iterations (150) reached and the optimization hasn't converged yet.\n",
      "  ConvergenceWarning,\n"
     ]
    },
    {
     "name": "stdout",
     "output_type": "stream",
     "text": [
      "[CV 3/3] END activation=tanh, alpha=0.001, hidden_layer_sizes=(150, 100, 50), learning_rate=constant, max_iter=150, solver=sgd;, score=0.911 total time=   4.0s\n",
      "[CV 1/3] END activation=relu, alpha=0.001, hidden_layer_sizes=(512, 254, 50), learning_rate=constant, max_iter=200, solver=adam;, score=0.930 total time=   4.9s\n",
      "[CV 2/3] END activation=relu, alpha=0.001, hidden_layer_sizes=(512, 254, 50), learning_rate=constant, max_iter=200, solver=adam;, score=0.934 total time=   5.4s\n",
      "[CV 3/3] END activation=relu, alpha=0.001, hidden_layer_sizes=(512, 254, 50), learning_rate=constant, max_iter=200, solver=adam;, score=0.927 total time=   5.1s\n"
     ]
    },
    {
     "name": "stderr",
     "output_type": "stream",
     "text": [
      "c:\\Users\\Leaper\\anaconda3\\envs\\tensorflowGpu\\lib\\site-packages\\sklearn\\neural_network\\_multilayer_perceptron.py:696: ConvergenceWarning: Stochastic Optimizer: Maximum iterations (200) reached and the optimization hasn't converged yet.\n",
      "  ConvergenceWarning,\n"
     ]
    },
    {
     "name": "stdout",
     "output_type": "stream",
     "text": [
      "[CV 1/3] END activation=relu, alpha=0.0001, hidden_layer_sizes=(150, 100, 50), learning_rate=constant, max_iter=200, solver=sgd;, score=0.906 total time=   5.0s\n"
     ]
    },
    {
     "name": "stderr",
     "output_type": "stream",
     "text": [
      "c:\\Users\\Leaper\\anaconda3\\envs\\tensorflowGpu\\lib\\site-packages\\sklearn\\neural_network\\_multilayer_perceptron.py:696: ConvergenceWarning: Stochastic Optimizer: Maximum iterations (200) reached and the optimization hasn't converged yet.\n",
      "  ConvergenceWarning,\n"
     ]
    },
    {
     "name": "stdout",
     "output_type": "stream",
     "text": [
      "[CV 2/3] END activation=relu, alpha=0.0001, hidden_layer_sizes=(150, 100, 50), learning_rate=constant, max_iter=200, solver=sgd;, score=0.894 total time=   5.0s\n"
     ]
    },
    {
     "name": "stderr",
     "output_type": "stream",
     "text": [
      "c:\\Users\\Leaper\\anaconda3\\envs\\tensorflowGpu\\lib\\site-packages\\sklearn\\neural_network\\_multilayer_perceptron.py:696: ConvergenceWarning: Stochastic Optimizer: Maximum iterations (200) reached and the optimization hasn't converged yet.\n",
      "  ConvergenceWarning,\n"
     ]
    },
    {
     "name": "stdout",
     "output_type": "stream",
     "text": [
      "[CV 3/3] END activation=relu, alpha=0.0001, hidden_layer_sizes=(150, 100, 50), learning_rate=constant, max_iter=200, solver=sgd;, score=0.907 total time=   5.0s\n"
     ]
    },
    {
     "name": "stderr",
     "output_type": "stream",
     "text": [
      "c:\\Users\\Leaper\\anaconda3\\envs\\tensorflowGpu\\lib\\site-packages\\sklearn\\neural_network\\_multilayer_perceptron.py:696: ConvergenceWarning: Stochastic Optimizer: Maximum iterations (50) reached and the optimization hasn't converged yet.\n",
      "  ConvergenceWarning,\n"
     ]
    },
    {
     "name": "stdout",
     "output_type": "stream",
     "text": [
      "[CV 1/3] END activation=relu, alpha=0.05, hidden_layer_sizes=(100, 50, 30), learning_rate=constant, max_iter=50, solver=adam;, score=0.923 total time=   0.8s\n"
     ]
    },
    {
     "name": "stderr",
     "output_type": "stream",
     "text": [
      "c:\\Users\\Leaper\\anaconda3\\envs\\tensorflowGpu\\lib\\site-packages\\sklearn\\neural_network\\_multilayer_perceptron.py:696: ConvergenceWarning: Stochastic Optimizer: Maximum iterations (50) reached and the optimization hasn't converged yet.\n",
      "  ConvergenceWarning,\n"
     ]
    },
    {
     "name": "stdout",
     "output_type": "stream",
     "text": [
      "[CV 2/3] END activation=relu, alpha=0.05, hidden_layer_sizes=(100, 50, 30), learning_rate=constant, max_iter=50, solver=adam;, score=0.911 total time=   0.8s\n"
     ]
    },
    {
     "name": "stderr",
     "output_type": "stream",
     "text": [
      "c:\\Users\\Leaper\\anaconda3\\envs\\tensorflowGpu\\lib\\site-packages\\sklearn\\neural_network\\_multilayer_perceptron.py:696: ConvergenceWarning: Stochastic Optimizer: Maximum iterations (50) reached and the optimization hasn't converged yet.\n",
      "  ConvergenceWarning,\n"
     ]
    },
    {
     "name": "stdout",
     "output_type": "stream",
     "text": [
      "[CV 3/3] END activation=relu, alpha=0.05, hidden_layer_sizes=(100, 50, 30), learning_rate=constant, max_iter=50, solver=adam;, score=0.937 total time=   0.8s\n"
     ]
    },
    {
     "name": "stderr",
     "output_type": "stream",
     "text": [
      "c:\\Users\\Leaper\\anaconda3\\envs\\tensorflowGpu\\lib\\site-packages\\sklearn\\neural_network\\_multilayer_perceptron.py:696: ConvergenceWarning: Stochastic Optimizer: Maximum iterations (50) reached and the optimization hasn't converged yet.\n",
      "  ConvergenceWarning,\n"
     ]
    },
    {
     "name": "stdout",
     "output_type": "stream",
     "text": [
      "[CV 1/3] END activation=tanh, alpha=0.05, hidden_layer_sizes=(150, 100, 50), learning_rate=constant, max_iter=50, solver=sgd;, score=0.897 total time=   1.3s\n"
     ]
    },
    {
     "name": "stderr",
     "output_type": "stream",
     "text": [
      "c:\\Users\\Leaper\\anaconda3\\envs\\tensorflowGpu\\lib\\site-packages\\sklearn\\neural_network\\_multilayer_perceptron.py:696: ConvergenceWarning: Stochastic Optimizer: Maximum iterations (50) reached and the optimization hasn't converged yet.\n",
      "  ConvergenceWarning,\n"
     ]
    },
    {
     "name": "stdout",
     "output_type": "stream",
     "text": [
      "[CV 2/3] END activation=tanh, alpha=0.05, hidden_layer_sizes=(150, 100, 50), learning_rate=constant, max_iter=50, solver=sgd;, score=0.897 total time=   1.3s\n"
     ]
    },
    {
     "name": "stderr",
     "output_type": "stream",
     "text": [
      "c:\\Users\\Leaper\\anaconda3\\envs\\tensorflowGpu\\lib\\site-packages\\sklearn\\neural_network\\_multilayer_perceptron.py:696: ConvergenceWarning: Stochastic Optimizer: Maximum iterations (50) reached and the optimization hasn't converged yet.\n",
      "  ConvergenceWarning,\n"
     ]
    },
    {
     "name": "stdout",
     "output_type": "stream",
     "text": [
      "[CV 3/3] END activation=tanh, alpha=0.05, hidden_layer_sizes=(150, 100, 50), learning_rate=constant, max_iter=50, solver=sgd;, score=0.890 total time=   1.3s\n"
     ]
    },
    {
     "name": "stderr",
     "output_type": "stream",
     "text": [
      "c:\\Users\\Leaper\\anaconda3\\envs\\tensorflowGpu\\lib\\site-packages\\sklearn\\neural_network\\_multilayer_perceptron.py:696: ConvergenceWarning: Stochastic Optimizer: Maximum iterations (100) reached and the optimization hasn't converged yet.\n",
      "  ConvergenceWarning,\n"
     ]
    },
    {
     "name": "stdout",
     "output_type": "stream",
     "text": [
      "[CV 1/3] END activation=relu, alpha=0.001, hidden_layer_sizes=(128, 64, 40), learning_rate=adaptive, max_iter=100, solver=sgd;, score=0.894 total time=   2.0s\n"
     ]
    },
    {
     "name": "stderr",
     "output_type": "stream",
     "text": [
      "c:\\Users\\Leaper\\anaconda3\\envs\\tensorflowGpu\\lib\\site-packages\\sklearn\\neural_network\\_multilayer_perceptron.py:696: ConvergenceWarning: Stochastic Optimizer: Maximum iterations (100) reached and the optimization hasn't converged yet.\n",
      "  ConvergenceWarning,\n"
     ]
    },
    {
     "name": "stdout",
     "output_type": "stream",
     "text": [
      "[CV 2/3] END activation=relu, alpha=0.001, hidden_layer_sizes=(128, 64, 40), learning_rate=adaptive, max_iter=100, solver=sgd;, score=0.894 total time=   2.3s\n"
     ]
    },
    {
     "name": "stderr",
     "output_type": "stream",
     "text": [
      "c:\\Users\\Leaper\\anaconda3\\envs\\tensorflowGpu\\lib\\site-packages\\sklearn\\neural_network\\_multilayer_perceptron.py:696: ConvergenceWarning: Stochastic Optimizer: Maximum iterations (100) reached and the optimization hasn't converged yet.\n",
      "  ConvergenceWarning,\n"
     ]
    },
    {
     "name": "stdout",
     "output_type": "stream",
     "text": [
      "[CV 3/3] END activation=relu, alpha=0.001, hidden_layer_sizes=(128, 64, 40), learning_rate=adaptive, max_iter=100, solver=sgd;, score=0.881 total time=   1.9s\n"
     ]
    },
    {
     "name": "stderr",
     "output_type": "stream",
     "text": [
      "c:\\Users\\Leaper\\anaconda3\\envs\\tensorflowGpu\\lib\\site-packages\\sklearn\\neural_network\\_multilayer_perceptron.py:696: ConvergenceWarning: Stochastic Optimizer: Maximum iterations (100) reached and the optimization hasn't converged yet.\n",
      "  ConvergenceWarning,\n"
     ]
    },
    {
     "name": "stdout",
     "output_type": "stream",
     "text": [
      "[CV 1/3] END activation=relu, alpha=0.05, hidden_layer_sizes=(100, 50, 30), learning_rate=constant, max_iter=100, solver=adam;, score=0.930 total time=   1.7s\n"
     ]
    },
    {
     "name": "stderr",
     "output_type": "stream",
     "text": [
      "c:\\Users\\Leaper\\anaconda3\\envs\\tensorflowGpu\\lib\\site-packages\\sklearn\\neural_network\\_multilayer_perceptron.py:696: ConvergenceWarning: Stochastic Optimizer: Maximum iterations (100) reached and the optimization hasn't converged yet.\n",
      "  ConvergenceWarning,\n"
     ]
    },
    {
     "name": "stdout",
     "output_type": "stream",
     "text": [
      "[CV 2/3] END activation=relu, alpha=0.05, hidden_layer_sizes=(100, 50, 30), learning_rate=constant, max_iter=100, solver=adam;, score=0.921 total time=   1.7s\n"
     ]
    },
    {
     "name": "stderr",
     "output_type": "stream",
     "text": [
      "c:\\Users\\Leaper\\anaconda3\\envs\\tensorflowGpu\\lib\\site-packages\\sklearn\\neural_network\\_multilayer_perceptron.py:696: ConvergenceWarning: Stochastic Optimizer: Maximum iterations (100) reached and the optimization hasn't converged yet.\n",
      "  ConvergenceWarning,\n"
     ]
    },
    {
     "name": "stdout",
     "output_type": "stream",
     "text": [
      "[CV 3/3] END activation=relu, alpha=0.05, hidden_layer_sizes=(100, 50, 30), learning_rate=constant, max_iter=100, solver=adam;, score=0.920 total time=   1.8s\n"
     ]
    },
    {
     "name": "stderr",
     "output_type": "stream",
     "text": [
      "c:\\Users\\Leaper\\anaconda3\\envs\\tensorflowGpu\\lib\\site-packages\\sklearn\\neural_network\\_multilayer_perceptron.py:696: ConvergenceWarning: Stochastic Optimizer: Maximum iterations (200) reached and the optimization hasn't converged yet.\n",
      "  ConvergenceWarning,\n"
     ]
    },
    {
     "name": "stdout",
     "output_type": "stream",
     "text": [
      "[CV 1/3] END activation=tanh, alpha=0.001, hidden_layer_sizes=(100, 50, 30), learning_rate=constant, max_iter=200, solver=sgd;, score=0.909 total time=   3.6s\n"
     ]
    },
    {
     "name": "stderr",
     "output_type": "stream",
     "text": [
      "c:\\Users\\Leaper\\anaconda3\\envs\\tensorflowGpu\\lib\\site-packages\\sklearn\\neural_network\\_multilayer_perceptron.py:696: ConvergenceWarning: Stochastic Optimizer: Maximum iterations (200) reached and the optimization hasn't converged yet.\n",
      "  ConvergenceWarning,\n"
     ]
    },
    {
     "name": "stdout",
     "output_type": "stream",
     "text": [
      "[CV 2/3] END activation=tanh, alpha=0.001, hidden_layer_sizes=(100, 50, 30), learning_rate=constant, max_iter=200, solver=sgd;, score=0.902 total time=   3.6s\n"
     ]
    },
    {
     "name": "stderr",
     "output_type": "stream",
     "text": [
      "c:\\Users\\Leaper\\anaconda3\\envs\\tensorflowGpu\\lib\\site-packages\\sklearn\\neural_network\\_multilayer_perceptron.py:696: ConvergenceWarning: Stochastic Optimizer: Maximum iterations (200) reached and the optimization hasn't converged yet.\n",
      "  ConvergenceWarning,\n"
     ]
    },
    {
     "name": "stdout",
     "output_type": "stream",
     "text": [
      "[CV 3/3] END activation=tanh, alpha=0.001, hidden_layer_sizes=(100, 50, 30), learning_rate=constant, max_iter=200, solver=sgd;, score=0.909 total time=   3.6s\n"
     ]
    },
    {
     "data": {
      "text/plain": [
       "RandomizedSearchCV(cv=3,\n",
       "                   estimator=MLPClassifier(hidden_layer_sizes=(20, 25, 10),\n",
       "                                           max_iter=30),\n",
       "                   n_iter=20, n_jobs=1,\n",
       "                   param_distributions={'activation': ['relu', 'tanh'],\n",
       "                                        'alpha': [0.0001, 0.001, 0.05],\n",
       "                                        'hidden_layer_sizes': [(150, 100, 50),\n",
       "                                                               (128, 64, 40),\n",
       "                                                               (100, 50, 30),\n",
       "                                                               (512, 254, 50)],\n",
       "                                        'learning_rate': ['constant',\n",
       "                                                          'adaptive'],\n",
       "                                        'max_iter': [50, 100, 150, 200],\n",
       "                                        'solver': ['sgd', 'adam']},\n",
       "                   random_state=1, scoring='accuracy', verbose=5)"
      ]
     },
     "execution_count": 114,
     "metadata": {},
     "output_type": "execute_result"
    }
   ],
   "source": [
    "#超参数修改\n",
    "param_grid = {\n",
    "    'hidden_layer_sizes': [(150, 100, 50), (128, 64, 40), (100, 50, 30), (512, 254, 50)],\n",
    "    'max_iter' : [50, 100, 150, 200],\n",
    "    'activation': ['relu', 'tanh'],\n",
    "    'solver': ['sgd', 'adam'],\n",
    "    'alpha': [0.0001, 0.001, 0.05],\n",
    "    'learning_rate': ['constant','adaptive'],\n",
    "}\n",
    "\n",
    "my_kfold = StratifiedKFold(n_splits=3, shuffle=True, random_state=1)\n",
    "random_search = RandomizedSearchCV(estimator=mlp_clf, param_distributions=param_grid, cv=3, n_jobs=1,\n",
    "                                   n_iter=20, scoring='accuracy', verbose=5, random_state=1)\n",
    "random_search.fit(X_train_scaler, y_train)"
   ]
  },
  {
   "cell_type": "code",
   "execution_count": 121,
   "metadata": {},
   "outputs": [
    {
     "name": "stdout",
     "output_type": "stream",
     "text": [
      "The best parameters are: {'solver': 'adam', 'max_iter': 200, 'learning_rate': 'constant', 'hidden_layer_sizes': (512, 254, 50), 'alpha': 0.001, 'activation': 'relu'} with a score of 0.930\n"
     ]
    }
   ],
   "source": [
    "print(\"The best parameters are: %s with a score of %0.3f\"\n",
    "      %(random_search.best_params_, random_search.best_score_))"
   ]
  },
  {
   "cell_type": "code",
   "execution_count": 122,
   "metadata": {},
   "outputs": [
    {
     "data": {
      "text/html": [
       "<div>\n",
       "<style scoped>\n",
       "    .dataframe tbody tr th:only-of-type {\n",
       "        vertical-align: middle;\n",
       "    }\n",
       "\n",
       "    .dataframe tbody tr th {\n",
       "        vertical-align: top;\n",
       "    }\n",
       "\n",
       "    .dataframe thead th {\n",
       "        text-align: right;\n",
       "    }\n",
       "</style>\n",
       "<table border=\"1\" class=\"dataframe\">\n",
       "  <thead>\n",
       "    <tr style=\"text-align: right;\">\n",
       "      <th></th>\n",
       "      <th>solver</th>\n",
       "      <th>max_iter</th>\n",
       "      <th>learning_rate</th>\n",
       "      <th>hidden_layer_sizes</th>\n",
       "      <th>alpha</th>\n",
       "      <th>activation</th>\n",
       "      <th>Accuracy</th>\n",
       "    </tr>\n",
       "  </thead>\n",
       "  <tbody>\n",
       "    <tr>\n",
       "      <th>13</th>\n",
       "      <td>adam</td>\n",
       "      <td>200</td>\n",
       "      <td>constant</td>\n",
       "      <td>(512, 254, 50)</td>\n",
       "      <td>0.0010</td>\n",
       "      <td>relu</td>\n",
       "      <td>0.930149</td>\n",
       "    </tr>\n",
       "    <tr>\n",
       "      <th>4</th>\n",
       "      <td>adam</td>\n",
       "      <td>50</td>\n",
       "      <td>adaptive</td>\n",
       "      <td>(512, 254, 50)</td>\n",
       "      <td>0.0500</td>\n",
       "      <td>relu</td>\n",
       "      <td>0.927825</td>\n",
       "    </tr>\n",
       "    <tr>\n",
       "      <th>5</th>\n",
       "      <td>adam</td>\n",
       "      <td>100</td>\n",
       "      <td>adaptive</td>\n",
       "      <td>(128, 64, 40)</td>\n",
       "      <td>0.0010</td>\n",
       "      <td>tanh</td>\n",
       "      <td>0.926082</td>\n",
       "    </tr>\n",
       "    <tr>\n",
       "      <th>9</th>\n",
       "      <td>adam</td>\n",
       "      <td>200</td>\n",
       "      <td>adaptive</td>\n",
       "      <td>(512, 254, 50)</td>\n",
       "      <td>0.0010</td>\n",
       "      <td>relu</td>\n",
       "      <td>0.925492</td>\n",
       "    </tr>\n",
       "    <tr>\n",
       "      <th>15</th>\n",
       "      <td>adam</td>\n",
       "      <td>50</td>\n",
       "      <td>constant</td>\n",
       "      <td>(100, 50, 30)</td>\n",
       "      <td>0.0500</td>\n",
       "      <td>relu</td>\n",
       "      <td>0.923756</td>\n",
       "    </tr>\n",
       "    <tr>\n",
       "      <th>18</th>\n",
       "      <td>adam</td>\n",
       "      <td>100</td>\n",
       "      <td>constant</td>\n",
       "      <td>(100, 50, 30)</td>\n",
       "      <td>0.0500</td>\n",
       "      <td>relu</td>\n",
       "      <td>0.923746</td>\n",
       "    </tr>\n",
       "    <tr>\n",
       "      <th>6</th>\n",
       "      <td>adam</td>\n",
       "      <td>100</td>\n",
       "      <td>adaptive</td>\n",
       "      <td>(150, 100, 50)</td>\n",
       "      <td>0.0500</td>\n",
       "      <td>relu</td>\n",
       "      <td>0.920258</td>\n",
       "    </tr>\n",
       "    <tr>\n",
       "      <th>7</th>\n",
       "      <td>adam</td>\n",
       "      <td>200</td>\n",
       "      <td>adaptive</td>\n",
       "      <td>(128, 64, 40)</td>\n",
       "      <td>0.0010</td>\n",
       "      <td>relu</td>\n",
       "      <td>0.919091</td>\n",
       "    </tr>\n",
       "    <tr>\n",
       "      <th>3</th>\n",
       "      <td>sgd</td>\n",
       "      <td>200</td>\n",
       "      <td>adaptive</td>\n",
       "      <td>(512, 254, 50)</td>\n",
       "      <td>0.0001</td>\n",
       "      <td>relu</td>\n",
       "      <td>0.910359</td>\n",
       "    </tr>\n",
       "    <tr>\n",
       "      <th>19</th>\n",
       "      <td>sgd</td>\n",
       "      <td>200</td>\n",
       "      <td>constant</td>\n",
       "      <td>(100, 50, 30)</td>\n",
       "      <td>0.0010</td>\n",
       "      <td>tanh</td>\n",
       "      <td>0.906870</td>\n",
       "    </tr>\n",
       "    <tr>\n",
       "      <th>12</th>\n",
       "      <td>sgd</td>\n",
       "      <td>150</td>\n",
       "      <td>constant</td>\n",
       "      <td>(150, 100, 50)</td>\n",
       "      <td>0.0010</td>\n",
       "      <td>tanh</td>\n",
       "      <td>0.905126</td>\n",
       "    </tr>\n",
       "    <tr>\n",
       "      <th>10</th>\n",
       "      <td>sgd</td>\n",
       "      <td>100</td>\n",
       "      <td>constant</td>\n",
       "      <td>(512, 254, 50)</td>\n",
       "      <td>0.0010</td>\n",
       "      <td>tanh</td>\n",
       "      <td>0.902795</td>\n",
       "    </tr>\n",
       "    <tr>\n",
       "      <th>14</th>\n",
       "      <td>sgd</td>\n",
       "      <td>200</td>\n",
       "      <td>constant</td>\n",
       "      <td>(150, 100, 50)</td>\n",
       "      <td>0.0001</td>\n",
       "      <td>relu</td>\n",
       "      <td>0.902215</td>\n",
       "    </tr>\n",
       "    <tr>\n",
       "      <th>11</th>\n",
       "      <td>sgd</td>\n",
       "      <td>150</td>\n",
       "      <td>constant</td>\n",
       "      <td>(150, 100, 50)</td>\n",
       "      <td>0.0001</td>\n",
       "      <td>relu</td>\n",
       "      <td>0.901627</td>\n",
       "    </tr>\n",
       "    <tr>\n",
       "      <th>2</th>\n",
       "      <td>sgd</td>\n",
       "      <td>100</td>\n",
       "      <td>adaptive</td>\n",
       "      <td>(512, 254, 50)</td>\n",
       "      <td>0.0010</td>\n",
       "      <td>relu</td>\n",
       "      <td>0.901046</td>\n",
       "    </tr>\n",
       "    <tr>\n",
       "      <th>8</th>\n",
       "      <td>sgd</td>\n",
       "      <td>100</td>\n",
       "      <td>constant</td>\n",
       "      <td>(150, 100, 50)</td>\n",
       "      <td>0.0010</td>\n",
       "      <td>tanh</td>\n",
       "      <td>0.896973</td>\n",
       "    </tr>\n",
       "    <tr>\n",
       "      <th>16</th>\n",
       "      <td>sgd</td>\n",
       "      <td>50</td>\n",
       "      <td>constant</td>\n",
       "      <td>(150, 100, 50)</td>\n",
       "      <td>0.0500</td>\n",
       "      <td>tanh</td>\n",
       "      <td>0.894642</td>\n",
       "    </tr>\n",
       "    <tr>\n",
       "      <th>1</th>\n",
       "      <td>sgd</td>\n",
       "      <td>100</td>\n",
       "      <td>adaptive</td>\n",
       "      <td>(100, 50, 30)</td>\n",
       "      <td>0.0010</td>\n",
       "      <td>relu</td>\n",
       "      <td>0.892894</td>\n",
       "    </tr>\n",
       "    <tr>\n",
       "      <th>0</th>\n",
       "      <td>sgd</td>\n",
       "      <td>50</td>\n",
       "      <td>constant</td>\n",
       "      <td>(150, 100, 50)</td>\n",
       "      <td>0.0010</td>\n",
       "      <td>tanh</td>\n",
       "      <td>0.892317</td>\n",
       "    </tr>\n",
       "    <tr>\n",
       "      <th>17</th>\n",
       "      <td>sgd</td>\n",
       "      <td>100</td>\n",
       "      <td>adaptive</td>\n",
       "      <td>(128, 64, 40)</td>\n",
       "      <td>0.0010</td>\n",
       "      <td>relu</td>\n",
       "      <td>0.889401</td>\n",
       "    </tr>\n",
       "  </tbody>\n",
       "</table>\n",
       "</div>"
      ],
      "text/plain": [
       "   solver  max_iter learning_rate hidden_layer_sizes   alpha activation  \\\n",
       "13   adam       200      constant     (512, 254, 50)  0.0010       relu   \n",
       "4    adam        50      adaptive     (512, 254, 50)  0.0500       relu   \n",
       "5    adam       100      adaptive      (128, 64, 40)  0.0010       tanh   \n",
       "9    adam       200      adaptive     (512, 254, 50)  0.0010       relu   \n",
       "15   adam        50      constant      (100, 50, 30)  0.0500       relu   \n",
       "18   adam       100      constant      (100, 50, 30)  0.0500       relu   \n",
       "6    adam       100      adaptive     (150, 100, 50)  0.0500       relu   \n",
       "7    adam       200      adaptive      (128, 64, 40)  0.0010       relu   \n",
       "3     sgd       200      adaptive     (512, 254, 50)  0.0001       relu   \n",
       "19    sgd       200      constant      (100, 50, 30)  0.0010       tanh   \n",
       "12    sgd       150      constant     (150, 100, 50)  0.0010       tanh   \n",
       "10    sgd       100      constant     (512, 254, 50)  0.0010       tanh   \n",
       "14    sgd       200      constant     (150, 100, 50)  0.0001       relu   \n",
       "11    sgd       150      constant     (150, 100, 50)  0.0001       relu   \n",
       "2     sgd       100      adaptive     (512, 254, 50)  0.0010       relu   \n",
       "8     sgd       100      constant     (150, 100, 50)  0.0010       tanh   \n",
       "16    sgd        50      constant     (150, 100, 50)  0.0500       tanh   \n",
       "1     sgd       100      adaptive      (100, 50, 30)  0.0010       relu   \n",
       "0     sgd        50      constant     (150, 100, 50)  0.0010       tanh   \n",
       "17    sgd       100      adaptive      (128, 64, 40)  0.0010       relu   \n",
       "\n",
       "    Accuracy  \n",
       "13  0.930149  \n",
       "4   0.927825  \n",
       "5   0.926082  \n",
       "9   0.925492  \n",
       "15  0.923756  \n",
       "18  0.923746  \n",
       "6   0.920258  \n",
       "7   0.919091  \n",
       "3   0.910359  \n",
       "19  0.906870  \n",
       "12  0.905126  \n",
       "10  0.902795  \n",
       "14  0.902215  \n",
       "11  0.901627  \n",
       "2   0.901046  \n",
       "8   0.896973  \n",
       "16  0.894642  \n",
       "1   0.892894  \n",
       "0   0.892317  \n",
       "17  0.889401  "
      ]
     },
     "execution_count": 122,
     "metadata": {},
     "output_type": "execute_result"
    }
   ],
   "source": [
    "random_search_results = pd.concat([pd.DataFrame(random_search.cv_results_['params']),\n",
    "                                   pd.DataFrame(random_search.cv_results_['mean_test_score'], columns=['Accuracy'])], axis=1)\n",
    "\n",
    "random_search_results.sort_values(by='Accuracy', ascending=False)"
   ]
  },
  {
   "cell_type": "code",
   "execution_count": 123,
   "metadata": {},
   "outputs": [
    {
     "name": "stderr",
     "output_type": "stream",
     "text": [
      "c:\\Users\\Leaper\\anaconda3\\envs\\tensorflowGpu\\lib\\site-packages\\sklearn\\neural_network\\_multilayer_perceptron.py:696: ConvergenceWarning: Stochastic Optimizer: Maximum iterations (100) reached and the optimization hasn't converged yet.\n",
      "  ConvergenceWarning,\n"
     ]
    },
    {
     "data": {
      "text/plain": [
       "MLPClassifier(activation='tanh', alpha=0.001, hidden_layer_sizes=(128, 64, 40),\n",
       "              learning_rate='adaptive', max_iter=100)"
      ]
     },
     "execution_count": 123,
     "metadata": {},
     "output_type": "execute_result"
    }
   ],
   "source": [
    "mlp_clf = MLPClassifier(hidden_layer_sizes=(128, 64, 40),\n",
    "                        max_iter=100,\n",
    "                        activation='tanh',\n",
    "                        solver='adam',\n",
    "                        learning_rate='adaptive',\n",
    "                        alpha=0.001)\n",
    "mlp_clf.fit(X_train_scaler, y_train)"
   ]
  },
  {
   "cell_type": "code",
   "execution_count": 124,
   "metadata": {},
   "outputs": [
    {
     "data": {
      "text/plain": [
       "<sklearn.metrics._plot.confusion_matrix.ConfusionMatrixDisplay at 0x146d98a5308>"
      ]
     },
     "execution_count": 124,
     "metadata": {},
     "output_type": "execute_result"
    },
    {
     "data": {
      "image/png": "[encoded data removed]",
      "text/plain": [
       "<Figure size 640x480 with 2 Axes>"
      ]
     },
     "metadata": {},
     "output_type": "display_data"
    }
   ],
   "source": [
    "predictions = mlp_clf.predict(X_test_scaler)\n",
    "cm = confusion_matrix(y_test, predictions)\n",
    "disp = ConfusionMatrixDisplay(confusion_matrix=cm, display_labels=mlp_clf.classes_)\n",
    "disp.plot()"
   ]
  },
  {
   "cell_type": "code",
   "execution_count": 125,
   "metadata": {},
   "outputs": [
    {
     "name": "stdout",
     "output_type": "stream",
     "text": [
      "                   precision    recall  f1-score   support\n",
      "\n",
      "Kirmizi_Pistachio       0.93      0.94      0.94       244\n",
      "  Siirt_Pistachio       0.92      0.91      0.92       186\n",
      "\n",
      "         accuracy                           0.93       430\n",
      "        macro avg       0.93      0.93      0.93       430\n",
      "     weighted avg       0.93      0.93      0.93       430\n",
      "\n"
     ]
    }
   ],
   "source": [
    "print(classification_report(y_test, y_pred))"
   ]
  },
  {
   "cell_type": "code",
   "execution_count": 126,
   "metadata": {},
   "outputs": [
    {
     "name": "stdout",
     "output_type": "stream",
     "text": [
      "Accuracy: 0.93\n"
     ]
    }
   ],
   "source": [
    "y_pred = mlp_clf.predict(X_test_scaler)\n",
    "print('Accuracy: {:.2f}'.format(accuracy_score(y_test, y_pred)))"
   ]
  },
  {
   "cell_type": "code",
   "execution_count": null,
   "metadata": {},
   "outputs": [],
   "source": []
  }
 ],
 "metadata": {
  "kernelspec": {
   "display_name": "tensorflowGpu",
   "language": "python",
   "name": "python3"
  },
  "language_info": {
   "codemirror_mode": {
    "name": "ipython",
    "version": 3
   },
   "file_extension": ".py",
   "mimetype": "text/x-python",
   "name": "python",
   "nbconvert_exporter": "python",
   "pygments_lexer": "ipython3",
   "version": "3.7.16"
  },
  "orig_nbformat": 4
 },
 "nbformat": 4,
 "nbformat_minor": 2
}
