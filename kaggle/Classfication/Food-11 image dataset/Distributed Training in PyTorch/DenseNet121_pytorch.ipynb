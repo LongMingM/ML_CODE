{
 "cells": [
  {
   "attachments": {
    "image.png": {
     "image/png": "[encoded data removed]"
    }
   },
   "cell_type": "markdown",
   "metadata": {},
   "source": [
    "![image.png](attachment:image.png)"
   ]
  },
  {
   "cell_type": "code",
   "execution_count": 1,
   "metadata": {},
   "outputs": [],
   "source": [
    "import os\n",
    "import time\n",
    "import shutil\n",
    "\n",
    "from imutils import paths\n",
    "\n",
    "import numpy as np\n",
    "from tqdm import tqdm\n",
    "import matplotlib.pyplot as plt\n",
    "\n",
    "import torch\n",
    "from torch import nn\n",
    "from torch import optim\n",
    "from torchvision import models\n",
    "from torchvision import transforms\n",
    "from torch.cuda.amp import autocast\n",
    "from torchvision import datasets\n",
    "from torch.utils.data import DataLoader\n",
    "from torchvision.models import densenet121\n",
    "\n",
    "from sklearn.metrics import classification_report"
   ]
  },
  {
   "cell_type": "code",
   "execution_count": 2,
   "metadata": {},
   "outputs": [],
   "source": [
    "# define path to the original dataset\n",
    "DATA_PATH = r\"D:\\code_study\\ML_CODE\\dataSets\\Classification\\Food_11_image_dataset\\archive\"\n",
    "DATA_PATH = DATA_PATH.replace(\"\\\\\", \"/\")\n",
    " \n",
    "# define base path to store our modified dataset\n",
    "BASE_PATH = \"./\"\n",
    " \n",
    "# define paths to separate train, validation, and test splits\n",
    "TRAIN = os.path.join(BASE_PATH, \"training\")\n",
    "VAL = os.path.join(BASE_PATH, \"validation\")\n",
    "TEST = os.path.join(BASE_PATH, \"evaluation\") \n",
    "\n",
    "# initialize the list of class label names\n",
    "CLASSES = [\"Bread\", \"Dairy product\", \"Dessert\", \"Egg\", \"Fried food\", \"Meat\", \"Noodles-Pasta\", \"Rice\", \"Seafood\", \"Soup\", \"Vegetable-Fruit\"]\n",
    " \n",
    "# specify ImageNet mean and standard deviation and image size\n",
    "MEAN = [0.485, 0.456, 0.406]\n",
    "STD = [0.229, 0.224, 0.225]\n",
    "IMAGE_SIZE = 224\n",
    "\n",
    "# set the device to be used for training and evaluation\n",
    "DEVICE = torch.device(\"cuda\")\n",
    " \n",
    "# specify training hyperparameters\n",
    "LOCAL_BATCH_SIZE = 32\n",
    "PRED_BATCH_SIZE = 4\n",
    "EPOCHS = 20\n",
    "LR = 0.0001\n",
    " \n",
    "# define paths to store training plot and trained model\n",
    "PLOT_PATH = os.path.join(\"./\", \"model_training.png\")\n",
    "MODEL_PATH = os.path.join(\"./\", \"food_classifier.pth\")"
   ]
  },
  {
   "cell_type": "code",
   "execution_count": 3,
   "metadata": {},
   "outputs": [],
   "source": [
    "def get_dataloader(rootDir, transforms, bs, shuffle=True):\n",
    "\t# create a dataset and use it to create a data loader\n",
    "\tds = datasets.ImageFolder(root=rootDir, transform=transforms)\n",
    "\tloader = DataLoader(ds, batch_size=bs, shuffle=shuffle, num_workers=os.cpu_count(), pin_memory=True if DEVICE == \"cuda\" else False)\n",
    "    \n",
    "\t# return a tuple of the dataset and the data loader\n",
    "\treturn (ds, loader)"
   ]
  },
  {
   "cell_type": "code",
   "execution_count": 4,
   "metadata": {},
   "outputs": [],
   "source": [
    "def copy_images(rootDir, destiDir):\n",
    "\t# get a list of the all the images present in the directory\n",
    "\timagePaths = list(paths.list_images(rootDir))\n",
    "\tprint(f\"[INFO] total images found: {len(imagePaths)}...\")\n",
    "    \n",
    "    # loop over the image paths\n",
    "\tfor imagePath in imagePaths:\n",
    "\t\t# extract class label from the filename\n",
    "\t\tfilename = imagePath.split(os.path.sep)[-1]\n",
    "\t\tlabel = imagePath.split(os.path.sep)[-2]\n",
    "        \n",
    "\t\t# construct the path to the output directory\n",
    "\t\tdirPath = os.path.sep.join([destiDir, label])\n",
    "        \n",
    "\t\t# if the output directory does not exist, create it\n",
    "\t\tif not os.path.exists(dirPath):\n",
    "\t\t\tos.makedirs(dirPath)\n",
    "            \n",
    "\t\t# construct the path to the output image file and copy it\n",
    "\t\tp = os.path.sep.join([dirPath, filename])\n",
    "\t\tshutil.copy2(imagePath, p)\n",
    "        \n",
    "    # calculate the total number of images in the destination directory and print it\n",
    "\tcurrentTotal = list(paths.list_images(destiDir))\n",
    "\tprint(f\"[INFO] total images copied to {destiDir}: {len(currentTotal)}...\")"
   ]
  },
  {
   "cell_type": "code",
   "execution_count": 5,
   "metadata": {},
   "outputs": [
    {
     "name": "stdout",
     "output_type": "stream",
     "text": [
      "[INFO] copying images...\n",
      "[INFO] total images found: 9866...\n",
      "[INFO] total images copied to ./training: 9866...\n",
      "[INFO] total images found: 3430...\n",
      "[INFO] total images copied to ./validation: 3430...\n",
      "[INFO] total images found: 3347...\n",
      "[INFO] total images copied to ./evaluation: 3347...\n"
     ]
    }
   ],
   "source": [
    "# copy over the images to their respective directories\n",
    "print(\"[INFO] copying images...\")\n",
    "copy_images(os.path.join(DATA_PATH, \"training\"), TRAIN)\n",
    "copy_images(os.path.join(DATA_PATH, \"validation\"), VAL)\n",
    "copy_images(os.path.join(DATA_PATH, \"evaluation\"), TEST)"
   ]
  },
  {
   "cell_type": "code",
   "execution_count": 6,
   "metadata": {},
   "outputs": [
    {
     "name": "stderr",
     "output_type": "stream",
     "text": [
      "C:\\Users\\Leaper\\AppData\\Local\\Temp\\ipykernel_17760\\1539599991.py:13: FutureWarning: `torch.cuda.amp.autocast(args...)` is deprecated. Please use `torch.amp.autocast('cuda', args...)` instead.\n",
      "  @autocast()\n"
     ]
    }
   ],
   "source": [
    "class FoodClassifier(nn.Module):\n",
    "\tdef __init__(self, baseModel, numClasses):\n",
    "\t\tsuper(FoodClassifier, self).__init__()\n",
    "        \n",
    "\t\t# initialize the base model and the classification layer\n",
    "\t\tself.baseModel = baseModel\n",
    "\t\tself.classifier = nn.Linear(baseModel.classifier.in_features, numClasses)\n",
    "        \n",
    "\t\t# set the classifier of our base model to produce outputs from the last convolution block\n",
    "\t\tself.baseModel.classifier = nn.Identity()\n",
    "        \n",
    "    # we decorate the *forward()* method with *autocast()* to enable mixed-precision training in a distributed manner\n",
    "\t@autocast()\n",
    "\tdef forward(self, x):\n",
    "\t\t# pass the inputs through the base model and then obtain the classifier outputs\n",
    "\t\tfeatures = self.baseModel(x)\n",
    "\t\tlogits = self.classifier(features)\n",
    "        \n",
    "\t\t# return the classifier outputs\n",
    "\t\treturn logits"
   ]
  },
  {
   "cell_type": "code",
   "execution_count": 7,
   "metadata": {},
   "outputs": [
    {
     "name": "stdout",
     "output_type": "stream",
     "text": [
      "[INFO] number of GPUs found: 1...\n",
      "[INFO] using a batch size of 32...\n"
     ]
    }
   ],
   "source": [
    "# determine the number of GPUs we have\n",
    "NUM_GPU = torch.cuda.device_count()\n",
    "print(f\"[INFO] number of GPUs found: {NUM_GPU}...\")\n",
    "\n",
    "# determine the batch size based on the number of GPUs\n",
    "BATCH_SIZE = LOCAL_BATCH_SIZE * NUM_GPU\n",
    "print(f\"[INFO] using a batch size of {BATCH_SIZE}...\")"
   ]
  },
  {
   "cell_type": "code",
   "execution_count": 8,
   "metadata": {},
   "outputs": [],
   "source": [
    "# define augmentation pipelines\n",
    "trainTansform = transforms.Compose([\n",
    "\ttransforms.RandomResizedCrop(IMAGE_SIZE),\n",
    "\ttransforms.RandomHorizontalFlip(),\n",
    "\ttransforms.RandomRotation(90),\n",
    "\ttransforms.ToTensor(),\n",
    "\ttransforms.Normalize(mean=MEAN, std=STD)\n",
    "])\n",
    "\n",
    "testTransform = transforms.Compose([\n",
    "\ttransforms.Resize((IMAGE_SIZE, IMAGE_SIZE)),\n",
    "\ttransforms.ToTensor(),\n",
    "\ttransforms.Normalize(mean=MEAN, std=STD)\n",
    "])\n",
    "\n",
    "# create data loaders\n",
    "(trainDS, trainLoader) = get_dataloader(TRAIN, transforms=trainTansform, bs=BATCH_SIZE)\n",
    "(valDS, valLoader) = get_dataloader(VAL, transforms=testTransform, bs=BATCH_SIZE, shuffle=False)\n",
    "(testDS, testLoader) = get_dataloader(TEST, transforms=testTransform, bs=BATCH_SIZE, shuffle=False)"
   ]
  },
  {
   "cell_type": "code",
   "execution_count": 9,
   "metadata": {},
   "outputs": [
    {
     "name": "stderr",
     "output_type": "stream",
     "text": [
      "c:\\Users\\Leaper\\anaconda3\\envs\\pytorch\\lib\\site-packages\\torchvision\\models\\_utils.py:208: UserWarning: The parameter 'pretrained' is deprecated since 0.13 and may be removed in the future, please use 'weights' instead.\n",
      "  warnings.warn(\n",
      "c:\\Users\\Leaper\\anaconda3\\envs\\pytorch\\lib\\site-packages\\torchvision\\models\\_utils.py:223: UserWarning: Arguments other than a weight enum or `None` for 'weights' are deprecated since 0.13 and may be removed in the future. The current behavior is equivalent to passing `weights=DenseNet121_Weights.IMAGENET1K_V1`. You can also use `weights=DenseNet121_Weights.DEFAULT` to get the most up-to-date weights.\n",
      "  warnings.warn(msg)\n"
     ]
    }
   ],
   "source": [
    "# load up the DenseNet121 model\n",
    "baseModel = densenet121(pretrained=True)\n",
    "\n",
    "# loop over the modules of the model and if the module is batch norm, set it to non-trainable\n",
    "for module, param in zip(baseModel.modules(), baseModel.parameters()):\n",
    "\tif isinstance(module, nn.BatchNorm2d):\n",
    "\t\tparam.requires_grad = False\n",
    "        \n",
    "# initialize our custom model and flash it to the current device\n",
    "model = FoodClassifier(baseModel, len(trainDS.classes))\n",
    "model = model.to(DEVICE)"
   ]
  },
  {
   "cell_type": "code",
   "execution_count": 10,
   "metadata": {},
   "outputs": [
    {
     "name": "stderr",
     "output_type": "stream",
     "text": [
      "C:\\Users\\Leaper\\AppData\\Local\\Temp\\ipykernel_17760\\2343894900.py:8: FutureWarning: `torch.cuda.amp.GradScaler(args...)` is deprecated. Please use `torch.amp.GradScaler('cuda', args...)` instead.\n",
      "  scaler = torch.cuda.amp.GradScaler(enabled=True)\n"
     ]
    }
   ],
   "source": [
    "# if we have more than one GPU then parallelize the model\n",
    "if NUM_GPU > 1:\n",
    "\tmodel = nn.DataParallel(model)\n",
    "    \n",
    "# initialize loss function, optimizer, and gradient scaler\n",
    "lossFunc = nn.CrossEntropyLoss()\n",
    "opt = optim.Adam(model.parameters(), lr=LR * NUM_GPU)\n",
    "scaler = torch.cuda.amp.GradScaler(enabled=True)\n",
    "\n",
    "# initialize a learning-rate (LR) scheduler to decay the it by a factor of 0.1 after every 10 epochs\n",
    "lrScheduler = optim.lr_scheduler.StepLR(opt, step_size=10, gamma=0.1)\n",
    "\n",
    "# calculate steps per epoch for training and validation set\n",
    "trainSteps = len(trainDS) // BATCH_SIZE\n",
    "valSteps = len(valDS) // BATCH_SIZE\n",
    "\n",
    "# initialize a dictionary to store training history\n",
    "H = {\"train_loss\": [], \"train_acc\": [], \"val_loss\": [],\t\"val_acc\": []}"
   ]
  },
  {
   "cell_type": "code",
   "execution_count": null,
   "metadata": {},
   "outputs": [
    {
     "name": "stdout",
     "output_type": "stream",
     "text": [
      "[INFO] training the network...\n"
     ]
    },
    {
     "name": "stderr",
     "output_type": "stream",
     "text": [
      "  0%|          | 0/20 [00:00<?, ?it/s]C:\\Users\\Leaper\\AppData\\Local\\Temp\\ipykernel_17760\\3282116840.py:18: FutureWarning: `torch.cuda.amp.autocast(args...)` is deprecated. Please use `torch.amp.autocast('cuda', args...)` instead.\n",
      "  with torch.cuda.amp.autocast(enabled=True):\n",
      "C:\\Users\\Leaper\\AppData\\Local\\Temp\\ipykernel_17760\\3282116840.py:46: FutureWarning: `torch.cuda.amp.autocast(args...)` is deprecated. Please use `torch.amp.autocast('cuda', args...)` instead.\n",
      "  with torch.cuda.amp.autocast(enabled=True):\n",
      "  5%|▌         | 1/20 [06:57<2:12:17, 417.78s/it]"
     ]
    },
    {
     "name": "stdout",
     "output_type": "stream",
     "text": [
      "[INFO] EPOCH: 1/20\n",
      "Train loss: 1.045259, Train accuracy: 0.6804\n",
      "Val loss: 0.563144, Val accuracy: 0.8327\n"
     ]
    }
   ],
   "source": [
    "# loop over epochs\n",
    "print(\"[INFO] training the network...\")\n",
    "startTime = time.time()\n",
    "for e in tqdm(range(EPOCHS)):\n",
    "\t# set the model in training mode\n",
    "\tmodel.train()\n",
    "    \n",
    "\t# initialize the total training and validation loss\n",
    "\ttotalTrainLoss = 0\n",
    "\ttotalValLoss = 0\n",
    "    \n",
    "\t# initialize the number of correct predictions in the training and validation step\n",
    "\ttrainCorrect = 0\n",
    "\tvalCorrect = 0\n",
    "    \n",
    "\t# loop over the training set\n",
    "\tfor (x, y) in trainLoader:\n",
    "\t\twith torch.cuda.amp.autocast(enabled=True):\n",
    "\t\t\t# send the input to the device\n",
    "\t\t\t(x, y) = (x.to(DEVICE), y.to(DEVICE))\n",
    "            \n",
    "\t\t\t# perform a forward pass and calculate the training loss\n",
    "\t\t\tpred = model(x)\n",
    "\t\t\tloss = lossFunc(pred, y)\n",
    "            \n",
    "\t\t# calculate the gradients\n",
    "\t\tscaler.scale(loss).backward()\n",
    "\t\tscaler.step(opt)\n",
    "\t\tscaler.update()\n",
    "\t\topt.zero_grad()\n",
    "        \n",
    "\t\t# add the loss to the total training loss so far and calculate the number of correct predictions\n",
    "\t\ttotalTrainLoss += loss.item()\n",
    "\t\ttrainCorrect += (pred.argmax(1) == y).type(torch.float).sum().item()\n",
    "        \n",
    "\t# update our LR scheduler\n",
    "\tlrScheduler.step()\n",
    "    \n",
    "    # switch off autograd\n",
    "\twith torch.no_grad():\n",
    "\t\t# set the model in evaluation mode\n",
    "\t\tmodel.eval()\n",
    "        \n",
    "\t\t# loop over the validation set\n",
    "\t\tfor (x, y) in valLoader:\n",
    "\t\t\twith torch.cuda.amp.autocast(enabled=True):\n",
    "\t\t\t\t# send the input to the device\n",
    "\t\t\t\t(x, y) = (x.to(DEVICE), y.to(DEVICE))\n",
    "                \n",
    "\t\t\t\t# make the predictions and calculate the validation loss\n",
    "\t\t\t\tpred = model(x)\n",
    "\t\t\t\ttotalValLoss += lossFunc(pred, y).item()\n",
    "                \n",
    "\t\t\t# calculate the number of correct predictions\n",
    "\t\t\tvalCorrect += (pred.argmax(1) == y).type(torch.float).sum().item()\n",
    "            \n",
    "\t# calculate the average training and validation loss\n",
    "\tavgTrainLoss = totalTrainLoss / trainSteps\n",
    "\tavgValLoss = totalValLoss / valSteps\n",
    "    \n",
    "\t# calculate the training and validation accuracy\n",
    "\ttrainCorrect = trainCorrect / len(trainDS)\n",
    "\tvalCorrect = valCorrect / len(valDS)\n",
    "    \n",
    "    # update our training history\n",
    "\tH[\"train_loss\"].append(avgTrainLoss)\n",
    "\tH[\"train_acc\"].append(trainCorrect)\n",
    "\tH[\"val_loss\"].append(avgValLoss)\n",
    "\tH[\"val_acc\"].append(valCorrect)\n",
    "    \n",
    "\t# print the model training and validation information\n",
    "\tprint(\"[INFO] EPOCH: {}/{}\".format(e + 1, EPOCHS))\n",
    "\tprint(\"Train loss: {:.6f}, Train accuracy: {:.4f}\".format(avgTrainLoss, trainCorrect))\n",
    "\tprint(\"Val loss: {:.6f}, Val accuracy: {:.4f}\".format(avgValLoss, valCorrect))\n",
    "    \n",
    "# display the total time needed to perform the training\n",
    "endTime = time.time()\n",
    "print(\"[INFO] total time taken to train the model: {:.2f}s\".format(endTime - startTime))"
   ]
  },
  {
   "cell_type": "code",
   "execution_count": null,
   "metadata": {},
   "outputs": [],
   "source": [
    "# evaluate the network\n",
    "print(\"[INFO] evaluating network...\")\n",
    "with torch.no_grad():\n",
    "\t# set the model in evaluation mode\n",
    "\tmodel.eval()\n",
    "    \n",
    "\t# initialize a list to store our predictions\n",
    "\tpreds = []\n",
    "    \n",
    "\t# loop over the test set\n",
    "\tfor (x, _) in testLoader:\n",
    "\t\t# send the input to the device\n",
    "\t\tx = x.to(DEVICE)\n",
    "        \n",
    "\t\t# make the predictions and add them to the list\n",
    "\t\tpred = model(x)\n",
    "\t\tpreds.extend(pred.argmax(axis=1).cpu().numpy())\n",
    "        \n",
    "# generate a classification report\n",
    "print(classification_report(testDS.targets, preds, target_names=testDS.classes))"
   ]
  },
  {
   "cell_type": "code",
   "execution_count": null,
   "metadata": {},
   "outputs": [],
   "source": [
    "# plot the training loss and accuracy\n",
    "plt.style.use(\"ggplot\")\n",
    "plt.figure()\n",
    "plt.plot(H[\"train_loss\"], label=\"train_loss\")\n",
    "plt.plot(H[\"val_loss\"], label=\"val_loss\")\n",
    "plt.plot(H[\"train_acc\"], label=\"train_acc\")\n",
    "plt.plot(H[\"val_acc\"], label=\"val_acc\")\n",
    "plt.title(\"Training Loss and Accuracy on Dataset\")\n",
    "plt.xlabel(\"Epoch #\")\n",
    "plt.ylabel(\"Loss/Accuracy\")\n",
    "plt.legend(loc=\"lower left\")\n",
    "plt.savefig(PLOT_PATH)\n",
    "\n",
    "# serialize the model state to disk\n",
    "torch.save(model.state_dict(), MODEL_PATH)"
   ]
  },
  {
   "cell_type": "code",
   "execution_count": null,
   "metadata": {},
   "outputs": [],
   "source": [
    "# determine the number of GPUs we have\n",
    "NUM_GPU = torch.cuda.device_count()\n",
    "print(f\"[INFO] number of GPUs found: {NUM_GPU}...\")\n",
    "\n",
    "# determine the batch size based on the number of GPUs\n",
    "BATCH_SIZE = PRED_BATCH_SIZE * NUM_GPU\n",
    "print(f\"[INFO] using a batch size of {BATCH_SIZE}...\")\n",
    "\n",
    "# define augmentation pipeline\n",
    "testTransform = transforms.Compose([\n",
    "\ttransforms.Resize((IMAGE_SIZE, IMAGE_SIZE)),\n",
    "\ttransforms.ToTensor(),\n",
    "\ttransforms.Normalize(mean=MEAN, std=STD)\n",
    "])"
   ]
  },
  {
   "cell_type": "code",
   "execution_count": null,
   "metadata": {},
   "outputs": [],
   "source": [
    "TEST = \"./evaluation\"\n",
    "\n",
    "# calculate the inverse mean and standard deviation\n",
    "invMean = [-m/s for (m, s) in zip(MEAN, STD)]\n",
    "invStd = [1/s for s in STD]\n",
    "\n",
    "# define our denormalization transform\n",
    "deNormalize = transforms.Normalize(mean=invMean, std=invStd)\n",
    "\n",
    "# create test data loader\n",
    "(testDS, testLoader) = get_dataloader(TEST,\ttransforms=testTransform, bs=BATCH_SIZE, shuffle=True)\n",
    "\n",
    "# load up the DenseNet121 model\n",
    "baseModel = models.densenet121(pretrained=True)\n",
    "\n",
    "# initialize our food classifier\n",
    "model = FoodClassifier(baseModel, len(testDS.classes))\n",
    "\n",
    "# load the model state\n",
    "model.load_state_dict(torch.load(MODEL_PATH))"
   ]
  },
  {
   "cell_type": "code",
   "execution_count": null,
   "metadata": {},
   "outputs": [],
   "source": [
    "TEST"
   ]
  },
  {
   "cell_type": "code",
   "execution_count": null,
   "metadata": {},
   "outputs": [],
   "source": [
    "# if we have more than one GPU then parallelize the model\n",
    "if NUM_GPU > 1:\n",
    "\tmodel = nn.DataParallel(model)\n",
    "    \n",
    "# move the model to the device and set it in evaluation mode\n",
    "model.to(DEVICE)\n",
    "model.eval()\n",
    "\n",
    "# grab a batch of test data\n",
    "batch = next(iter(testLoader))\n",
    "(images, labels) = (batch[0], batch[1])\n",
    "\n",
    "# initialize a figure\n",
    "fig = plt.figure(\"Results\", figsize=(10, 10 * NUM_GPU))"
   ]
  },
  {
   "cell_type": "code",
   "execution_count": null,
   "metadata": {},
   "outputs": [],
   "source": [
    "# switch off autograd\n",
    "with torch.no_grad():\n",
    "\t# send the images to the device\n",
    "\timages = images.to(DEVICE)\n",
    "    \n",
    "\t# make the predictions\n",
    "\tpreds = model(images)\n",
    "    \n",
    "\t# loop over all the batch\n",
    "\tfor i in range(0, BATCH_SIZE):\n",
    "\t\t# initialize a subplot\n",
    "\t\tax = plt.subplot(BATCH_SIZE, 1, i + 1)\n",
    "        \n",
    "\t\t# grab the image, de-normalize it, scale the raw pixel intensities to the range [0, 255], and change the channel\n",
    "\t\t# ordering from channels first to channels last\n",
    "\t\timage = images[i]\n",
    "\t\timage = deNormalize(image).cpu().numpy()\n",
    "\t\timage = (image * 255).astype(\"uint8\")\n",
    "\t\timage = image.transpose((1, 2, 0))\n",
    "        \n",
    "\t\t# grab the ground truth label\n",
    "\t\tidx = labels[i].cpu().numpy()\n",
    "\t\tgtLabel = testDS.classes[idx]\n",
    "        \n",
    "\t\t# grab the predicted label\n",
    "\t\tpred = preds[i].argmax().cpu().numpy()\n",
    "\t\tpredLabel = testDS.classes[pred]\n",
    "        \n",
    "\t\t# add the results and image to the plot\n",
    "\t\tinfo = \"Ground Truth: {}, Predicted: {}\".format(gtLabel, predLabel)\n",
    "\t\tplt.imshow(image)\n",
    "\t\tplt.title(info)\n",
    "\t\tplt.axis(\"off\")\n",
    "        \n",
    "\t# show the plot\n",
    "\tplt.tight_layout()\n",
    "\tplt.show()"
   ]
  },
  {
   "cell_type": "code",
   "execution_count": null,
   "metadata": {},
   "outputs": [],
   "source": []
  }
 ],
 "metadata": {
  "kernelspec": {
   "display_name": "pytorch",
   "language": "python",
   "name": "python3"
  },
  "language_info": {
   "codemirror_mode": {
    "name": "ipython",
    "version": 3
   },
   "file_extension": ".py",
   "mimetype": "text/x-python",
   "name": "python",
   "nbconvert_exporter": "python",
   "pygments_lexer": "ipython3",
   "version": "3.9.0"
  }
 },
 "nbformat": 4,
 "nbformat_minor": 2
}
