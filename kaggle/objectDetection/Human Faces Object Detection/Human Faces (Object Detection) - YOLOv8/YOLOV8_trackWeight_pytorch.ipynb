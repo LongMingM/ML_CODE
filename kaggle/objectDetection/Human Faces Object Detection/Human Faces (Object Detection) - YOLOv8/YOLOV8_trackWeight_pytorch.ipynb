{
 "cells": [
  {
   "attachments": {
    "image.png": {
     "image/png": "[encoded data removed]"
    }
   },
   "cell_type": "markdown",
   "metadata": {},
   "source": [
    "![image.png](attachment:image.png)"
   ]
  },
  {
   "cell_type": "code",
   "execution_count": 1,
   "metadata": {},
   "outputs": [],
   "source": [
    "# Importing necessary libraries\n",
    "import os\n",
    "import pandas as pd\n",
    "import cv2\n",
    "import matplotlib.pyplot as plt\n",
    "import seaborn as sns\n",
    "import plotly.express as px\n",
    "from sklearn.model_selection import train_test_split\n",
    "import torch\n",
    "import subprocess\n",
    "\n",
    "# Install ultralytics\n",
    "subprocess.run([\"pip\", \"install\", \"ultralytics\"])\n",
    "from ultralytics import YOLO"
   ]
  },
  {
   "cell_type": "code",
   "execution_count": 2,
   "metadata": {},
   "outputs": [
    {
     "name": "stderr",
     "output_type": "stream",
     "text": [
      "\u001b[34m\u001b[1mwandb\u001b[0m: Using wandb-core as the SDK backend.  Please refer to https://wandb.me/wandb-core for more information.\n",
      "\u001b[34m\u001b[1mwandb\u001b[0m: \u001b[33mWARNING\u001b[0m If you're specifying your api key in code, ensure this code is not shared publicly.\n",
      "\u001b[34m\u001b[1mwandb\u001b[0m: \u001b[33mWARNING\u001b[0m Consider setting the WANDB_API_KEY environment variable, or running `wandb login` from the command line.\n",
      "\u001b[34m\u001b[1mwandb\u001b[0m: Appending key for api.wandb.ai to your netrc file: C:\\Users\\Leaper\\_netrc\n",
      "\u001b[34m\u001b[1mwandb\u001b[0m: Currently logged in as: \u001b[33mhuchencao08\u001b[0m (\u001b[33mhuchencao08-shanghai-university\u001b[0m) to \u001b[32mhttps://api.wandb.ai\u001b[0m. Use \u001b[1m`wandb login --relogin`\u001b[0m to force relogin\n"
     ]
    },
    {
     "data": {
      "text/html": [
       "Tracking run with wandb version 0.19.7"
      ],
      "text/plain": [
       "<IPython.core.display.HTML object>"
      ]
     },
     "metadata": {},
     "output_type": "display_data"
    },
    {
     "data": {
      "text/html": [
       "Run data is saved locally in <code>d:\\code_study\\ML_CODE\\kaggle\\ObjectDetection\\Human Faces Object Detection\\Human Faces (Object Detection) - YOLOv8\\wandb\\run-20250225_160039-t1osfrcu</code>"
      ],
      "text/plain": [
       "<IPython.core.display.HTML object>"
      ]
     },
     "metadata": {},
     "output_type": "display_data"
    },
    {
     "data": {
      "text/html": [
       "Syncing run <strong><a href='https://wandb.ai/huchencao08-shanghai-university/test/runs/t1osfrcu' target=\"_blank\">pleasant-leaf-2</a></strong> to <a href='https://wandb.ai/huchencao08-shanghai-university/test' target=\"_blank\">Weights & Biases</a> (<a href='https://wandb.me/developer-guide' target=\"_blank\">docs</a>)<br>"
      ],
      "text/plain": [
       "<IPython.core.display.HTML object>"
      ]
     },
     "metadata": {},
     "output_type": "display_data"
    },
    {
     "data": {
      "text/html": [
       " View project at <a href='https://wandb.ai/huchencao08-shanghai-university/test' target=\"_blank\">https://wandb.ai/huchencao08-shanghai-university/test</a>"
      ],
      "text/plain": [
       "<IPython.core.display.HTML object>"
      ]
     },
     "metadata": {},
     "output_type": "display_data"
    },
    {
     "data": {
      "text/html": [
       " View run at <a href='https://wandb.ai/huchencao08-shanghai-university/test/runs/t1osfrcu' target=\"_blank\">https://wandb.ai/huchencao08-shanghai-university/test/runs/t1osfrcu</a>"
      ],
      "text/plain": [
       "<IPython.core.display.HTML object>"
      ]
     },
     "metadata": {},
     "output_type": "display_data"
    },
    {
     "data": {
      "text/html": [
       "<button onClick=\"this.nextSibling.style.display='block';this.style.display='none';\">Display W&B run</button><iframe src='https://wandb.ai/huchencao08-shanghai-university/test/runs/t1osfrcu?jupyter=true' style='border:none;width:100%;height:420px;display:none;'></iframe>"
      ],
      "text/plain": [
       "<wandb.sdk.wandb_run.Run at 0x27429679ee0>"
      ]
     },
     "execution_count": 2,
     "metadata": {},
     "output_type": "execute_result"
    }
   ],
   "source": [
    "# Import wandb and log in\n",
    "import wandb\n",
    "\n",
    "# Log in to wandb with API key\n",
    "wandb.login(key='a96035366c44c4ac930354c4d3bda0f9499c339e')\n",
    "# start a new wandb run to track this script\n",
    "# 初始化 WandB\n",
    "wandb.init(\n",
    "    entity=\"huchencao08-shanghai-university\",  # 替换为你的用户名或团队名称\n",
    "    project=\"test\",                       # 替换为你的项目名称\n",
    "    config={\n",
    "        \"architecture\": \"YOLOV8\",\n",
    "        \"epochs\": 50\n",
    "    }\n",
    ")"
   ]
  },
  {
   "cell_type": "code",
   "execution_count": 3,
   "metadata": {},
   "outputs": [],
   "source": [
    "# File paths\n",
    "data_path = r\"D:\\code_study\\ML_CODE\\dataSets\\ObjectDetection\\Human_Faces_Object_Detection\\archive\"\n",
    "data_path = data_path.replace(\"\\\\\", \"/\")\n",
    "image_dir = data_path + \"/images\"\n",
    "csv_path = data_path + \"/faces.csv\"\n",
    "output_dir = r\"D:\\code_study\\ML_CODE\\kaggle\\ObjectDetection\\Human Faces Object Detection\\Human Faces (Object Detection) - YOLOv8\\output\""
   ]
  },
  {
   "cell_type": "code",
   "execution_count": 4,
   "metadata": {},
   "outputs": [],
   "source": [
    "# Load the dataset\n",
    "faces_df = pd.read_csv(csv_path)"
   ]
  },
  {
   "cell_type": "code",
   "execution_count": 5,
   "metadata": {},
   "outputs": [
    {
     "name": "stdout",
     "output_type": "stream",
     "text": [
      "     image_name  width  height   x0   y0    x1   y1\n",
      "0  00001722.jpg   1333    2000  490  320   687  664\n",
      "1  00001044.jpg   2000    1333  791  119  1200  436\n",
      "2  00001050.jpg    667    1000  304  155   407  331\n",
      "3  00001736.jpg    626     417  147   14   519  303\n",
      "4  00003121.jpg    626     418  462   60   599  166\n",
      "<class 'pandas.core.frame.DataFrame'>\n",
      "RangeIndex: 3350 entries, 0 to 3349\n",
      "Data columns (total 7 columns):\n",
      " #   Column      Non-Null Count  Dtype \n",
      "---  ------      --------------  ----- \n",
      " 0   image_name  3350 non-null   object\n",
      " 1   width       3350 non-null   int64 \n",
      " 2   height      3350 non-null   int64 \n",
      " 3   x0          3350 non-null   int64 \n",
      " 4   y0          3350 non-null   int64 \n",
      " 5   x1          3350 non-null   int64 \n",
      " 6   y1          3350 non-null   int64 \n",
      "dtypes: int64(6), object(1)\n",
      "memory usage: 183.3+ KB\n",
      "None\n",
      "             width       height           x0           y0           x1  \\\n",
      "count  3350.000000  3350.000000  3350.000000  3350.000000  3350.000000   \n",
      "mean    967.967164   829.165373   367.840597   152.120896   614.433134   \n",
      "std     651.959869   604.168252   322.675542   171.743790   451.800098   \n",
      "min     150.000000   115.000000     1.000000     1.000000    49.000000   \n",
      "25%     612.000000   433.000000   167.000000    52.000000   340.000000   \n",
      "50%     800.000000   683.000000   294.000000   104.000000   506.000000   \n",
      "75%    1200.000000  1024.000000   474.750000   197.000000   773.000000   \n",
      "max    8192.000000  6680.000000  5212.000000  2375.000000  6815.000000   \n",
      "\n",
      "                y1  \n",
      "count  3350.000000  \n",
      "mean    390.987761  \n",
      "std     314.378134  \n",
      "min      48.000000  \n",
      "25%     203.000000  \n",
      "50%     312.000000  \n",
      "75%     480.750000  \n",
      "max    4471.000000  \n"
     ]
    }
   ],
   "source": [
    "# EDA\n",
    "print(faces_df.head())\n",
    "print(faces_df.info())\n",
    "print(faces_df.describe())"
   ]
  },
  {
   "cell_type": "code",
   "execution_count": 6,
   "metadata": {},
   "outputs": [
    {
     "data": {
      "application/vnd.plotly.v1+json": {
       "config": {
        "plotlyServerURL": "https://plot.ly"
       },
       "data": [
        {
         "bingroup": "x",
         "hovertemplate": "Image Width=%{x}<br>count=%{y}<extra></extra>",
         "legendgroup": "",
         "marker": {
          "color": "#636efa",
          "pattern": {
           "shape": ""
          }
         },
         "name": "",
         "nbinsx": 50,
         "orientation": "v",
         "showlegend": false,
         "type": "histogram",
         "x": {
          "bdata": "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",
          "dtype": "i2"
         },
         "xaxis": "x",
         "yaxis": "y"
        }
       ],
       "layout": {
        "barmode": "relative",
        "legend": {
         "tracegroupgap": 0
        },
        "template": {
         "data": {
          "bar": [
           {
            "error_x": {
             "color": "#f2f5fa"
            },
            "error_y": {
             "color": "#f2f5fa"
            },
            "marker": {
             "line": {
              "color": "rgb(17,17,17)",
              "width": 0.5
             },
             "pattern": {
              "fillmode": "overlay",
              "size": 10,
              "solidity": 0.2
             }
            },
            "type": "bar"
           }
          ],
          "barpolar": [
           {
            "marker": {
             "line": {
              "color": "rgb(17,17,17)",
              "width": 0.5
             },
             "pattern": {
              "fillmode": "overlay",
              "size": 10,
              "solidity": 0.2
             }
            },
            "type": "barpolar"
           }
          ],
          "carpet": [
           {
            "aaxis": {
             "endlinecolor": "#A2B1C6",
             "gridcolor": "#506784",
             "linecolor": "#506784",
             "minorgridcolor": "#506784",
             "startlinecolor": "#A2B1C6"
            },
            "baxis": {
             "endlinecolor": "#A2B1C6",
             "gridcolor": "#506784",
             "linecolor": "#506784",
             "minorgridcolor": "#506784",
             "startlinecolor": "#A2B1C6"
            },
            "type": "carpet"
           }
          ],
          "choropleth": [
           {
            "colorbar": {
             "outlinewidth": 0,
             "ticks": ""
            },
            "type": "choropleth"
           }
          ],
          "contour": [
           {
            "colorbar": {
             "outlinewidth": 0,
             "ticks": ""
            },
            "colorscale": [
             [
              0,
              "#0d0887"
             ],
             [
              0.1111111111111111,
              "#46039f"
             ],
             [
              0.2222222222222222,
              "#7201a8"
             ],
             [
              0.3333333333333333,
              "#9c179e"
             ],
             [
              0.4444444444444444,
              "#bd3786"
             ],
             [
              0.5555555555555556,
              "#d8576b"
             ],
             [
              0.6666666666666666,
              "#ed7953"
             ],
             [
              0.7777777777777778,
              "#fb9f3a"
             ],
             [
              0.8888888888888888,
              "#fdca26"
             ],
             [
              1,
              "#f0f921"
             ]
            ],
            "type": "contour"
           }
          ],
          "contourcarpet": [
           {
            "colorbar": {
             "outlinewidth": 0,
             "ticks": ""
            },
            "type": "contourcarpet"
           }
          ],
          "heatmap": [
           {
            "colorbar": {
             "outlinewidth": 0,
             "ticks": ""
            },
            "colorscale": [
             [
              0,
              "#0d0887"
             ],
             [
              0.1111111111111111,
              "#46039f"
             ],
             [
              0.2222222222222222,
              "#7201a8"
             ],
             [
              0.3333333333333333,
              "#9c179e"
             ],
             [
              0.4444444444444444,
              "#bd3786"
             ],
             [
              0.5555555555555556,
              "#d8576b"
             ],
             [
              0.6666666666666666,
              "#ed7953"
             ],
             [
              0.7777777777777778,
              "#fb9f3a"
             ],
             [
              0.8888888888888888,
              "#fdca26"
             ],
             [
              1,
              "#f0f921"
             ]
            ],
            "type": "heatmap"
           }
          ],
          "histogram": [
           {
            "marker": {
             "pattern": {
              "fillmode": "overlay",
              "size": 10,
              "solidity": 0.2
             }
            },
            "type": "histogram"
           }
          ],
          "histogram2d": [
           {
            "colorbar": {
             "outlinewidth": 0,
             "ticks": ""
            },
            "colorscale": [
             [
              0,
              "#0d0887"
             ],
             [
              0.1111111111111111,
              "#46039f"
             ],
             [
              0.2222222222222222,
              "#7201a8"
             ],
             [
              0.3333333333333333,
              "#9c179e"
             ],
             [
              0.4444444444444444,
              "#bd3786"
             ],
             [
              0.5555555555555556,
              "#d8576b"
             ],
             [
              0.6666666666666666,
              "#ed7953"
             ],
             [
              0.7777777777777778,
              "#fb9f3a"
             ],
             [
              0.8888888888888888,
              "#fdca26"
             ],
             [
              1,
              "#f0f921"
             ]
            ],
            "type": "histogram2d"
           }
          ],
          "histogram2dcontour": [
           {
            "colorbar": {
             "outlinewidth": 0,
             "ticks": ""
            },
            "colorscale": [
             [
              0,
              "#0d0887"
             ],
             [
              0.1111111111111111,
              "#46039f"
             ],
             [
              0.2222222222222222,
              "#7201a8"
             ],
             [
              0.3333333333333333,
              "#9c179e"
             ],
             [
              0.4444444444444444,
              "#bd3786"
             ],
             [
              0.5555555555555556,
              "#d8576b"
             ],
             [
              0.6666666666666666,
              "#ed7953"
             ],
             [
              0.7777777777777778,
              "#fb9f3a"
             ],
             [
              0.8888888888888888,
              "#fdca26"
             ],
             [
              1,
              "#f0f921"
             ]
            ],
            "type": "histogram2dcontour"
           }
          ],
          "mesh3d": [
           {
            "colorbar": {
             "outlinewidth": 0,
             "ticks": ""
            },
            "type": "mesh3d"
           }
          ],
          "parcoords": [
           {
            "line": {
             "colorbar": {
              "outlinewidth": 0,
              "ticks": ""
             }
            },
            "type": "parcoords"
           }
          ],
          "pie": [
           {
            "automargin": true,
            "type": "pie"
           }
          ],
          "scatter": [
           {
            "marker": {
             "line": {
              "color": "#283442"
             }
            },
            "type": "scatter"
           }
          ],
          "scatter3d": [
           {
            "line": {
             "colorbar": {
              "outlinewidth": 0,
              "ticks": ""
             }
            },
            "marker": {
             "colorbar": {
              "outlinewidth": 0,
              "ticks": ""
             }
            },
            "type": "scatter3d"
           }
          ],
          "scattercarpet": [
           {
            "marker": {
             "colorbar": {
              "outlinewidth": 0,
              "ticks": ""
             }
            },
            "type": "scattercarpet"
           }
          ],
          "scattergeo": [
           {
            "marker": {
             "colorbar": {
              "outlinewidth": 0,
              "ticks": ""
             }
            },
            "type": "scattergeo"
           }
          ],
          "scattergl": [
           {
            "marker": {
             "line": {
              "color": "#283442"
             }
            },
            "type": "scattergl"
           }
          ],
          "scattermap": [
           {
            "marker": {
             "colorbar": {
              "outlinewidth": 0,
              "ticks": ""
             }
            },
            "type": "scattermap"
           }
          ],
          "scattermapbox": [
           {
            "marker": {
             "colorbar": {
              "outlinewidth": 0,
              "ticks": ""
             }
            },
            "type": "scattermapbox"
           }
          ],
          "scatterpolar": [
           {
            "marker": {
             "colorbar": {
              "outlinewidth": 0,
              "ticks": ""
             }
            },
            "type": "scatterpolar"
           }
          ],
          "scatterpolargl": [
           {
            "marker": {
             "colorbar": {
              "outlinewidth": 0,
              "ticks": ""
             }
            },
            "type": "scatterpolargl"
           }
          ],
          "scatterternary": [
           {
            "marker": {
             "colorbar": {
              "outlinewidth": 0,
              "ticks": ""
             }
            },
            "type": "scatterternary"
           }
          ],
          "surface": [
           {
            "colorbar": {
             "outlinewidth": 0,
             "ticks": ""
            },
            "colorscale": [
             [
              0,
              "#0d0887"
             ],
             [
              0.1111111111111111,
              "#46039f"
             ],
             [
              0.2222222222222222,
              "#7201a8"
             ],
             [
              0.3333333333333333,
              "#9c179e"
             ],
             [
              0.4444444444444444,
              "#bd3786"
             ],
             [
              0.5555555555555556,
              "#d8576b"
             ],
             [
              0.6666666666666666,
              "#ed7953"
             ],
             [
              0.7777777777777778,
              "#fb9f3a"
             ],
             [
              0.8888888888888888,
              "#fdca26"
             ],
             [
              1,
              "#f0f921"
             ]
            ],
            "type": "surface"
           }
          ],
          "table": [
           {
            "cells": {
             "fill": {
              "color": "#506784"
             },
             "line": {
              "color": "rgb(17,17,17)"
             }
            },
            "header": {
             "fill": {
              "color": "#2a3f5f"
             },
             "line": {
              "color": "rgb(17,17,17)"
             }
            },
            "type": "table"
           }
          ]
         },
         "layout": {
          "annotationdefaults": {
           "arrowcolor": "#f2f5fa",
           "arrowhead": 0,
           "arrowwidth": 1
          },
          "autotypenumbers": "strict",
          "coloraxis": {
           "colorbar": {
            "outlinewidth": 0,
            "ticks": ""
           }
          },
          "colorscale": {
           "diverging": [
            [
             0,
             "#8e0152"
            ],
            [
             0.1,
             "#c51b7d"
            ],
            [
             0.2,
             "#de77ae"
            ],
            [
             0.3,
             "#f1b6da"
            ],
            [
             0.4,
             "#fde0ef"
            ],
            [
             0.5,
             "#f7f7f7"
            ],
            [
             0.6,
             "#e6f5d0"
            ],
            [
             0.7,
             "#b8e186"
            ],
            [
             0.8,
             "#7fbc41"
            ],
            [
             0.9,
             "#4d9221"
            ],
            [
             1,
             "#276419"
            ]
           ],
           "sequential": [
            [
             0,
             "#0d0887"
            ],
            [
             0.1111111111111111,
             "#46039f"
            ],
            [
             0.2222222222222222,
             "#7201a8"
            ],
            [
             0.3333333333333333,
             "#9c179e"
            ],
            [
             0.4444444444444444,
             "#bd3786"
            ],
            [
             0.5555555555555556,
             "#d8576b"
            ],
            [
             0.6666666666666666,
             "#ed7953"
            ],
            [
             0.7777777777777778,
             "#fb9f3a"
            ],
            [
             0.8888888888888888,
             "#fdca26"
            ],
            [
             1,
             "#f0f921"
            ]
           ],
           "sequentialminus": [
            [
             0,
             "#0d0887"
            ],
            [
             0.1111111111111111,
             "#46039f"
            ],
            [
             0.2222222222222222,
             "#7201a8"
            ],
            [
             0.3333333333333333,
             "#9c179e"
            ],
            [
             0.4444444444444444,
             "#bd3786"
            ],
            [
             0.5555555555555556,
             "#d8576b"
            ],
            [
             0.6666666666666666,
             "#ed7953"
            ],
            [
             0.7777777777777778,
             "#fb9f3a"
            ],
            [
             0.8888888888888888,
             "#fdca26"
            ],
            [
             1,
             "#f0f921"
            ]
           ]
          },
          "colorway": [
           "#636efa",
           "#EF553B",
           "#00cc96",
           "#ab63fa",
           "#FFA15A",
           "#19d3f3",
           "#FF6692",
           "#B6E880",
           "#FF97FF",
           "#FECB52"
          ],
          "font": {
           "color": "#f2f5fa"
          },
          "geo": {
           "bgcolor": "rgb(17,17,17)",
           "lakecolor": "rgb(17,17,17)",
           "landcolor": "rgb(17,17,17)",
           "showlakes": true,
           "showland": true,
           "subunitcolor": "#506784"
          },
          "hoverlabel": {
           "align": "left"
          },
          "hovermode": "closest",
          "mapbox": {
           "style": "dark"
          },
          "paper_bgcolor": "rgb(17,17,17)",
          "plot_bgcolor": "rgb(17,17,17)",
          "polar": {
           "angularaxis": {
            "gridcolor": "#506784",
            "linecolor": "#506784",
            "ticks": ""
           },
           "bgcolor": "rgb(17,17,17)",
           "radialaxis": {
            "gridcolor": "#506784",
            "linecolor": "#506784",
            "ticks": ""
           }
          },
          "scene": {
           "xaxis": {
            "backgroundcolor": "rgb(17,17,17)",
            "gridcolor": "#506784",
            "gridwidth": 2,
            "linecolor": "#506784",
            "showbackground": true,
            "ticks": "",
            "zerolinecolor": "#C8D4E3"
           },
           "yaxis": {
            "backgroundcolor": "rgb(17,17,17)",
            "gridcolor": "#506784",
            "gridwidth": 2,
            "linecolor": "#506784",
            "showbackground": true,
            "ticks": "",
            "zerolinecolor": "#C8D4E3"
           },
           "zaxis": {
            "backgroundcolor": "rgb(17,17,17)",
            "gridcolor": "#506784",
            "gridwidth": 2,
            "linecolor": "#506784",
            "showbackground": true,
            "ticks": "",
            "zerolinecolor": "#C8D4E3"
           }
          },
          "shapedefaults": {
           "line": {
            "color": "#f2f5fa"
           }
          },
          "sliderdefaults": {
           "bgcolor": "#C8D4E3",
           "bordercolor": "rgb(17,17,17)",
           "borderwidth": 1,
           "tickwidth": 0
          },
          "ternary": {
           "aaxis": {
            "gridcolor": "#506784",
            "linecolor": "#506784",
            "ticks": ""
           },
           "baxis": {
            "gridcolor": "#506784",
            "linecolor": "#506784",
            "ticks": ""
           },
           "bgcolor": "rgb(17,17,17)",
           "caxis": {
            "gridcolor": "#506784",
            "linecolor": "#506784",
            "ticks": ""
           }
          },
          "title": {
           "x": 0.05
          },
          "updatemenudefaults": {
           "bgcolor": "#506784",
           "borderwidth": 0
          },
          "xaxis": {
           "automargin": true,
           "gridcolor": "#283442",
           "linecolor": "#506784",
           "ticks": "",
           "title": {
            "standoff": 15
           },
           "zerolinecolor": "#283442",
           "zerolinewidth": 2
          },
          "yaxis": {
           "automargin": true,
           "gridcolor": "#283442",
           "linecolor": "#506784",
           "ticks": "",
           "title": {
            "standoff": 15
           },
           "zerolinecolor": "#283442",
           "zerolinewidth": 2
          }
         }
        },
        "title": {
         "font": {
          "color": "white",
          "family": "Arial",
          "size": 24
         },
         "text": "Distribution of Image Widths"
        },
        "xaxis": {
         "anchor": "y",
         "domain": [
          0,
          1
         ],
         "title": {
          "text": "Image Width"
         }
        },
        "yaxis": {
         "anchor": "x",
         "domain": [
          0,
          1
         ],
         "title": {
          "text": "count"
         }
        }
       }
      }
     },
     "metadata": {},
     "output_type": "display_data"
    },
    {
     "data": {
      "application/vnd.plotly.v1+json": {
       "config": {
        "plotlyServerURL": "https://plot.ly"
       },
       "data": [
        {
         "bingroup": "x",
         "hovertemplate": "Image Height=%{x}<br>count=%{y}<extra></extra>",
         "legendgroup": "",
         "marker": {
          "color": "#636efa",
          "pattern": {
           "shape": ""
          }
         },
         "name": "",
         "nbinsx": 50,
         "orientation": "v",
         "showlegend": false,
         "type": "histogram",
         "x": {
          "bdata": "0Ac1BegDoQGiAaIBogGiAaIBkAHQAtACWQJZAsgCqAGrAhQFmAHPAc8BzwFMAkwCTAJiAaMB3ALcAtwC3ALcAggC9AH0AfQBZAIYAasDqwM6AQAEvAO8A7wDvAO8A18CYARYAqIBogGiAaIBFAUUBRQFYgEmAsIBmwKbApsCmwKbAkQERASdAKsCbALuAugBhAOEAwcKoQGhAaEBoQGhAdoC2gLaAqMBRwI1BTUF2QTLC5EGUAFEAk0BFQIVAlMBUwFTAVMBUwFTAVMBUwGxARQFTQHuAr0DvQNVBZsCMALJAskCyQLJAskCyQLJAskC6QPpA+kD6QPpA/4AoQEABBgBvAJiA/8DhASjAZgBmAGYAdwFwgGqAlgCVRVVFVUVVRWAAiMC6gE5AtAC0ALKA8oDygNNBJ8BnwGfAZ8B1gYcAmkBaQFpAWkBAQIBAm4FgwaDBhQDbgUUBb0D4AHgAeABEAurAhoEGgTUA/8DAAQUBZsCQAaqAqoCRwHsALwCFAIUAl8DXwMHAmgBaAGrAqsCqwKrAqsCqwJVBZ0AbgUABIgCiAIHAiADcgKbApsCmwKbAicCYQFhAe4CHgSEA24FpAH+AEYCWALbAeMB4wHjAeMBbgWkBpABBgOqAjsBGAEYARIFYgIaBKUBgBf7A7AEmwIUBRgBYAQABOgD6AHAA1gCNQWYAWIBNQM1AzUDvANuBTQEqwGrAasBqwGrAYwAowGjAaMBdwOqApwCvAOYAZgBuAuDBBQFGAEYARgBqgKqAqoCBwJiAVQB4AHaBbwDRAJEAkQCmwLqAeoB6gHqAeoB6gEVAm8BQAFmAWYBZgFmAb0DpAGoB9IE5gHmAeYB5gHmAVEDAAkVAoQDhAOxAbEBsQGxAUYC6APoA+gD7gJRA4oBigGKAYoBigGKAYQDWAK/A4QDGAGwBDcD3AVxA0YCGAEYARgBsQGxAbEB6gKhAWAEYARgBGAEYARgBFcBVwFXAVcB7wLQB9YBWwFNAVQBVAGYAVgC3AWrAqsCqwK8A5gBmAGYAZgBsQEABFAEbgW+ApABoA+8ArwCnwEVAugDmAEVAsMEmwJ2ASADuAFbAY8EogEqA1EDmAGYAWMHYwdiAo0BAASsAqEBZQSdAFIFsASYAaEBFgEUBegDcBdYAtAC0ALnAecBjwRKBHkCGAGgD4QDRAK8AsUCLQNXA1cDbgVYAsgAvAMABFYBqAekAaAPmwKbApsCmAGYAWQCRgKrAo4BAAQABFMBXQRdBF0EmAEVAhgBIAPQB5AEkASQBO4C7gLbAkoBZANiAdAC0ALQAtAC7QJuBYMEgwSDBIMEvwCcAKMBeQN5A0AGqgKkBgAEywGMAXUDYwP/A1IDowEgA8IBIAM1BbwDdgLUA6gHDAM/Aa8EAALCAf4F/gX+Bf4F/gVeAaIBcgJgBIQDhAO8A6oC3AXcBc8DzwOrAqsCNQE1BdACBwKbAiADIAMgAyADwAOkBrIEcgFyAdAH0ALQAhQF6APoA+gDmwKbApsCAAT0AfQBpwHVAxAB0AfAAxYCAAOQAYQDhAMKAwoDAAReAf8DBwI1A5sCqwFhAf0C/QLkA1EBhAPFAv8D/wNkAhUCFgIWAhYCFgIWAmAEKQKgD7kFkgK9A70DTQGJASADjAMABMYGxgZABqEBWAJYAqkCUARGBZsCmwKbApsCmwJiAW4FMAIUBRQDFgLvAhQF6AO8A4oBtgKDBoMG6AO8A6MBDwLAA2IBGAFiAYACgAKAAoACgAINAw0D9AGaAXcCQAZABhgBYgFjAUYFRgV7AtAHFQKPBL0CGgShAaEBvAMYAVgCbgUUBZQClAKUAlUDrwWpAqkCqQIVAqEB7ALsAgEDAQMBAwEDAQPoA+gD6AOlA4ANmwKqAqoCqgIVAuABBwJeAf4A1AOzA7wBWAIIBwgHCAdABmQCYgGhAaEBoQGhAaEB0ALQApoDkAEABJ8BnwGYAZsCAATSAb0DvQO9A70DvQMABBgBowFeAbAEsASwBLAEsARYAmwCvQNUBsQDmAGYAegDUQMVAqQGpAYABbAErgHbAWIH2QHZAdkBqQOpA6kDqQOpAyADnQCoBzMB6AO9A4ACNQW8AXsCnQFUAdwFZQRlBPQC9AIAAlkCWQJZAiwEqwKEA70DAAQUBRQFIAMgA6oBmwIABGMD3AVAFHUB4QCvBK8ErwTqAbwDwAIIB3UBbgXQAo4BiQEhAWAEhANABvQBvQMyATcFFAXwAugD6APoA2AE0Ae9A70DvQO9A70DBwI3BVUFMQL1AfUB9QH1AQcCcgIYAZgBmAGYAeAB4AEABE0B1APUA9QD1APUA9QD1APUAwAEWAJYAsoCpAboA+gD6AObAtAHsATUA9QDpAboA+gDWAKXApcC3AWyAZgBmAGYAZgBmAGYAZgBkQZkAiADqAdOAaoCvwQ1BTUFvAMTBBMEEwQTBBMEEwQTBFgCWALUAdQB6ANUAaMCqwK8Ah4DAATKArwDvAO8A7wDvAPFArwDvAO8A7wDvAO8AwgHmwIUBTUBNQE1ATUBNQFNAZgBFAUUBRQFqAcABGgBaAFoAWgBaAGABIAEYASXAWQF6APQB1sFhAMUBdAHVgPwEwAEgQJuBeUB5QGQAdUBogGYAVYBlwKoB2IB1AOmAv0EZwTPBLEBqwKYAVEDAAgACOIEcgKrAasBqwGXA9QDjQGNAY0BjQGNAY0BjQEVArEBsQGxAf8A0gFbBvQBvAO9A6sCUwFTAUAGAAS8A4kBoQHoAyADGAFXBFcEVwRXBI8EbgU/BLAEoQGQBE0BqwKrAhQFFAUUBbYCvANkAqkCqQImAiYCJgI1BbcBsQGxAbEBsQEgA8sLsARcAmIDmAH0BPQEQAYABKIB4ALgAuAC4ALgAqMBmwKbAhoEWAIQDhAOIAFUBlgCkAEYARgBGAEYARQFvQO9A70DvQMUBXYBCAexAbEBjwTTAQAEvQK4C2wCFAVGArwDbgVkAr0DdwQAAgACTQEWApYD5gCoB9AHigL3BQAEBwJoARUC1APQAtACAARyBHIEcgRGAkACQAJxAnECAAQ1BTUDYgEYAUIEFAU1BTUFvAGYAZgBmAGYAZgBmAEYAegD6AOQAZgBRAKwBE4BlgGEA74BvgGAAoACmAGYAZgBmAGYASADIAMgAiACYwNPBE8ELAHcBegD/AH8AfwB/AGiAaIBRgGpAuEB4QFuBQgHvQP5ApgBhAMUBQsBUAViATUFNQU1BUAGQAYYARgB5APqAkMBFAX/A24FjwTAD/YB9gG8Al0D3AUVAvQBVAFUAVQB6AOrAgAIjwRlBGUEZQRlBGUEZQTbAoQE8QYuAhUCFQIVAgAEFAXxAVgCWAJYAlgCWAKxArECsQKxArECFQSoB2IDFQIgA/wBvAJlBGUEqAeVAZUBlQGVAZUBVQNVA7EBVQKjAugDVQOBAoECgQKVA5sCFAUUBWID3AUUA+8C7wLvAo8E3AUABMwCzAJgA2ADYAPUA6UDHAIcAhwCuQLuAu4C7gLuAu4C7gLuAgcC7gLuArwDmQabApsCmwKbAm4F1AOsAgcCmAGYAZgBrALgARgBsgGAAQACmwIUBWMDYwNjA2MDFgIAA/8DTQRNBE0ETQRNBE0ETQRdATUDmwLQBzUFUwHpAWQCmwIRAhECEQIRAhUCwAPAAyADQAYsAbED6AHoAU0BoA+NEKsCPAPoA+gDrA3oA5kG9AHQB0YFvAOgAv8DGAHAA8AD9QFfAoQD6gHqAWQCAAQ1A24FqAfQB4QDRwJHAkcCRwJHAj4DoQMVAhUCiQGbApsCAAKYApgCmAI2BRQFSwG2AUYDigEyApsCnAYUBZABmwKbArkBuQG5AbkBuQG5AQgCdgJYDVgNWA2yAZgBmAGYAZgB1APAA5cBlwFdA6sCmAGYAZgBsASwBLAEsASQAZABkAGQAZYCXQOYAZgBmAGYAYMEgwSDBIQDygLKAmIBYgHQBwAERgI2BTYFHwRkAgcCmwIYAX8DYARuBRUCgwGDAYMBgwGDAVQBNQVyAXIBcgFyAXIBcgEYARgBEgLuAvQB9AH0AfQBsAQYAYAWYgEYAdwF1wfcBRMCwAP0BPQEqwKrAqsCIANsBCwB1ANbAbACsAJuBaEBpAFiA3ICCwEABEcBpAEUBTUFNQU1BTUFNQUYAVgCtQK1ArUCmQZAFO4BXgGbAjMFGAGFBFAE5QTlBOUE5QSPBBQFmAGYAVUFVQWVAZUBlQGKAugDoQGkAU4BQAFAAUABCAcIB/8DdgN2AyADwgFkBGQEuAS4BLgEuAS4BLgEwAKjAW4FmAHoA7wD6AOQAZABkAGQAZABkAFgBEYC3AUYAagHqAfJAckB0Ae8A00BBwGkAcYCFAVfAqIBogGiAaIBogEVAhUCYgP0Af4AAAToA6gHFAVBAZYA0AKsAv8D3AV/BFMBDQKbAugDWAJYAlgCsgOyA70BvQG9Ab0BvQGbAiwBywHLAcsBqwKrAqsCqwKrAqsCqwKrAqsCcgQABE0ETQRNBE0ETQSEA6sCwAOhAW4FbgU4BOgD/wMUBegD6APoA+gDBwJuBQcCpgKoB6gHAAQsBCwELAQYARgB9AH0AasCvANkAkkF0wHTAVgCvAKGAoYCNQU1BTUF0AcmAzUDNQM1AzUFmAGYAZgBmAGYAZgBhAO9A2AEfAF8ARgBjwQABKwDrAMNBg0GDQaqAuwD7APsA+wD7ANQBHUBWgI/AWIGFgKhATMFvQO9A70DvQO9A0oBSgFKAUoBSgGhDqEOoQShAXsDewN2AkABQAGAAtwCagRqBKMBGgR/ApYBvQQVAhUCUwFLCGAEXANcA1wDXAPADxgB+gS8ApsCmwKbApsCmwKbApsCmwKbApgBmAGYAakCvAJuBUACIAMgAyADIAPsAVgCWAJYApgB3AX8AVgCWAJYAkAGNQXoA5sCgAIYAegDmwKkBgAERgLIABgB7gHQAhoE0wGKA3cEdwR6AZAEKgQYAZgBCAcUBf8DUwGKAmQCqwLqAeoB6gHqAQAE/AEaBP4AtATCAcIBwgHCAcIBwgHCAcIBwgHCAcIBwgHCAQcCIAPJA8kDyQOGBYYFhgXcBQgDhQSiAaIBkAHQAoQDAAVABjwDPAM8AzwDQQTiA48EdwEaBEACQAJAAkACQAJAAkACQAJAAv4ANQUmBGMDigJAAkACOAM4AzgDOAM4AzgDGAFSAZgBmAGYAZgBmAEYAQAEnAGcAaoCRgEWAxYDFgMWAxYDjwSPBI8EjwSPBF4BGALvAZsCIAOQARQFAAI2BaoCOATCAbAEUQMiASIBIgEiASIBIgHoA+gD6APoA+gD6APoA+gD6APoAxECvQOEBJgBqgKqAqYCwgFEAkQCigKjAqMCowIACA4FFAV1A/4AsASwBEQC3AWkAZgBmAGYAZgBmAGYATUFqwKrAjgCdgKkAbEBsQGxAbEB1ANEAiADIAMgAyADIAMgAyADbxcNAg0CDQINAg0CFAUUBZkB6AMYARgBGAGzBNQD7wDvAO8ApwF4Be4CmwJNAagBRgLQAiAD9AFuBdwFkAZUAQcCgQJlAU0EmwKrAtACRgKhAdAHGAEYARgBGAEYARgBGAEYARgBGAEYAQgH4AH/A4UEhQQzAx0DHQMUBQcCAATcBXoCegJ6AugD6APoA+gD6APoAwgCTQFQBMIBwgGwBLAEsARiAYkBbgU1ATUBNQE1AcIBAASiAVUFRgJAAUABQAFAAWIBwAO8A7wDvAO8A7wDvAMABJoCAAShAYQD4gRgBJcElwSXBGwCOwEnB18DEAtuBcoCygLKAhAL0Ae8A7wDYgNiA2IDYgNTAVMB0wAUBasCAAWgEAYDBgOJARUCiQH0AQAEtgObApsCmwKbApsCCAGkAeACIAMfAV8OmwKbApsCmwIHAo4CFAXCAcIBlwGXAYACoAGgAaAB7gJEAm4FbgWJAQcCdgJiAZAGHwOQAZABkAFJAQAE3AUAAwADAAPCASADvAMaBKsCNgUHAmAEjwQUBUQCUgPoA7wDGAFkAgcCSg/TAdMB0wHTAdMB0wHTAegDixWLFaoCvQO2ArYCtgI1BRQFXAKhAdwF1ANaAUYCQQGYAQAEBwJuBYgCiAKIAogCmwI1AYoBpAGkBhgBGAHLASADIAMgAyADWAKbApsCmwKbAhgBGAEYARgBGAEYARgBGAEYARgBGAFNAZsCFQKbArwD0AcYAbwDigIABLwDiQGJAYkBiQGJAZgBYAQVAhUCFQKEA1oBWgHMBMwEzATMBKsCqwKrAqsCqwKrAmACvAKVA0AGYgGEA5oEmAGRAZ0BjwRYAv0D9wKhAaEBoQGhAaEBoQEABAAEqgI4BAAEkAFNBE0ETQRNBE0ETQRNBFcBVwHYAeoD6gPqA+oD6gMABDMEMwQgAyADqwLoA48EqAdUAWAE/wMHAtMBqgKKAsIBqAf/A24FOQIIBwsBCwELAU0EmwKbApsCmwIQBagHVAFYAlgCWAJYAl8FFAWYAZEBkQEABQAFAAUABQAFAAUABQADmAGYAZgBmAGYATUFFAUVArgBuAGDBIMEgwSDBIMEIANQBI8EVwVXBfUAfgOkARQFBwIgAyADAAQbApAEGAFYApgBmAGYAasCogGiAaIBogGiAVgCjwQAAwUDBQMFAwUDBQP/A1wBCAc1BTUFNQUVAnYEmAGoB9YBAAIBAwEDAASoB4kBiQF+AYECLgMBBXAX6ANVA1UDAARYAqgB0gEVAv4AvAIYAf8D7QLKCJ0AqAcIB2MDQAZKAXICbgU1BTUFNQU1BTUFVAFUAVQBFQIVAhUCvAO8A7wDvAO8A7wDAASpAgwBDAEMAZgBaAEABAAEYgEABBQCAAIAAgACAAQYAxgDGAM+AT4BmwKYAYoCRgJABl0DAAQABAAEsAJYAoICggIAApABFgLJAoICigGKAYoBigGqAqoCggQUBW4FFAUiAhoEQAE1BTUFTAFkAoQDjQSNBKMCEgcSB2AErwGvAa8BKgNjA+gD6ANTAdwFBwKFA4UDWAKYAZgBmAGYAZgBmAGYAWQCFAXpA+kD6QMaBI4I1AW4AVQB3AVSAdAHqgKqAqoC6APoA+gD6AP1AfUB9QH1AUQCRALuAJAEhAOhAcIBowEWAp0AnQCdAEAG3ALcAtwC3ALcAtwC3ALcAhUCmwLoA+gD6APuAmIEQAaEA6sCqwKrAqsCqwKrAqsCqwI/AT4BGAFCAWcEbgFuAW4BYARgAWABYAFgAaEBGAGBAWABYAGyAaMBGAEYARgBGAEAAtAH0Ae8AlgCXARiBB0BHQHcBQAEbgV0AnQCmwKkBhYCGgQYGhsEoAVZAk0E0ALQApgB0AKdAJ0AvAMgAxQFYgFiAasCqwKrAtAHmAEACpoCRAJVBagHsgQACAAIAAJhAQMBAwEDAZ0AYQGYAWQCbgWrAqsCqwLsAIYEhgQ1BYACgALFAQAEmAGAAoAChQTTAZAEQAJAAkACQAJAAhQFywMHAgcCBwJYArIEigG8A1gCpAbQB5ABcAJVAqgHqAeoB6gHqAdNBAAEpAGkATMCqAeoB6gHqAeoB7cBqwLTATgEOASIA6IBGgSQBIMBZQn/A1EDYgOkBnMCXAOYARQF6APoA+gD6APaA6MCowKjAhUCmAGjAYUEhQSFBIUEhQR0AxoEvAO8A3AX0AJUAa4DYgNiA2IDNgUqAyoDhAOEA4QDhAOEA4QDQAaEBIQEhASEBE0E/gAABEwDTAMqA9AHjACMAOgDGAEYARgBGAEYARgBGAEYARgBGAEYAbIBhARUBuABvANNAbwCVgOKApgBmAGYAZgBmAGYAQcC6AMJA3EDcQObAv0J/QlADsAS0ALQAhgBbQWyBJABAAibAjwC/wMpAasClwNBAUEBGgSrAqsC+gWdAMwBmAGrAqsCqwLDA1QBbgVwApsCIAHCAQAEXQPcBQcCBwIHAo8EjwSkAZsC/wOhAaEBoQFYApAENQU1BTUFGAGEA5YA6QPgAqsCHQEdAegDDQJxAXEBCAewBEAGQAZABiwC0AK4AUYCRgJGAnAX9AH0AZgBmAGbAncDdwN3A7EEYAQvDxoEOwI7AhgB4AGqAgAE6APoAyoEKgReAQADRAJiA48EywFIAUgBSAEUBRYCvANGAtQD6QHpAQ8CsgHcBQgH7ADsAOwA7AC8ArwC6ANiAxoEAAI1BTUFygjoA28BbwEgA4YElgGAArAAsACwAG4FAARGAkYCVQMsAW4B7gKXAm4FYAHoAwUEzwPoA5sCFQKbApsC/wOhAacBBQRuBagCqAKoAqgCqAJgBEcCpQPTAZACkAKQApACkAKQApACpQMgA5sC4gS8A2MDTQFNAYQEgQJEArwDvANOAU4BTgFOAU4BNQViAY4BVAJzABUCmwKQBKMBowEUBbgLZALoA2gBFAUUBZsClQGxAVQBhAMACGMDogFtARQCmAGYAZkG9AH0AW4F1gHWAdYBUwFTAVMBUwEYAdwD3APcA9wD3APcA1YDmAGYAZgBmAGYAZgBmAFlA2UDZQP0AbwDbgWkAVMDNQE1ATUBNQGqAqoCqgKqAqoCqgKqAqoCqgKYAZgBmAGYAZgBmAGYAZgBmAEABPACXgEABOoBkAGJAcgANwVkAmQCzwHPAW8BBwQACgAKAAoACgAKAAoABO4CGAEgAyAD6AOhARgBVwJXAlcCVwJXAl4BXgGiAaIBogEYAaMCowJiA0YCRgJGAkAGbwGXAmIBVQWXAZcBCwTsALwDqwLlAZYDNQW8AhUCFQIVAk4BWAL0ARgB7gKQBHYC3AXWAfgCqQLQAu0CYQGEAzgEIAOsArQBgAKAAoACgAKAAoACgAKAAhQFBwIHAoUEhQSFBIUEhQSqA2AEWALoAwAEFAUGAlQBGQK4C5AB9AEWAlMBqwJUAYQDXQFdAV0BXQFdAQ==",
          "dtype": "i2"
         },
         "xaxis": "x",
         "yaxis": "y"
        }
       ],
       "layout": {
        "barmode": "relative",
        "legend": {
         "tracegroupgap": 0
        },
        "template": {
         "data": {
          "bar": [
           {
            "error_x": {
             "color": "#f2f5fa"
            },
            "error_y": {
             "color": "#f2f5fa"
            },
            "marker": {
             "line": {
              "color": "rgb(17,17,17)",
              "width": 0.5
             },
             "pattern": {
              "fillmode": "overlay",
              "size": 10,
              "solidity": 0.2
             }
            },
            "type": "bar"
           }
          ],
          "barpolar": [
           {
            "marker": {
             "line": {
              "color": "rgb(17,17,17)",
              "width": 0.5
             },
             "pattern": {
              "fillmode": "overlay",
              "size": 10,
              "solidity": 0.2
             }
            },
            "type": "barpolar"
           }
          ],
          "carpet": [
           {
            "aaxis": {
             "endlinecolor": "#A2B1C6",
             "gridcolor": "#506784",
             "linecolor": "#506784",
             "minorgridcolor": "#506784",
             "startlinecolor": "#A2B1C6"
            },
            "baxis": {
             "endlinecolor": "#A2B1C6",
             "gridcolor": "#506784",
             "linecolor": "#506784",
             "minorgridcolor": "#506784",
             "startlinecolor": "#A2B1C6"
            },
            "type": "carpet"
           }
          ],
          "choropleth": [
           {
            "colorbar": {
             "outlinewidth": 0,
             "ticks": ""
            },
            "type": "choropleth"
           }
          ],
          "contour": [
           {
            "colorbar": {
             "outlinewidth": 0,
             "ticks": ""
            },
            "colorscale": [
             [
              0,
              "#0d0887"
             ],
             [
              0.1111111111111111,
              "#46039f"
             ],
             [
              0.2222222222222222,
              "#7201a8"
             ],
             [
              0.3333333333333333,
              "#9c179e"
             ],
             [
              0.4444444444444444,
              "#bd3786"
             ],
             [
              0.5555555555555556,
              "#d8576b"
             ],
             [
              0.6666666666666666,
              "#ed7953"
             ],
             [
              0.7777777777777778,
              "#fb9f3a"
             ],
             [
              0.8888888888888888,
              "#fdca26"
             ],
             [
              1,
              "#f0f921"
             ]
            ],
            "type": "contour"
           }
          ],
          "contourcarpet": [
           {
            "colorbar": {
             "outlinewidth": 0,
             "ticks": ""
            },
            "type": "contourcarpet"
           }
          ],
          "heatmap": [
           {
            "colorbar": {
             "outlinewidth": 0,
             "ticks": ""
            },
            "colorscale": [
             [
              0,
              "#0d0887"
             ],
             [
              0.1111111111111111,
              "#46039f"
             ],
             [
              0.2222222222222222,
              "#7201a8"
             ],
             [
              0.3333333333333333,
              "#9c179e"
             ],
             [
              0.4444444444444444,
              "#bd3786"
             ],
             [
              0.5555555555555556,
              "#d8576b"
             ],
             [
              0.6666666666666666,
              "#ed7953"
             ],
             [
              0.7777777777777778,
              "#fb9f3a"
             ],
             [
              0.8888888888888888,
              "#fdca26"
             ],
             [
              1,
              "#f0f921"
             ]
            ],
            "type": "heatmap"
           }
          ],
          "histogram": [
           {
            "marker": {
             "pattern": {
              "fillmode": "overlay",
              "size": 10,
              "solidity": 0.2
             }
            },
            "type": "histogram"
           }
          ],
          "histogram2d": [
           {
            "colorbar": {
             "outlinewidth": 0,
             "ticks": ""
            },
            "colorscale": [
             [
              0,
              "#0d0887"
             ],
             [
              0.1111111111111111,
              "#46039f"
             ],
             [
              0.2222222222222222,
              "#7201a8"
             ],
             [
              0.3333333333333333,
              "#9c179e"
             ],
             [
              0.4444444444444444,
              "#bd3786"
             ],
             [
              0.5555555555555556,
              "#d8576b"
             ],
             [
              0.6666666666666666,
              "#ed7953"
             ],
             [
              0.7777777777777778,
              "#fb9f3a"
             ],
             [
              0.8888888888888888,
              "#fdca26"
             ],
             [
              1,
              "#f0f921"
             ]
            ],
            "type": "histogram2d"
           }
          ],
          "histogram2dcontour": [
           {
            "colorbar": {
             "outlinewidth": 0,
             "ticks": ""
            },
            "colorscale": [
             [
              0,
              "#0d0887"
             ],
             [
              0.1111111111111111,
              "#46039f"
             ],
             [
              0.2222222222222222,
              "#7201a8"
             ],
             [
              0.3333333333333333,
              "#9c179e"
             ],
             [
              0.4444444444444444,
              "#bd3786"
             ],
             [
              0.5555555555555556,
              "#d8576b"
             ],
             [
              0.6666666666666666,
              "#ed7953"
             ],
             [
              0.7777777777777778,
              "#fb9f3a"
             ],
             [
              0.8888888888888888,
              "#fdca26"
             ],
             [
              1,
              "#f0f921"
             ]
            ],
            "type": "histogram2dcontour"
           }
          ],
          "mesh3d": [
           {
            "colorbar": {
             "outlinewidth": 0,
             "ticks": ""
            },
            "type": "mesh3d"
           }
          ],
          "parcoords": [
           {
            "line": {
             "colorbar": {
              "outlinewidth": 0,
              "ticks": ""
             }
            },
            "type": "parcoords"
           }
          ],
          "pie": [
           {
            "automargin": true,
            "type": "pie"
           }
          ],
          "scatter": [
           {
            "marker": {
             "line": {
              "color": "#283442"
             }
            },
            "type": "scatter"
           }
          ],
          "scatter3d": [
           {
            "line": {
             "colorbar": {
              "outlinewidth": 0,
              "ticks": ""
             }
            },
            "marker": {
             "colorbar": {
              "outlinewidth": 0,
              "ticks": ""
             }
            },
            "type": "scatter3d"
           }
          ],
          "scattercarpet": [
           {
            "marker": {
             "colorbar": {
              "outlinewidth": 0,
              "ticks": ""
             }
            },
            "type": "scattercarpet"
           }
          ],
          "scattergeo": [
           {
            "marker": {
             "colorbar": {
              "outlinewidth": 0,
              "ticks": ""
             }
            },
            "type": "scattergeo"
           }
          ],
          "scattergl": [
           {
            "marker": {
             "line": {
              "color": "#283442"
             }
            },
            "type": "scattergl"
           }
          ],
          "scattermap": [
           {
            "marker": {
             "colorbar": {
              "outlinewidth": 0,
              "ticks": ""
             }
            },
            "type": "scattermap"
           }
          ],
          "scattermapbox": [
           {
            "marker": {
             "colorbar": {
              "outlinewidth": 0,
              "ticks": ""
             }
            },
            "type": "scattermapbox"
           }
          ],
          "scatterpolar": [
           {
            "marker": {
             "colorbar": {
              "outlinewidth": 0,
              "ticks": ""
             }
            },
            "type": "scatterpolar"
           }
          ],
          "scatterpolargl": [
           {
            "marker": {
             "colorbar": {
              "outlinewidth": 0,
              "ticks": ""
             }
            },
            "type": "scatterpolargl"
           }
          ],
          "scatterternary": [
           {
            "marker": {
             "colorbar": {
              "outlinewidth": 0,
              "ticks": ""
             }
            },
            "type": "scatterternary"
           }
          ],
          "surface": [
           {
            "colorbar": {
             "outlinewidth": 0,
             "ticks": ""
            },
            "colorscale": [
             [
              0,
              "#0d0887"
             ],
             [
              0.1111111111111111,
              "#46039f"
             ],
             [
              0.2222222222222222,
              "#7201a8"
             ],
             [
              0.3333333333333333,
              "#9c179e"
             ],
             [
              0.4444444444444444,
              "#bd3786"
             ],
             [
              0.5555555555555556,
              "#d8576b"
             ],
             [
              0.6666666666666666,
              "#ed7953"
             ],
             [
              0.7777777777777778,
              "#fb9f3a"
             ],
             [
              0.8888888888888888,
              "#fdca26"
             ],
             [
              1,
              "#f0f921"
             ]
            ],
            "type": "surface"
           }
          ],
          "table": [
           {
            "cells": {
             "fill": {
              "color": "#506784"
             },
             "line": {
              "color": "rgb(17,17,17)"
             }
            },
            "header": {
             "fill": {
              "color": "#2a3f5f"
             },
             "line": {
              "color": "rgb(17,17,17)"
             }
            },
            "type": "table"
           }
          ]
         },
         "layout": {
          "annotationdefaults": {
           "arrowcolor": "#f2f5fa",
           "arrowhead": 0,
           "arrowwidth": 1
          },
          "autotypenumbers": "strict",
          "coloraxis": {
           "colorbar": {
            "outlinewidth": 0,
            "ticks": ""
           }
          },
          "colorscale": {
           "diverging": [
            [
             0,
             "#8e0152"
            ],
            [
             0.1,
             "#c51b7d"
            ],
            [
             0.2,
             "#de77ae"
            ],
            [
             0.3,
             "#f1b6da"
            ],
            [
             0.4,
             "#fde0ef"
            ],
            [
             0.5,
             "#f7f7f7"
            ],
            [
             0.6,
             "#e6f5d0"
            ],
            [
             0.7,
             "#b8e186"
            ],
            [
             0.8,
             "#7fbc41"
            ],
            [
             0.9,
             "#4d9221"
            ],
            [
             1,
             "#276419"
            ]
           ],
           "sequential": [
            [
             0,
             "#0d0887"
            ],
            [
             0.1111111111111111,
             "#46039f"
            ],
            [
             0.2222222222222222,
             "#7201a8"
            ],
            [
             0.3333333333333333,
             "#9c179e"
            ],
            [
             0.4444444444444444,
             "#bd3786"
            ],
            [
             0.5555555555555556,
             "#d8576b"
            ],
            [
             0.6666666666666666,
             "#ed7953"
            ],
            [
             0.7777777777777778,
             "#fb9f3a"
            ],
            [
             0.8888888888888888,
             "#fdca26"
            ],
            [
             1,
             "#f0f921"
            ]
           ],
           "sequentialminus": [
            [
             0,
             "#0d0887"
            ],
            [
             0.1111111111111111,
             "#46039f"
            ],
            [
             0.2222222222222222,
             "#7201a8"
            ],
            [
             0.3333333333333333,
             "#9c179e"
            ],
            [
             0.4444444444444444,
             "#bd3786"
            ],
            [
             0.5555555555555556,
             "#d8576b"
            ],
            [
             0.6666666666666666,
             "#ed7953"
            ],
            [
             0.7777777777777778,
             "#fb9f3a"
            ],
            [
             0.8888888888888888,
             "#fdca26"
            ],
            [
             1,
             "#f0f921"
            ]
           ]
          },
          "colorway": [
           "#636efa",
           "#EF553B",
           "#00cc96",
           "#ab63fa",
           "#FFA15A",
           "#19d3f3",
           "#FF6692",
           "#B6E880",
           "#FF97FF",
           "#FECB52"
          ],
          "font": {
           "color": "#f2f5fa"
          },
          "geo": {
           "bgcolor": "rgb(17,17,17)",
           "lakecolor": "rgb(17,17,17)",
           "landcolor": "rgb(17,17,17)",
           "showlakes": true,
           "showland": true,
           "subunitcolor": "#506784"
          },
          "hoverlabel": {
           "align": "left"
          },
          "hovermode": "closest",
          "mapbox": {
           "style": "dark"
          },
          "paper_bgcolor": "rgb(17,17,17)",
          "plot_bgcolor": "rgb(17,17,17)",
          "polar": {
           "angularaxis": {
            "gridcolor": "#506784",
            "linecolor": "#506784",
            "ticks": ""
           },
           "bgcolor": "rgb(17,17,17)",
           "radialaxis": {
            "gridcolor": "#506784",
            "linecolor": "#506784",
            "ticks": ""
           }
          },
          "scene": {
           "xaxis": {
            "backgroundcolor": "rgb(17,17,17)",
            "gridcolor": "#506784",
            "gridwidth": 2,
            "linecolor": "#506784",
            "showbackground": true,
            "ticks": "",
            "zerolinecolor": "#C8D4E3"
           },
           "yaxis": {
            "backgroundcolor": "rgb(17,17,17)",
            "gridcolor": "#506784",
            "gridwidth": 2,
            "linecolor": "#506784",
            "showbackground": true,
            "ticks": "",
            "zerolinecolor": "#C8D4E3"
           },
           "zaxis": {
            "backgroundcolor": "rgb(17,17,17)",
            "gridcolor": "#506784",
            "gridwidth": 2,
            "linecolor": "#506784",
            "showbackground": true,
            "ticks": "",
            "zerolinecolor": "#C8D4E3"
           }
          },
          "shapedefaults": {
           "line": {
            "color": "#f2f5fa"
           }
          },
          "sliderdefaults": {
           "bgcolor": "#C8D4E3",
           "bordercolor": "rgb(17,17,17)",
           "borderwidth": 1,
           "tickwidth": 0
          },
          "ternary": {
           "aaxis": {
            "gridcolor": "#506784",
            "linecolor": "#506784",
            "ticks": ""
           },
           "baxis": {
            "gridcolor": "#506784",
            "linecolor": "#506784",
            "ticks": ""
           },
           "bgcolor": "rgb(17,17,17)",
           "caxis": {
            "gridcolor": "#506784",
            "linecolor": "#506784",
            "ticks": ""
           }
          },
          "title": {
           "x": 0.05
          },
          "updatemenudefaults": {
           "bgcolor": "#506784",
           "borderwidth": 0
          },
          "xaxis": {
           "automargin": true,
           "gridcolor": "#283442",
           "linecolor": "#506784",
           "ticks": "",
           "title": {
            "standoff": 15
           },
           "zerolinecolor": "#283442",
           "zerolinewidth": 2
          },
          "yaxis": {
           "automargin": true,
           "gridcolor": "#283442",
           "linecolor": "#506784",
           "ticks": "",
           "title": {
            "standoff": 15
           },
           "zerolinecolor": "#283442",
           "zerolinewidth": 2
          }
         }
        },
        "title": {
         "font": {
          "color": "white",
          "family": "Arial",
          "size": 24
         },
         "text": "Distribution of Image Heights"
        },
        "xaxis": {
         "anchor": "y",
         "domain": [
          0,
          1
         ],
         "title": {
          "text": "Image Height"
         }
        },
        "yaxis": {
         "anchor": "x",
         "domain": [
          0,
          1
         ],
         "title": {
          "text": "count"
         }
        }
       }
      }
     },
     "metadata": {},
     "output_type": "display_data"
    }
   ],
   "source": [
    "# Plot distribution of image widths and heights using Plotly\n",
    "fig = px.histogram(faces_df, x='width', nbins=50, title='Distribution of Image Widths',\n",
    "                   labels={'width': 'Image Width'}, template='plotly_dark')\n",
    "fig.update_layout(title_font=dict(size=24, family='Arial', color='white'))\n",
    "fig.show()\n",
    "\n",
    "fig = px.histogram(faces_df, x='height', nbins=50, title='Distribution of Image Heights',\n",
    "                   labels={'height': 'Image Height'}, template='plotly_dark')\n",
    "fig.update_layout(title_font=dict(size=24, family='Arial', color='white'))\n",
    "fig.show()"
   ]
  },
  {
   "cell_type": "code",
   "execution_count": 7,
   "metadata": {},
   "outputs": [
    {
     "data": {
      "application/vnd.plotly.v1+json": {
       "config": {
        "plotlyServerURL": "https://plot.ly"
       },
       "data": [
        {
         "bingroup": "x",
         "hovertemplate": "X0 Coordinate=%{x}<br>count=%{y}<extra></extra>",
         "legendgroup": "",
         "marker": {
          "color": "#636efa",
          "pattern": {
           "shape": ""
          }
         },
         "name": "",
         "nbinsx": 50,
         "orientation": "v",
         "showlegend": false,
         "type": "histogram",
         "x": {
          "bdata": "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",
          "dtype": "i2"
         },
         "xaxis": "x",
         "yaxis": "y"
        }
       ],
       "layout": {
        "barmode": "relative",
        "legend": {
         "tracegroupgap": 0
        },
        "template": {
         "data": {
          "bar": [
           {
            "error_x": {
             "color": "#f2f5fa"
            },
            "error_y": {
             "color": "#f2f5fa"
            },
            "marker": {
             "line": {
              "color": "rgb(17,17,17)",
              "width": 0.5
             },
             "pattern": {
              "fillmode": "overlay",
              "size": 10,
              "solidity": 0.2
             }
            },
            "type": "bar"
           }
          ],
          "barpolar": [
           {
            "marker": {
             "line": {
              "color": "rgb(17,17,17)",
              "width": 0.5
             },
             "pattern": {
              "fillmode": "overlay",
              "size": 10,
              "solidity": 0.2
             }
            },
            "type": "barpolar"
           }
          ],
          "carpet": [
           {
            "aaxis": {
             "endlinecolor": "#A2B1C6",
             "gridcolor": "#506784",
             "linecolor": "#506784",
             "minorgridcolor": "#506784",
             "startlinecolor": "#A2B1C6"
            },
            "baxis": {
             "endlinecolor": "#A2B1C6",
             "gridcolor": "#506784",
             "linecolor": "#506784",
             "minorgridcolor": "#506784",
             "startlinecolor": "#A2B1C6"
            },
            "type": "carpet"
           }
          ],
          "choropleth": [
           {
            "colorbar": {
             "outlinewidth": 0,
             "ticks": ""
            },
            "type": "choropleth"
           }
          ],
          "contour": [
           {
            "colorbar": {
             "outlinewidth": 0,
             "ticks": ""
            },
            "colorscale": [
             [
              0,
              "#0d0887"
             ],
             [
              0.1111111111111111,
              "#46039f"
             ],
             [
              0.2222222222222222,
              "#7201a8"
             ],
             [
              0.3333333333333333,
              "#9c179e"
             ],
             [
              0.4444444444444444,
              "#bd3786"
             ],
             [
              0.5555555555555556,
              "#d8576b"
             ],
             [
              0.6666666666666666,
              "#ed7953"
             ],
             [
              0.7777777777777778,
              "#fb9f3a"
             ],
             [
              0.8888888888888888,
              "#fdca26"
             ],
             [
              1,
              "#f0f921"
             ]
            ],
            "type": "contour"
           }
          ],
          "contourcarpet": [
           {
            "colorbar": {
             "outlinewidth": 0,
             "ticks": ""
            },
            "type": "contourcarpet"
           }
          ],
          "heatmap": [
           {
            "colorbar": {
             "outlinewidth": 0,
             "ticks": ""
            },
            "colorscale": [
             [
              0,
              "#0d0887"
             ],
             [
              0.1111111111111111,
              "#46039f"
             ],
             [
              0.2222222222222222,
              "#7201a8"
             ],
             [
              0.3333333333333333,
              "#9c179e"
             ],
             [
              0.4444444444444444,
              "#bd3786"
             ],
             [
              0.5555555555555556,
              "#d8576b"
             ],
             [
              0.6666666666666666,
              "#ed7953"
             ],
             [
              0.7777777777777778,
              "#fb9f3a"
             ],
             [
              0.8888888888888888,
              "#fdca26"
             ],
             [
              1,
              "#f0f921"
             ]
            ],
            "type": "heatmap"
           }
          ],
          "histogram": [
           {
            "marker": {
             "pattern": {
              "fillmode": "overlay",
              "size": 10,
              "solidity": 0.2
             }
            },
            "type": "histogram"
           }
          ],
          "histogram2d": [
           {
            "colorbar": {
             "outlinewidth": 0,
             "ticks": ""
            },
            "colorscale": [
             [
              0,
              "#0d0887"
             ],
             [
              0.1111111111111111,
              "#46039f"
             ],
             [
              0.2222222222222222,
              "#7201a8"
             ],
             [
              0.3333333333333333,
              "#9c179e"
             ],
             [
              0.4444444444444444,
              "#bd3786"
             ],
             [
              0.5555555555555556,
              "#d8576b"
             ],
             [
              0.6666666666666666,
              "#ed7953"
             ],
             [
              0.7777777777777778,
              "#fb9f3a"
             ],
             [
              0.8888888888888888,
              "#fdca26"
             ],
             [
              1,
              "#f0f921"
             ]
            ],
            "type": "histogram2d"
           }
          ],
          "histogram2dcontour": [
           {
            "colorbar": {
             "outlinewidth": 0,
             "ticks": ""
            },
            "colorscale": [
             [
              0,
              "#0d0887"
             ],
             [
              0.1111111111111111,
              "#46039f"
             ],
             [
              0.2222222222222222,
              "#7201a8"
             ],
             [
              0.3333333333333333,
              "#9c179e"
             ],
             [
              0.4444444444444444,
              "#bd3786"
             ],
             [
              0.5555555555555556,
              "#d8576b"
             ],
             [
              0.6666666666666666,
              "#ed7953"
             ],
             [
              0.7777777777777778,
              "#fb9f3a"
             ],
             [
              0.8888888888888888,
              "#fdca26"
             ],
             [
              1,
              "#f0f921"
             ]
            ],
            "type": "histogram2dcontour"
           }
          ],
          "mesh3d": [
           {
            "colorbar": {
             "outlinewidth": 0,
             "ticks": ""
            },
            "type": "mesh3d"
           }
          ],
          "parcoords": [
           {
            "line": {
             "colorbar": {
              "outlinewidth": 0,
              "ticks": ""
             }
            },
            "type": "parcoords"
           }
          ],
          "pie": [
           {
            "automargin": true,
            "type": "pie"
           }
          ],
          "scatter": [
           {
            "marker": {
             "line": {
              "color": "#283442"
             }
            },
            "type": "scatter"
           }
          ],
          "scatter3d": [
           {
            "line": {
             "colorbar": {
              "outlinewidth": 0,
              "ticks": ""
             }
            },
            "marker": {
             "colorbar": {
              "outlinewidth": 0,
              "ticks": ""
             }
            },
            "type": "scatter3d"
           }
          ],
          "scattercarpet": [
           {
            "marker": {
             "colorbar": {
              "outlinewidth": 0,
              "ticks": ""
             }
            },
            "type": "scattercarpet"
           }
          ],
          "scattergeo": [
           {
            "marker": {
             "colorbar": {
              "outlinewidth": 0,
              "ticks": ""
             }
            },
            "type": "scattergeo"
           }
          ],
          "scattergl": [
           {
            "marker": {
             "line": {
              "color": "#283442"
             }
            },
            "type": "scattergl"
           }
          ],
          "scattermap": [
           {
            "marker": {
             "colorbar": {
              "outlinewidth": 0,
              "ticks": ""
             }
            },
            "type": "scattermap"
           }
          ],
          "scattermapbox": [
           {
            "marker": {
             "colorbar": {
              "outlinewidth": 0,
              "ticks": ""
             }
            },
            "type": "scattermapbox"
           }
          ],
          "scatterpolar": [
           {
            "marker": {
             "colorbar": {
              "outlinewidth": 0,
              "ticks": ""
             }
            },
            "type": "scatterpolar"
           }
          ],
          "scatterpolargl": [
           {
            "marker": {
             "colorbar": {
              "outlinewidth": 0,
              "ticks": ""
             }
            },
            "type": "scatterpolargl"
           }
          ],
          "scatterternary": [
           {
            "marker": {
             "colorbar": {
              "outlinewidth": 0,
              "ticks": ""
             }
            },
            "type": "scatterternary"
           }
          ],
          "surface": [
           {
            "colorbar": {
             "outlinewidth": 0,
             "ticks": ""
            },
            "colorscale": [
             [
              0,
              "#0d0887"
             ],
             [
              0.1111111111111111,
              "#46039f"
             ],
             [
              0.2222222222222222,
              "#7201a8"
             ],
             [
              0.3333333333333333,
              "#9c179e"
             ],
             [
              0.4444444444444444,
              "#bd3786"
             ],
             [
              0.5555555555555556,
              "#d8576b"
             ],
             [
              0.6666666666666666,
              "#ed7953"
             ],
             [
              0.7777777777777778,
              "#fb9f3a"
             ],
             [
              0.8888888888888888,
              "#fdca26"
             ],
             [
              1,
              "#f0f921"
             ]
            ],
            "type": "surface"
           }
          ],
          "table": [
           {
            "cells": {
             "fill": {
              "color": "#506784"
             },
             "line": {
              "color": "rgb(17,17,17)"
             }
            },
            "header": {
             "fill": {
              "color": "#2a3f5f"
             },
             "line": {
              "color": "rgb(17,17,17)"
             }
            },
            "type": "table"
           }
          ]
         },
         "layout": {
          "annotationdefaults": {
           "arrowcolor": "#f2f5fa",
           "arrowhead": 0,
           "arrowwidth": 1
          },
          "autotypenumbers": "strict",
          "coloraxis": {
           "colorbar": {
            "outlinewidth": 0,
            "ticks": ""
           }
          },
          "colorscale": {
           "diverging": [
            [
             0,
             "#8e0152"
            ],
            [
             0.1,
             "#c51b7d"
            ],
            [
             0.2,
             "#de77ae"
            ],
            [
             0.3,
             "#f1b6da"
            ],
            [
             0.4,
             "#fde0ef"
            ],
            [
             0.5,
             "#f7f7f7"
            ],
            [
             0.6,
             "#e6f5d0"
            ],
            [
             0.7,
             "#b8e186"
            ],
            [
             0.8,
             "#7fbc41"
            ],
            [
             0.9,
             "#4d9221"
            ],
            [
             1,
             "#276419"
            ]
           ],
           "sequential": [
            [
             0,
             "#0d0887"
            ],
            [
             0.1111111111111111,
             "#46039f"
            ],
            [
             0.2222222222222222,
             "#7201a8"
            ],
            [
             0.3333333333333333,
             "#9c179e"
            ],
            [
             0.4444444444444444,
             "#bd3786"
            ],
            [
             0.5555555555555556,
             "#d8576b"
            ],
            [
             0.6666666666666666,
             "#ed7953"
            ],
            [
             0.7777777777777778,
             "#fb9f3a"
            ],
            [
             0.8888888888888888,
             "#fdca26"
            ],
            [
             1,
             "#f0f921"
            ]
           ],
           "sequentialminus": [
            [
             0,
             "#0d0887"
            ],
            [
             0.1111111111111111,
             "#46039f"
            ],
            [
             0.2222222222222222,
             "#7201a8"
            ],
            [
             0.3333333333333333,
             "#9c179e"
            ],
            [
             0.4444444444444444,
             "#bd3786"
            ],
            [
             0.5555555555555556,
             "#d8576b"
            ],
            [
             0.6666666666666666,
             "#ed7953"
            ],
            [
             0.7777777777777778,
             "#fb9f3a"
            ],
            [
             0.8888888888888888,
             "#fdca26"
            ],
            [
             1,
             "#f0f921"
            ]
           ]
          },
          "colorway": [
           "#636efa",
           "#EF553B",
           "#00cc96",
           "#ab63fa",
           "#FFA15A",
           "#19d3f3",
           "#FF6692",
           "#B6E880",
           "#FF97FF",
           "#FECB52"
          ],
          "font": {
           "color": "#f2f5fa"
          },
          "geo": {
           "bgcolor": "rgb(17,17,17)",
           "lakecolor": "rgb(17,17,17)",
           "landcolor": "rgb(17,17,17)",
           "showlakes": true,
           "showland": true,
           "subunitcolor": "#506784"
          },
          "hoverlabel": {
           "align": "left"
          },
          "hovermode": "closest",
          "mapbox": {
           "style": "dark"
          },
          "paper_bgcolor": "rgb(17,17,17)",
          "plot_bgcolor": "rgb(17,17,17)",
          "polar": {
           "angularaxis": {
            "gridcolor": "#506784",
            "linecolor": "#506784",
            "ticks": ""
           },
           "bgcolor": "rgb(17,17,17)",
           "radialaxis": {
            "gridcolor": "#506784",
            "linecolor": "#506784",
            "ticks": ""
           }
          },
          "scene": {
           "xaxis": {
            "backgroundcolor": "rgb(17,17,17)",
            "gridcolor": "#506784",
            "gridwidth": 2,
            "linecolor": "#506784",
            "showbackground": true,
            "ticks": "",
            "zerolinecolor": "#C8D4E3"
           },
           "yaxis": {
            "backgroundcolor": "rgb(17,17,17)",
            "gridcolor": "#506784",
            "gridwidth": 2,
            "linecolor": "#506784",
            "showbackground": true,
            "ticks": "",
            "zerolinecolor": "#C8D4E3"
           },
           "zaxis": {
            "backgroundcolor": "rgb(17,17,17)",
            "gridcolor": "#506784",
            "gridwidth": 2,
            "linecolor": "#506784",
            "showbackground": true,
            "ticks": "",
            "zerolinecolor": "#C8D4E3"
           }
          },
          "shapedefaults": {
           "line": {
            "color": "#f2f5fa"
           }
          },
          "sliderdefaults": {
           "bgcolor": "#C8D4E3",
           "bordercolor": "rgb(17,17,17)",
           "borderwidth": 1,
           "tickwidth": 0
          },
          "ternary": {
           "aaxis": {
            "gridcolor": "#506784",
            "linecolor": "#506784",
            "ticks": ""
           },
           "baxis": {
            "gridcolor": "#506784",
            "linecolor": "#506784",
            "ticks": ""
           },
           "bgcolor": "rgb(17,17,17)",
           "caxis": {
            "gridcolor": "#506784",
            "linecolor": "#506784",
            "ticks": ""
           }
          },
          "title": {
           "x": 0.05
          },
          "updatemenudefaults": {
           "bgcolor": "#506784",
           "borderwidth": 0
          },
          "xaxis": {
           "automargin": true,
           "gridcolor": "#283442",
           "linecolor": "#506784",
           "ticks": "",
           "title": {
            "standoff": 15
           },
           "zerolinecolor": "#283442",
           "zerolinewidth": 2
          },
          "yaxis": {
           "automargin": true,
           "gridcolor": "#283442",
           "linecolor": "#506784",
           "ticks": "",
           "title": {
            "standoff": 15
           },
           "zerolinecolor": "#283442",
           "zerolinewidth": 2
          }
         }
        },
        "title": {
         "font": {
          "color": "white",
          "family": "Arial",
          "size": 24
         },
         "text": "Distribution of X0 Coordinates"
        },
        "xaxis": {
         "anchor": "y",
         "domain": [
          0,
          1
         ],
         "title": {
          "text": "X0 Coordinate"
         }
        },
        "yaxis": {
         "anchor": "x",
         "domain": [
          0,
          1
         ],
         "title": {
          "text": "count"
         }
        }
       }
      }
     },
     "metadata": {},
     "output_type": "display_data"
    },
    {
     "data": {
      "application/vnd.plotly.v1+json": {
       "config": {
        "plotlyServerURL": "https://plot.ly"
       },
       "data": [
        {
         "bingroup": "x",
         "hovertemplate": "Y0 Coordinate=%{x}<br>count=%{y}<extra></extra>",
         "legendgroup": "",
         "marker": {
          "color": "#636efa",
          "pattern": {
           "shape": ""
          }
         },
         "name": "",
         "nbinsx": 50,
         "orientation": "v",
         "showlegend": false,
         "type": "histogram",
         "x": {
          "bdata": "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",
          "dtype": "i2"
         },
         "xaxis": "x",
         "yaxis": "y"
        }
       ],
       "layout": {
        "barmode": "relative",
        "legend": {
         "tracegroupgap": 0
        },
        "template": {
         "data": {
          "bar": [
           {
            "error_x": {
             "color": "#f2f5fa"
            },
            "error_y": {
             "color": "#f2f5fa"
            },
            "marker": {
             "line": {
              "color": "rgb(17,17,17)",
              "width": 0.5
             },
             "pattern": {
              "fillmode": "overlay",
              "size": 10,
              "solidity": 0.2
             }
            },
            "type": "bar"
           }
          ],
          "barpolar": [
           {
            "marker": {
             "line": {
              "color": "rgb(17,17,17)",
              "width": 0.5
             },
             "pattern": {
              "fillmode": "overlay",
              "size": 10,
              "solidity": 0.2
             }
            },
            "type": "barpolar"
           }
          ],
          "carpet": [
           {
            "aaxis": {
             "endlinecolor": "#A2B1C6",
             "gridcolor": "#506784",
             "linecolor": "#506784",
             "minorgridcolor": "#506784",
             "startlinecolor": "#A2B1C6"
            },
            "baxis": {
             "endlinecolor": "#A2B1C6",
             "gridcolor": "#506784",
             "linecolor": "#506784",
             "minorgridcolor": "#506784",
             "startlinecolor": "#A2B1C6"
            },
            "type": "carpet"
           }
          ],
          "choropleth": [
           {
            "colorbar": {
             "outlinewidth": 0,
             "ticks": ""
            },
            "type": "choropleth"
           }
          ],
          "contour": [
           {
            "colorbar": {
             "outlinewidth": 0,
             "ticks": ""
            },
            "colorscale": [
             [
              0,
              "#0d0887"
             ],
             [
              0.1111111111111111,
              "#46039f"
             ],
             [
              0.2222222222222222,
              "#7201a8"
             ],
             [
              0.3333333333333333,
              "#9c179e"
             ],
             [
              0.4444444444444444,
              "#bd3786"
             ],
             [
              0.5555555555555556,
              "#d8576b"
             ],
             [
              0.6666666666666666,
              "#ed7953"
             ],
             [
              0.7777777777777778,
              "#fb9f3a"
             ],
             [
              0.8888888888888888,
              "#fdca26"
             ],
             [
              1,
              "#f0f921"
             ]
            ],
            "type": "contour"
           }
          ],
          "contourcarpet": [
           {
            "colorbar": {
             "outlinewidth": 0,
             "ticks": ""
            },
            "type": "contourcarpet"
           }
          ],
          "heatmap": [
           {
            "colorbar": {
             "outlinewidth": 0,
             "ticks": ""
            },
            "colorscale": [
             [
              0,
              "#0d0887"
             ],
             [
              0.1111111111111111,
              "#46039f"
             ],
             [
              0.2222222222222222,
              "#7201a8"
             ],
             [
              0.3333333333333333,
              "#9c179e"
             ],
             [
              0.4444444444444444,
              "#bd3786"
             ],
             [
              0.5555555555555556,
              "#d8576b"
             ],
             [
              0.6666666666666666,
              "#ed7953"
             ],
             [
              0.7777777777777778,
              "#fb9f3a"
             ],
             [
              0.8888888888888888,
              "#fdca26"
             ],
             [
              1,
              "#f0f921"
             ]
            ],
            "type": "heatmap"
           }
          ],
          "histogram": [
           {
            "marker": {
             "pattern": {
              "fillmode": "overlay",
              "size": 10,
              "solidity": 0.2
             }
            },
            "type": "histogram"
           }
          ],
          "histogram2d": [
           {
            "colorbar": {
             "outlinewidth": 0,
             "ticks": ""
            },
            "colorscale": [
             [
              0,
              "#0d0887"
             ],
             [
              0.1111111111111111,
              "#46039f"
             ],
             [
              0.2222222222222222,
              "#7201a8"
             ],
             [
              0.3333333333333333,
              "#9c179e"
             ],
             [
              0.4444444444444444,
              "#bd3786"
             ],
             [
              0.5555555555555556,
              "#d8576b"
             ],
             [
              0.6666666666666666,
              "#ed7953"
             ],
             [
              0.7777777777777778,
              "#fb9f3a"
             ],
             [
              0.8888888888888888,
              "#fdca26"
             ],
             [
              1,
              "#f0f921"
             ]
            ],
            "type": "histogram2d"
           }
          ],
          "histogram2dcontour": [
           {
            "colorbar": {
             "outlinewidth": 0,
             "ticks": ""
            },
            "colorscale": [
             [
              0,
              "#0d0887"
             ],
             [
              0.1111111111111111,
              "#46039f"
             ],
             [
              0.2222222222222222,
              "#7201a8"
             ],
             [
              0.3333333333333333,
              "#9c179e"
             ],
             [
              0.4444444444444444,
              "#bd3786"
             ],
             [
              0.5555555555555556,
              "#d8576b"
             ],
             [
              0.6666666666666666,
              "#ed7953"
             ],
             [
              0.7777777777777778,
              "#fb9f3a"
             ],
             [
              0.8888888888888888,
              "#fdca26"
             ],
             [
              1,
              "#f0f921"
             ]
            ],
            "type": "histogram2dcontour"
           }
          ],
          "mesh3d": [
           {
            "colorbar": {
             "outlinewidth": 0,
             "ticks": ""
            },
            "type": "mesh3d"
           }
          ],
          "parcoords": [
           {
            "line": {
             "colorbar": {
              "outlinewidth": 0,
              "ticks": ""
             }
            },
            "type": "parcoords"
           }
          ],
          "pie": [
           {
            "automargin": true,
            "type": "pie"
           }
          ],
          "scatter": [
           {
            "marker": {
             "line": {
              "color": "#283442"
             }
            },
            "type": "scatter"
           }
          ],
          "scatter3d": [
           {
            "line": {
             "colorbar": {
              "outlinewidth": 0,
              "ticks": ""
             }
            },
            "marker": {
             "colorbar": {
              "outlinewidth": 0,
              "ticks": ""
             }
            },
            "type": "scatter3d"
           }
          ],
          "scattercarpet": [
           {
            "marker": {
             "colorbar": {
              "outlinewidth": 0,
              "ticks": ""
             }
            },
            "type": "scattercarpet"
           }
          ],
          "scattergeo": [
           {
            "marker": {
             "colorbar": {
              "outlinewidth": 0,
              "ticks": ""
             }
            },
            "type": "scattergeo"
           }
          ],
          "scattergl": [
           {
            "marker": {
             "line": {
              "color": "#283442"
             }
            },
            "type": "scattergl"
           }
          ],
          "scattermap": [
           {
            "marker": {
             "colorbar": {
              "outlinewidth": 0,
              "ticks": ""
             }
            },
            "type": "scattermap"
           }
          ],
          "scattermapbox": [
           {
            "marker": {
             "colorbar": {
              "outlinewidth": 0,
              "ticks": ""
             }
            },
            "type": "scattermapbox"
           }
          ],
          "scatterpolar": [
           {
            "marker": {
             "colorbar": {
              "outlinewidth": 0,
              "ticks": ""
             }
            },
            "type": "scatterpolar"
           }
          ],
          "scatterpolargl": [
           {
            "marker": {
             "colorbar": {
              "outlinewidth": 0,
              "ticks": ""
             }
            },
            "type": "scatterpolargl"
           }
          ],
          "scatterternary": [
           {
            "marker": {
             "colorbar": {
              "outlinewidth": 0,
              "ticks": ""
             }
            },
            "type": "scatterternary"
           }
          ],
          "surface": [
           {
            "colorbar": {
             "outlinewidth": 0,
             "ticks": ""
            },
            "colorscale": [
             [
              0,
              "#0d0887"
             ],
             [
              0.1111111111111111,
              "#46039f"
             ],
             [
              0.2222222222222222,
              "#7201a8"
             ],
             [
              0.3333333333333333,
              "#9c179e"
             ],
             [
              0.4444444444444444,
              "#bd3786"
             ],
             [
              0.5555555555555556,
              "#d8576b"
             ],
             [
              0.6666666666666666,
              "#ed7953"
             ],
             [
              0.7777777777777778,
              "#fb9f3a"
             ],
             [
              0.8888888888888888,
              "#fdca26"
             ],
             [
              1,
              "#f0f921"
             ]
            ],
            "type": "surface"
           }
          ],
          "table": [
           {
            "cells": {
             "fill": {
              "color": "#506784"
             },
             "line": {
              "color": "rgb(17,17,17)"
             }
            },
            "header": {
             "fill": {
              "color": "#2a3f5f"
             },
             "line": {
              "color": "rgb(17,17,17)"
             }
            },
            "type": "table"
           }
          ]
         },
         "layout": {
          "annotationdefaults": {
           "arrowcolor": "#f2f5fa",
           "arrowhead": 0,
           "arrowwidth": 1
          },
          "autotypenumbers": "strict",
          "coloraxis": {
           "colorbar": {
            "outlinewidth": 0,
            "ticks": ""
           }
          },
          "colorscale": {
           "diverging": [
            [
             0,
             "#8e0152"
            ],
            [
             0.1,
             "#c51b7d"
            ],
            [
             0.2,
             "#de77ae"
            ],
            [
             0.3,
             "#f1b6da"
            ],
            [
             0.4,
             "#fde0ef"
            ],
            [
             0.5,
             "#f7f7f7"
            ],
            [
             0.6,
             "#e6f5d0"
            ],
            [
             0.7,
             "#b8e186"
            ],
            [
             0.8,
             "#7fbc41"
            ],
            [
             0.9,
             "#4d9221"
            ],
            [
             1,
             "#276419"
            ]
           ],
           "sequential": [
            [
             0,
             "#0d0887"
            ],
            [
             0.1111111111111111,
             "#46039f"
            ],
            [
             0.2222222222222222,
             "#7201a8"
            ],
            [
             0.3333333333333333,
             "#9c179e"
            ],
            [
             0.4444444444444444,
             "#bd3786"
            ],
            [
             0.5555555555555556,
             "#d8576b"
            ],
            [
             0.6666666666666666,
             "#ed7953"
            ],
            [
             0.7777777777777778,
             "#fb9f3a"
            ],
            [
             0.8888888888888888,
             "#fdca26"
            ],
            [
             1,
             "#f0f921"
            ]
           ],
           "sequentialminus": [
            [
             0,
             "#0d0887"
            ],
            [
             0.1111111111111111,
             "#46039f"
            ],
            [
             0.2222222222222222,
             "#7201a8"
            ],
            [
             0.3333333333333333,
             "#9c179e"
            ],
            [
             0.4444444444444444,
             "#bd3786"
            ],
            [
             0.5555555555555556,
             "#d8576b"
            ],
            [
             0.6666666666666666,
             "#ed7953"
            ],
            [
             0.7777777777777778,
             "#fb9f3a"
            ],
            [
             0.8888888888888888,
             "#fdca26"
            ],
            [
             1,
             "#f0f921"
            ]
           ]
          },
          "colorway": [
           "#636efa",
           "#EF553B",
           "#00cc96",
           "#ab63fa",
           "#FFA15A",
           "#19d3f3",
           "#FF6692",
           "#B6E880",
           "#FF97FF",
           "#FECB52"
          ],
          "font": {
           "color": "#f2f5fa"
          },
          "geo": {
           "bgcolor": "rgb(17,17,17)",
           "lakecolor": "rgb(17,17,17)",
           "landcolor": "rgb(17,17,17)",
           "showlakes": true,
           "showland": true,
           "subunitcolor": "#506784"
          },
          "hoverlabel": {
           "align": "left"
          },
          "hovermode": "closest",
          "mapbox": {
           "style": "dark"
          },
          "paper_bgcolor": "rgb(17,17,17)",
          "plot_bgcolor": "rgb(17,17,17)",
          "polar": {
           "angularaxis": {
            "gridcolor": "#506784",
            "linecolor": "#506784",
            "ticks": ""
           },
           "bgcolor": "rgb(17,17,17)",
           "radialaxis": {
            "gridcolor": "#506784",
            "linecolor": "#506784",
            "ticks": ""
           }
          },
          "scene": {
           "xaxis": {
            "backgroundcolor": "rgb(17,17,17)",
            "gridcolor": "#506784",
            "gridwidth": 2,
            "linecolor": "#506784",
            "showbackground": true,
            "ticks": "",
            "zerolinecolor": "#C8D4E3"
           },
           "yaxis": {
            "backgroundcolor": "rgb(17,17,17)",
            "gridcolor": "#506784",
            "gridwidth": 2,
            "linecolor": "#506784",
            "showbackground": true,
            "ticks": "",
            "zerolinecolor": "#C8D4E3"
           },
           "zaxis": {
            "backgroundcolor": "rgb(17,17,17)",
            "gridcolor": "#506784",
            "gridwidth": 2,
            "linecolor": "#506784",
            "showbackground": true,
            "ticks": "",
            "zerolinecolor": "#C8D4E3"
           }
          },
          "shapedefaults": {
           "line": {
            "color": "#f2f5fa"
           }
          },
          "sliderdefaults": {
           "bgcolor": "#C8D4E3",
           "bordercolor": "rgb(17,17,17)",
           "borderwidth": 1,
           "tickwidth": 0
          },
          "ternary": {
           "aaxis": {
            "gridcolor": "#506784",
            "linecolor": "#506784",
            "ticks": ""
           },
           "baxis": {
            "gridcolor": "#506784",
            "linecolor": "#506784",
            "ticks": ""
           },
           "bgcolor": "rgb(17,17,17)",
           "caxis": {
            "gridcolor": "#506784",
            "linecolor": "#506784",
            "ticks": ""
           }
          },
          "title": {
           "x": 0.05
          },
          "updatemenudefaults": {
           "bgcolor": "#506784",
           "borderwidth": 0
          },
          "xaxis": {
           "automargin": true,
           "gridcolor": "#283442",
           "linecolor": "#506784",
           "ticks": "",
           "title": {
            "standoff": 15
           },
           "zerolinecolor": "#283442",
           "zerolinewidth": 2
          },
          "yaxis": {
           "automargin": true,
           "gridcolor": "#283442",
           "linecolor": "#506784",
           "ticks": "",
           "title": {
            "standoff": 15
           },
           "zerolinecolor": "#283442",
           "zerolinewidth": 2
          }
         }
        },
        "title": {
         "font": {
          "color": "white",
          "family": "Arial",
          "size": 24
         },
         "text": "Distribution of Y0 Coordinates"
        },
        "xaxis": {
         "anchor": "y",
         "domain": [
          0,
          1
         ],
         "title": {
          "text": "Y0 Coordinate"
         }
        },
        "yaxis": {
         "anchor": "x",
         "domain": [
          0,
          1
         ],
         "title": {
          "text": "count"
         }
        }
       }
      }
     },
     "metadata": {},
     "output_type": "display_data"
    },
    {
     "data": {
      "application/vnd.plotly.v1+json": {
       "config": {
        "plotlyServerURL": "https://plot.ly"
       },
       "data": [
        {
         "bingroup": "x",
         "hovertemplate": "X1 Coordinate=%{x}<br>count=%{y}<extra></extra>",
         "legendgroup": "",
         "marker": {
          "color": "#636efa",
          "pattern": {
           "shape": ""
          }
         },
         "name": "",
         "nbinsx": 50,
         "orientation": "v",
         "showlegend": false,
         "type": "histogram",
         "x": {
          "bdata": "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",
          "dtype": "i2"
         },
         "xaxis": "x",
         "yaxis": "y"
        }
       ],
       "layout": {
        "barmode": "relative",
        "legend": {
         "tracegroupgap": 0
        },
        "template": {
         "data": {
          "bar": [
           {
            "error_x": {
             "color": "#f2f5fa"
            },
            "error_y": {
             "color": "#f2f5fa"
            },
            "marker": {
             "line": {
              "color": "rgb(17,17,17)",
              "width": 0.5
             },
             "pattern": {
              "fillmode": "overlay",
              "size": 10,
              "solidity": 0.2
             }
            },
            "type": "bar"
           }
          ],
          "barpolar": [
           {
            "marker": {
             "line": {
              "color": "rgb(17,17,17)",
              "width": 0.5
             },
             "pattern": {
              "fillmode": "overlay",
              "size": 10,
              "solidity": 0.2
             }
            },
            "type": "barpolar"
           }
          ],
          "carpet": [
           {
            "aaxis": {
             "endlinecolor": "#A2B1C6",
             "gridcolor": "#506784",
             "linecolor": "#506784",
             "minorgridcolor": "#506784",
             "startlinecolor": "#A2B1C6"
            },
            "baxis": {
             "endlinecolor": "#A2B1C6",
             "gridcolor": "#506784",
             "linecolor": "#506784",
             "minorgridcolor": "#506784",
             "startlinecolor": "#A2B1C6"
            },
            "type": "carpet"
           }
          ],
          "choropleth": [
           {
            "colorbar": {
             "outlinewidth": 0,
             "ticks": ""
            },
            "type": "choropleth"
           }
          ],
          "contour": [
           {
            "colorbar": {
             "outlinewidth": 0,
             "ticks": ""
            },
            "colorscale": [
             [
              0,
              "#0d0887"
             ],
             [
              0.1111111111111111,
              "#46039f"
             ],
             [
              0.2222222222222222,
              "#7201a8"
             ],
             [
              0.3333333333333333,
              "#9c179e"
             ],
             [
              0.4444444444444444,
              "#bd3786"
             ],
             [
              0.5555555555555556,
              "#d8576b"
             ],
             [
              0.6666666666666666,
              "#ed7953"
             ],
             [
              0.7777777777777778,
              "#fb9f3a"
             ],
             [
              0.8888888888888888,
              "#fdca26"
             ],
             [
              1,
              "#f0f921"
             ]
            ],
            "type": "contour"
           }
          ],
          "contourcarpet": [
           {
            "colorbar": {
             "outlinewidth": 0,
             "ticks": ""
            },
            "type": "contourcarpet"
           }
          ],
          "heatmap": [
           {
            "colorbar": {
             "outlinewidth": 0,
             "ticks": ""
            },
            "colorscale": [
             [
              0,
              "#0d0887"
             ],
             [
              0.1111111111111111,
              "#46039f"
             ],
             [
              0.2222222222222222,
              "#7201a8"
             ],
             [
              0.3333333333333333,
              "#9c179e"
             ],
             [
              0.4444444444444444,
              "#bd3786"
             ],
             [
              0.5555555555555556,
              "#d8576b"
             ],
             [
              0.6666666666666666,
              "#ed7953"
             ],
             [
              0.7777777777777778,
              "#fb9f3a"
             ],
             [
              0.8888888888888888,
              "#fdca26"
             ],
             [
              1,
              "#f0f921"
             ]
            ],
            "type": "heatmap"
           }
          ],
          "histogram": [
           {
            "marker": {
             "pattern": {
              "fillmode": "overlay",
              "size": 10,
              "solidity": 0.2
             }
            },
            "type": "histogram"
           }
          ],
          "histogram2d": [
           {
            "colorbar": {
             "outlinewidth": 0,
             "ticks": ""
            },
            "colorscale": [
             [
              0,
              "#0d0887"
             ],
             [
              0.1111111111111111,
              "#46039f"
             ],
             [
              0.2222222222222222,
              "#7201a8"
             ],
             [
              0.3333333333333333,
              "#9c179e"
             ],
             [
              0.4444444444444444,
              "#bd3786"
             ],
             [
              0.5555555555555556,
              "#d8576b"
             ],
             [
              0.6666666666666666,
              "#ed7953"
             ],
             [
              0.7777777777777778,
              "#fb9f3a"
             ],
             [
              0.8888888888888888,
              "#fdca26"
             ],
             [
              1,
              "#f0f921"
             ]
            ],
            "type": "histogram2d"
           }
          ],
          "histogram2dcontour": [
           {
            "colorbar": {
             "outlinewidth": 0,
             "ticks": ""
            },
            "colorscale": [
             [
              0,
              "#0d0887"
             ],
             [
              0.1111111111111111,
              "#46039f"
             ],
             [
              0.2222222222222222,
              "#7201a8"
             ],
             [
              0.3333333333333333,
              "#9c179e"
             ],
             [
              0.4444444444444444,
              "#bd3786"
             ],
             [
              0.5555555555555556,
              "#d8576b"
             ],
             [
              0.6666666666666666,
              "#ed7953"
             ],
             [
              0.7777777777777778,
              "#fb9f3a"
             ],
             [
              0.8888888888888888,
              "#fdca26"
             ],
             [
              1,
              "#f0f921"
             ]
            ],
            "type": "histogram2dcontour"
           }
          ],
          "mesh3d": [
           {
            "colorbar": {
             "outlinewidth": 0,
             "ticks": ""
            },
            "type": "mesh3d"
           }
          ],
          "parcoords": [
           {
            "line": {
             "colorbar": {
              "outlinewidth": 0,
              "ticks": ""
             }
            },
            "type": "parcoords"
           }
          ],
          "pie": [
           {
            "automargin": true,
            "type": "pie"
           }
          ],
          "scatter": [
           {
            "marker": {
             "line": {
              "color": "#283442"
             }
            },
            "type": "scatter"
           }
          ],
          "scatter3d": [
           {
            "line": {
             "colorbar": {
              "outlinewidth": 0,
              "ticks": ""
             }
            },
            "marker": {
             "colorbar": {
              "outlinewidth": 0,
              "ticks": ""
             }
            },
            "type": "scatter3d"
           }
          ],
          "scattercarpet": [
           {
            "marker": {
             "colorbar": {
              "outlinewidth": 0,
              "ticks": ""
             }
            },
            "type": "scattercarpet"
           }
          ],
          "scattergeo": [
           {
            "marker": {
             "colorbar": {
              "outlinewidth": 0,
              "ticks": ""
             }
            },
            "type": "scattergeo"
           }
          ],
          "scattergl": [
           {
            "marker": {
             "line": {
              "color": "#283442"
             }
            },
            "type": "scattergl"
           }
          ],
          "scattermap": [
           {
            "marker": {
             "colorbar": {
              "outlinewidth": 0,
              "ticks": ""
             }
            },
            "type": "scattermap"
           }
          ],
          "scattermapbox": [
           {
            "marker": {
             "colorbar": {
              "outlinewidth": 0,
              "ticks": ""
             }
            },
            "type": "scattermapbox"
           }
          ],
          "scatterpolar": [
           {
            "marker": {
             "colorbar": {
              "outlinewidth": 0,
              "ticks": ""
             }
            },
            "type": "scatterpolar"
           }
          ],
          "scatterpolargl": [
           {
            "marker": {
             "colorbar": {
              "outlinewidth": 0,
              "ticks": ""
             }
            },
            "type": "scatterpolargl"
           }
          ],
          "scatterternary": [
           {
            "marker": {
             "colorbar": {
              "outlinewidth": 0,
              "ticks": ""
             }
            },
            "type": "scatterternary"
           }
          ],
          "surface": [
           {
            "colorbar": {
             "outlinewidth": 0,
             "ticks": ""
            },
            "colorscale": [
             [
              0,
              "#0d0887"
             ],
             [
              0.1111111111111111,
              "#46039f"
             ],
             [
              0.2222222222222222,
              "#7201a8"
             ],
             [
              0.3333333333333333,
              "#9c179e"
             ],
             [
              0.4444444444444444,
              "#bd3786"
             ],
             [
              0.5555555555555556,
              "#d8576b"
             ],
             [
              0.6666666666666666,
              "#ed7953"
             ],
             [
              0.7777777777777778,
              "#fb9f3a"
             ],
             [
              0.8888888888888888,
              "#fdca26"
             ],
             [
              1,
              "#f0f921"
             ]
            ],
            "type": "surface"
           }
          ],
          "table": [
           {
            "cells": {
             "fill": {
              "color": "#506784"
             },
             "line": {
              "color": "rgb(17,17,17)"
             }
            },
            "header": {
             "fill": {
              "color": "#2a3f5f"
             },
             "line": {
              "color": "rgb(17,17,17)"
             }
            },
            "type": "table"
           }
          ]
         },
         "layout": {
          "annotationdefaults": {
           "arrowcolor": "#f2f5fa",
           "arrowhead": 0,
           "arrowwidth": 1
          },
          "autotypenumbers": "strict",
          "coloraxis": {
           "colorbar": {
            "outlinewidth": 0,
            "ticks": ""
           }
          },
          "colorscale": {
           "diverging": [
            [
             0,
             "#8e0152"
            ],
            [
             0.1,
             "#c51b7d"
            ],
            [
             0.2,
             "#de77ae"
            ],
            [
             0.3,
             "#f1b6da"
            ],
            [
             0.4,
             "#fde0ef"
            ],
            [
             0.5,
             "#f7f7f7"
            ],
            [
             0.6,
             "#e6f5d0"
            ],
            [
             0.7,
             "#b8e186"
            ],
            [
             0.8,
             "#7fbc41"
            ],
            [
             0.9,
             "#4d9221"
            ],
            [
             1,
             "#276419"
            ]
           ],
           "sequential": [
            [
             0,
             "#0d0887"
            ],
            [
             0.1111111111111111,
             "#46039f"
            ],
            [
             0.2222222222222222,
             "#7201a8"
            ],
            [
             0.3333333333333333,
             "#9c179e"
            ],
            [
             0.4444444444444444,
             "#bd3786"
            ],
            [
             0.5555555555555556,
             "#d8576b"
            ],
            [
             0.6666666666666666,
             "#ed7953"
            ],
            [
             0.7777777777777778,
             "#fb9f3a"
            ],
            [
             0.8888888888888888,
             "#fdca26"
            ],
            [
             1,
             "#f0f921"
            ]
           ],
           "sequentialminus": [
            [
             0,
             "#0d0887"
            ],
            [
             0.1111111111111111,
             "#46039f"
            ],
            [
             0.2222222222222222,
             "#7201a8"
            ],
            [
             0.3333333333333333,
             "#9c179e"
            ],
            [
             0.4444444444444444,
             "#bd3786"
            ],
            [
             0.5555555555555556,
             "#d8576b"
            ],
            [
             0.6666666666666666,
             "#ed7953"
            ],
            [
             0.7777777777777778,
             "#fb9f3a"
            ],
            [
             0.8888888888888888,
             "#fdca26"
            ],
            [
             1,
             "#f0f921"
            ]
           ]
          },
          "colorway": [
           "#636efa",
           "#EF553B",
           "#00cc96",
           "#ab63fa",
           "#FFA15A",
           "#19d3f3",
           "#FF6692",
           "#B6E880",
           "#FF97FF",
           "#FECB52"
          ],
          "font": {
           "color": "#f2f5fa"
          },
          "geo": {
           "bgcolor": "rgb(17,17,17)",
           "lakecolor": "rgb(17,17,17)",
           "landcolor": "rgb(17,17,17)",
           "showlakes": true,
           "showland": true,
           "subunitcolor": "#506784"
          },
          "hoverlabel": {
           "align": "left"
          },
          "hovermode": "closest",
          "mapbox": {
           "style": "dark"
          },
          "paper_bgcolor": "rgb(17,17,17)",
          "plot_bgcolor": "rgb(17,17,17)",
          "polar": {
           "angularaxis": {
            "gridcolor": "#506784",
            "linecolor": "#506784",
            "ticks": ""
           },
           "bgcolor": "rgb(17,17,17)",
           "radialaxis": {
            "gridcolor": "#506784",
            "linecolor": "#506784",
            "ticks": ""
           }
          },
          "scene": {
           "xaxis": {
            "backgroundcolor": "rgb(17,17,17)",
            "gridcolor": "#506784",
            "gridwidth": 2,
            "linecolor": "#506784",
            "showbackground": true,
            "ticks": "",
            "zerolinecolor": "#C8D4E3"
           },
           "yaxis": {
            "backgroundcolor": "rgb(17,17,17)",
            "gridcolor": "#506784",
            "gridwidth": 2,
            "linecolor": "#506784",
            "showbackground": true,
            "ticks": "",
            "zerolinecolor": "#C8D4E3"
           },
           "zaxis": {
            "backgroundcolor": "rgb(17,17,17)",
            "gridcolor": "#506784",
            "gridwidth": 2,
            "linecolor": "#506784",
            "showbackground": true,
            "ticks": "",
            "zerolinecolor": "#C8D4E3"
           }
          },
          "shapedefaults": {
           "line": {
            "color": "#f2f5fa"
           }
          },
          "sliderdefaults": {
           "bgcolor": "#C8D4E3",
           "bordercolor": "rgb(17,17,17)",
           "borderwidth": 1,
           "tickwidth": 0
          },
          "ternary": {
           "aaxis": {
            "gridcolor": "#506784",
            "linecolor": "#506784",
            "ticks": ""
           },
           "baxis": {
            "gridcolor": "#506784",
            "linecolor": "#506784",
            "ticks": ""
           },
           "bgcolor": "rgb(17,17,17)",
           "caxis": {
            "gridcolor": "#506784",
            "linecolor": "#506784",
            "ticks": ""
           }
          },
          "title": {
           "x": 0.05
          },
          "updatemenudefaults": {
           "bgcolor": "#506784",
           "borderwidth": 0
          },
          "xaxis": {
           "automargin": true,
           "gridcolor": "#283442",
           "linecolor": "#506784",
           "ticks": "",
           "title": {
            "standoff": 15
           },
           "zerolinecolor": "#283442",
           "zerolinewidth": 2
          },
          "yaxis": {
           "automargin": true,
           "gridcolor": "#283442",
           "linecolor": "#506784",
           "ticks": "",
           "title": {
            "standoff": 15
           },
           "zerolinecolor": "#283442",
           "zerolinewidth": 2
          }
         }
        },
        "title": {
         "font": {
          "color": "white",
          "family": "Arial",
          "size": 24
         },
         "text": "Distribution of X1 Coordinates"
        },
        "xaxis": {
         "anchor": "y",
         "domain": [
          0,
          1
         ],
         "title": {
          "text": "X1 Coordinate"
         }
        },
        "yaxis": {
         "anchor": "x",
         "domain": [
          0,
          1
         ],
         "title": {
          "text": "count"
         }
        }
       }
      }
     },
     "metadata": {},
     "output_type": "display_data"
    },
    {
     "data": {
      "application/vnd.plotly.v1+json": {
       "config": {
        "plotlyServerURL": "https://plot.ly"
       },
       "data": [
        {
         "bingroup": "x",
         "hovertemplate": "Y1 Coordinate=%{x}<br>count=%{y}<extra></extra>",
         "legendgroup": "",
         "marker": {
          "color": "#636efa",
          "pattern": {
           "shape": ""
          }
         },
         "name": "",
         "nbinsx": 50,
         "orientation": "v",
         "showlegend": false,
         "type": "histogram",
         "x": {
          "bdata": "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",
          "dtype": "i2"
         },
         "xaxis": "x",
         "yaxis": "y"
        }
       ],
       "layout": {
        "barmode": "relative",
        "legend": {
         "tracegroupgap": 0
        },
        "template": {
         "data": {
          "bar": [
           {
            "error_x": {
             "color": "#f2f5fa"
            },
            "error_y": {
             "color": "#f2f5fa"
            },
            "marker": {
             "line": {
              "color": "rgb(17,17,17)",
              "width": 0.5
             },
             "pattern": {
              "fillmode": "overlay",
              "size": 10,
              "solidity": 0.2
             }
            },
            "type": "bar"
           }
          ],
          "barpolar": [
           {
            "marker": {
             "line": {
              "color": "rgb(17,17,17)",
              "width": 0.5
             },
             "pattern": {
              "fillmode": "overlay",
              "size": 10,
              "solidity": 0.2
             }
            },
            "type": "barpolar"
           }
          ],
          "carpet": [
           {
            "aaxis": {
             "endlinecolor": "#A2B1C6",
             "gridcolor": "#506784",
             "linecolor": "#506784",
             "minorgridcolor": "#506784",
             "startlinecolor": "#A2B1C6"
            },
            "baxis": {
             "endlinecolor": "#A2B1C6",
             "gridcolor": "#506784",
             "linecolor": "#506784",
             "minorgridcolor": "#506784",
             "startlinecolor": "#A2B1C6"
            },
            "type": "carpet"
           }
          ],
          "choropleth": [
           {
            "colorbar": {
             "outlinewidth": 0,
             "ticks": ""
            },
            "type": "choropleth"
           }
          ],
          "contour": [
           {
            "colorbar": {
             "outlinewidth": 0,
             "ticks": ""
            },
            "colorscale": [
             [
              0,
              "#0d0887"
             ],
             [
              0.1111111111111111,
              "#46039f"
             ],
             [
              0.2222222222222222,
              "#7201a8"
             ],
             [
              0.3333333333333333,
              "#9c179e"
             ],
             [
              0.4444444444444444,
              "#bd3786"
             ],
             [
              0.5555555555555556,
              "#d8576b"
             ],
             [
              0.6666666666666666,
              "#ed7953"
             ],
             [
              0.7777777777777778,
              "#fb9f3a"
             ],
             [
              0.8888888888888888,
              "#fdca26"
             ],
             [
              1,
              "#f0f921"
             ]
            ],
            "type": "contour"
           }
          ],
          "contourcarpet": [
           {
            "colorbar": {
             "outlinewidth": 0,
             "ticks": ""
            },
            "type": "contourcarpet"
           }
          ],
          "heatmap": [
           {
            "colorbar": {
             "outlinewidth": 0,
             "ticks": ""
            },
            "colorscale": [
             [
              0,
              "#0d0887"
             ],
             [
              0.1111111111111111,
              "#46039f"
             ],
             [
              0.2222222222222222,
              "#7201a8"
             ],
             [
              0.3333333333333333,
              "#9c179e"
             ],
             [
              0.4444444444444444,
              "#bd3786"
             ],
             [
              0.5555555555555556,
              "#d8576b"
             ],
             [
              0.6666666666666666,
              "#ed7953"
             ],
             [
              0.7777777777777778,
              "#fb9f3a"
             ],
             [
              0.8888888888888888,
              "#fdca26"
             ],
             [
              1,
              "#f0f921"
             ]
            ],
            "type": "heatmap"
           }
          ],
          "histogram": [
           {
            "marker": {
             "pattern": {
              "fillmode": "overlay",
              "size": 10,
              "solidity": 0.2
             }
            },
            "type": "histogram"
           }
          ],
          "histogram2d": [
           {
            "colorbar": {
             "outlinewidth": 0,
             "ticks": ""
            },
            "colorscale": [
             [
              0,
              "#0d0887"
             ],
             [
              0.1111111111111111,
              "#46039f"
             ],
             [
              0.2222222222222222,
              "#7201a8"
             ],
             [
              0.3333333333333333,
              "#9c179e"
             ],
             [
              0.4444444444444444,
              "#bd3786"
             ],
             [
              0.5555555555555556,
              "#d8576b"
             ],
             [
              0.6666666666666666,
              "#ed7953"
             ],
             [
              0.7777777777777778,
              "#fb9f3a"
             ],
             [
              0.8888888888888888,
              "#fdca26"
             ],
             [
              1,
              "#f0f921"
             ]
            ],
            "type": "histogram2d"
           }
          ],
          "histogram2dcontour": [
           {
            "colorbar": {
             "outlinewidth": 0,
             "ticks": ""
            },
            "colorscale": [
             [
              0,
              "#0d0887"
             ],
             [
              0.1111111111111111,
              "#46039f"
             ],
             [
              0.2222222222222222,
              "#7201a8"
             ],
             [
              0.3333333333333333,
              "#9c179e"
             ],
             [
              0.4444444444444444,
              "#bd3786"
             ],
             [
              0.5555555555555556,
              "#d8576b"
             ],
             [
              0.6666666666666666,
              "#ed7953"
             ],
             [
              0.7777777777777778,
              "#fb9f3a"
             ],
             [
              0.8888888888888888,
              "#fdca26"
             ],
             [
              1,
              "#f0f921"
             ]
            ],
            "type": "histogram2dcontour"
           }
          ],
          "mesh3d": [
           {
            "colorbar": {
             "outlinewidth": 0,
             "ticks": ""
            },
            "type": "mesh3d"
           }
          ],
          "parcoords": [
           {
            "line": {
             "colorbar": {
              "outlinewidth": 0,
              "ticks": ""
             }
            },
            "type": "parcoords"
           }
          ],
          "pie": [
           {
            "automargin": true,
            "type": "pie"
           }
          ],
          "scatter": [
           {
            "marker": {
             "line": {
              "color": "#283442"
             }
            },
            "type": "scatter"
           }
          ],
          "scatter3d": [
           {
            "line": {
             "colorbar": {
              "outlinewidth": 0,
              "ticks": ""
             }
            },
            "marker": {
             "colorbar": {
              "outlinewidth": 0,
              "ticks": ""
             }
            },
            "type": "scatter3d"
           }
          ],
          "scattercarpet": [
           {
            "marker": {
             "colorbar": {
              "outlinewidth": 0,
              "ticks": ""
             }
            },
            "type": "scattercarpet"
           }
          ],
          "scattergeo": [
           {
            "marker": {
             "colorbar": {
              "outlinewidth": 0,
              "ticks": ""
             }
            },
            "type": "scattergeo"
           }
          ],
          "scattergl": [
           {
            "marker": {
             "line": {
              "color": "#283442"
             }
            },
            "type": "scattergl"
           }
          ],
          "scattermap": [
           {
            "marker": {
             "colorbar": {
              "outlinewidth": 0,
              "ticks": ""
             }
            },
            "type": "scattermap"
           }
          ],
          "scattermapbox": [
           {
            "marker": {
             "colorbar": {
              "outlinewidth": 0,
              "ticks": ""
             }
            },
            "type": "scattermapbox"
           }
          ],
          "scatterpolar": [
           {
            "marker": {
             "colorbar": {
              "outlinewidth": 0,
              "ticks": ""
             }
            },
            "type": "scatterpolar"
           }
          ],
          "scatterpolargl": [
           {
            "marker": {
             "colorbar": {
              "outlinewidth": 0,
              "ticks": ""
             }
            },
            "type": "scatterpolargl"
           }
          ],
          "scatterternary": [
           {
            "marker": {
             "colorbar": {
              "outlinewidth": 0,
              "ticks": ""
             }
            },
            "type": "scatterternary"
           }
          ],
          "surface": [
           {
            "colorbar": {
             "outlinewidth": 0,
             "ticks": ""
            },
            "colorscale": [
             [
              0,
              "#0d0887"
             ],
             [
              0.1111111111111111,
              "#46039f"
             ],
             [
              0.2222222222222222,
              "#7201a8"
             ],
             [
              0.3333333333333333,
              "#9c179e"
             ],
             [
              0.4444444444444444,
              "#bd3786"
             ],
             [
              0.5555555555555556,
              "#d8576b"
             ],
             [
              0.6666666666666666,
              "#ed7953"
             ],
             [
              0.7777777777777778,
              "#fb9f3a"
             ],
             [
              0.8888888888888888,
              "#fdca26"
             ],
             [
              1,
              "#f0f921"
             ]
            ],
            "type": "surface"
           }
          ],
          "table": [
           {
            "cells": {
             "fill": {
              "color": "#506784"
             },
             "line": {
              "color": "rgb(17,17,17)"
             }
            },
            "header": {
             "fill": {
              "color": "#2a3f5f"
             },
             "line": {
              "color": "rgb(17,17,17)"
             }
            },
            "type": "table"
           }
          ]
         },
         "layout": {
          "annotationdefaults": {
           "arrowcolor": "#f2f5fa",
           "arrowhead": 0,
           "arrowwidth": 1
          },
          "autotypenumbers": "strict",
          "coloraxis": {
           "colorbar": {
            "outlinewidth": 0,
            "ticks": ""
           }
          },
          "colorscale": {
           "diverging": [
            [
             0,
             "#8e0152"
            ],
            [
             0.1,
             "#c51b7d"
            ],
            [
             0.2,
             "#de77ae"
            ],
            [
             0.3,
             "#f1b6da"
            ],
            [
             0.4,
             "#fde0ef"
            ],
            [
             0.5,
             "#f7f7f7"
            ],
            [
             0.6,
             "#e6f5d0"
            ],
            [
             0.7,
             "#b8e186"
            ],
            [
             0.8,
             "#7fbc41"
            ],
            [
             0.9,
             "#4d9221"
            ],
            [
             1,
             "#276419"
            ]
           ],
           "sequential": [
            [
             0,
             "#0d0887"
            ],
            [
             0.1111111111111111,
             "#46039f"
            ],
            [
             0.2222222222222222,
             "#7201a8"
            ],
            [
             0.3333333333333333,
             "#9c179e"
            ],
            [
             0.4444444444444444,
             "#bd3786"
            ],
            [
             0.5555555555555556,
             "#d8576b"
            ],
            [
             0.6666666666666666,
             "#ed7953"
            ],
            [
             0.7777777777777778,
             "#fb9f3a"
            ],
            [
             0.8888888888888888,
             "#fdca26"
            ],
            [
             1,
             "#f0f921"
            ]
           ],
           "sequentialminus": [
            [
             0,
             "#0d0887"
            ],
            [
             0.1111111111111111,
             "#46039f"
            ],
            [
             0.2222222222222222,
             "#7201a8"
            ],
            [
             0.3333333333333333,
             "#9c179e"
            ],
            [
             0.4444444444444444,
             "#bd3786"
            ],
            [
             0.5555555555555556,
             "#d8576b"
            ],
            [
             0.6666666666666666,
             "#ed7953"
            ],
            [
             0.7777777777777778,
             "#fb9f3a"
            ],
            [
             0.8888888888888888,
             "#fdca26"
            ],
            [
             1,
             "#f0f921"
            ]
           ]
          },
          "colorway": [
           "#636efa",
           "#EF553B",
           "#00cc96",
           "#ab63fa",
           "#FFA15A",
           "#19d3f3",
           "#FF6692",
           "#B6E880",
           "#FF97FF",
           "#FECB52"
          ],
          "font": {
           "color": "#f2f5fa"
          },
          "geo": {
           "bgcolor": "rgb(17,17,17)",
           "lakecolor": "rgb(17,17,17)",
           "landcolor": "rgb(17,17,17)",
           "showlakes": true,
           "showland": true,
           "subunitcolor": "#506784"
          },
          "hoverlabel": {
           "align": "left"
          },
          "hovermode": "closest",
          "mapbox": {
           "style": "dark"
          },
          "paper_bgcolor": "rgb(17,17,17)",
          "plot_bgcolor": "rgb(17,17,17)",
          "polar": {
           "angularaxis": {
            "gridcolor": "#506784",
            "linecolor": "#506784",
            "ticks": ""
           },
           "bgcolor": "rgb(17,17,17)",
           "radialaxis": {
            "gridcolor": "#506784",
            "linecolor": "#506784",
            "ticks": ""
           }
          },
          "scene": {
           "xaxis": {
            "backgroundcolor": "rgb(17,17,17)",
            "gridcolor": "#506784",
            "gridwidth": 2,
            "linecolor": "#506784",
            "showbackground": true,
            "ticks": "",
            "zerolinecolor": "#C8D4E3"
           },
           "yaxis": {
            "backgroundcolor": "rgb(17,17,17)",
            "gridcolor": "#506784",
            "gridwidth": 2,
            "linecolor": "#506784",
            "showbackground": true,
            "ticks": "",
            "zerolinecolor": "#C8D4E3"
           },
           "zaxis": {
            "backgroundcolor": "rgb(17,17,17)",
            "gridcolor": "#506784",
            "gridwidth": 2,
            "linecolor": "#506784",
            "showbackground": true,
            "ticks": "",
            "zerolinecolor": "#C8D4E3"
           }
          },
          "shapedefaults": {
           "line": {
            "color": "#f2f5fa"
           }
          },
          "sliderdefaults": {
           "bgcolor": "#C8D4E3",
           "bordercolor": "rgb(17,17,17)",
           "borderwidth": 1,
           "tickwidth": 0
          },
          "ternary": {
           "aaxis": {
            "gridcolor": "#506784",
            "linecolor": "#506784",
            "ticks": ""
           },
           "baxis": {
            "gridcolor": "#506784",
            "linecolor": "#506784",
            "ticks": ""
           },
           "bgcolor": "rgb(17,17,17)",
           "caxis": {
            "gridcolor": "#506784",
            "linecolor": "#506784",
            "ticks": ""
           }
          },
          "title": {
           "x": 0.05
          },
          "updatemenudefaults": {
           "bgcolor": "#506784",
           "borderwidth": 0
          },
          "xaxis": {
           "automargin": true,
           "gridcolor": "#283442",
           "linecolor": "#506784",
           "ticks": "",
           "title": {
            "standoff": 15
           },
           "zerolinecolor": "#283442",
           "zerolinewidth": 2
          },
          "yaxis": {
           "automargin": true,
           "gridcolor": "#283442",
           "linecolor": "#506784",
           "ticks": "",
           "title": {
            "standoff": 15
           },
           "zerolinecolor": "#283442",
           "zerolinewidth": 2
          }
         }
        },
        "title": {
         "font": {
          "color": "white",
          "family": "Arial",
          "size": 24
         },
         "text": "Distribution of Y1 Coordinates"
        },
        "xaxis": {
         "anchor": "y",
         "domain": [
          0,
          1
         ],
         "title": {
          "text": "Y1 Coordinate"
         }
        },
        "yaxis": {
         "anchor": "x",
         "domain": [
          0,
          1
         ],
         "title": {
          "text": "count"
         }
        }
       }
      }
     },
     "metadata": {},
     "output_type": "display_data"
    }
   ],
   "source": [
    "# Plot distribution of bounding box coordinates using Plotly\n",
    "fig = px.histogram(faces_df, x='x0', nbins=50, title='Distribution of X0 Coordinates',\n",
    "                   labels={'x0': 'X0 Coordinate'}, template='plotly_dark')\n",
    "fig.update_layout(title_font=dict(size=24, family='Arial', color='white'))\n",
    "fig.show()\n",
    "\n",
    "fig = px.histogram(faces_df, x='y0', nbins=50, title='Distribution of Y0 Coordinates',\n",
    "                   labels={'y0': 'Y0 Coordinate'}, template='plotly_dark')\n",
    "fig.update_layout(title_font=dict(size=24, family='Arial', color='white'))\n",
    "fig.show()\n",
    "\n",
    "fig = px.histogram(faces_df, x='x1', nbins=50, title='Distribution of X1 Coordinates',\n",
    "                   labels={'x1': 'X1 Coordinate'}, template='plotly_dark')\n",
    "fig.update_layout(title_font=dict(size=24, family='Arial', color='white'))\n",
    "fig.show()\n",
    "\n",
    "fig = px.histogram(faces_df, x='y1', nbins=50, title='Distribution of Y1 Coordinates',\n",
    "                   labels={'y1': 'Y1 Coordinate'}, template='plotly_dark')\n",
    "fig.update_layout(title_font=dict(size=24, family='Arial', color='white'))\n",
    "fig.show()"
   ]
  },
  {
   "cell_type": "code",
   "execution_count": 8,
   "metadata": {},
   "outputs": [],
   "source": [
    "# Convert bounding box coordinates to YOLO format (normalized x_center, y_center, width, height)\n",
    "def convert_to_yolo(row):\n",
    "    dw = 1. / row['width']\n",
    "    dh = 1. / row['height']\n",
    "    x = (row['x0'] + row['x1']) / 2.0\n",
    "    y = (row['y0'] + row['y1']) / 2.0\n",
    "    w = row['x1'] - row['x0']\n",
    "    h = row['y1'] - row['y0']\n",
    "    x = x * dw\n",
    "    w = w * dw\n",
    "    y = y * dh\n",
    "    h = h * dh\n",
    "    return x, y, w, h\n",
    "\n",
    "faces_df[['x', 'y', 'w', 'h']] = faces_df.apply(convert_to_yolo, axis=1, result_type='expand')"
   ]
  },
  {
   "cell_type": "code",
   "execution_count": 9,
   "metadata": {},
   "outputs": [],
   "source": [
    "# Split the dataset into train and validation sets\n",
    "train_df, val_df = train_test_split(faces_df, test_size=0.2, random_state=42)"
   ]
  },
  {
   "cell_type": "code",
   "execution_count": 10,
   "metadata": {},
   "outputs": [],
   "source": [
    "# Create YOLO annotation files\n",
    "annotations_dir = os.path.join(output_dir, 'annotations')\n",
    "os.makedirs(annotations_dir, exist_ok=True)\n",
    "\n",
    "for idx, row in faces_df.iterrows():\n",
    "    annotation_path = os.path.join(annotations_dir, row['image_name'].replace('.jpg', '.txt'))\n",
    "    with open(annotation_path, 'w') as f:\n",
    "        f.write(f\"0 {row['x']} {row['y']} {row['w']} {row['h']}\\n\")"
   ]
  },
  {
   "cell_type": "code",
   "execution_count": 11,
   "metadata": {},
   "outputs": [],
   "source": [
    "# Function to create YOLO annotation files\n",
    "def create_annotations(df, annotations_dir):\n",
    "    os.makedirs(annotations_dir, exist_ok=True)\n",
    "    for idx, row in df.iterrows():\n",
    "        annotation_path = os.path.join(annotations_dir, row['image_name'].replace('.jpg', '.txt'))\n",
    "        with open(annotation_path, 'w') as f:\n",
    "            f.write(f\"0 {row['x']} {row['y']} {row['w']} {row['h']}\\n\")\n",
    "\n",
    "# Create YOLO annotation files for train and validation sets\n",
    "train_annotations_dir = os.path.join(output_dir, 'train', 'labels')\n",
    "val_annotations_dir = os.path.join(output_dir, 'val', 'labels')\n",
    "\n",
    "create_annotations(train_df, train_annotations_dir)\n",
    "create_annotations(val_df, val_annotations_dir)"
   ]
  },
  {
   "cell_type": "code",
   "execution_count": 12,
   "metadata": {},
   "outputs": [
    {
     "name": "stdout",
     "output_type": "stream",
     "text": [
      "Train annotations sample:\n",
      "['00000003.txt', '00000004.txt', '00000006.txt', '00000012.txt', '00000015.txt']\n",
      "Validation annotations sample:\n",
      "['00000005.txt', '00000008.txt', '00000011.txt', '00000018.txt', '00000023.txt']\n"
     ]
    }
   ],
   "source": [
    "# Image preprocessing\n",
    "def preprocess_images(image_list, source_dir, target_dir):\n",
    "    os.makedirs(target_dir, exist_ok=True)\n",
    "    for img_name in image_list:\n",
    "        img_path = os.path.join(source_dir, img_name)\n",
    "        img = cv2.imread(img_path)\n",
    "        if img is not None:\n",
    "            target_path = os.path.join(target_dir, img_name)\n",
    "            cv2.imwrite(target_path, img)\n",
    "\n",
    "train_images_dir = os.path.join(output_dir, 'train', 'images')\n",
    "val_images_dir = os.path.join(output_dir, 'val', 'images')\n",
    "\n",
    "preprocess_images(train_df['image_name'].tolist(), image_dir, train_images_dir)\n",
    "preprocess_images(val_df['image_name'].tolist(), image_dir, val_images_dir)\n",
    "\n",
    "# Verify annotation files\n",
    "print(\"Train annotations sample:\")\n",
    "print(os.listdir(train_annotations_dir)[:5])\n",
    "\n",
    "print(\"Validation annotations sample:\")\n",
    "print(os.listdir(val_annotations_dir)[:5])"
   ]
  },
  {
   "cell_type": "code",
   "execution_count": 13,
   "metadata": {},
   "outputs": [],
   "source": [
    "yolo_model = YOLO('yolov8n.yaml') "
   ]
  },
  {
   "cell_type": "code",
   "execution_count": 14,
   "metadata": {},
   "outputs": [],
   "source": [
    "# Define the data.yaml file content dynamically\n",
    "class_names = ['face']\n",
    "data_yaml_content = f\"\"\"\n",
    "train: {train_images_dir}\n",
    "val: {val_images_dir}\n",
    "nc: {len(class_names)}\n",
    "names: {class_names}\n",
    "\"\"\"\n",
    "\n",
    "# Save the data.yaml file\n",
    "data_yaml_path = os.path.join(output_dir, 'data.yaml')\n",
    "with open(data_yaml_path, 'w') as f:\n",
    "    f.write(data_yaml_content)"
   ]
  },
  {
   "cell_type": "code",
   "execution_count": 15,
   "metadata": {},
   "outputs": [
    {
     "name": "stdout",
     "output_type": "stream",
     "text": [
      "New https://pypi.org/project/ultralytics/8.3.78 available  Update with 'pip install -U ultralytics'\n",
      "Ultralytics 8.3.65  Python-3.9.21 torch-2.5.1+cu118 CUDA:0 (NVIDIA GeForce GTX 1660 SUPER, 6144MiB)\n",
      "\u001b[34m\u001b[1mengine\\trainer: \u001b[0mtask=detect, mode=train, model=yolov8n.yaml, data=D:\\code_study\\ML_CODE\\kaggle\\ObjectDetection\\Human Faces Object Detection\\Human Faces (Object Detection) - YOLOv8\\output\\data.yaml, epochs=50, time=None, patience=100, batch=16, imgsz=640, save=True, save_period=-1, cache=False, device=None, workers=8, project=None, name=train5, exist_ok=False, pretrained=True, optimizer=auto, verbose=True, seed=0, deterministic=True, single_cls=False, rect=False, cos_lr=False, close_mosaic=10, resume=False, amp=True, fraction=1.0, profile=False, freeze=None, multi_scale=False, overlap_mask=True, mask_ratio=4, dropout=0.0, val=True, split=val, save_json=False, save_hybrid=False, conf=None, iou=0.7, max_det=300, half=False, dnn=False, plots=True, source=None, vid_stride=1, stream_buffer=False, visualize=False, augment=False, agnostic_nms=False, classes=None, retina_masks=False, embed=None, show=False, save_frames=False, save_txt=False, save_conf=False, save_crop=False, show_labels=True, show_conf=True, show_boxes=True, line_width=None, format=torchscript, keras=False, optimize=False, int8=False, dynamic=False, simplify=True, opset=None, workspace=None, nms=False, lr0=0.01, lrf=0.01, momentum=0.937, weight_decay=0.0005, warmup_epochs=3.0, warmup_momentum=0.8, warmup_bias_lr=0.1, box=7.5, cls=0.5, dfl=1.5, pose=12.0, kobj=1.0, nbs=64, hsv_h=0.015, hsv_s=0.7, hsv_v=0.4, degrees=0.0, translate=0.1, scale=0.5, shear=0.0, perspective=0.0, flipud=0.0, fliplr=0.5, bgr=0.0, mosaic=1.0, mixup=0.0, copy_paste=0.0, copy_paste_mode=flip, auto_augment=randaugment, erasing=0.4, crop_fraction=1.0, cfg=None, tracker=botsort.yaml, save_dir=runs\\detect\\train5\n",
      "Overriding model.yaml nc=80 with nc=1\n",
      "\n",
      "                   from  n    params  module                                       arguments                     \n",
      "  0                  -1  1       464  ultralytics.nn.modules.conv.Conv             [3, 16, 3, 2]                 \n",
      "  1                  -1  1      4672  ultralytics.nn.modules.conv.Conv             [16, 32, 3, 2]                \n",
      "  2                  -1  1      7360  ultralytics.nn.modules.block.C2f             [32, 32, 1, True]             \n",
      "  3                  -1  1     18560  ultralytics.nn.modules.conv.Conv             [32, 64, 3, 2]                \n",
      "  4                  -1  2     49664  ultralytics.nn.modules.block.C2f             [64, 64, 2, True]             \n",
      "  5                  -1  1     73984  ultralytics.nn.modules.conv.Conv             [64, 128, 3, 2]               \n",
      "  6                  -1  2    197632  ultralytics.nn.modules.block.C2f             [128, 128, 2, True]           \n",
      "  7                  -1  1    295424  ultralytics.nn.modules.conv.Conv             [128, 256, 3, 2]              \n",
      "  8                  -1  1    460288  ultralytics.nn.modules.block.C2f             [256, 256, 1, True]           \n",
      "  9                  -1  1    164608  ultralytics.nn.modules.block.SPPF            [256, 256, 5]                 \n",
      " 10                  -1  1         0  torch.nn.modules.upsampling.Upsample         [None, 2, 'nearest']          \n",
      " 11             [-1, 6]  1         0  ultralytics.nn.modules.conv.Concat           [1]                           \n",
      " 12                  -1  1    148224  ultralytics.nn.modules.block.C2f             [384, 128, 1]                 \n",
      " 13                  -1  1         0  torch.nn.modules.upsampling.Upsample         [None, 2, 'nearest']          \n",
      " 14             [-1, 4]  1         0  ultralytics.nn.modules.conv.Concat           [1]                           \n",
      " 15                  -1  1     37248  ultralytics.nn.modules.block.C2f             [192, 64, 1]                  \n",
      " 16                  -1  1     36992  ultralytics.nn.modules.conv.Conv             [64, 64, 3, 2]                \n",
      " 17            [-1, 12]  1         0  ultralytics.nn.modules.conv.Concat           [1]                           \n",
      " 18                  -1  1    123648  ultralytics.nn.modules.block.C2f             [192, 128, 1]                 \n",
      " 19                  -1  1    147712  ultralytics.nn.modules.conv.Conv             [128, 128, 3, 2]              \n",
      " 20             [-1, 9]  1         0  ultralytics.nn.modules.conv.Concat           [1]                           \n",
      " 21                  -1  1    493056  ultralytics.nn.modules.block.C2f             [384, 256, 1]                 \n",
      " 22        [15, 18, 21]  1    751507  ultralytics.nn.modules.head.Detect           [1, [64, 128, 256]]           \n",
      "YOLOv8n summary: 225 layers, 3,011,043 parameters, 3,011,027 gradients, 8.2 GFLOPs\n",
      "\n",
      "Freezing layer 'model.22.dfl.conv.weight'\n",
      "\u001b[34m\u001b[1mAMP: \u001b[0mchecks failed . AMP training on NVIDIA GeForce GTX 1660 SUPER GPU may cause NaN losses or zero-mAP results, so AMP will be disabled during training.\n"
     ]
    },
    {
     "name": "stderr",
     "output_type": "stream",
     "text": [
      "\u001b[34m\u001b[1mtrain: \u001b[0mScanning D:\\code_study\\ML_CODE\\kaggle\\ObjectDetection\\Human Faces Object Detection\\Human Faces (Object Detection) - YOLOv8\\output\\train\\labels.cache... 1852 images, 0 backgrounds, 0 corrupt: 100%|██████████| 1852/1852 [00:00<?, ?it/s]\n",
      "\u001b[34m\u001b[1mval: \u001b[0mScanning D:\\code_study\\ML_CODE\\kaggle\\ObjectDetection\\Human Faces Object Detection\\Human Faces (Object Detection) - YOLOv8\\output\\val\\labels.cache... 585 images, 0 backgrounds, 0 corrupt: 100%|██████████| 585/585 [00:00<?, ?it/s]\n"
     ]
    },
    {
     "name": "stdout",
     "output_type": "stream",
     "text": [
      "Plotting labels to runs\\detect\\train5\\labels.jpg... \n",
      "\u001b[34m\u001b[1moptimizer:\u001b[0m 'optimizer=auto' found, ignoring 'lr0=0.01' and 'momentum=0.937' and determining best 'optimizer', 'lr0' and 'momentum' automatically... \n",
      "\u001b[34m\u001b[1moptimizer:\u001b[0m AdamW(lr=0.002, momentum=0.9) with parameter groups 57 weight(decay=0.0), 64 weight(decay=0.0005), 63 bias(decay=0.0)\n",
      "Image sizes 640 train, 640 val\n",
      "Using 8 dataloader workers\n",
      "Logging results to \u001b[1mruns\\detect\\train5\u001b[0m\n",
      "Starting training for 50 epochs...\n",
      "\n",
      "      Epoch    GPU_mem   box_loss   cls_loss   dfl_loss  Instances       Size\n"
     ]
    },
    {
     "name": "stderr",
     "output_type": "stream",
     "text": [
      "       1/50      3.84G      3.126      3.923      3.896         21        640: 100%|██████████| 116/116 [00:29<00:00,  3.91it/s]\n",
      "                 Class     Images  Instances      Box(P          R      mAP50  mAP50-95): 100%|██████████| 19/19 [00:03<00:00,  5.52it/s]"
     ]
    },
    {
     "name": "stdout",
     "output_type": "stream",
     "text": [
      "                   all        585        585    0.00346      0.725     0.0134    0.00401\n"
     ]
    },
    {
     "name": "stderr",
     "output_type": "stream",
     "text": [
      "\n"
     ]
    },
    {
     "name": "stdout",
     "output_type": "stream",
     "text": [
      "\n",
      "      Epoch    GPU_mem   box_loss   cls_loss   dfl_loss  Instances       Size\n"
     ]
    },
    {
     "name": "stderr",
     "output_type": "stream",
     "text": [
      "       2/50      3.85G      2.697      2.955      3.127         27        640: 100%|██████████| 116/116 [00:28<00:00,  4.00it/s]\n",
      "                 Class     Images  Instances      Box(P          R      mAP50  mAP50-95): 100%|██████████| 19/19 [00:03<00:00,  5.16it/s]"
     ]
    },
    {
     "name": "stdout",
     "output_type": "stream",
     "text": [
      "                   all        585        585      0.211      0.359      0.139     0.0501\n"
     ]
    },
    {
     "name": "stderr",
     "output_type": "stream",
     "text": [
      "\n"
     ]
    },
    {
     "name": "stdout",
     "output_type": "stream",
     "text": [
      "\n",
      "      Epoch    GPU_mem   box_loss   cls_loss   dfl_loss  Instances       Size\n"
     ]
    },
    {
     "name": "stderr",
     "output_type": "stream",
     "text": [
      "       3/50      3.85G      2.308      2.459       2.77         24        640: 100%|██████████| 116/116 [00:28<00:00,  4.03it/s]\n",
      "                 Class     Images  Instances      Box(P          R      mAP50  mAP50-95): 100%|██████████| 19/19 [00:03<00:00,  5.13it/s]"
     ]
    },
    {
     "name": "stdout",
     "output_type": "stream",
     "text": [
      "                   all        585        585       0.37      0.387      0.321      0.133\n"
     ]
    },
    {
     "name": "stderr",
     "output_type": "stream",
     "text": [
      "\n"
     ]
    },
    {
     "name": "stdout",
     "output_type": "stream",
     "text": [
      "\n",
      "      Epoch    GPU_mem   box_loss   cls_loss   dfl_loss  Instances       Size\n"
     ]
    },
    {
     "name": "stderr",
     "output_type": "stream",
     "text": [
      "       4/50      3.85G      2.067      2.178       2.54         21        640: 100%|██████████| 116/116 [00:28<00:00,  4.05it/s]\n",
      "                 Class     Images  Instances      Box(P          R      mAP50  mAP50-95): 100%|██████████| 19/19 [00:03<00:00,  5.49it/s]"
     ]
    },
    {
     "name": "stdout",
     "output_type": "stream",
     "text": [
      "                   all        585        585      0.291      0.501      0.301      0.136\n"
     ]
    },
    {
     "name": "stderr",
     "output_type": "stream",
     "text": [
      "\n"
     ]
    },
    {
     "name": "stdout",
     "output_type": "stream",
     "text": [
      "\n",
      "      Epoch    GPU_mem   box_loss   cls_loss   dfl_loss  Instances       Size\n"
     ]
    },
    {
     "name": "stderr",
     "output_type": "stream",
     "text": [
      "       5/50      3.85G       1.93      2.045      2.403         25        640: 100%|██████████| 116/116 [00:29<00:00,  3.94it/s]\n",
      "                 Class     Images  Instances      Box(P          R      mAP50  mAP50-95): 100%|██████████| 19/19 [00:03<00:00,  5.66it/s]"
     ]
    },
    {
     "name": "stdout",
     "output_type": "stream",
     "text": [
      "                   all        585        585      0.338      0.564      0.379      0.196\n"
     ]
    },
    {
     "name": "stderr",
     "output_type": "stream",
     "text": [
      "\n"
     ]
    },
    {
     "name": "stdout",
     "output_type": "stream",
     "text": [
      "\n",
      "      Epoch    GPU_mem   box_loss   cls_loss   dfl_loss  Instances       Size\n"
     ]
    },
    {
     "name": "stderr",
     "output_type": "stream",
     "text": [
      "       6/50      3.84G      1.792      1.925      2.285         25        640: 100%|██████████| 116/116 [00:29<00:00,  3.97it/s]\n",
      "                 Class     Images  Instances      Box(P          R      mAP50  mAP50-95): 100%|██████████| 19/19 [00:03<00:00,  5.61it/s]"
     ]
    },
    {
     "name": "stdout",
     "output_type": "stream",
     "text": [
      "                   all        585        585      0.372      0.584      0.409      0.219\n"
     ]
    },
    {
     "name": "stderr",
     "output_type": "stream",
     "text": [
      "\n"
     ]
    },
    {
     "name": "stdout",
     "output_type": "stream",
     "text": [
      "\n",
      "      Epoch    GPU_mem   box_loss   cls_loss   dfl_loss  Instances       Size\n"
     ]
    },
    {
     "name": "stderr",
     "output_type": "stream",
     "text": [
      "       7/50      3.84G      1.723      1.828      2.218         17        640: 100%|██████████| 116/116 [00:29<00:00,  3.97it/s]\n",
      "                 Class     Images  Instances      Box(P          R      mAP50  mAP50-95): 100%|██████████| 19/19 [00:03<00:00,  5.75it/s]"
     ]
    },
    {
     "name": "stdout",
     "output_type": "stream",
     "text": [
      "                   all        585        585      0.397      0.451      0.403      0.203\n"
     ]
    },
    {
     "name": "stderr",
     "output_type": "stream",
     "text": [
      "\n"
     ]
    },
    {
     "name": "stdout",
     "output_type": "stream",
     "text": [
      "\n",
      "      Epoch    GPU_mem   box_loss   cls_loss   dfl_loss  Instances       Size\n"
     ]
    },
    {
     "name": "stderr",
     "output_type": "stream",
     "text": [
      "       8/50      3.84G      1.661      1.799      2.173         27        640: 100%|██████████| 116/116 [00:29<00:00,  3.99it/s]\n",
      "                 Class     Images  Instances      Box(P          R      mAP50  mAP50-95): 100%|██████████| 19/19 [00:03<00:00,  5.42it/s]"
     ]
    },
    {
     "name": "stdout",
     "output_type": "stream",
     "text": [
      "                   all        585        585      0.381       0.61      0.477      0.242\n"
     ]
    },
    {
     "name": "stderr",
     "output_type": "stream",
     "text": [
      "\n"
     ]
    },
    {
     "name": "stdout",
     "output_type": "stream",
     "text": [
      "\n",
      "      Epoch    GPU_mem   box_loss   cls_loss   dfl_loss  Instances       Size\n"
     ]
    },
    {
     "name": "stderr",
     "output_type": "stream",
     "text": [
      "       9/50      3.84G      1.624      1.722      2.128         25        640: 100%|██████████| 116/116 [00:29<00:00,  3.97it/s]\n",
      "                 Class     Images  Instances      Box(P          R      mAP50  mAP50-95): 100%|██████████| 19/19 [00:03<00:00,  5.65it/s]"
     ]
    },
    {
     "name": "stdout",
     "output_type": "stream",
     "text": [
      "                   all        585        585      0.401      0.621      0.471      0.246\n"
     ]
    },
    {
     "name": "stderr",
     "output_type": "stream",
     "text": [
      "\n"
     ]
    },
    {
     "name": "stdout",
     "output_type": "stream",
     "text": [
      "\n",
      "      Epoch    GPU_mem   box_loss   cls_loss   dfl_loss  Instances       Size\n"
     ]
    },
    {
     "name": "stderr",
     "output_type": "stream",
     "text": [
      "      10/50      3.84G      1.585      1.725      2.089         25        640: 100%|██████████| 116/116 [00:28<00:00,  4.12it/s]\n",
      "                 Class     Images  Instances      Box(P          R      mAP50  mAP50-95): 100%|██████████| 19/19 [00:03<00:00,  6.03it/s]"
     ]
    },
    {
     "name": "stdout",
     "output_type": "stream",
     "text": [
      "                   all        585        585      0.426      0.561      0.485      0.255\n"
     ]
    },
    {
     "name": "stderr",
     "output_type": "stream",
     "text": [
      "\n"
     ]
    },
    {
     "name": "stdout",
     "output_type": "stream",
     "text": [
      "\n",
      "      Epoch    GPU_mem   box_loss   cls_loss   dfl_loss  Instances       Size\n"
     ]
    },
    {
     "name": "stderr",
     "output_type": "stream",
     "text": [
      "      11/50      3.84G      1.537      1.642       2.05         17        640: 100%|██████████| 116/116 [00:27<00:00,  4.17it/s]\n",
      "                 Class     Images  Instances      Box(P          R      mAP50  mAP50-95): 100%|██████████| 19/19 [00:03<00:00,  5.87it/s]"
     ]
    },
    {
     "name": "stdout",
     "output_type": "stream",
     "text": [
      "                   all        585        585      0.423      0.656      0.493      0.272\n"
     ]
    },
    {
     "name": "stderr",
     "output_type": "stream",
     "text": [
      "\n"
     ]
    },
    {
     "name": "stdout",
     "output_type": "stream",
     "text": [
      "\n",
      "      Epoch    GPU_mem   box_loss   cls_loss   dfl_loss  Instances       Size\n"
     ]
    },
    {
     "name": "stderr",
     "output_type": "stream",
     "text": [
      "      12/50      3.84G      1.494      1.584      2.016         27        640: 100%|██████████| 116/116 [00:27<00:00,  4.16it/s]\n",
      "                 Class     Images  Instances      Box(P          R      mAP50  mAP50-95): 100%|██████████| 19/19 [00:03<00:00,  5.65it/s]"
     ]
    },
    {
     "name": "stdout",
     "output_type": "stream",
     "text": [
      "                   all        585        585      0.442      0.549      0.493      0.268\n"
     ]
    },
    {
     "name": "stderr",
     "output_type": "stream",
     "text": [
      "\n"
     ]
    },
    {
     "name": "stdout",
     "output_type": "stream",
     "text": [
      "\n",
      "      Epoch    GPU_mem   box_loss   cls_loss   dfl_loss  Instances       Size\n"
     ]
    },
    {
     "name": "stderr",
     "output_type": "stream",
     "text": [
      "      13/50      3.84G       1.47      1.575       1.99         29        640: 100%|██████████| 116/116 [00:27<00:00,  4.17it/s]\n",
      "                 Class     Images  Instances      Box(P          R      mAP50  mAP50-95): 100%|██████████| 19/19 [00:03<00:00,  5.37it/s]"
     ]
    },
    {
     "name": "stdout",
     "output_type": "stream",
     "text": [
      "                   all        585        585       0.38      0.614      0.454      0.236\n"
     ]
    },
    {
     "name": "stderr",
     "output_type": "stream",
     "text": [
      "\n"
     ]
    },
    {
     "name": "stdout",
     "output_type": "stream",
     "text": [
      "\n",
      "      Epoch    GPU_mem   box_loss   cls_loss   dfl_loss  Instances       Size\n"
     ]
    },
    {
     "name": "stderr",
     "output_type": "stream",
     "text": [
      "      14/50      3.84G      1.453      1.548      1.955         23        640: 100%|██████████| 116/116 [00:29<00:00,  3.91it/s]\n",
      "                 Class     Images  Instances      Box(P          R      mAP50  mAP50-95): 100%|██████████| 19/19 [00:03<00:00,  5.46it/s]"
     ]
    },
    {
     "name": "stdout",
     "output_type": "stream",
     "text": [
      "                   all        585        585      0.522      0.611      0.601      0.343\n"
     ]
    },
    {
     "name": "stderr",
     "output_type": "stream",
     "text": [
      "\n"
     ]
    },
    {
     "name": "stdout",
     "output_type": "stream",
     "text": [
      "\n",
      "      Epoch    GPU_mem   box_loss   cls_loss   dfl_loss  Instances       Size\n"
     ]
    },
    {
     "name": "stderr",
     "output_type": "stream",
     "text": [
      "      15/50      3.84G      1.439      1.516      1.927         26        640: 100%|██████████| 116/116 [00:29<00:00,  3.94it/s]\n",
      "                 Class     Images  Instances      Box(P          R      mAP50  mAP50-95): 100%|██████████| 19/19 [00:03<00:00,  4.89it/s]"
     ]
    },
    {
     "name": "stdout",
     "output_type": "stream",
     "text": [
      "                   all        585        585      0.466      0.627      0.542       0.33\n"
     ]
    },
    {
     "name": "stderr",
     "output_type": "stream",
     "text": [
      "\n"
     ]
    },
    {
     "name": "stdout",
     "output_type": "stream",
     "text": [
      "\n",
      "      Epoch    GPU_mem   box_loss   cls_loss   dfl_loss  Instances       Size\n"
     ]
    },
    {
     "name": "stderr",
     "output_type": "stream",
     "text": [
      "      16/50      3.84G      1.399       1.47       1.91         23        640: 100%|██████████| 116/116 [00:29<00:00,  3.89it/s]\n",
      "                 Class     Images  Instances      Box(P          R      mAP50  mAP50-95): 100%|██████████| 19/19 [00:03<00:00,  5.87it/s]"
     ]
    },
    {
     "name": "stdout",
     "output_type": "stream",
     "text": [
      "                   all        585        585      0.443      0.656      0.535      0.309\n"
     ]
    },
    {
     "name": "stderr",
     "output_type": "stream",
     "text": [
      "\n"
     ]
    },
    {
     "name": "stdout",
     "output_type": "stream",
     "text": [
      "\n",
      "      Epoch    GPU_mem   box_loss   cls_loss   dfl_loss  Instances       Size\n"
     ]
    },
    {
     "name": "stderr",
     "output_type": "stream",
     "text": [
      "      17/50      3.84G      1.393      1.465      1.901         22        640: 100%|██████████| 116/116 [00:29<00:00,  3.87it/s]\n",
      "                 Class     Images  Instances      Box(P          R      mAP50  mAP50-95): 100%|██████████| 19/19 [00:03<00:00,  5.60it/s]"
     ]
    },
    {
     "name": "stdout",
     "output_type": "stream",
     "text": [
      "                   all        585        585      0.519      0.521      0.544      0.331\n"
     ]
    },
    {
     "name": "stderr",
     "output_type": "stream",
     "text": [
      "\n"
     ]
    },
    {
     "name": "stdout",
     "output_type": "stream",
     "text": [
      "\n",
      "      Epoch    GPU_mem   box_loss   cls_loss   dfl_loss  Instances       Size\n"
     ]
    },
    {
     "name": "stderr",
     "output_type": "stream",
     "text": [
      "      18/50      3.84G       1.38      1.439      1.893         31        640: 100%|██████████| 116/116 [00:29<00:00,  3.95it/s]\n",
      "                 Class     Images  Instances      Box(P          R      mAP50  mAP50-95): 100%|██████████| 19/19 [00:03<00:00,  5.70it/s]"
     ]
    },
    {
     "name": "stdout",
     "output_type": "stream",
     "text": [
      "                   all        585        585      0.563      0.576      0.593      0.363\n"
     ]
    },
    {
     "name": "stderr",
     "output_type": "stream",
     "text": [
      "\n"
     ]
    },
    {
     "name": "stdout",
     "output_type": "stream",
     "text": [
      "\n",
      "      Epoch    GPU_mem   box_loss   cls_loss   dfl_loss  Instances       Size\n"
     ]
    },
    {
     "name": "stderr",
     "output_type": "stream",
     "text": [
      "      19/50      3.84G      1.346      1.375      1.855         21        640: 100%|██████████| 116/116 [00:29<00:00,  3.98it/s]\n",
      "                 Class     Images  Instances      Box(P          R      mAP50  mAP50-95): 100%|██████████| 19/19 [00:03<00:00,  5.72it/s]"
     ]
    },
    {
     "name": "stdout",
     "output_type": "stream",
     "text": [
      "                   all        585        585      0.571      0.615      0.621       0.38\n"
     ]
    },
    {
     "name": "stderr",
     "output_type": "stream",
     "text": [
      "\n"
     ]
    },
    {
     "name": "stdout",
     "output_type": "stream",
     "text": [
      "\n",
      "      Epoch    GPU_mem   box_loss   cls_loss   dfl_loss  Instances       Size\n"
     ]
    },
    {
     "name": "stderr",
     "output_type": "stream",
     "text": [
      "      20/50      3.84G      1.359      1.395      1.854         27        640: 100%|██████████| 116/116 [00:29<00:00,  3.88it/s]\n",
      "                 Class     Images  Instances      Box(P          R      mAP50  mAP50-95): 100%|██████████| 19/19 [00:03<00:00,  5.56it/s]"
     ]
    },
    {
     "name": "stdout",
     "output_type": "stream",
     "text": [
      "                   all        585        585      0.507      0.641      0.604      0.365\n"
     ]
    },
    {
     "name": "stderr",
     "output_type": "stream",
     "text": [
      "\n"
     ]
    },
    {
     "name": "stdout",
     "output_type": "stream",
     "text": [
      "\n",
      "      Epoch    GPU_mem   box_loss   cls_loss   dfl_loss  Instances       Size\n"
     ]
    },
    {
     "name": "stderr",
     "output_type": "stream",
     "text": [
      "      21/50      3.84G      1.327      1.373       1.82         28        640: 100%|██████████| 116/116 [00:30<00:00,  3.84it/s]\n",
      "                 Class     Images  Instances      Box(P          R      mAP50  mAP50-95): 100%|██████████| 19/19 [00:03<00:00,  5.92it/s]"
     ]
    },
    {
     "name": "stdout",
     "output_type": "stream",
     "text": [
      "                   all        585        585      0.539      0.578      0.582      0.359\n"
     ]
    },
    {
     "name": "stderr",
     "output_type": "stream",
     "text": [
      "\n"
     ]
    },
    {
     "name": "stdout",
     "output_type": "stream",
     "text": [
      "\n",
      "      Epoch    GPU_mem   box_loss   cls_loss   dfl_loss  Instances       Size\n"
     ]
    },
    {
     "name": "stderr",
     "output_type": "stream",
     "text": [
      "      22/50      3.84G      1.318      1.344       1.83         27        640: 100%|██████████| 116/116 [00:29<00:00,  3.94it/s]\n",
      "                 Class     Images  Instances      Box(P          R      mAP50  mAP50-95): 100%|██████████| 19/19 [00:03<00:00,  5.75it/s]"
     ]
    },
    {
     "name": "stdout",
     "output_type": "stream",
     "text": [
      "                   all        585        585      0.582       0.62       0.62      0.391\n"
     ]
    },
    {
     "name": "stderr",
     "output_type": "stream",
     "text": [
      "\n"
     ]
    },
    {
     "name": "stdout",
     "output_type": "stream",
     "text": [
      "\n",
      "      Epoch    GPU_mem   box_loss   cls_loss   dfl_loss  Instances       Size\n"
     ]
    },
    {
     "name": "stderr",
     "output_type": "stream",
     "text": [
      "      23/50      3.84G      1.309      1.316      1.801         35        640: 100%|██████████| 116/116 [00:29<00:00,  3.95it/s]\n",
      "                 Class     Images  Instances      Box(P          R      mAP50  mAP50-95): 100%|██████████| 19/19 [00:03<00:00,  5.85it/s]"
     ]
    },
    {
     "name": "stdout",
     "output_type": "stream",
     "text": [
      "                   all        585        585       0.62      0.586      0.642      0.409\n"
     ]
    },
    {
     "name": "stderr",
     "output_type": "stream",
     "text": [
      "\n"
     ]
    },
    {
     "name": "stdout",
     "output_type": "stream",
     "text": [
      "\n",
      "      Epoch    GPU_mem   box_loss   cls_loss   dfl_loss  Instances       Size\n"
     ]
    },
    {
     "name": "stderr",
     "output_type": "stream",
     "text": [
      "      24/50      3.84G      1.283      1.312      1.787         24        640: 100%|██████████| 116/116 [00:29<00:00,  3.88it/s]\n",
      "                 Class     Images  Instances      Box(P          R      mAP50  mAP50-95): 100%|██████████| 19/19 [00:03<00:00,  5.76it/s]"
     ]
    },
    {
     "name": "stdout",
     "output_type": "stream",
     "text": [
      "                   all        585        585      0.696      0.528      0.673      0.433\n"
     ]
    },
    {
     "name": "stderr",
     "output_type": "stream",
     "text": [
      "\n"
     ]
    },
    {
     "name": "stdout",
     "output_type": "stream",
     "text": [
      "\n",
      "      Epoch    GPU_mem   box_loss   cls_loss   dfl_loss  Instances       Size\n"
     ]
    },
    {
     "name": "stderr",
     "output_type": "stream",
     "text": [
      "      25/50      3.84G      1.308      1.316      1.813         19        640: 100%|██████████| 116/116 [00:29<00:00,  3.89it/s]\n",
      "                 Class     Images  Instances      Box(P          R      mAP50  mAP50-95): 100%|██████████| 19/19 [00:04<00:00,  4.68it/s]"
     ]
    },
    {
     "name": "stdout",
     "output_type": "stream",
     "text": [
      "                   all        585        585      0.551      0.627       0.62      0.389\n"
     ]
    },
    {
     "name": "stderr",
     "output_type": "stream",
     "text": [
      "\n"
     ]
    },
    {
     "name": "stdout",
     "output_type": "stream",
     "text": [
      "\n",
      "      Epoch    GPU_mem   box_loss   cls_loss   dfl_loss  Instances       Size\n"
     ]
    },
    {
     "name": "stderr",
     "output_type": "stream",
     "text": [
      "      26/50      3.84G      1.286      1.276      1.796         25        640: 100%|██████████| 116/116 [00:29<00:00,  3.93it/s]\n",
      "                 Class     Images  Instances      Box(P          R      mAP50  mAP50-95): 100%|██████████| 19/19 [00:03<00:00,  5.50it/s]"
     ]
    },
    {
     "name": "stdout",
     "output_type": "stream",
     "text": [
      "                   all        585        585      0.638      0.566      0.662      0.436\n"
     ]
    },
    {
     "name": "stderr",
     "output_type": "stream",
     "text": [
      "\n"
     ]
    },
    {
     "name": "stdout",
     "output_type": "stream",
     "text": [
      "\n",
      "      Epoch    GPU_mem   box_loss   cls_loss   dfl_loss  Instances       Size\n"
     ]
    },
    {
     "name": "stderr",
     "output_type": "stream",
     "text": [
      "      27/50      3.84G      1.265      1.287       1.78         25        640: 100%|██████████| 116/116 [00:29<00:00,  3.92it/s]\n",
      "                 Class     Images  Instances      Box(P          R      mAP50  mAP50-95): 100%|██████████| 19/19 [00:03<00:00,  5.24it/s]"
     ]
    },
    {
     "name": "stdout",
     "output_type": "stream",
     "text": [
      "                   all        585        585      0.542      0.642      0.658      0.437\n"
     ]
    },
    {
     "name": "stderr",
     "output_type": "stream",
     "text": [
      "\n"
     ]
    },
    {
     "name": "stdout",
     "output_type": "stream",
     "text": [
      "\n",
      "      Epoch    GPU_mem   box_loss   cls_loss   dfl_loss  Instances       Size\n"
     ]
    },
    {
     "name": "stderr",
     "output_type": "stream",
     "text": [
      "      28/50      3.84G       1.24       1.27      1.754         31        640: 100%|██████████| 116/116 [00:29<00:00,  3.95it/s]\n",
      "                 Class     Images  Instances      Box(P          R      mAP50  mAP50-95): 100%|██████████| 19/19 [00:03<00:00,  5.44it/s]"
     ]
    },
    {
     "name": "stdout",
     "output_type": "stream",
     "text": [
      "                   all        585        585      0.597      0.584      0.648      0.424\n"
     ]
    },
    {
     "name": "stderr",
     "output_type": "stream",
     "text": [
      "\n"
     ]
    },
    {
     "name": "stdout",
     "output_type": "stream",
     "text": [
      "\n",
      "      Epoch    GPU_mem   box_loss   cls_loss   dfl_loss  Instances       Size\n"
     ]
    },
    {
     "name": "stderr",
     "output_type": "stream",
     "text": [
      "      29/50      3.84G       1.22      1.243      1.736         22        640: 100%|██████████| 116/116 [00:29<00:00,  3.94it/s]\n",
      "                 Class     Images  Instances      Box(P          R      mAP50  mAP50-95): 100%|██████████| 19/19 [00:03<00:00,  5.47it/s]"
     ]
    },
    {
     "name": "stdout",
     "output_type": "stream",
     "text": [
      "                   all        585        585      0.558      0.622      0.659      0.428\n"
     ]
    },
    {
     "name": "stderr",
     "output_type": "stream",
     "text": [
      "\n"
     ]
    },
    {
     "name": "stdout",
     "output_type": "stream",
     "text": [
      "\n",
      "      Epoch    GPU_mem   box_loss   cls_loss   dfl_loss  Instances       Size\n"
     ]
    },
    {
     "name": "stderr",
     "output_type": "stream",
     "text": [
      "      30/50      3.84G      1.228      1.245      1.736         22        640: 100%|██████████| 116/116 [00:29<00:00,  3.95it/s]\n",
      "                 Class     Images  Instances      Box(P          R      mAP50  mAP50-95): 100%|██████████| 19/19 [00:04<00:00,  4.72it/s]"
     ]
    },
    {
     "name": "stdout",
     "output_type": "stream",
     "text": [
      "                   all        585        585      0.561       0.59      0.637      0.396\n"
     ]
    },
    {
     "name": "stderr",
     "output_type": "stream",
     "text": [
      "\n"
     ]
    },
    {
     "name": "stdout",
     "output_type": "stream",
     "text": [
      "\n",
      "      Epoch    GPU_mem   box_loss   cls_loss   dfl_loss  Instances       Size\n"
     ]
    },
    {
     "name": "stderr",
     "output_type": "stream",
     "text": [
      "      31/50      3.84G      1.231      1.255      1.736         20        640: 100%|██████████| 116/116 [00:28<00:00,  4.08it/s]\n",
      "                 Class     Images  Instances      Box(P          R      mAP50  mAP50-95): 100%|██████████| 19/19 [00:03<00:00,  6.04it/s]"
     ]
    },
    {
     "name": "stdout",
     "output_type": "stream",
     "text": [
      "                   all        585        585      0.647      0.581      0.659      0.424\n"
     ]
    },
    {
     "name": "stderr",
     "output_type": "stream",
     "text": [
      "\n"
     ]
    },
    {
     "name": "stdout",
     "output_type": "stream",
     "text": [
      "\n",
      "      Epoch    GPU_mem   box_loss   cls_loss   dfl_loss  Instances       Size\n"
     ]
    },
    {
     "name": "stderr",
     "output_type": "stream",
     "text": [
      "      32/50      3.84G      1.215      1.196      1.727         25        640: 100%|██████████| 116/116 [00:28<00:00,  4.01it/s]\n",
      "                 Class     Images  Instances      Box(P          R      mAP50  mAP50-95): 100%|██████████| 19/19 [00:03<00:00,  5.38it/s]"
     ]
    },
    {
     "name": "stdout",
     "output_type": "stream",
     "text": [
      "                   all        585        585      0.654      0.591      0.686      0.458\n"
     ]
    },
    {
     "name": "stderr",
     "output_type": "stream",
     "text": [
      "\n"
     ]
    },
    {
     "name": "stdout",
     "output_type": "stream",
     "text": [
      "\n",
      "      Epoch    GPU_mem   box_loss   cls_loss   dfl_loss  Instances       Size\n"
     ]
    },
    {
     "name": "stderr",
     "output_type": "stream",
     "text": [
      "      33/50      3.84G      1.197      1.195      1.714         23        640: 100%|██████████| 116/116 [00:28<00:00,  4.00it/s]\n",
      "                 Class     Images  Instances      Box(P          R      mAP50  mAP50-95): 100%|██████████| 19/19 [00:03<00:00,  5.72it/s]"
     ]
    },
    {
     "name": "stdout",
     "output_type": "stream",
     "text": [
      "                   all        585        585       0.67      0.581      0.696       0.48\n"
     ]
    },
    {
     "name": "stderr",
     "output_type": "stream",
     "text": [
      "\n"
     ]
    },
    {
     "name": "stdout",
     "output_type": "stream",
     "text": [
      "\n",
      "      Epoch    GPU_mem   box_loss   cls_loss   dfl_loss  Instances       Size\n"
     ]
    },
    {
     "name": "stderr",
     "output_type": "stream",
     "text": [
      "      34/50      3.84G      1.198      1.175      1.698         25        640: 100%|██████████| 116/116 [00:27<00:00,  4.15it/s]\n",
      "                 Class     Images  Instances      Box(P          R      mAP50  mAP50-95): 100%|██████████| 19/19 [00:03<00:00,  5.89it/s]"
     ]
    },
    {
     "name": "stdout",
     "output_type": "stream",
     "text": [
      "                   all        585        585      0.724      0.538      0.699      0.478\n"
     ]
    },
    {
     "name": "stderr",
     "output_type": "stream",
     "text": [
      "\n"
     ]
    },
    {
     "name": "stdout",
     "output_type": "stream",
     "text": [
      "\n",
      "      Epoch    GPU_mem   box_loss   cls_loss   dfl_loss  Instances       Size\n"
     ]
    },
    {
     "name": "stderr",
     "output_type": "stream",
     "text": [
      "      35/50      3.84G      1.192      1.194      1.713         28        640: 100%|██████████| 116/116 [00:27<00:00,  4.18it/s]\n",
      "                 Class     Images  Instances      Box(P          R      mAP50  mAP50-95): 100%|██████████| 19/19 [00:03<00:00,  4.80it/s]"
     ]
    },
    {
     "name": "stdout",
     "output_type": "stream",
     "text": [
      "                   all        585        585      0.646      0.639      0.713      0.473\n"
     ]
    },
    {
     "name": "stderr",
     "output_type": "stream",
     "text": [
      "\n"
     ]
    },
    {
     "name": "stdout",
     "output_type": "stream",
     "text": [
      "\n",
      "      Epoch    GPU_mem   box_loss   cls_loss   dfl_loss  Instances       Size\n"
     ]
    },
    {
     "name": "stderr",
     "output_type": "stream",
     "text": [
      "      36/50      3.84G       1.19      1.199      1.711         22        640: 100%|██████████| 116/116 [00:27<00:00,  4.15it/s]\n",
      "                 Class     Images  Instances      Box(P          R      mAP50  mAP50-95): 100%|██████████| 19/19 [00:03<00:00,  5.73it/s]"
     ]
    },
    {
     "name": "stdout",
     "output_type": "stream",
     "text": [
      "                   all        585        585      0.639      0.612      0.695      0.475\n"
     ]
    },
    {
     "name": "stderr",
     "output_type": "stream",
     "text": [
      "\n"
     ]
    },
    {
     "name": "stdout",
     "output_type": "stream",
     "text": [
      "\n",
      "      Epoch    GPU_mem   box_loss   cls_loss   dfl_loss  Instances       Size\n"
     ]
    },
    {
     "name": "stderr",
     "output_type": "stream",
     "text": [
      "      37/50      3.84G      1.176      1.161       1.69         25        640: 100%|██████████| 116/116 [00:28<00:00,  4.13it/s]\n",
      "                 Class     Images  Instances      Box(P          R      mAP50  mAP50-95): 100%|██████████| 19/19 [00:03<00:00,  5.64it/s]"
     ]
    },
    {
     "name": "stdout",
     "output_type": "stream",
     "text": [
      "                   all        585        585      0.698      0.545      0.691      0.469\n"
     ]
    },
    {
     "name": "stderr",
     "output_type": "stream",
     "text": [
      "\n"
     ]
    },
    {
     "name": "stdout",
     "output_type": "stream",
     "text": [
      "\n",
      "      Epoch    GPU_mem   box_loss   cls_loss   dfl_loss  Instances       Size\n"
     ]
    },
    {
     "name": "stderr",
     "output_type": "stream",
     "text": [
      "      38/50      3.84G      1.156      1.148      1.676         27        640: 100%|██████████| 116/116 [00:27<00:00,  4.25it/s]\n",
      "                 Class     Images  Instances      Box(P          R      mAP50  mAP50-95): 100%|██████████| 19/19 [00:03<00:00,  5.64it/s]"
     ]
    },
    {
     "name": "stdout",
     "output_type": "stream",
     "text": [
      "                   all        585        585      0.672      0.639      0.723      0.489\n"
     ]
    },
    {
     "name": "stderr",
     "output_type": "stream",
     "text": [
      "\n"
     ]
    },
    {
     "name": "stdout",
     "output_type": "stream",
     "text": [
      "\n",
      "      Epoch    GPU_mem   box_loss   cls_loss   dfl_loss  Instances       Size\n"
     ]
    },
    {
     "name": "stderr",
     "output_type": "stream",
     "text": [
      "      39/50      3.84G      1.147      1.137      1.664         24        640: 100%|██████████| 116/116 [00:27<00:00,  4.29it/s]\n",
      "                 Class     Images  Instances      Box(P          R      mAP50  mAP50-95): 100%|██████████| 19/19 [00:03<00:00,  5.70it/s]"
     ]
    },
    {
     "name": "stdout",
     "output_type": "stream",
     "text": [
      "                   all        585        585      0.718      0.597       0.72      0.489\n"
     ]
    },
    {
     "name": "stderr",
     "output_type": "stream",
     "text": [
      "\n"
     ]
    },
    {
     "name": "stdout",
     "output_type": "stream",
     "text": [
      "\n",
      "      Epoch    GPU_mem   box_loss   cls_loss   dfl_loss  Instances       Size\n"
     ]
    },
    {
     "name": "stderr",
     "output_type": "stream",
     "text": [
      "      40/50      3.84G      1.141       1.12      1.657         17        640: 100%|██████████| 116/116 [00:27<00:00,  4.25it/s]\n",
      "                 Class     Images  Instances      Box(P          R      mAP50  mAP50-95): 100%|██████████| 19/19 [00:04<00:00,  4.68it/s]"
     ]
    },
    {
     "name": "stdout",
     "output_type": "stream",
     "text": [
      "                   all        585        585      0.695       0.61       0.72      0.501\n"
     ]
    },
    {
     "name": "stderr",
     "output_type": "stream",
     "text": [
      "\n"
     ]
    },
    {
     "name": "stdout",
     "output_type": "stream",
     "text": [
      "Closing dataloader mosaic\n",
      "\n",
      "      Epoch    GPU_mem   box_loss   cls_loss   dfl_loss  Instances       Size\n"
     ]
    },
    {
     "name": "stderr",
     "output_type": "stream",
     "text": [
      "      41/50      3.84G      1.002     0.8991      1.608         12        640: 100%|██████████| 116/116 [00:28<00:00,  4.12it/s]\n",
      "                 Class     Images  Instances      Box(P          R      mAP50  mAP50-95): 100%|██████████| 19/19 [00:03<00:00,  5.76it/s]"
     ]
    },
    {
     "name": "stdout",
     "output_type": "stream",
     "text": [
      "                   all        585        585      0.707      0.586      0.727      0.496\n"
     ]
    },
    {
     "name": "stderr",
     "output_type": "stream",
     "text": [
      "\n"
     ]
    },
    {
     "name": "stdout",
     "output_type": "stream",
     "text": [
      "\n",
      "      Epoch    GPU_mem   box_loss   cls_loss   dfl_loss  Instances       Size\n"
     ]
    },
    {
     "name": "stderr",
     "output_type": "stream",
     "text": [
      "      42/50      3.84G     0.9853     0.8361      1.594         12        640: 100%|██████████| 116/116 [00:28<00:00,  4.01it/s]\n",
      "                 Class     Images  Instances      Box(P          R      mAP50  mAP50-95): 100%|██████████| 19/19 [00:03<00:00,  5.66it/s]"
     ]
    },
    {
     "name": "stdout",
     "output_type": "stream",
     "text": [
      "                   all        585        585      0.665      0.622      0.746      0.523\n"
     ]
    },
    {
     "name": "stderr",
     "output_type": "stream",
     "text": [
      "\n"
     ]
    },
    {
     "name": "stdout",
     "output_type": "stream",
     "text": [
      "\n",
      "      Epoch    GPU_mem   box_loss   cls_loss   dfl_loss  Instances       Size\n"
     ]
    },
    {
     "name": "stderr",
     "output_type": "stream",
     "text": [
      "      43/50      3.84G      0.963     0.8321       1.58         12        640: 100%|██████████| 116/116 [00:29<00:00,  4.00it/s]\n",
      "                 Class     Images  Instances      Box(P          R      mAP50  mAP50-95): 100%|██████████| 19/19 [00:03<00:00,  5.62it/s]"
     ]
    },
    {
     "name": "stdout",
     "output_type": "stream",
     "text": [
      "                   all        585        585       0.69      0.632      0.756      0.524\n"
     ]
    },
    {
     "name": "stderr",
     "output_type": "stream",
     "text": [
      "\n"
     ]
    },
    {
     "name": "stdout",
     "output_type": "stream",
     "text": [
      "\n",
      "      Epoch    GPU_mem   box_loss   cls_loss   dfl_loss  Instances       Size\n"
     ]
    },
    {
     "name": "stderr",
     "output_type": "stream",
     "text": [
      "      44/50      3.84G     0.9467     0.8173      1.561         12        640: 100%|██████████| 116/116 [00:28<00:00,  4.02it/s]\n",
      "                 Class     Images  Instances      Box(P          R      mAP50  mAP50-95): 100%|██████████| 19/19 [00:03<00:00,  5.70it/s]"
     ]
    },
    {
     "name": "stdout",
     "output_type": "stream",
     "text": [
      "                   all        585        585      0.709      0.603       0.74      0.504\n"
     ]
    },
    {
     "name": "stderr",
     "output_type": "stream",
     "text": [
      "\n"
     ]
    },
    {
     "name": "stdout",
     "output_type": "stream",
     "text": [
      "\n",
      "      Epoch    GPU_mem   box_loss   cls_loss   dfl_loss  Instances       Size\n"
     ]
    },
    {
     "name": "stderr",
     "output_type": "stream",
     "text": [
      "      45/50      3.84G     0.9253     0.7951       1.54         12        640: 100%|██████████| 116/116 [00:28<00:00,  4.05it/s]\n",
      "                 Class     Images  Instances      Box(P          R      mAP50  mAP50-95): 100%|██████████| 19/19 [00:03<00:00,  4.76it/s]"
     ]
    },
    {
     "name": "stdout",
     "output_type": "stream",
     "text": [
      "                   all        585        585      0.715      0.622      0.765      0.544\n"
     ]
    },
    {
     "name": "stderr",
     "output_type": "stream",
     "text": [
      "\n"
     ]
    },
    {
     "name": "stdout",
     "output_type": "stream",
     "text": [
      "\n",
      "      Epoch    GPU_mem   box_loss   cls_loss   dfl_loss  Instances       Size\n"
     ]
    },
    {
     "name": "stderr",
     "output_type": "stream",
     "text": [
      "      46/50      3.84G     0.9233     0.7929      1.548         12        640: 100%|██████████| 116/116 [00:28<00:00,  4.05it/s]\n",
      "                 Class     Images  Instances      Box(P          R      mAP50  mAP50-95): 100%|██████████| 19/19 [00:03<00:00,  5.77it/s]"
     ]
    },
    {
     "name": "stdout",
     "output_type": "stream",
     "text": [
      "                   all        585        585       0.78      0.581      0.763      0.536\n"
     ]
    },
    {
     "name": "stderr",
     "output_type": "stream",
     "text": [
      "\n"
     ]
    },
    {
     "name": "stdout",
     "output_type": "stream",
     "text": [
      "\n",
      "      Epoch    GPU_mem   box_loss   cls_loss   dfl_loss  Instances       Size\n"
     ]
    },
    {
     "name": "stderr",
     "output_type": "stream",
     "text": [
      "      47/50      3.84G     0.9115     0.7777       1.53         12        640: 100%|██████████| 116/116 [00:28<00:00,  4.05it/s]\n",
      "                 Class     Images  Instances      Box(P          R      mAP50  mAP50-95): 100%|██████████| 19/19 [00:03<00:00,  5.67it/s]"
     ]
    },
    {
     "name": "stdout",
     "output_type": "stream",
     "text": [
      "                   all        585        585      0.763      0.578      0.773      0.544\n"
     ]
    },
    {
     "name": "stderr",
     "output_type": "stream",
     "text": [
      "\n"
     ]
    },
    {
     "name": "stdout",
     "output_type": "stream",
     "text": [
      "\n",
      "      Epoch    GPU_mem   box_loss   cls_loss   dfl_loss  Instances       Size\n"
     ]
    },
    {
     "name": "stderr",
     "output_type": "stream",
     "text": [
      "      48/50      3.84G      0.915     0.7805      1.519         12        640: 100%|██████████| 116/116 [00:28<00:00,  4.05it/s]\n",
      "                 Class     Images  Instances      Box(P          R      mAP50  mAP50-95): 100%|██████████| 19/19 [00:03<00:00,  5.68it/s]"
     ]
    },
    {
     "name": "stdout",
     "output_type": "stream",
     "text": [
      "                   all        585        585      0.756      0.609      0.771      0.546\n"
     ]
    },
    {
     "name": "stderr",
     "output_type": "stream",
     "text": [
      "\n"
     ]
    },
    {
     "name": "stdout",
     "output_type": "stream",
     "text": [
      "\n",
      "      Epoch    GPU_mem   box_loss   cls_loss   dfl_loss  Instances       Size\n"
     ]
    },
    {
     "name": "stderr",
     "output_type": "stream",
     "text": [
      "      49/50      3.84G     0.8884      0.752      1.504         12        640: 100%|██████████| 116/116 [00:28<00:00,  4.05it/s]\n",
      "                 Class     Images  Instances      Box(P          R      mAP50  mAP50-95): 100%|██████████| 19/19 [00:03<00:00,  5.68it/s]"
     ]
    },
    {
     "name": "stdout",
     "output_type": "stream",
     "text": [
      "                   all        585        585      0.691      0.634      0.771      0.546\n"
     ]
    },
    {
     "name": "stderr",
     "output_type": "stream",
     "text": [
      "\n"
     ]
    },
    {
     "name": "stdout",
     "output_type": "stream",
     "text": [
      "\n",
      "      Epoch    GPU_mem   box_loss   cls_loss   dfl_loss  Instances       Size\n"
     ]
    },
    {
     "name": "stderr",
     "output_type": "stream",
     "text": [
      "      50/50      3.84G     0.8731     0.7464       1.49         12        640: 100%|██████████| 116/116 [00:28<00:00,  4.02it/s]\n",
      "                 Class     Images  Instances      Box(P          R      mAP50  mAP50-95): 100%|██████████| 19/19 [00:04<00:00,  4.70it/s]"
     ]
    },
    {
     "name": "stdout",
     "output_type": "stream",
     "text": [
      "                   all        585        585      0.714       0.62      0.773      0.551\n"
     ]
    },
    {
     "name": "stderr",
     "output_type": "stream",
     "text": [
      "\n"
     ]
    },
    {
     "name": "stdout",
     "output_type": "stream",
     "text": [
      "\n",
      "50 epochs completed in 0.459 hours.\n",
      "Optimizer stripped from runs\\detect\\train5\\weights\\last.pt, 6.2MB\n",
      "Optimizer stripped from runs\\detect\\train5\\weights\\best.pt, 6.2MB\n",
      "\n",
      "Validating runs\\detect\\train5\\weights\\best.pt...\n",
      "Ultralytics 8.3.65  Python-3.9.21 torch-2.5.1+cu118 CUDA:0 (NVIDIA GeForce GTX 1660 SUPER, 6144MiB)\n",
      "YOLOv8n summary (fused): 168 layers, 3,005,843 parameters, 0 gradients, 8.1 GFLOPs\n"
     ]
    },
    {
     "name": "stderr",
     "output_type": "stream",
     "text": [
      "                 Class     Images  Instances      Box(P          R      mAP50  mAP50-95): 100%|██████████| 19/19 [00:03<00:00,  5.87it/s]\n"
     ]
    },
    {
     "name": "stdout",
     "output_type": "stream",
     "text": [
      "                   all        585        585      0.714       0.62      0.773      0.551\n",
      "Speed: 0.3ms preprocess, 2.7ms inference, 0.0ms loss, 0.6ms postprocess per image\n",
      "Results saved to \u001b[1mruns\\detect\\train5\u001b[0m\n"
     ]
    },
    {
     "data": {
      "text/plain": [
       "ultralytics.utils.metrics.DetMetrics object with attributes:\n",
       "\n",
       "ap_class_index: array([0])\n",
       "box: ultralytics.utils.metrics.Metric object\n",
       "confusion_matrix: <ultralytics.utils.metrics.ConfusionMatrix object at 0x000002744287B9D0>\n",
       "curves: ['Precision-Recall(B)', 'F1-Confidence(B)', 'Precision-Confidence(B)', 'Recall-Confidence(B)']\n",
       "curves_results: [[array([          0,    0.001001,    0.002002,    0.003003,    0.004004,    0.005005,    0.006006,    0.007007,    0.008008,    0.009009,     0.01001,    0.011011,    0.012012,    0.013013,    0.014014,    0.015015,    0.016016,    0.017017,    0.018018,    0.019019,     0.02002,    0.021021,    0.022022,    0.023023,\n",
       "          0.024024,    0.025025,    0.026026,    0.027027,    0.028028,    0.029029,     0.03003,    0.031031,    0.032032,    0.033033,    0.034034,    0.035035,    0.036036,    0.037037,    0.038038,    0.039039,     0.04004,    0.041041,    0.042042,    0.043043,    0.044044,    0.045045,    0.046046,    0.047047,\n",
       "          0.048048,    0.049049,     0.05005,    0.051051,    0.052052,    0.053053,    0.054054,    0.055055,    0.056056,    0.057057,    0.058058,    0.059059,     0.06006,    0.061061,    0.062062,    0.063063,    0.064064,    0.065065,    0.066066,    0.067067,    0.068068,    0.069069,     0.07007,    0.071071,\n",
       "          0.072072,    0.073073,    0.074074,    0.075075,    0.076076,    0.077077,    0.078078,    0.079079,     0.08008,    0.081081,    0.082082,    0.083083,    0.084084,    0.085085,    0.086086,    0.087087,    0.088088,    0.089089,     0.09009,    0.091091,    0.092092,    0.093093,    0.094094,    0.095095,\n",
       "          0.096096,    0.097097,    0.098098,    0.099099,      0.1001,      0.1011,      0.1021,      0.1031,      0.1041,     0.10511,     0.10611,     0.10711,     0.10811,     0.10911,     0.11011,     0.11111,     0.11211,     0.11311,     0.11411,     0.11512,     0.11612,     0.11712,     0.11812,     0.11912,\n",
       "           0.12012,     0.12112,     0.12212,     0.12312,     0.12412,     0.12513,     0.12613,     0.12713,     0.12813,     0.12913,     0.13013,     0.13113,     0.13213,     0.13313,     0.13413,     0.13514,     0.13614,     0.13714,     0.13814,     0.13914,     0.14014,     0.14114,     0.14214,     0.14314,\n",
       "           0.14414,     0.14515,     0.14615,     0.14715,     0.14815,     0.14915,     0.15015,     0.15115,     0.15215,     0.15315,     0.15415,     0.15516,     0.15616,     0.15716,     0.15816,     0.15916,     0.16016,     0.16116,     0.16216,     0.16316,     0.16416,     0.16517,     0.16617,     0.16717,\n",
       "           0.16817,     0.16917,     0.17017,     0.17117,     0.17217,     0.17317,     0.17417,     0.17518,     0.17618,     0.17718,     0.17818,     0.17918,     0.18018,     0.18118,     0.18218,     0.18318,     0.18418,     0.18519,     0.18619,     0.18719,     0.18819,     0.18919,     0.19019,     0.19119,\n",
       "           0.19219,     0.19319,     0.19419,      0.1952,      0.1962,      0.1972,      0.1982,      0.1992,      0.2002,      0.2012,      0.2022,      0.2032,      0.2042,     0.20521,     0.20621,     0.20721,     0.20821,     0.20921,     0.21021,     0.21121,     0.21221,     0.21321,     0.21421,     0.21522,\n",
       "           0.21622,     0.21722,     0.21822,     0.21922,     0.22022,     0.22122,     0.22222,     0.22322,     0.22422,     0.22523,     0.22623,     0.22723,     0.22823,     0.22923,     0.23023,     0.23123,     0.23223,     0.23323,     0.23423,     0.23524,     0.23624,     0.23724,     0.23824,     0.23924,\n",
       "           0.24024,     0.24124,     0.24224,     0.24324,     0.24424,     0.24525,     0.24625,     0.24725,     0.24825,     0.24925,     0.25025,     0.25125,     0.25225,     0.25325,     0.25425,     0.25526,     0.25626,     0.25726,     0.25826,     0.25926,     0.26026,     0.26126,     0.26226,     0.26326,\n",
       "           0.26426,     0.26527,     0.26627,     0.26727,     0.26827,     0.26927,     0.27027,     0.27127,     0.27227,     0.27327,     0.27427,     0.27528,     0.27628,     0.27728,     0.27828,     0.27928,     0.28028,     0.28128,     0.28228,     0.28328,     0.28428,     0.28529,     0.28629,     0.28729,\n",
       "           0.28829,     0.28929,     0.29029,     0.29129,     0.29229,     0.29329,     0.29429,      0.2953,      0.2963,      0.2973,      0.2983,      0.2993,      0.3003,      0.3013,      0.3023,      0.3033,      0.3043,     0.30531,     0.30631,     0.30731,     0.30831,     0.30931,     0.31031,     0.31131,\n",
       "           0.31231,     0.31331,     0.31431,     0.31532,     0.31632,     0.31732,     0.31832,     0.31932,     0.32032,     0.32132,     0.32232,     0.32332,     0.32432,     0.32533,     0.32633,     0.32733,     0.32833,     0.32933,     0.33033,     0.33133,     0.33233,     0.33333,     0.33433,     0.33534,\n",
       "           0.33634,     0.33734,     0.33834,     0.33934,     0.34034,     0.34134,     0.34234,     0.34334,     0.34434,     0.34535,     0.34635,     0.34735,     0.34835,     0.34935,     0.35035,     0.35135,     0.35235,     0.35335,     0.35435,     0.35536,     0.35636,     0.35736,     0.35836,     0.35936,\n",
       "           0.36036,     0.36136,     0.36236,     0.36336,     0.36436,     0.36537,     0.36637,     0.36737,     0.36837,     0.36937,     0.37037,     0.37137,     0.37237,     0.37337,     0.37437,     0.37538,     0.37638,     0.37738,     0.37838,     0.37938,     0.38038,     0.38138,     0.38238,     0.38338,\n",
       "           0.38438,     0.38539,     0.38639,     0.38739,     0.38839,     0.38939,     0.39039,     0.39139,     0.39239,     0.39339,     0.39439,      0.3954,      0.3964,      0.3974,      0.3984,      0.3994,      0.4004,      0.4014,      0.4024,      0.4034,      0.4044,     0.40541,     0.40641,     0.40741,\n",
       "           0.40841,     0.40941,     0.41041,     0.41141,     0.41241,     0.41341,     0.41441,     0.41542,     0.41642,     0.41742,     0.41842,     0.41942,     0.42042,     0.42142,     0.42242,     0.42342,     0.42442,     0.42543,     0.42643,     0.42743,     0.42843,     0.42943,     0.43043,     0.43143,\n",
       "           0.43243,     0.43343,     0.43443,     0.43544,     0.43644,     0.43744,     0.43844,     0.43944,     0.44044,     0.44144,     0.44244,     0.44344,     0.44444,     0.44545,     0.44645,     0.44745,     0.44845,     0.44945,     0.45045,     0.45145,     0.45245,     0.45345,     0.45445,     0.45546,\n",
       "           0.45646,     0.45746,     0.45846,     0.45946,     0.46046,     0.46146,     0.46246,     0.46346,     0.46446,     0.46547,     0.46647,     0.46747,     0.46847,     0.46947,     0.47047,     0.47147,     0.47247,     0.47347,     0.47447,     0.47548,     0.47648,     0.47748,     0.47848,     0.47948,\n",
       "           0.48048,     0.48148,     0.48248,     0.48348,     0.48448,     0.48549,     0.48649,     0.48749,     0.48849,     0.48949,     0.49049,     0.49149,     0.49249,     0.49349,     0.49449,      0.4955,      0.4965,      0.4975,      0.4985,      0.4995,      0.5005,      0.5015,      0.5025,      0.5035,\n",
       "            0.5045,     0.50551,     0.50651,     0.50751,     0.50851,     0.50951,     0.51051,     0.51151,     0.51251,     0.51351,     0.51451,     0.51552,     0.51652,     0.51752,     0.51852,     0.51952,     0.52052,     0.52152,     0.52252,     0.52352,     0.52452,     0.52553,     0.52653,     0.52753,\n",
       "           0.52853,     0.52953,     0.53053,     0.53153,     0.53253,     0.53353,     0.53453,     0.53554,     0.53654,     0.53754,     0.53854,     0.53954,     0.54054,     0.54154,     0.54254,     0.54354,     0.54454,     0.54555,     0.54655,     0.54755,     0.54855,     0.54955,     0.55055,     0.55155,\n",
       "           0.55255,     0.55355,     0.55455,     0.55556,     0.55656,     0.55756,     0.55856,     0.55956,     0.56056,     0.56156,     0.56256,     0.56356,     0.56456,     0.56557,     0.56657,     0.56757,     0.56857,     0.56957,     0.57057,     0.57157,     0.57257,     0.57357,     0.57457,     0.57558,\n",
       "           0.57658,     0.57758,     0.57858,     0.57958,     0.58058,     0.58158,     0.58258,     0.58358,     0.58458,     0.58559,     0.58659,     0.58759,     0.58859,     0.58959,     0.59059,     0.59159,     0.59259,     0.59359,     0.59459,      0.5956,      0.5966,      0.5976,      0.5986,      0.5996,\n",
       "            0.6006,      0.6016,      0.6026,      0.6036,      0.6046,     0.60561,     0.60661,     0.60761,     0.60861,     0.60961,     0.61061,     0.61161,     0.61261,     0.61361,     0.61461,     0.61562,     0.61662,     0.61762,     0.61862,     0.61962,     0.62062,     0.62162,     0.62262,     0.62362,\n",
       "           0.62462,     0.62563,     0.62663,     0.62763,     0.62863,     0.62963,     0.63063,     0.63163,     0.63263,     0.63363,     0.63463,     0.63564,     0.63664,     0.63764,     0.63864,     0.63964,     0.64064,     0.64164,     0.64264,     0.64364,     0.64464,     0.64565,     0.64665,     0.64765,\n",
       "           0.64865,     0.64965,     0.65065,     0.65165,     0.65265,     0.65365,     0.65465,     0.65566,     0.65666,     0.65766,     0.65866,     0.65966,     0.66066,     0.66166,     0.66266,     0.66366,     0.66466,     0.66567,     0.66667,     0.66767,     0.66867,     0.66967,     0.67067,     0.67167,\n",
       "           0.67267,     0.67367,     0.67467,     0.67568,     0.67668,     0.67768,     0.67868,     0.67968,     0.68068,     0.68168,     0.68268,     0.68368,     0.68468,     0.68569,     0.68669,     0.68769,     0.68869,     0.68969,     0.69069,     0.69169,     0.69269,     0.69369,     0.69469,      0.6957,\n",
       "            0.6967,      0.6977,      0.6987,      0.6997,      0.7007,      0.7017,      0.7027,      0.7037,      0.7047,     0.70571,     0.70671,     0.70771,     0.70871,     0.70971,     0.71071,     0.71171,     0.71271,     0.71371,     0.71471,     0.71572,     0.71672,     0.71772,     0.71872,     0.71972,\n",
       "           0.72072,     0.72172,     0.72272,     0.72372,     0.72472,     0.72573,     0.72673,     0.72773,     0.72873,     0.72973,     0.73073,     0.73173,     0.73273,     0.73373,     0.73473,     0.73574,     0.73674,     0.73774,     0.73874,     0.73974,     0.74074,     0.74174,     0.74274,     0.74374,\n",
       "           0.74474,     0.74575,     0.74675,     0.74775,     0.74875,     0.74975,     0.75075,     0.75175,     0.75275,     0.75375,     0.75475,     0.75576,     0.75676,     0.75776,     0.75876,     0.75976,     0.76076,     0.76176,     0.76276,     0.76376,     0.76476,     0.76577,     0.76677,     0.76777,\n",
       "           0.76877,     0.76977,     0.77077,     0.77177,     0.77277,     0.77377,     0.77477,     0.77578,     0.77678,     0.77778,     0.77878,     0.77978,     0.78078,     0.78178,     0.78278,     0.78378,     0.78478,     0.78579,     0.78679,     0.78779,     0.78879,     0.78979,     0.79079,     0.79179,\n",
       "           0.79279,     0.79379,     0.79479,      0.7958,      0.7968,      0.7978,      0.7988,      0.7998,      0.8008,      0.8018,      0.8028,      0.8038,      0.8048,     0.80581,     0.80681,     0.80781,     0.80881,     0.80981,     0.81081,     0.81181,     0.81281,     0.81381,     0.81481,     0.81582,\n",
       "           0.81682,     0.81782,     0.81882,     0.81982,     0.82082,     0.82182,     0.82282,     0.82382,     0.82482,     0.82583,     0.82683,     0.82783,     0.82883,     0.82983,     0.83083,     0.83183,     0.83283,     0.83383,     0.83483,     0.83584,     0.83684,     0.83784,     0.83884,     0.83984,\n",
       "           0.84084,     0.84184,     0.84284,     0.84384,     0.84484,     0.84585,     0.84685,     0.84785,     0.84885,     0.84985,     0.85085,     0.85185,     0.85285,     0.85385,     0.85485,     0.85586,     0.85686,     0.85786,     0.85886,     0.85986,     0.86086,     0.86186,     0.86286,     0.86386,\n",
       "           0.86486,     0.86587,     0.86687,     0.86787,     0.86887,     0.86987,     0.87087,     0.87187,     0.87287,     0.87387,     0.87487,     0.87588,     0.87688,     0.87788,     0.87888,     0.87988,     0.88088,     0.88188,     0.88288,     0.88388,     0.88488,     0.88589,     0.88689,     0.88789,\n",
       "           0.88889,     0.88989,     0.89089,     0.89189,     0.89289,     0.89389,     0.89489,      0.8959,      0.8969,      0.8979,      0.8989,      0.8999,      0.9009,      0.9019,      0.9029,      0.9039,      0.9049,     0.90591,     0.90691,     0.90791,     0.90891,     0.90991,     0.91091,     0.91191,\n",
       "           0.91291,     0.91391,     0.91491,     0.91592,     0.91692,     0.91792,     0.91892,     0.91992,     0.92092,     0.92192,     0.92292,     0.92392,     0.92492,     0.92593,     0.92693,     0.92793,     0.92893,     0.92993,     0.93093,     0.93193,     0.93293,     0.93393,     0.93493,     0.93594,\n",
       "           0.93694,     0.93794,     0.93894,     0.93994,     0.94094,     0.94194,     0.94294,     0.94394,     0.94494,     0.94595,     0.94695,     0.94795,     0.94895,     0.94995,     0.95095,     0.95195,     0.95295,     0.95395,     0.95495,     0.95596,     0.95696,     0.95796,     0.95896,     0.95996,\n",
       "           0.96096,     0.96196,     0.96296,     0.96396,     0.96496,     0.96597,     0.96697,     0.96797,     0.96897,     0.96997,     0.97097,     0.97197,     0.97297,     0.97397,     0.97497,     0.97598,     0.97698,     0.97798,     0.97898,     0.97998,     0.98098,     0.98198,     0.98298,     0.98398,\n",
       "           0.98498,     0.98599,     0.98699,     0.98799,     0.98899,     0.98999,     0.99099,     0.99199,     0.99299,     0.99399,     0.99499,       0.996,       0.997,       0.998,       0.999,           1]), array([[          1,           1,           1,           1,           1,           1,           1,           1,           1,           1,           1,           1,           1,           1,           1,           1,           1,           1,           1,           1,           1,           1,           1,\n",
       "                  1,           1,           1,           1,           1,           1,           1,           1,           1,           1,           1,           1,           1,           1,           1,           1,           1,           1,           1,           1,           1,           1,           1,\n",
       "                  1,           1,           1,           1,           1,           1,           1,           1,           1,           1,           1,           1,           1,           1,           1,           1,           1,           1,           1,           1,           1,           1,           1,\n",
       "                  1,           1,           1,           1,           1,           1,           1,           1,           1,           1,           1,           1,           1,           1,           1,           1,           1,           1,           1,           1,           1,           1,           1,\n",
       "                  1,           1,           1,           1,           1,           1,           1,           1,           1,           1,           1,           1,           1,           1,           1,           1,           1,           1,           1,           1,           1,           1,           1,\n",
       "                  1,           1,           1,           1,           1,           1,           1,           1,           1,           1,           1,           1,           1,           1,           1,           1,           1,           1,           1,           1,           1,           1,           1,\n",
       "                  1,     0.99145,     0.99145,     0.99145,     0.99145,     0.99145,     0.99145,     0.99145,     0.99145,     0.99145,     0.99145,     0.99145,     0.99145,     0.99145,     0.99145,     0.99145,     0.99145,     0.99145,     0.99145,     0.99145,     0.99145,     0.99145,     0.99145,\n",
       "            0.99145,     0.99145,     0.99145,     0.99145,     0.99145,     0.99145,     0.99145,     0.99145,     0.99145,     0.99145,     0.99145,     0.99145,     0.99145,     0.99145,     0.99145,     0.99145,     0.99145,     0.99145,     0.99145,     0.99145,     0.99145,     0.99145,     0.99145,\n",
       "            0.99145,     0.99145,     0.99145,     0.99145,     0.99145,     0.99145,     0.99145,     0.99145,     0.99145,     0.99145,     0.99145,     0.99145,     0.99145,     0.99145,     0.99145,      0.9863,      0.9863,      0.9863,      0.9863,      0.9863,      0.9863,      0.9863,      0.9863,\n",
       "             0.9863,      0.9863,      0.9863,      0.9863,      0.9863,      0.9863,      0.9863,      0.9863,      0.9863,      0.9863,      0.9863,      0.9863,      0.9863,      0.9863,      0.9863,      0.9863,      0.9863,      0.9863,      0.9863,      0.9863,      0.9863,      0.9863,      0.9863,\n",
       "             0.9863,      0.9863,      0.9863,      0.9863,      0.9863,      0.9863,      0.9863,      0.9863,      0.9863,      0.9863,      0.9863,      0.9863,      0.9863,      0.9863,      0.9863,      0.9863,        0.98,        0.98,        0.98,        0.98,        0.98,        0.98,     0.97531,\n",
       "            0.97531,     0.97531,     0.97531,     0.97531,     0.97531,     0.97531,     0.97531,     0.97531,     0.97531,     0.97531,     0.97531,     0.97531,     0.97531,     0.97531,     0.97531,     0.97531,     0.97531,     0.97326,     0.97326,     0.97326,     0.97326,     0.97326,     0.97326,\n",
       "            0.97326,     0.97326,     0.97326,     0.97326,     0.97326,     0.97326,     0.97326,     0.97326,     0.97326,     0.97326,     0.97326,     0.97326,     0.97326,     0.97326,     0.97326,     0.97326,     0.97326,     0.97326,     0.97326,     0.97326,     0.97326,     0.97326,     0.97326,\n",
       "            0.97326,     0.97326,     0.97326,     0.97326,     0.97326,     0.97326,     0.97326,     0.97326,     0.97326,     0.97326,     0.97326,     0.97326,     0.97073,     0.97073,     0.97073,     0.97073,     0.97073,     0.97073,     0.97073,     0.97073,     0.97073,     0.97073,     0.97073,\n",
       "            0.97073,     0.97073,     0.97073,     0.97073,     0.97073,     0.97073,     0.97073,     0.97073,     0.97073,     0.97073,     0.97073,     0.97073,     0.97073,     0.97073,     0.97073,     0.97073,     0.97073,     0.97073,     0.96618,     0.96618,     0.96244,     0.96244,     0.96244,\n",
       "            0.96244,     0.96244,     0.96244,     0.96244,     0.96244,     0.96244,     0.96137,     0.96137,     0.96137,     0.96137,     0.96137,     0.96137,     0.96137,     0.96137,     0.96137,     0.96137,     0.96137,     0.96137,     0.96137,     0.96137,     0.96137,     0.96137,     0.96137,\n",
       "            0.96137,     0.96137,     0.96137,     0.96137,     0.96137,     0.96137,     0.96137,     0.96137,     0.96137,     0.96137,     0.96137,     0.96137,     0.96137,     0.96137,     0.96137,     0.95816,     0.95816,     0.95816,     0.95816,     0.95816,     0.95816,     0.95816,     0.95816,\n",
       "            0.95816,      0.9551,      0.9551,      0.9551,      0.9551,      0.9551,      0.9551,      0.9551,      0.9551,     0.94841,     0.94841,     0.94841,     0.94841,     0.94841,     0.94841,     0.94841,     0.94841,     0.94841,     0.94574,     0.94574,     0.94574,     0.94574,     0.94574,\n",
       "            0.94574,     0.94574,     0.94574,     0.94231,     0.94231,     0.93962,     0.93962,     0.93962,     0.93962,     0.93962,     0.93962,     0.93962,     0.93796,     0.93796,     0.93796,     0.93796,     0.93796,     0.93796,     0.93796,     0.93796,     0.93796,     0.93796,     0.93796,\n",
       "            0.93796,     0.93796,     0.93502,     0.93502,     0.93502,     0.93502,      0.9319,     0.92908,     0.92908,     0.92908,     0.92908,     0.92388,     0.92388,     0.92388,     0.92388,     0.92388,     0.92388,     0.92388,     0.92388,     0.92096,     0.92096,     0.91919,     0.91919,\n",
       "            0.91919,     0.91919,     0.91919,     0.91919,     0.91919,     0.91919,     0.91919,     0.91694,     0.91694,     0.91694,     0.91694,     0.91694,     0.91531,     0.91531,     0.91531,     0.91531,     0.91531,     0.91531,     0.91531,     0.91531,     0.90968,     0.90968,     0.90735,\n",
       "            0.90735,     0.90735,     0.90506,     0.90506,     0.90506,     0.90506,     0.90252,     0.90252,      0.8972,     0.89329,     0.89329,     0.89329,     0.89329,     0.89329,     0.89329,     0.89329,     0.89329,     0.89329,     0.89091,     0.89091,     0.87537,     0.87356,     0.87356,\n",
       "            0.87356,     0.87356,     0.87356,     0.87356,     0.87356,     0.87356,     0.87356,     0.87356,     0.87356,     0.87356,     0.87356,     0.87356,     0.87356,     0.87356,     0.86798,     0.86798,     0.86798,     0.86798,     0.86798,     0.86798,     0.86798,     0.86798,     0.86667,\n",
       "            0.86667,     0.86667,     0.86667,     0.86667,     0.86027,     0.86027,     0.86027,     0.86027,     0.85135,     0.84492,     0.84492,     0.84085,     0.84085,     0.82597,     0.82597,     0.82262,     0.82262,     0.82262,     0.82143,     0.82143,     0.82143,      0.8198,      0.8198,\n",
       "            0.80798,     0.80798,     0.80693,     0.80693,     0.80693,     0.80097,     0.80097,     0.80097,     0.80097,     0.80097,     0.80097,     0.80097,     0.79952,     0.79952,     0.79808,     0.79665,     0.79665,     0.79572,     0.79572,     0.79572,     0.79572,     0.79433,     0.77701,\n",
       "            0.77701,     0.77701,     0.77701,     0.76871,     0.76802,     0.76802,     0.76802,     0.76802,      0.7651,      0.7651,     0.75885,     0.75824,     0.75824,     0.75824,     0.75824,     0.74946,     0.74946,     0.74946,     0.74678,     0.74678,     0.74573,     0.74153,     0.74153,\n",
       "             0.7364,      0.7364,      0.7364,      0.7364,     0.72784,     0.72597,     0.72597,     0.72597,     0.72597,     0.72561,     0.72561,     0.72561,     0.72323,     0.72323,     0.72088,     0.72088,     0.72056,     0.72056,     0.72056,     0.71683,     0.71683,     0.71513,     0.71513,\n",
       "            0.71513,     0.71289,     0.71289,     0.71068,     0.71068,     0.70986,     0.70906,     0.70906,      0.7042,      0.7042,     0.70037,     0.70037,     0.70037,     0.70037,     0.70037,     0.70037,     0.70037,     0.70037,     0.69573,     0.69573,      0.6947,      0.6947,      0.6947,\n",
       "             0.6947,      0.6947,      0.6947,      0.6947,      0.6947,     0.68402,     0.68402,     0.68271,     0.68271,     0.68271,     0.68271,     0.67016,     0.66265,     0.66265,     0.65535,     0.65535,     0.65268,     0.65268,     0.65268,     0.65268,     0.65268,     0.64892,     0.64415,\n",
       "            0.64415,     0.64216,     0.64216,     0.64216,     0.64216,     0.63857,     0.63607,     0.63607,     0.63563,     0.63563,      0.6352,     0.63175,     0.63175,     0.63133,     0.63133,     0.62751,     0.62751,     0.62751,     0.62751,     0.62751,     0.62751,     0.62751,     0.62751,\n",
       "            0.62751,     0.62751,     0.62751,     0.62751,     0.62712,     0.62712,     0.62481,     0.62064,     0.62064,     0.61991,     0.61991,     0.61991,     0.61955,     0.61955,     0.61734,     0.61734,     0.61481,     0.61481,     0.61481,     0.61087,     0.61087,     0.60144,     0.60144,\n",
       "            0.60144,     0.60115,     0.60115,     0.59574,     0.59574,     0.59547,     0.58807,     0.58807,     0.58807,     0.58807,     0.58807,     0.58807,      0.5854,     0.57859,     0.57859,     0.57859,     0.57859,     0.57739,     0.57739,     0.57739,     0.57677,     0.57677,     0.57677,\n",
       "            0.57677,     0.57677,      0.5655,      0.5655,      0.5655,      0.5655,      0.5655,      0.5655,      0.5655,     0.56242,     0.56242,     0.56066,     0.56066,     0.56066,     0.56051,     0.56051,     0.55894,     0.55894,     0.55181,     0.54963,     0.54963,     0.54815,     0.54815,\n",
       "            0.54724,     0.54724,     0.54724,     0.54645,     0.54645,     0.54237,     0.54237,     0.53452,     0.53059,     0.53059,     0.53059,     0.53059,     0.52619,     0.52535,     0.52535,     0.52535,     0.52535,     0.52535,     0.52535,     0.52535,     0.52529,     0.52529,     0.52463,\n",
       "            0.52463,     0.52457,     0.52392,     0.52392,     0.52268,     0.52268,      0.5191,     0.51732,     0.51732,     0.51728,     0.51728,     0.51549,     0.51549,     0.51549,     0.51319,     0.51319,      0.5126,      0.5126,     0.50978,     0.50811,     0.50811,     0.50053,     0.50053,\n",
       "                0.5,         0.5,         0.5,     0.49686,     0.49686,     0.49376,     0.49376,     0.49177,     0.49177,     0.49177,     0.49177,     0.49177,      0.4893,      0.4893,      0.4893,     0.48643,     0.48643,     0.48643,     0.48643,     0.48643,     0.48643,     0.48643,     0.48597,\n",
       "            0.48597,     0.48506,     0.48506,     0.48506,     0.48461,     0.48461,     0.48327,     0.48327,     0.48327,     0.48327,     0.48327,     0.48188,     0.48188,     0.48004,     0.47637,     0.47637,      0.4755,      0.4755,      0.4751,      0.4751,     0.47314,     0.47314,     0.47314,\n",
       "            0.47314,     0.47314,     0.47314,     0.47314,     0.47314,     0.47314,     0.47314,     0.46834,     0.46667,     0.46667,     0.46636,     0.46636,     0.46636,     0.46636,      0.4635,      0.4635,      0.4635,     0.46231,     0.46231,     0.46196,     0.45789,     0.45789,     0.45471,\n",
       "            0.45471,     0.45198,     0.45198,     0.45048,     0.44512,     0.44512,     0.44103,     0.44103,     0.44075,     0.43131,     0.43131,     0.43106,     0.43106,     0.42834,     0.42565,     0.42565,     0.42301,     0.42301,     0.41886,     0.41886,     0.41886,     0.41866,     0.41866,\n",
       "            0.41812,     0.41812,     0.41792,     0.41772,     0.41772,     0.41719,     0.41719,     0.41517,     0.41517,     0.41517,     0.40955,     0.40955,     0.40906,     0.40906,     0.40763,     0.40347,     0.40347,     0.40301,     0.40301,     0.39866,     0.39866,     0.39793,     0.39648,\n",
       "            0.39648,     0.39648,     0.39648,     0.39518,     0.38981,     0.38981,     0.38981,     0.38981,     0.38913,     0.38625,     0.38625,     0.38182,     0.38182,     0.37776,     0.37776,     0.37254,     0.37145,     0.37145,     0.37087,     0.37087,     0.36955,     0.36867,     0.36867,\n",
       "            0.36867,     0.36867,     0.36713,     0.36713,     0.36537,     0.36531,     0.36531,     0.36477,     0.36477,     0.36393,     0.36393,     0.36393,     0.36223,     0.36223,     0.35847,     0.35847,     0.35592,     0.35521,     0.35521,     0.35294,     0.35294,     0.35246,      0.3466,\n",
       "             0.3466,     0.34364,     0.34364,     0.34053,      0.3397,      0.3397,     0.32948,     0.32948,     0.32462,     0.32462,     0.32045,     0.31998,     0.31998,     0.31998,     0.31998,     0.31998,     0.31982,     0.31982,     0.31206,     0.31206,     0.30975,     0.30975,     0.29861,\n",
       "            0.29397,     0.29397,     0.28397,     0.28397,     0.26371,     0.25194,     0.25194,     0.21306,     0.21306,     0.21165,           0]]), 'Recall', 'Precision'], [array([          0,    0.001001,    0.002002,    0.003003,    0.004004,    0.005005,    0.006006,    0.007007,    0.008008,    0.009009,     0.01001,    0.011011,    0.012012,    0.013013,    0.014014,    0.015015,    0.016016,    0.017017,    0.018018,    0.019019,     0.02002,    0.021021,    0.022022,    0.023023,\n",
       "          0.024024,    0.025025,    0.026026,    0.027027,    0.028028,    0.029029,     0.03003,    0.031031,    0.032032,    0.033033,    0.034034,    0.035035,    0.036036,    0.037037,    0.038038,    0.039039,     0.04004,    0.041041,    0.042042,    0.043043,    0.044044,    0.045045,    0.046046,    0.047047,\n",
       "          0.048048,    0.049049,     0.05005,    0.051051,    0.052052,    0.053053,    0.054054,    0.055055,    0.056056,    0.057057,    0.058058,    0.059059,     0.06006,    0.061061,    0.062062,    0.063063,    0.064064,    0.065065,    0.066066,    0.067067,    0.068068,    0.069069,     0.07007,    0.071071,\n",
       "          0.072072,    0.073073,    0.074074,    0.075075,    0.076076,    0.077077,    0.078078,    0.079079,     0.08008,    0.081081,    0.082082,    0.083083,    0.084084,    0.085085,    0.086086,    0.087087,    0.088088,    0.089089,     0.09009,    0.091091,    0.092092,    0.093093,    0.094094,    0.095095,\n",
       "          0.096096,    0.097097,    0.098098,    0.099099,      0.1001,      0.1011,      0.1021,      0.1031,      0.1041,     0.10511,     0.10611,     0.10711,     0.10811,     0.10911,     0.11011,     0.11111,     0.11211,     0.11311,     0.11411,     0.11512,     0.11612,     0.11712,     0.11812,     0.11912,\n",
       "           0.12012,     0.12112,     0.12212,     0.12312,     0.12412,     0.12513,     0.12613,     0.12713,     0.12813,     0.12913,     0.13013,     0.13113,     0.13213,     0.13313,     0.13413,     0.13514,     0.13614,     0.13714,     0.13814,     0.13914,     0.14014,     0.14114,     0.14214,     0.14314,\n",
       "           0.14414,     0.14515,     0.14615,     0.14715,     0.14815,     0.14915,     0.15015,     0.15115,     0.15215,     0.15315,     0.15415,     0.15516,     0.15616,     0.15716,     0.15816,     0.15916,     0.16016,     0.16116,     0.16216,     0.16316,     0.16416,     0.16517,     0.16617,     0.16717,\n",
       "           0.16817,     0.16917,     0.17017,     0.17117,     0.17217,     0.17317,     0.17417,     0.17518,     0.17618,     0.17718,     0.17818,     0.17918,     0.18018,     0.18118,     0.18218,     0.18318,     0.18418,     0.18519,     0.18619,     0.18719,     0.18819,     0.18919,     0.19019,     0.19119,\n",
       "           0.19219,     0.19319,     0.19419,      0.1952,      0.1962,      0.1972,      0.1982,      0.1992,      0.2002,      0.2012,      0.2022,      0.2032,      0.2042,     0.20521,     0.20621,     0.20721,     0.20821,     0.20921,     0.21021,     0.21121,     0.21221,     0.21321,     0.21421,     0.21522,\n",
       "           0.21622,     0.21722,     0.21822,     0.21922,     0.22022,     0.22122,     0.22222,     0.22322,     0.22422,     0.22523,     0.22623,     0.22723,     0.22823,     0.22923,     0.23023,     0.23123,     0.23223,     0.23323,     0.23423,     0.23524,     0.23624,     0.23724,     0.23824,     0.23924,\n",
       "           0.24024,     0.24124,     0.24224,     0.24324,     0.24424,     0.24525,     0.24625,     0.24725,     0.24825,     0.24925,     0.25025,     0.25125,     0.25225,     0.25325,     0.25425,     0.25526,     0.25626,     0.25726,     0.25826,     0.25926,     0.26026,     0.26126,     0.26226,     0.26326,\n",
       "           0.26426,     0.26527,     0.26627,     0.26727,     0.26827,     0.26927,     0.27027,     0.27127,     0.27227,     0.27327,     0.27427,     0.27528,     0.27628,     0.27728,     0.27828,     0.27928,     0.28028,     0.28128,     0.28228,     0.28328,     0.28428,     0.28529,     0.28629,     0.28729,\n",
       "           0.28829,     0.28929,     0.29029,     0.29129,     0.29229,     0.29329,     0.29429,      0.2953,      0.2963,      0.2973,      0.2983,      0.2993,      0.3003,      0.3013,      0.3023,      0.3033,      0.3043,     0.30531,     0.30631,     0.30731,     0.30831,     0.30931,     0.31031,     0.31131,\n",
       "           0.31231,     0.31331,     0.31431,     0.31532,     0.31632,     0.31732,     0.31832,     0.31932,     0.32032,     0.32132,     0.32232,     0.32332,     0.32432,     0.32533,     0.32633,     0.32733,     0.32833,     0.32933,     0.33033,     0.33133,     0.33233,     0.33333,     0.33433,     0.33534,\n",
       "           0.33634,     0.33734,     0.33834,     0.33934,     0.34034,     0.34134,     0.34234,     0.34334,     0.34434,     0.34535,     0.34635,     0.34735,     0.34835,     0.34935,     0.35035,     0.35135,     0.35235,     0.35335,     0.35435,     0.35536,     0.35636,     0.35736,     0.35836,     0.35936,\n",
       "           0.36036,     0.36136,     0.36236,     0.36336,     0.36436,     0.36537,     0.36637,     0.36737,     0.36837,     0.36937,     0.37037,     0.37137,     0.37237,     0.37337,     0.37437,     0.37538,     0.37638,     0.37738,     0.37838,     0.37938,     0.38038,     0.38138,     0.38238,     0.38338,\n",
       "           0.38438,     0.38539,     0.38639,     0.38739,     0.38839,     0.38939,     0.39039,     0.39139,     0.39239,     0.39339,     0.39439,      0.3954,      0.3964,      0.3974,      0.3984,      0.3994,      0.4004,      0.4014,      0.4024,      0.4034,      0.4044,     0.40541,     0.40641,     0.40741,\n",
       "           0.40841,     0.40941,     0.41041,     0.41141,     0.41241,     0.41341,     0.41441,     0.41542,     0.41642,     0.41742,     0.41842,     0.41942,     0.42042,     0.42142,     0.42242,     0.42342,     0.42442,     0.42543,     0.42643,     0.42743,     0.42843,     0.42943,     0.43043,     0.43143,\n",
       "           0.43243,     0.43343,     0.43443,     0.43544,     0.43644,     0.43744,     0.43844,     0.43944,     0.44044,     0.44144,     0.44244,     0.44344,     0.44444,     0.44545,     0.44645,     0.44745,     0.44845,     0.44945,     0.45045,     0.45145,     0.45245,     0.45345,     0.45445,     0.45546,\n",
       "           0.45646,     0.45746,     0.45846,     0.45946,     0.46046,     0.46146,     0.46246,     0.46346,     0.46446,     0.46547,     0.46647,     0.46747,     0.46847,     0.46947,     0.47047,     0.47147,     0.47247,     0.47347,     0.47447,     0.47548,     0.47648,     0.47748,     0.47848,     0.47948,\n",
       "           0.48048,     0.48148,     0.48248,     0.48348,     0.48448,     0.48549,     0.48649,     0.48749,     0.48849,     0.48949,     0.49049,     0.49149,     0.49249,     0.49349,     0.49449,      0.4955,      0.4965,      0.4975,      0.4985,      0.4995,      0.5005,      0.5015,      0.5025,      0.5035,\n",
       "            0.5045,     0.50551,     0.50651,     0.50751,     0.50851,     0.50951,     0.51051,     0.51151,     0.51251,     0.51351,     0.51451,     0.51552,     0.51652,     0.51752,     0.51852,     0.51952,     0.52052,     0.52152,     0.52252,     0.52352,     0.52452,     0.52553,     0.52653,     0.52753,\n",
       "           0.52853,     0.52953,     0.53053,     0.53153,     0.53253,     0.53353,     0.53453,     0.53554,     0.53654,     0.53754,     0.53854,     0.53954,     0.54054,     0.54154,     0.54254,     0.54354,     0.54454,     0.54555,     0.54655,     0.54755,     0.54855,     0.54955,     0.55055,     0.55155,\n",
       "           0.55255,     0.55355,     0.55455,     0.55556,     0.55656,     0.55756,     0.55856,     0.55956,     0.56056,     0.56156,     0.56256,     0.56356,     0.56456,     0.56557,     0.56657,     0.56757,     0.56857,     0.56957,     0.57057,     0.57157,     0.57257,     0.57357,     0.57457,     0.57558,\n",
       "           0.57658,     0.57758,     0.57858,     0.57958,     0.58058,     0.58158,     0.58258,     0.58358,     0.58458,     0.58559,     0.58659,     0.58759,     0.58859,     0.58959,     0.59059,     0.59159,     0.59259,     0.59359,     0.59459,      0.5956,      0.5966,      0.5976,      0.5986,      0.5996,\n",
       "            0.6006,      0.6016,      0.6026,      0.6036,      0.6046,     0.60561,     0.60661,     0.60761,     0.60861,     0.60961,     0.61061,     0.61161,     0.61261,     0.61361,     0.61461,     0.61562,     0.61662,     0.61762,     0.61862,     0.61962,     0.62062,     0.62162,     0.62262,     0.62362,\n",
       "           0.62462,     0.62563,     0.62663,     0.62763,     0.62863,     0.62963,     0.63063,     0.63163,     0.63263,     0.63363,     0.63463,     0.63564,     0.63664,     0.63764,     0.63864,     0.63964,     0.64064,     0.64164,     0.64264,     0.64364,     0.64464,     0.64565,     0.64665,     0.64765,\n",
       "           0.64865,     0.64965,     0.65065,     0.65165,     0.65265,     0.65365,     0.65465,     0.65566,     0.65666,     0.65766,     0.65866,     0.65966,     0.66066,     0.66166,     0.66266,     0.66366,     0.66466,     0.66567,     0.66667,     0.66767,     0.66867,     0.66967,     0.67067,     0.67167,\n",
       "           0.67267,     0.67367,     0.67467,     0.67568,     0.67668,     0.67768,     0.67868,     0.67968,     0.68068,     0.68168,     0.68268,     0.68368,     0.68468,     0.68569,     0.68669,     0.68769,     0.68869,     0.68969,     0.69069,     0.69169,     0.69269,     0.69369,     0.69469,      0.6957,\n",
       "            0.6967,      0.6977,      0.6987,      0.6997,      0.7007,      0.7017,      0.7027,      0.7037,      0.7047,     0.70571,     0.70671,     0.70771,     0.70871,     0.70971,     0.71071,     0.71171,     0.71271,     0.71371,     0.71471,     0.71572,     0.71672,     0.71772,     0.71872,     0.71972,\n",
       "           0.72072,     0.72172,     0.72272,     0.72372,     0.72472,     0.72573,     0.72673,     0.72773,     0.72873,     0.72973,     0.73073,     0.73173,     0.73273,     0.73373,     0.73473,     0.73574,     0.73674,     0.73774,     0.73874,     0.73974,     0.74074,     0.74174,     0.74274,     0.74374,\n",
       "           0.74474,     0.74575,     0.74675,     0.74775,     0.74875,     0.74975,     0.75075,     0.75175,     0.75275,     0.75375,     0.75475,     0.75576,     0.75676,     0.75776,     0.75876,     0.75976,     0.76076,     0.76176,     0.76276,     0.76376,     0.76476,     0.76577,     0.76677,     0.76777,\n",
       "           0.76877,     0.76977,     0.77077,     0.77177,     0.77277,     0.77377,     0.77477,     0.77578,     0.77678,     0.77778,     0.77878,     0.77978,     0.78078,     0.78178,     0.78278,     0.78378,     0.78478,     0.78579,     0.78679,     0.78779,     0.78879,     0.78979,     0.79079,     0.79179,\n",
       "           0.79279,     0.79379,     0.79479,      0.7958,      0.7968,      0.7978,      0.7988,      0.7998,      0.8008,      0.8018,      0.8028,      0.8038,      0.8048,     0.80581,     0.80681,     0.80781,     0.80881,     0.80981,     0.81081,     0.81181,     0.81281,     0.81381,     0.81481,     0.81582,\n",
       "           0.81682,     0.81782,     0.81882,     0.81982,     0.82082,     0.82182,     0.82282,     0.82382,     0.82482,     0.82583,     0.82683,     0.82783,     0.82883,     0.82983,     0.83083,     0.83183,     0.83283,     0.83383,     0.83483,     0.83584,     0.83684,     0.83784,     0.83884,     0.83984,\n",
       "           0.84084,     0.84184,     0.84284,     0.84384,     0.84484,     0.84585,     0.84685,     0.84785,     0.84885,     0.84985,     0.85085,     0.85185,     0.85285,     0.85385,     0.85485,     0.85586,     0.85686,     0.85786,     0.85886,     0.85986,     0.86086,     0.86186,     0.86286,     0.86386,\n",
       "           0.86486,     0.86587,     0.86687,     0.86787,     0.86887,     0.86987,     0.87087,     0.87187,     0.87287,     0.87387,     0.87487,     0.87588,     0.87688,     0.87788,     0.87888,     0.87988,     0.88088,     0.88188,     0.88288,     0.88388,     0.88488,     0.88589,     0.88689,     0.88789,\n",
       "           0.88889,     0.88989,     0.89089,     0.89189,     0.89289,     0.89389,     0.89489,      0.8959,      0.8969,      0.8979,      0.8989,      0.8999,      0.9009,      0.9019,      0.9029,      0.9039,      0.9049,     0.90591,     0.90691,     0.90791,     0.90891,     0.90991,     0.91091,     0.91191,\n",
       "           0.91291,     0.91391,     0.91491,     0.91592,     0.91692,     0.91792,     0.91892,     0.91992,     0.92092,     0.92192,     0.92292,     0.92392,     0.92492,     0.92593,     0.92693,     0.92793,     0.92893,     0.92993,     0.93093,     0.93193,     0.93293,     0.93393,     0.93493,     0.93594,\n",
       "           0.93694,     0.93794,     0.93894,     0.93994,     0.94094,     0.94194,     0.94294,     0.94394,     0.94494,     0.94595,     0.94695,     0.94795,     0.94895,     0.94995,     0.95095,     0.95195,     0.95295,     0.95395,     0.95495,     0.95596,     0.95696,     0.95796,     0.95896,     0.95996,\n",
       "           0.96096,     0.96196,     0.96296,     0.96396,     0.96496,     0.96597,     0.96697,     0.96797,     0.96897,     0.96997,     0.97097,     0.97197,     0.97297,     0.97397,     0.97497,     0.97598,     0.97698,     0.97798,     0.97898,     0.97998,     0.98098,     0.98198,     0.98298,     0.98398,\n",
       "           0.98498,     0.98599,     0.98699,     0.98799,     0.98899,     0.98999,     0.99099,     0.99199,     0.99299,     0.99399,     0.99499,       0.996,       0.997,       0.998,       0.999,           1]), array([[     0.3135,      0.3135,     0.34255,     0.35777,     0.36873,     0.37901,     0.38714,     0.39525,     0.40217,     0.40714,     0.41161,      0.4169,     0.42032,     0.42526,     0.42868,     0.43299,     0.43626,     0.43957,     0.44262,     0.44565,     0.44814,     0.45156,     0.45351,\n",
       "            0.45602,     0.45869,     0.46012,     0.46204,     0.46483,     0.46711,     0.46924,     0.47153,     0.47202,     0.47364,     0.47573,     0.47713,     0.47891,     0.48064,     0.48191,      0.4819,     0.48273,     0.48478,     0.48665,     0.48746,      0.4895,     0.49023,     0.49138,\n",
       "            0.49243,     0.49336,     0.49473,     0.49838,     0.50027,     0.50255,     0.50291,     0.50516,      0.5068,     0.50913,     0.51007,     0.51172,      0.5129,     0.51498,     0.51617,     0.51682,     0.51752,     0.51837,      0.5189,     0.52117,     0.52125,     0.52369,     0.52548,\n",
       "            0.52674,     0.52614,     0.52695,     0.52707,     0.52767,      0.5287,     0.52892,     0.53119,     0.53165,     0.53337,     0.53435,     0.53642,     0.53802,     0.53832,     0.53949,      0.5418,     0.54241,      0.5458,       0.546,     0.54846,     0.54895,     0.54878,     0.55144,\n",
       "            0.55312,     0.55412,     0.55413,     0.55547,      0.5557,     0.55748,     0.55958,     0.55954,     0.56171,     0.56311,     0.56404,     0.56452,     0.56669,     0.56807,     0.56869,     0.56961,     0.57054,     0.57005,     0.57096,     0.57064,     0.57023,       0.573,     0.57453,\n",
       "            0.57549,     0.57783,     0.57892,     0.58004,     0.57967,      0.5821,     0.58402,     0.58649,     0.58761,     0.58803,      0.5884,     0.58984,     0.59104,     0.59268,     0.59418,     0.59582,     0.59618,     0.59763,     0.59821,     0.59924,     0.60074,     0.60142,     0.60241,\n",
       "            0.60345,     0.60379,     0.60332,     0.60351,     0.60442,     0.60539,     0.60528,     0.60577,     0.60859,     0.60825,     0.60797,     0.60713,     0.60813,     0.60894,     0.61147,      0.6113,     0.61152,     0.61211,     0.61197,      0.6123,     0.61284,     0.61221,     0.61251,\n",
       "            0.61163,     0.61073,     0.61125,      0.6122,     0.61313,     0.61219,     0.61342,     0.61408,     0.61532,      0.6156,     0.61685,     0.61738,     0.61734,     0.61673,     0.61756,     0.61941,     0.62147,     0.62175,      0.6228,     0.62414,     0.62441,     0.62498,     0.62516,\n",
       "            0.62536,      0.6262,     0.62641,     0.62777,     0.62781,     0.62802,     0.62777,     0.62738,     0.62532,     0.62505,     0.62598,     0.62706,     0.62988,     0.62943,     0.63089,     0.63324,     0.63405,     0.63463,     0.63593,     0.63645,     0.63638,     0.63591,     0.63607,\n",
       "            0.63677,     0.63689,     0.63754,     0.64041,     0.64114,       0.642,     0.64081,     0.64054,     0.64233,     0.64147,     0.64095,     0.64044,     0.64438,     0.64631,      0.6457,     0.64476,      0.6449,     0.64549,     0.64379,     0.64386,     0.64527,     0.64675,      0.6482,\n",
       "            0.64856,     0.64739,     0.64693,     0.64779,     0.65091,     0.65095,     0.65147,     0.65335,      0.6527,     0.65122,     0.65224,     0.65467,     0.65621,     0.65668,     0.65664,     0.65714,     0.65807,     0.65767,     0.65833,      0.6586,     0.65764,     0.65866,     0.65693,\n",
       "            0.65774,     0.65825,     0.65876,     0.65815,     0.65846,     0.65899,     0.65878,     0.65823,     0.65449,     0.65272,     0.65404,     0.65377,     0.65435,     0.65467,     0.65535,     0.65575,     0.65611,     0.65524,     0.65562,     0.65473,     0.65452,     0.65449,     0.65521,\n",
       "            0.65638,     0.65495,     0.65512,     0.65529,     0.65546,     0.65598,     0.65514,     0.65589,     0.65676,     0.65744,     0.65677,     0.65766,     0.65796,     0.65859,     0.65649,     0.65741,     0.65693,     0.65892,     0.65943,     0.65975,      0.6598,     0.66046,     0.66159,\n",
       "            0.66203,     0.66313,      0.6634,      0.6645,     0.66556,     0.66577,     0.66597,     0.66678,     0.66703,     0.66745,     0.66663,     0.66621,     0.66743,      0.6683,     0.66916,     0.66947,     0.67032,     0.67064,     0.67116,     0.67021,     0.66804,     0.66814,     0.66676,\n",
       "            0.66632,     0.66612,     0.66652,     0.66771,      0.6683,     0.66703,     0.66653,     0.66597,     0.66508,     0.66476,     0.66349,     0.66389,     0.66434,      0.6647,      0.6645,     0.66578,     0.66585,     0.66507,     0.66544,     0.66485,     0.66513,      0.6654,     0.66442,\n",
       "             0.6652,     0.66496,     0.66442,     0.66394,     0.66349,     0.66305,     0.66362,     0.66365,     0.66382,     0.66399,     0.66415,     0.66397,     0.66288,     0.66205,     0.66202,     0.66278,     0.66149,     0.66066,     0.66015,     0.65973,     0.65909,     0.66074,     0.66207,\n",
       "            0.66161,     0.66116,     0.66016,     0.66006,     0.66074,     0.66164,     0.66191,     0.66218,      0.6616,     0.66117,     0.66281,     0.66217,     0.66158,     0.66098,     0.66148,     0.66185,     0.66219,     0.66138,     0.65966,     0.66161,     0.66336,     0.66135,     0.66136,\n",
       "            0.66027,     0.66084,     0.66161,     0.66269,     0.66188,     0.66267,     0.66143,     0.66058,     0.66058,     0.66011,     0.65964,      0.6608,     0.66215,     0.66271,     0.66137,     0.66064,     0.66027,     0.66077,     0.66119,     0.66221,     0.66259,     0.66289,     0.66316,\n",
       "            0.66347,     0.66412,     0.66491,      0.6654,      0.6662,     0.66563,     0.66474,     0.66347,     0.66369,     0.66391,     0.66339,     0.66295,     0.66214,      0.6626,     0.66162,     0.66155,     0.65904,     0.65761,     0.65678,     0.65866,     0.65879,     0.65783,     0.65702,\n",
       "            0.65666,     0.65697,     0.65702,     0.65631,     0.65612,      0.6567,     0.65707,     0.65778,     0.65847,     0.65941,     0.65848,     0.65707,     0.65681,     0.65654,     0.65628,     0.65602,     0.65575,     0.65526,     0.65472,      0.6545,     0.65545,     0.65438,     0.65466,\n",
       "            0.65495,     0.65633,     0.65681,     0.65751,     0.65878,     0.65804,     0.65888,     0.65811,     0.65857,     0.65894,     0.65849,      0.6597,     0.65926,     0.65883,      0.6595,     0.66005,     0.65922,     0.65804,      0.6563,     0.65672,      0.6564,     0.65607,     0.65575,\n",
       "            0.65543,     0.65444,     0.65363,     0.65318,     0.65274,      0.6512,     0.65009,     0.65032,     0.65107,     0.65152,     0.65008,     0.64967,     0.64926,     0.64886,       0.648,     0.64582,     0.64546,      0.6451,     0.64474,     0.64437,     0.64383,      0.6433,     0.64283,\n",
       "            0.64253,     0.64223,     0.64193,     0.64163,     0.64026,     0.63922,     0.63928,     0.63936,     0.64037,     0.64072,     0.64096,      0.6412,     0.64166,     0.64202,     0.64224,     0.64246,     0.64239,     0.64143,     0.64163,     0.64058,     0.63958,     0.63879,     0.63842,\n",
       "            0.63806,     0.63769,     0.63701,     0.63455,     0.63542,     0.63434,     0.63557,     0.63488,      0.6346,     0.63194,     0.63237,     0.63056,     0.62956,        0.63,     0.62976,     0.62953,      0.6293,     0.62906,     0.62883,      0.6287,     0.62909,     0.62954,     0.62931,\n",
       "            0.62835,     0.62818,     0.62801,     0.62784,     0.62767,     0.62751,     0.62734,     0.62717,       0.627,      0.6234,     0.62243,     0.62259,     0.62276,     0.62292,     0.62248,     0.61974,     0.61867,     0.61731,     0.61634,     0.61488,     0.61376,     0.61295,     0.61176,\n",
       "            0.61129,     0.61151,     0.61172,     0.61097,      0.6105,     0.61003,     0.60956,     0.60739,     0.60431,     0.60357,     0.60336,     0.60391,     0.60419,     0.60397,     0.60261,     0.60122,     0.60159,     0.60155,     0.60046,     0.60043,     0.60067,     0.60092,     0.59899,\n",
       "            0.59815,      0.5979,     0.59818,     0.59643,     0.59581,     0.59518,     0.59394,     0.59258,     0.58945,     0.58823,     0.58758,     0.58693,     0.58526,     0.58545,     0.58564,     0.58584,     0.58488,     0.58391,      0.5833,     0.58268,     0.57957,     0.57892,     0.57836,\n",
       "            0.57872,     0.57507,     0.57206,     0.57166,     0.57125,     0.57085,     0.57045,     0.57108,      0.5707,     0.57033,     0.56995,     0.56957,     0.56909,     0.56852,     0.56794,      0.5668,     0.56541,     0.56429,     0.56329,     0.56255,     0.56281,     0.56307,     0.56371,\n",
       "            0.56249,     0.55852,     0.55643,     0.55544,     0.55504,     0.55415,     0.54875,     0.54797,     0.54719,     0.54721,     0.54748,     0.54731,     0.54563,     0.54185,     0.53958,     0.53787,     0.53644,     0.53469,      0.5334,     0.53139,     0.53019,     0.52587,     0.52547,\n",
       "            0.52506,     0.52466,     0.52426,     0.52323,     0.52194,     0.52011,     0.51878,     0.51835,     0.51798,     0.51761,     0.51724,     0.51687,     0.51387,      0.5135,     0.51364,     0.51319,     0.51274,     0.51229,     0.50963,     0.50731,     0.50578,     0.50442,     0.50478,\n",
       "             0.5048,     0.50371,     0.50362,     0.50324,     0.50256,     0.50162,      0.4992,     0.49818,     0.49411,       0.493,     0.49155,     0.48613,     0.48409,     0.48056,     0.47939,     0.47822,     0.47706,     0.47312,     0.47135,     0.46966,     0.46903,     0.46852,     0.46801,\n",
       "            0.46745,     0.46637,     0.46439,     0.46323,     0.46284,     0.46246,     0.46208,     0.46169,     0.46039,     0.45736,     0.45532,     0.45473,     0.45414,     0.45356,     0.44856,     0.44742,     0.44632,     0.44478,     0.44098,     0.43604,      0.4314,     0.42852,     0.42751,\n",
       "            0.42615,      0.4241,     0.42311,     0.42255,      0.4228,     0.42244,     0.42037,     0.41957,     0.41768,      0.4159,     0.41512,     0.41323,     0.41182,     0.41114,     0.41045,      0.4034,     0.40226,     0.39958,     0.39997,     0.39892,     0.39778,      0.3972,     0.39662,\n",
       "            0.39604,     0.39538,     0.39455,     0.39372,     0.39371,     0.38854,     0.38599,     0.38166,     0.37814,     0.37689,     0.37339,     0.37145,     0.36996,     0.36831,     0.36498,     0.36235,     0.36066,      0.3577,     0.35684,     0.35597,     0.35039,     0.34639,     0.34511,\n",
       "            0.34397,     0.34326,     0.34255,     0.34183,     0.33876,     0.33792,      0.3371,     0.33669,     0.33628,     0.33588,     0.33547,     0.33506,     0.33228,     0.33045,     0.33019,     0.33043,     0.32785,     0.32714,     0.32642,     0.32569,     0.32247,     0.32006,      0.3189,\n",
       "            0.31424,     0.31207,     0.30871,     0.30809,     0.30747,     0.30686,     0.30606,     0.30446,     0.30201,     0.30002,     0.29809,     0.29592,     0.29381,     0.29226,     0.28809,     0.28378,     0.28195,     0.27757,     0.26952,     0.26266,     0.25614,     0.25331,     0.25005,\n",
       "            0.24393,     0.24303,     0.24323,     0.23395,     0.22354,      0.2163,     0.21065,     0.20867,     0.20284,     0.19865,     0.19383,     0.18854,      0.1868,     0.18312,      0.1811,     0.17721,     0.17636,     0.17551,     0.17461,     0.17291,     0.17073,     0.16768,     0.16308,\n",
       "            0.15679,     0.15376,     0.14848,     0.14552,     0.14472,     0.14392,     0.14311,     0.13958,     0.13643,      0.1354,     0.13437,     0.12981,      0.1276,     0.12463,     0.12352,     0.12241,     0.11959,     0.11712,     0.11538,     0.11416,     0.11294,     0.10755,     0.10539,\n",
       "            0.10368,     0.10205,     0.10049,    0.099349,    0.098207,    0.094053,    0.091996,    0.084813,    0.083882,     0.08295,    0.082017,    0.078175,    0.077457,    0.076739,    0.076021,     0.07231,    0.070431,    0.067637,    0.063686,    0.058048,    0.056328,    0.055871,    0.055414,\n",
       "           0.054957,    0.054499,    0.054041,    0.053583,    0.052349,    0.048294,    0.044898,    0.042563,    0.040528,     0.03815,    0.033561,     0.03296,    0.032359,    0.031758,    0.031157,    0.030555,     0.03009,    0.029723,    0.029355,    0.028988,    0.028621,    0.028253,    0.027886,\n",
       "           0.027518,     0.02715,    0.026428,    0.025408,    0.024387,    0.023378,    0.022404,    0.021428,    0.020452,    0.016264,    0.015258,    0.014252,     0.01339,    0.012814,    0.012238,    0.011662,    0.011086,    0.010509,   0.0068024,   0.0066382,    0.006474,   0.0063098,   0.0061455,\n",
       "          0.0059812,   0.0058168,   0.0056525,   0.0054881,   0.0053237,   0.0051593,   0.0049948,   0.0048303,   0.0046658,   0.0045012,   0.0043367,   0.0041721,   0.0040074,   0.0038428,   0.0036781,   0.0035134,           0,           0,           0,           0,           0,           0,           0,\n",
       "                  0,           0,           0,           0,           0,           0,           0,           0,           0,           0,           0,           0,           0,           0,           0,           0,           0,           0,           0,           0,           0,           0,           0,\n",
       "                  0,           0,           0,           0,           0,           0,           0,           0,           0,           0,           0]]), 'Confidence', 'F1'], [array([          0,    0.001001,    0.002002,    0.003003,    0.004004,    0.005005,    0.006006,    0.007007,    0.008008,    0.009009,     0.01001,    0.011011,    0.012012,    0.013013,    0.014014,    0.015015,    0.016016,    0.017017,    0.018018,    0.019019,     0.02002,    0.021021,    0.022022,    0.023023,\n",
       "          0.024024,    0.025025,    0.026026,    0.027027,    0.028028,    0.029029,     0.03003,    0.031031,    0.032032,    0.033033,    0.034034,    0.035035,    0.036036,    0.037037,    0.038038,    0.039039,     0.04004,    0.041041,    0.042042,    0.043043,    0.044044,    0.045045,    0.046046,    0.047047,\n",
       "          0.048048,    0.049049,     0.05005,    0.051051,    0.052052,    0.053053,    0.054054,    0.055055,    0.056056,    0.057057,    0.058058,    0.059059,     0.06006,    0.061061,    0.062062,    0.063063,    0.064064,    0.065065,    0.066066,    0.067067,    0.068068,    0.069069,     0.07007,    0.071071,\n",
       "          0.072072,    0.073073,    0.074074,    0.075075,    0.076076,    0.077077,    0.078078,    0.079079,     0.08008,    0.081081,    0.082082,    0.083083,    0.084084,    0.085085,    0.086086,    0.087087,    0.088088,    0.089089,     0.09009,    0.091091,    0.092092,    0.093093,    0.094094,    0.095095,\n",
       "          0.096096,    0.097097,    0.098098,    0.099099,      0.1001,      0.1011,      0.1021,      0.1031,      0.1041,     0.10511,     0.10611,     0.10711,     0.10811,     0.10911,     0.11011,     0.11111,     0.11211,     0.11311,     0.11411,     0.11512,     0.11612,     0.11712,     0.11812,     0.11912,\n",
       "           0.12012,     0.12112,     0.12212,     0.12312,     0.12412,     0.12513,     0.12613,     0.12713,     0.12813,     0.12913,     0.13013,     0.13113,     0.13213,     0.13313,     0.13413,     0.13514,     0.13614,     0.13714,     0.13814,     0.13914,     0.14014,     0.14114,     0.14214,     0.14314,\n",
       "           0.14414,     0.14515,     0.14615,     0.14715,     0.14815,     0.14915,     0.15015,     0.15115,     0.15215,     0.15315,     0.15415,     0.15516,     0.15616,     0.15716,     0.15816,     0.15916,     0.16016,     0.16116,     0.16216,     0.16316,     0.16416,     0.16517,     0.16617,     0.16717,\n",
       "           0.16817,     0.16917,     0.17017,     0.17117,     0.17217,     0.17317,     0.17417,     0.17518,     0.17618,     0.17718,     0.17818,     0.17918,     0.18018,     0.18118,     0.18218,     0.18318,     0.18418,     0.18519,     0.18619,     0.18719,     0.18819,     0.18919,     0.19019,     0.19119,\n",
       "           0.19219,     0.19319,     0.19419,      0.1952,      0.1962,      0.1972,      0.1982,      0.1992,      0.2002,      0.2012,      0.2022,      0.2032,      0.2042,     0.20521,     0.20621,     0.20721,     0.20821,     0.20921,     0.21021,     0.21121,     0.21221,     0.21321,     0.21421,     0.21522,\n",
       "           0.21622,     0.21722,     0.21822,     0.21922,     0.22022,     0.22122,     0.22222,     0.22322,     0.22422,     0.22523,     0.22623,     0.22723,     0.22823,     0.22923,     0.23023,     0.23123,     0.23223,     0.23323,     0.23423,     0.23524,     0.23624,     0.23724,     0.23824,     0.23924,\n",
       "           0.24024,     0.24124,     0.24224,     0.24324,     0.24424,     0.24525,     0.24625,     0.24725,     0.24825,     0.24925,     0.25025,     0.25125,     0.25225,     0.25325,     0.25425,     0.25526,     0.25626,     0.25726,     0.25826,     0.25926,     0.26026,     0.26126,     0.26226,     0.26326,\n",
       "           0.26426,     0.26527,     0.26627,     0.26727,     0.26827,     0.26927,     0.27027,     0.27127,     0.27227,     0.27327,     0.27427,     0.27528,     0.27628,     0.27728,     0.27828,     0.27928,     0.28028,     0.28128,     0.28228,     0.28328,     0.28428,     0.28529,     0.28629,     0.28729,\n",
       "           0.28829,     0.28929,     0.29029,     0.29129,     0.29229,     0.29329,     0.29429,      0.2953,      0.2963,      0.2973,      0.2983,      0.2993,      0.3003,      0.3013,      0.3023,      0.3033,      0.3043,     0.30531,     0.30631,     0.30731,     0.30831,     0.30931,     0.31031,     0.31131,\n",
       "           0.31231,     0.31331,     0.31431,     0.31532,     0.31632,     0.31732,     0.31832,     0.31932,     0.32032,     0.32132,     0.32232,     0.32332,     0.32432,     0.32533,     0.32633,     0.32733,     0.32833,     0.32933,     0.33033,     0.33133,     0.33233,     0.33333,     0.33433,     0.33534,\n",
       "           0.33634,     0.33734,     0.33834,     0.33934,     0.34034,     0.34134,     0.34234,     0.34334,     0.34434,     0.34535,     0.34635,     0.34735,     0.34835,     0.34935,     0.35035,     0.35135,     0.35235,     0.35335,     0.35435,     0.35536,     0.35636,     0.35736,     0.35836,     0.35936,\n",
       "           0.36036,     0.36136,     0.36236,     0.36336,     0.36436,     0.36537,     0.36637,     0.36737,     0.36837,     0.36937,     0.37037,     0.37137,     0.37237,     0.37337,     0.37437,     0.37538,     0.37638,     0.37738,     0.37838,     0.37938,     0.38038,     0.38138,     0.38238,     0.38338,\n",
       "           0.38438,     0.38539,     0.38639,     0.38739,     0.38839,     0.38939,     0.39039,     0.39139,     0.39239,     0.39339,     0.39439,      0.3954,      0.3964,      0.3974,      0.3984,      0.3994,      0.4004,      0.4014,      0.4024,      0.4034,      0.4044,     0.40541,     0.40641,     0.40741,\n",
       "           0.40841,     0.40941,     0.41041,     0.41141,     0.41241,     0.41341,     0.41441,     0.41542,     0.41642,     0.41742,     0.41842,     0.41942,     0.42042,     0.42142,     0.42242,     0.42342,     0.42442,     0.42543,     0.42643,     0.42743,     0.42843,     0.42943,     0.43043,     0.43143,\n",
       "           0.43243,     0.43343,     0.43443,     0.43544,     0.43644,     0.43744,     0.43844,     0.43944,     0.44044,     0.44144,     0.44244,     0.44344,     0.44444,     0.44545,     0.44645,     0.44745,     0.44845,     0.44945,     0.45045,     0.45145,     0.45245,     0.45345,     0.45445,     0.45546,\n",
       "           0.45646,     0.45746,     0.45846,     0.45946,     0.46046,     0.46146,     0.46246,     0.46346,     0.46446,     0.46547,     0.46647,     0.46747,     0.46847,     0.46947,     0.47047,     0.47147,     0.47247,     0.47347,     0.47447,     0.47548,     0.47648,     0.47748,     0.47848,     0.47948,\n",
       "           0.48048,     0.48148,     0.48248,     0.48348,     0.48448,     0.48549,     0.48649,     0.48749,     0.48849,     0.48949,     0.49049,     0.49149,     0.49249,     0.49349,     0.49449,      0.4955,      0.4965,      0.4975,      0.4985,      0.4995,      0.5005,      0.5015,      0.5025,      0.5035,\n",
       "            0.5045,     0.50551,     0.50651,     0.50751,     0.50851,     0.50951,     0.51051,     0.51151,     0.51251,     0.51351,     0.51451,     0.51552,     0.51652,     0.51752,     0.51852,     0.51952,     0.52052,     0.52152,     0.52252,     0.52352,     0.52452,     0.52553,     0.52653,     0.52753,\n",
       "           0.52853,     0.52953,     0.53053,     0.53153,     0.53253,     0.53353,     0.53453,     0.53554,     0.53654,     0.53754,     0.53854,     0.53954,     0.54054,     0.54154,     0.54254,     0.54354,     0.54454,     0.54555,     0.54655,     0.54755,     0.54855,     0.54955,     0.55055,     0.55155,\n",
       "           0.55255,     0.55355,     0.55455,     0.55556,     0.55656,     0.55756,     0.55856,     0.55956,     0.56056,     0.56156,     0.56256,     0.56356,     0.56456,     0.56557,     0.56657,     0.56757,     0.56857,     0.56957,     0.57057,     0.57157,     0.57257,     0.57357,     0.57457,     0.57558,\n",
       "           0.57658,     0.57758,     0.57858,     0.57958,     0.58058,     0.58158,     0.58258,     0.58358,     0.58458,     0.58559,     0.58659,     0.58759,     0.58859,     0.58959,     0.59059,     0.59159,     0.59259,     0.59359,     0.59459,      0.5956,      0.5966,      0.5976,      0.5986,      0.5996,\n",
       "            0.6006,      0.6016,      0.6026,      0.6036,      0.6046,     0.60561,     0.60661,     0.60761,     0.60861,     0.60961,     0.61061,     0.61161,     0.61261,     0.61361,     0.61461,     0.61562,     0.61662,     0.61762,     0.61862,     0.61962,     0.62062,     0.62162,     0.62262,     0.62362,\n",
       "           0.62462,     0.62563,     0.62663,     0.62763,     0.62863,     0.62963,     0.63063,     0.63163,     0.63263,     0.63363,     0.63463,     0.63564,     0.63664,     0.63764,     0.63864,     0.63964,     0.64064,     0.64164,     0.64264,     0.64364,     0.64464,     0.64565,     0.64665,     0.64765,\n",
       "           0.64865,     0.64965,     0.65065,     0.65165,     0.65265,     0.65365,     0.65465,     0.65566,     0.65666,     0.65766,     0.65866,     0.65966,     0.66066,     0.66166,     0.66266,     0.66366,     0.66466,     0.66567,     0.66667,     0.66767,     0.66867,     0.66967,     0.67067,     0.67167,\n",
       "           0.67267,     0.67367,     0.67467,     0.67568,     0.67668,     0.67768,     0.67868,     0.67968,     0.68068,     0.68168,     0.68268,     0.68368,     0.68468,     0.68569,     0.68669,     0.68769,     0.68869,     0.68969,     0.69069,     0.69169,     0.69269,     0.69369,     0.69469,      0.6957,\n",
       "            0.6967,      0.6977,      0.6987,      0.6997,      0.7007,      0.7017,      0.7027,      0.7037,      0.7047,     0.70571,     0.70671,     0.70771,     0.70871,     0.70971,     0.71071,     0.71171,     0.71271,     0.71371,     0.71471,     0.71572,     0.71672,     0.71772,     0.71872,     0.71972,\n",
       "           0.72072,     0.72172,     0.72272,     0.72372,     0.72472,     0.72573,     0.72673,     0.72773,     0.72873,     0.72973,     0.73073,     0.73173,     0.73273,     0.73373,     0.73473,     0.73574,     0.73674,     0.73774,     0.73874,     0.73974,     0.74074,     0.74174,     0.74274,     0.74374,\n",
       "           0.74474,     0.74575,     0.74675,     0.74775,     0.74875,     0.74975,     0.75075,     0.75175,     0.75275,     0.75375,     0.75475,     0.75576,     0.75676,     0.75776,     0.75876,     0.75976,     0.76076,     0.76176,     0.76276,     0.76376,     0.76476,     0.76577,     0.76677,     0.76777,\n",
       "           0.76877,     0.76977,     0.77077,     0.77177,     0.77277,     0.77377,     0.77477,     0.77578,     0.77678,     0.77778,     0.77878,     0.77978,     0.78078,     0.78178,     0.78278,     0.78378,     0.78478,     0.78579,     0.78679,     0.78779,     0.78879,     0.78979,     0.79079,     0.79179,\n",
       "           0.79279,     0.79379,     0.79479,      0.7958,      0.7968,      0.7978,      0.7988,      0.7998,      0.8008,      0.8018,      0.8028,      0.8038,      0.8048,     0.80581,     0.80681,     0.80781,     0.80881,     0.80981,     0.81081,     0.81181,     0.81281,     0.81381,     0.81481,     0.81582,\n",
       "           0.81682,     0.81782,     0.81882,     0.81982,     0.82082,     0.82182,     0.82282,     0.82382,     0.82482,     0.82583,     0.82683,     0.82783,     0.82883,     0.82983,     0.83083,     0.83183,     0.83283,     0.83383,     0.83483,     0.83584,     0.83684,     0.83784,     0.83884,     0.83984,\n",
       "           0.84084,     0.84184,     0.84284,     0.84384,     0.84484,     0.84585,     0.84685,     0.84785,     0.84885,     0.84985,     0.85085,     0.85185,     0.85285,     0.85385,     0.85485,     0.85586,     0.85686,     0.85786,     0.85886,     0.85986,     0.86086,     0.86186,     0.86286,     0.86386,\n",
       "           0.86486,     0.86587,     0.86687,     0.86787,     0.86887,     0.86987,     0.87087,     0.87187,     0.87287,     0.87387,     0.87487,     0.87588,     0.87688,     0.87788,     0.87888,     0.87988,     0.88088,     0.88188,     0.88288,     0.88388,     0.88488,     0.88589,     0.88689,     0.88789,\n",
       "           0.88889,     0.88989,     0.89089,     0.89189,     0.89289,     0.89389,     0.89489,      0.8959,      0.8969,      0.8979,      0.8989,      0.8999,      0.9009,      0.9019,      0.9029,      0.9039,      0.9049,     0.90591,     0.90691,     0.90791,     0.90891,     0.90991,     0.91091,     0.91191,\n",
       "           0.91291,     0.91391,     0.91491,     0.91592,     0.91692,     0.91792,     0.91892,     0.91992,     0.92092,     0.92192,     0.92292,     0.92392,     0.92492,     0.92593,     0.92693,     0.92793,     0.92893,     0.92993,     0.93093,     0.93193,     0.93293,     0.93393,     0.93493,     0.93594,\n",
       "           0.93694,     0.93794,     0.93894,     0.93994,     0.94094,     0.94194,     0.94294,     0.94394,     0.94494,     0.94595,     0.94695,     0.94795,     0.94895,     0.94995,     0.95095,     0.95195,     0.95295,     0.95395,     0.95495,     0.95596,     0.95696,     0.95796,     0.95896,     0.95996,\n",
       "           0.96096,     0.96196,     0.96296,     0.96396,     0.96496,     0.96597,     0.96697,     0.96797,     0.96897,     0.96997,     0.97097,     0.97197,     0.97297,     0.97397,     0.97497,     0.97598,     0.97698,     0.97798,     0.97898,     0.97998,     0.98098,     0.98198,     0.98298,     0.98398,\n",
       "           0.98498,     0.98599,     0.98699,     0.98799,     0.98899,     0.98999,     0.99099,     0.99199,     0.99299,     0.99399,     0.99499,       0.996,       0.997,       0.998,       0.999,           1]), array([[    0.18589,     0.18589,     0.20667,     0.21802,     0.22621,       0.234,     0.24023,     0.24651,     0.25192,     0.25594,     0.25948,     0.26371,     0.26657,     0.27055,     0.27333,     0.27684,     0.27952,     0.28224,     0.28491,     0.28742,      0.2895,     0.29236,     0.29415,\n",
       "            0.29626,     0.29852,     0.29989,     0.30152,      0.3039,     0.30586,     0.30768,     0.30966,     0.31025,     0.31181,     0.31363,     0.31485,      0.3164,     0.31792,     0.31902,     0.31956,     0.32066,     0.32247,     0.32413,     0.32504,     0.32685,     0.32751,     0.32853,\n",
       "            0.32947,      0.3305,     0.33173,     0.33502,     0.33673,      0.3388,     0.33933,      0.3416,     0.34332,     0.34546,     0.34643,     0.34807,     0.34916,     0.35109,     0.35243,     0.35327,     0.35392,     0.35495,     0.35568,     0.35782,     0.35813,     0.36044,     0.36214,\n",
       "            0.36358,     0.36351,     0.36428,     0.36464,     0.36573,     0.36672,     0.36719,     0.37017,     0.37115,      0.3731,     0.37405,     0.37608,     0.37766,     0.37824,      0.3794,     0.38174,     0.38257,     0.38596,     0.38645,     0.38901,     0.38976,     0.39015,     0.39284,\n",
       "            0.39487,     0.39589,     0.39652,      0.3979,     0.39846,     0.40062,     0.40288,     0.40341,     0.40567,     0.40735,     0.40845,     0.40964,     0.41193,      0.4134,     0.41454,     0.41574,     0.41747,     0.41768,     0.41866,     0.41877,     0.41899,     0.42199,     0.42404,\n",
       "            0.42509,     0.42804,     0.42964,     0.43088,     0.43127,     0.43397,     0.43611,     0.43886,     0.44012,     0.44102,     0.44187,     0.44349,     0.44529,     0.44715,     0.44887,     0.45119,     0.45205,     0.45373,     0.45486,     0.45605,     0.45783,     0.45905,      0.4602,\n",
       "             0.4619,      0.4623,     0.46224,     0.46298,     0.46451,     0.46614,     0.46702,     0.46812,     0.47149,     0.47213,      0.4723,     0.47287,     0.47462,     0.47627,      0.4798,     0.48014,     0.48042,     0.48115,     0.48154,     0.48264,     0.48433,     0.48462,     0.48582,\n",
       "            0.48583,     0.48578,     0.48703,     0.48881,     0.49066,      0.4913,     0.49289,     0.49375,     0.49599,       0.497,     0.49863,      0.4997,     0.49993,      0.5002,     0.50153,     0.50398,     0.50671,     0.50766,     0.50952,     0.51167,     0.51299,     0.51494,     0.51588,\n",
       "             0.5168,     0.51878,      0.5198,     0.52168,     0.52228,      0.5243,     0.52505,     0.52518,     0.52434,     0.52479,     0.52691,     0.52971,      0.5341,     0.53429,     0.53639,     0.53979,     0.54184,     0.54267,     0.54459,     0.54534,     0.54612,     0.54654,     0.54832,\n",
       "            0.54936,     0.55135,     0.55232,     0.55665,     0.55869,     0.55999,     0.56009,     0.56063,     0.56436,     0.56507,     0.56518,     0.56539,     0.57156,     0.57461,     0.57678,     0.57665,     0.57762,     0.57856,     0.57763,     0.57811,     0.58038,     0.58278,     0.58624,\n",
       "            0.58766,     0.58701,     0.58756,     0.58897,     0.59416,     0.59539,     0.59744,     0.60061,     0.60072,     0.60064,     0.60237,     0.60653,     0.60918,     0.60999,     0.61118,     0.61206,     0.61446,     0.61555,     0.61671,     0.61718,      0.6168,     0.61926,     0.62086,\n",
       "            0.62232,     0.62324,     0.62415,     0.62443,     0.62499,     0.62593,     0.62735,     0.62706,     0.62507,     0.62437,      0.6268,     0.62774,     0.62881,     0.63078,     0.63361,     0.63435,     0.63503,      0.6349,     0.63561,      0.6359,     0.63658,     0.63805,     0.63943,\n",
       "            0.64165,     0.64205,     0.64238,     0.64271,     0.64304,     0.64403,     0.64401,     0.64546,     0.64714,      0.6488,     0.64845,     0.65052,     0.65112,     0.65235,     0.65233,     0.65526,     0.65575,     0.65973,     0.66074,      0.6614,     0.66323,     0.66456,     0.66686,\n",
       "            0.66775,     0.67011,     0.67233,      0.6746,     0.67679,     0.67721,     0.67764,      0.6793,     0.67984,     0.68071,     0.68184,     0.68373,      0.6863,     0.68813,     0.68997,     0.69062,     0.69243,     0.69312,     0.69423,     0.69414,     0.69344,     0.69415,     0.69349,\n",
       "             0.6937,     0.69526,     0.69614,     0.69875,     0.70003,      0.6997,     0.69947,      0.6992,     0.69915,     0.69967,     0.69906,     0.70067,     0.70168,     0.70248,     0.70418,     0.70705,     0.70938,      0.7094,     0.71067,     0.71151,     0.71215,     0.71278,     0.71276,\n",
       "            0.71455,      0.7149,     0.71465,     0.71443,     0.71423,     0.71403,     0.71656,     0.71781,      0.7182,     0.71859,     0.71898,     0.72017,     0.72084,     0.72047,       0.721,     0.72279,     0.72495,     0.72495,     0.72555,      0.7278,     0.72856,     0.73261,     0.73631,\n",
       "            0.73611,     0.73591,     0.73547,     0.73605,     0.73774,        0.74,     0.74067,     0.74133,     0.74124,     0.74145,     0.74557,     0.74665,      0.7465,     0.74632,     0.74759,     0.74853,     0.74939,     0.74911,     0.74838,     0.75343,      0.7582,     0.75737,     0.75842,\n",
       "            0.75833,     0.75992,     0.76195,     0.76482,     0.76561,     0.76773,     0.76747,     0.76713,     0.76861,     0.76842,     0.76823,     0.77169,     0.77539,     0.77691,     0.77647,     0.77619,     0.77639,     0.77779,     0.77894,     0.78178,     0.78284,     0.78369,     0.78443,\n",
       "            0.78531,     0.78713,     0.78937,     0.79075,     0.79415,     0.79465,     0.79526,      0.7951,     0.79574,     0.79638,     0.79643,     0.79696,       0.798,     0.79934,     0.79989,     0.80081,     0.79991,     0.79939,     0.79909,     0.80516,     0.80677,     0.80643,     0.80614,\n",
       "            0.80634,     0.80727,     0.80792,     0.80767,     0.80837,     0.81013,     0.81125,     0.81343,     0.81552,     0.81965,      0.8212,     0.82262,     0.82253,     0.82244,     0.82236,     0.82227,     0.82218,     0.82202,     0.82184,     0.82227,     0.82529,     0.82582,     0.82674,\n",
       "            0.82765,     0.83206,     0.83362,     0.83588,        0.84,     0.84169,     0.84446,     0.84613,     0.84765,     0.84887,     0.85166,      0.8557,     0.85979,     0.86156,     0.86385,      0.8666,     0.86638,     0.86607,      0.8664,     0.86797,     0.86789,      0.8678,     0.86772,\n",
       "            0.86763,     0.86737,     0.86716,     0.86705,     0.86693,     0.86653,     0.86623,     0.86876,     0.87145,     0.87306,     0.87316,     0.87306,     0.87296,     0.87286,     0.87264,     0.87208,     0.87199,      0.8719,     0.87181,     0.87171,     0.87158,     0.87144,     0.87132,\n",
       "            0.87124,     0.87116,     0.87109,     0.87101,     0.87305,     0.87278,     0.87521,     0.87847,     0.88231,     0.88365,     0.88456,     0.88547,     0.88722,      0.8886,     0.88944,     0.89027,     0.89086,     0.89064,     0.89249,     0.89302,      0.8928,     0.89262,     0.89254,\n",
       "            0.89246,     0.89238,     0.89223,     0.89168,     0.89586,     0.89689,     0.90215,     0.90236,     0.90406,     0.90498,     0.90732,     0.90697,     0.90677,     0.90964,      0.9096,     0.90956,     0.90951,     0.90947,     0.90942,     0.90964,     0.91129,     0.91316,     0.91518,\n",
       "              0.915,     0.91497,     0.91494,     0.91491,     0.91488,     0.91485,     0.91482,     0.91479,     0.91476,      0.9141,     0.91436,     0.91507,     0.91579,     0.91651,     0.91685,     0.91636,     0.91913,     0.91889,     0.91872,     0.91846,     0.91827,     0.91812,     0.91791,\n",
       "            0.91834,     0.91931,     0.92028,     0.92387,      0.9238,     0.92372,     0.92364,     0.92328,     0.92276,     0.92263,     0.92426,     0.92686,     0.92817,     0.92901,      0.9288,     0.92888,     0.93063,     0.93185,     0.93169,      0.9326,     0.93379,     0.93498,     0.93474,\n",
       "            0.93461,     0.93563,     0.93793,     0.93769,      0.9376,     0.93751,     0.93734,     0.93715,      0.9367,     0.93653,     0.93643,     0.93634,      0.9364,      0.9374,      0.9384,     0.93939,     0.93948,     0.93935,     0.93927,     0.93918,     0.94067,     0.94218,     0.94293,\n",
       "            0.94488,     0.94526,     0.94488,     0.94482,     0.94477,     0.94472,     0.94467,     0.94841,     0.94837,     0.94832,     0.94828,     0.94823,     0.94817,      0.9481,     0.94803,      0.9479,     0.94772,     0.94759,     0.94747,     0.94767,     0.94915,     0.95063,     0.95428,\n",
       "            0.95496,     0.95453,     0.95431,     0.95586,     0.95808,     0.95799,     0.95744,     0.95736,     0.95728,     0.95852,     0.96014,     0.96134,     0.96118,     0.96082,     0.96061,     0.96044,      0.9603,     0.96013,     0.96001,     0.95981,     0.95969,     0.95926,     0.95922,\n",
       "            0.95918,     0.95914,     0.95909,     0.95899,     0.95886,     0.95867,     0.95853,     0.95849,     0.95845,     0.95841,     0.95837,     0.95833,     0.95802,     0.96044,     0.96243,     0.96238,     0.96234,      0.9623,     0.96205,     0.96182,     0.96167,      0.9616,      0.9642,\n",
       "            0.96616,     0.96607,     0.96942,     0.97069,     0.97064,     0.97057,     0.97038,      0.9703,     0.96999,      0.9699,     0.96979,     0.96935,     0.96919,      0.9689,      0.9688,      0.9687,     0.96861,     0.96828,     0.97199,     0.97313,     0.97308,     0.97305,     0.97301,\n",
       "            0.97297,     0.97289,     0.97274,     0.97265,     0.97263,      0.9726,     0.97257,     0.97254,     0.97244,     0.97221,     0.97205,     0.97201,     0.97196,     0.97192,     0.97152,     0.97143,     0.97134,     0.97122,     0.97091,      0.9705,     0.97011,     0.96986,     0.96977,\n",
       "            0.96965,     0.96947,     0.96938,     0.97024,     0.97294,     0.97527,     0.97512,     0.97506,     0.97492,     0.97479,     0.97473,     0.97459,     0.97448,     0.97443,     0.97437,     0.97383,     0.97373,     0.97496,     0.97961,     0.97993,     0.97986,     0.97983,     0.97979,\n",
       "            0.97975,     0.97971,     0.97966,     0.97961,     0.98292,     0.98607,     0.98595,     0.98576,      0.9856,     0.98554,     0.98537,     0.98528,     0.98521,     0.98513,     0.98497,     0.98483,     0.98475,      0.9846,     0.98455,     0.98451,     0.98421,       0.984,     0.98392,\n",
       "            0.98386,     0.98382,     0.98378,     0.98374,     0.98357,     0.98352,     0.98347,     0.98345,     0.98342,      0.9834,     0.98338,     0.98335,     0.98319,     0.98308,     0.98625,     0.99045,     0.99137,     0.99135,     0.99133,      0.9913,      0.9912,     0.99112,     0.99108,\n",
       "            0.99093,     0.99085,     0.99074,     0.99072,     0.99069,     0.99067,     0.99064,     0.99059,      0.9905,     0.99042,     0.99035,     0.99027,     0.99019,     0.99013,     0.98996,     0.98979,     0.98971,     0.98952,     0.98916,     0.98884,     0.98852,     0.98837,      0.9882,\n",
       "            0.98786,     0.99283,           1,           1,           1,           1,           1,           1,           1,           1,           1,           1,           1,           1,           1,           1,           1,           1,           1,           1,           1,           1,           1,\n",
       "                  1,           1,           1,           1,           1,           1,           1,           1,           1,           1,           1,           1,           1,           1,           1,           1,           1,           1,           1,           1,           1,           1,           1,\n",
       "                  1,           1,           1,           1,           1,           1,           1,           1,           1,           1,           1,           1,           1,           1,           1,           1,           1,           1,           1,           1,           1,           1,           1,\n",
       "                  1,           1,           1,           1,           1,           1,           1,           1,           1,           1,           1,           1,           1,           1,           1,           1,           1,           1,           1,           1,           1,           1,           1,\n",
       "                  1,           1,           1,           1,           1,           1,           1,           1,           1,           1,           1,           1,           1,           1,           1,           1,           1,           1,           1,           1,           1,           1,           1,\n",
       "                  1,           1,           1,           1,           1,           1,           1,           1,           1,           1,           1,           1,           1,           1,           1,           1,           1,           1,           1,           1,           1,           1,           1,\n",
       "                  1,           1,           1,           1,           1,           1,           1,           1,           1,           1,           1,           1,           1,           1,           1,           1,           1,           1,           1,           1,           1,           1,           1,\n",
       "                  1,           1,           1,           1,           1,           1,           1,           1,           1,           1,           1]]), 'Confidence', 'Precision'], [array([          0,    0.001001,    0.002002,    0.003003,    0.004004,    0.005005,    0.006006,    0.007007,    0.008008,    0.009009,     0.01001,    0.011011,    0.012012,    0.013013,    0.014014,    0.015015,    0.016016,    0.017017,    0.018018,    0.019019,     0.02002,    0.021021,    0.022022,    0.023023,\n",
       "          0.024024,    0.025025,    0.026026,    0.027027,    0.028028,    0.029029,     0.03003,    0.031031,    0.032032,    0.033033,    0.034034,    0.035035,    0.036036,    0.037037,    0.038038,    0.039039,     0.04004,    0.041041,    0.042042,    0.043043,    0.044044,    0.045045,    0.046046,    0.047047,\n",
       "          0.048048,    0.049049,     0.05005,    0.051051,    0.052052,    0.053053,    0.054054,    0.055055,    0.056056,    0.057057,    0.058058,    0.059059,     0.06006,    0.061061,    0.062062,    0.063063,    0.064064,    0.065065,    0.066066,    0.067067,    0.068068,    0.069069,     0.07007,    0.071071,\n",
       "          0.072072,    0.073073,    0.074074,    0.075075,    0.076076,    0.077077,    0.078078,    0.079079,     0.08008,    0.081081,    0.082082,    0.083083,    0.084084,    0.085085,    0.086086,    0.087087,    0.088088,    0.089089,     0.09009,    0.091091,    0.092092,    0.093093,    0.094094,    0.095095,\n",
       "          0.096096,    0.097097,    0.098098,    0.099099,      0.1001,      0.1011,      0.1021,      0.1031,      0.1041,     0.10511,     0.10611,     0.10711,     0.10811,     0.10911,     0.11011,     0.11111,     0.11211,     0.11311,     0.11411,     0.11512,     0.11612,     0.11712,     0.11812,     0.11912,\n",
       "           0.12012,     0.12112,     0.12212,     0.12312,     0.12412,     0.12513,     0.12613,     0.12713,     0.12813,     0.12913,     0.13013,     0.13113,     0.13213,     0.13313,     0.13413,     0.13514,     0.13614,     0.13714,     0.13814,     0.13914,     0.14014,     0.14114,     0.14214,     0.14314,\n",
       "           0.14414,     0.14515,     0.14615,     0.14715,     0.14815,     0.14915,     0.15015,     0.15115,     0.15215,     0.15315,     0.15415,     0.15516,     0.15616,     0.15716,     0.15816,     0.15916,     0.16016,     0.16116,     0.16216,     0.16316,     0.16416,     0.16517,     0.16617,     0.16717,\n",
       "           0.16817,     0.16917,     0.17017,     0.17117,     0.17217,     0.17317,     0.17417,     0.17518,     0.17618,     0.17718,     0.17818,     0.17918,     0.18018,     0.18118,     0.18218,     0.18318,     0.18418,     0.18519,     0.18619,     0.18719,     0.18819,     0.18919,     0.19019,     0.19119,\n",
       "           0.19219,     0.19319,     0.19419,      0.1952,      0.1962,      0.1972,      0.1982,      0.1992,      0.2002,      0.2012,      0.2022,      0.2032,      0.2042,     0.20521,     0.20621,     0.20721,     0.20821,     0.20921,     0.21021,     0.21121,     0.21221,     0.21321,     0.21421,     0.21522,\n",
       "           0.21622,     0.21722,     0.21822,     0.21922,     0.22022,     0.22122,     0.22222,     0.22322,     0.22422,     0.22523,     0.22623,     0.22723,     0.22823,     0.22923,     0.23023,     0.23123,     0.23223,     0.23323,     0.23423,     0.23524,     0.23624,     0.23724,     0.23824,     0.23924,\n",
       "           0.24024,     0.24124,     0.24224,     0.24324,     0.24424,     0.24525,     0.24625,     0.24725,     0.24825,     0.24925,     0.25025,     0.25125,     0.25225,     0.25325,     0.25425,     0.25526,     0.25626,     0.25726,     0.25826,     0.25926,     0.26026,     0.26126,     0.26226,     0.26326,\n",
       "           0.26426,     0.26527,     0.26627,     0.26727,     0.26827,     0.26927,     0.27027,     0.27127,     0.27227,     0.27327,     0.27427,     0.27528,     0.27628,     0.27728,     0.27828,     0.27928,     0.28028,     0.28128,     0.28228,     0.28328,     0.28428,     0.28529,     0.28629,     0.28729,\n",
       "           0.28829,     0.28929,     0.29029,     0.29129,     0.29229,     0.29329,     0.29429,      0.2953,      0.2963,      0.2973,      0.2983,      0.2993,      0.3003,      0.3013,      0.3023,      0.3033,      0.3043,     0.30531,     0.30631,     0.30731,     0.30831,     0.30931,     0.31031,     0.31131,\n",
       "           0.31231,     0.31331,     0.31431,     0.31532,     0.31632,     0.31732,     0.31832,     0.31932,     0.32032,     0.32132,     0.32232,     0.32332,     0.32432,     0.32533,     0.32633,     0.32733,     0.32833,     0.32933,     0.33033,     0.33133,     0.33233,     0.33333,     0.33433,     0.33534,\n",
       "           0.33634,     0.33734,     0.33834,     0.33934,     0.34034,     0.34134,     0.34234,     0.34334,     0.34434,     0.34535,     0.34635,     0.34735,     0.34835,     0.34935,     0.35035,     0.35135,     0.35235,     0.35335,     0.35435,     0.35536,     0.35636,     0.35736,     0.35836,     0.35936,\n",
       "           0.36036,     0.36136,     0.36236,     0.36336,     0.36436,     0.36537,     0.36637,     0.36737,     0.36837,     0.36937,     0.37037,     0.37137,     0.37237,     0.37337,     0.37437,     0.37538,     0.37638,     0.37738,     0.37838,     0.37938,     0.38038,     0.38138,     0.38238,     0.38338,\n",
       "           0.38438,     0.38539,     0.38639,     0.38739,     0.38839,     0.38939,     0.39039,     0.39139,     0.39239,     0.39339,     0.39439,      0.3954,      0.3964,      0.3974,      0.3984,      0.3994,      0.4004,      0.4014,      0.4024,      0.4034,      0.4044,     0.40541,     0.40641,     0.40741,\n",
       "           0.40841,     0.40941,     0.41041,     0.41141,     0.41241,     0.41341,     0.41441,     0.41542,     0.41642,     0.41742,     0.41842,     0.41942,     0.42042,     0.42142,     0.42242,     0.42342,     0.42442,     0.42543,     0.42643,     0.42743,     0.42843,     0.42943,     0.43043,     0.43143,\n",
       "           0.43243,     0.43343,     0.43443,     0.43544,     0.43644,     0.43744,     0.43844,     0.43944,     0.44044,     0.44144,     0.44244,     0.44344,     0.44444,     0.44545,     0.44645,     0.44745,     0.44845,     0.44945,     0.45045,     0.45145,     0.45245,     0.45345,     0.45445,     0.45546,\n",
       "           0.45646,     0.45746,     0.45846,     0.45946,     0.46046,     0.46146,     0.46246,     0.46346,     0.46446,     0.46547,     0.46647,     0.46747,     0.46847,     0.46947,     0.47047,     0.47147,     0.47247,     0.47347,     0.47447,     0.47548,     0.47648,     0.47748,     0.47848,     0.47948,\n",
       "           0.48048,     0.48148,     0.48248,     0.48348,     0.48448,     0.48549,     0.48649,     0.48749,     0.48849,     0.48949,     0.49049,     0.49149,     0.49249,     0.49349,     0.49449,      0.4955,      0.4965,      0.4975,      0.4985,      0.4995,      0.5005,      0.5015,      0.5025,      0.5035,\n",
       "            0.5045,     0.50551,     0.50651,     0.50751,     0.50851,     0.50951,     0.51051,     0.51151,     0.51251,     0.51351,     0.51451,     0.51552,     0.51652,     0.51752,     0.51852,     0.51952,     0.52052,     0.52152,     0.52252,     0.52352,     0.52452,     0.52553,     0.52653,     0.52753,\n",
       "           0.52853,     0.52953,     0.53053,     0.53153,     0.53253,     0.53353,     0.53453,     0.53554,     0.53654,     0.53754,     0.53854,     0.53954,     0.54054,     0.54154,     0.54254,     0.54354,     0.54454,     0.54555,     0.54655,     0.54755,     0.54855,     0.54955,     0.55055,     0.55155,\n",
       "           0.55255,     0.55355,     0.55455,     0.55556,     0.55656,     0.55756,     0.55856,     0.55956,     0.56056,     0.56156,     0.56256,     0.56356,     0.56456,     0.56557,     0.56657,     0.56757,     0.56857,     0.56957,     0.57057,     0.57157,     0.57257,     0.57357,     0.57457,     0.57558,\n",
       "           0.57658,     0.57758,     0.57858,     0.57958,     0.58058,     0.58158,     0.58258,     0.58358,     0.58458,     0.58559,     0.58659,     0.58759,     0.58859,     0.58959,     0.59059,     0.59159,     0.59259,     0.59359,     0.59459,      0.5956,      0.5966,      0.5976,      0.5986,      0.5996,\n",
       "            0.6006,      0.6016,      0.6026,      0.6036,      0.6046,     0.60561,     0.60661,     0.60761,     0.60861,     0.60961,     0.61061,     0.61161,     0.61261,     0.61361,     0.61461,     0.61562,     0.61662,     0.61762,     0.61862,     0.61962,     0.62062,     0.62162,     0.62262,     0.62362,\n",
       "           0.62462,     0.62563,     0.62663,     0.62763,     0.62863,     0.62963,     0.63063,     0.63163,     0.63263,     0.63363,     0.63463,     0.63564,     0.63664,     0.63764,     0.63864,     0.63964,     0.64064,     0.64164,     0.64264,     0.64364,     0.64464,     0.64565,     0.64665,     0.64765,\n",
       "           0.64865,     0.64965,     0.65065,     0.65165,     0.65265,     0.65365,     0.65465,     0.65566,     0.65666,     0.65766,     0.65866,     0.65966,     0.66066,     0.66166,     0.66266,     0.66366,     0.66466,     0.66567,     0.66667,     0.66767,     0.66867,     0.66967,     0.67067,     0.67167,\n",
       "           0.67267,     0.67367,     0.67467,     0.67568,     0.67668,     0.67768,     0.67868,     0.67968,     0.68068,     0.68168,     0.68268,     0.68368,     0.68468,     0.68569,     0.68669,     0.68769,     0.68869,     0.68969,     0.69069,     0.69169,     0.69269,     0.69369,     0.69469,      0.6957,\n",
       "            0.6967,      0.6977,      0.6987,      0.6997,      0.7007,      0.7017,      0.7027,      0.7037,      0.7047,     0.70571,     0.70671,     0.70771,     0.70871,     0.70971,     0.71071,     0.71171,     0.71271,     0.71371,     0.71471,     0.71572,     0.71672,     0.71772,     0.71872,     0.71972,\n",
       "           0.72072,     0.72172,     0.72272,     0.72372,     0.72472,     0.72573,     0.72673,     0.72773,     0.72873,     0.72973,     0.73073,     0.73173,     0.73273,     0.73373,     0.73473,     0.73574,     0.73674,     0.73774,     0.73874,     0.73974,     0.74074,     0.74174,     0.74274,     0.74374,\n",
       "           0.74474,     0.74575,     0.74675,     0.74775,     0.74875,     0.74975,     0.75075,     0.75175,     0.75275,     0.75375,     0.75475,     0.75576,     0.75676,     0.75776,     0.75876,     0.75976,     0.76076,     0.76176,     0.76276,     0.76376,     0.76476,     0.76577,     0.76677,     0.76777,\n",
       "           0.76877,     0.76977,     0.77077,     0.77177,     0.77277,     0.77377,     0.77477,     0.77578,     0.77678,     0.77778,     0.77878,     0.77978,     0.78078,     0.78178,     0.78278,     0.78378,     0.78478,     0.78579,     0.78679,     0.78779,     0.78879,     0.78979,     0.79079,     0.79179,\n",
       "           0.79279,     0.79379,     0.79479,      0.7958,      0.7968,      0.7978,      0.7988,      0.7998,      0.8008,      0.8018,      0.8028,      0.8038,      0.8048,     0.80581,     0.80681,     0.80781,     0.80881,     0.80981,     0.81081,     0.81181,     0.81281,     0.81381,     0.81481,     0.81582,\n",
       "           0.81682,     0.81782,     0.81882,     0.81982,     0.82082,     0.82182,     0.82282,     0.82382,     0.82482,     0.82583,     0.82683,     0.82783,     0.82883,     0.82983,     0.83083,     0.83183,     0.83283,     0.83383,     0.83483,     0.83584,     0.83684,     0.83784,     0.83884,     0.83984,\n",
       "           0.84084,     0.84184,     0.84284,     0.84384,     0.84484,     0.84585,     0.84685,     0.84785,     0.84885,     0.84985,     0.85085,     0.85185,     0.85285,     0.85385,     0.85485,     0.85586,     0.85686,     0.85786,     0.85886,     0.85986,     0.86086,     0.86186,     0.86286,     0.86386,\n",
       "           0.86486,     0.86587,     0.86687,     0.86787,     0.86887,     0.86987,     0.87087,     0.87187,     0.87287,     0.87387,     0.87487,     0.87588,     0.87688,     0.87788,     0.87888,     0.87988,     0.88088,     0.88188,     0.88288,     0.88388,     0.88488,     0.88589,     0.88689,     0.88789,\n",
       "           0.88889,     0.88989,     0.89089,     0.89189,     0.89289,     0.89389,     0.89489,      0.8959,      0.8969,      0.8979,      0.8989,      0.8999,      0.9009,      0.9019,      0.9029,      0.9039,      0.9049,     0.90591,     0.90691,     0.90791,     0.90891,     0.90991,     0.91091,     0.91191,\n",
       "           0.91291,     0.91391,     0.91491,     0.91592,     0.91692,     0.91792,     0.91892,     0.91992,     0.92092,     0.92192,     0.92292,     0.92392,     0.92492,     0.92593,     0.92693,     0.92793,     0.92893,     0.92993,     0.93093,     0.93193,     0.93293,     0.93393,     0.93493,     0.93594,\n",
       "           0.93694,     0.93794,     0.93894,     0.93994,     0.94094,     0.94194,     0.94294,     0.94394,     0.94494,     0.94595,     0.94695,     0.94795,     0.94895,     0.94995,     0.95095,     0.95195,     0.95295,     0.95395,     0.95495,     0.95596,     0.95696,     0.95796,     0.95896,     0.95996,\n",
       "           0.96096,     0.96196,     0.96296,     0.96396,     0.96496,     0.96597,     0.96697,     0.96797,     0.96897,     0.96997,     0.97097,     0.97197,     0.97297,     0.97397,     0.97497,     0.97598,     0.97698,     0.97798,     0.97898,     0.97998,     0.98098,     0.98198,     0.98298,     0.98398,\n",
       "           0.98498,     0.98599,     0.98699,     0.98799,     0.98899,     0.98999,     0.99099,     0.99199,     0.99299,     0.99399,     0.99499,       0.996,       0.997,       0.998,       0.999,           1]), array([[          1,           1,           1,     0.99658,     0.99658,     0.99658,     0.99658,     0.99658,     0.99658,     0.99487,     0.99487,     0.99487,     0.99316,     0.99316,     0.99316,     0.99316,     0.99316,     0.99316,     0.99145,     0.99145,     0.99145,     0.99145,     0.98974,\n",
       "            0.98974,     0.98974,     0.98803,     0.98803,     0.98803,     0.98803,     0.98803,     0.98803,     0.98632,     0.98462,     0.98462,     0.98462,     0.98462,     0.98462,     0.98462,     0.97949,     0.97607,     0.97607,     0.97607,     0.97436,     0.97436,     0.97436,     0.97436,\n",
       "            0.97436,     0.97265,     0.97265,     0.97265,     0.97265,     0.97265,     0.97103,     0.96923,     0.96752,     0.96752,     0.96677,     0.96581,     0.96581,     0.96581,      0.9641,     0.96239,     0.96239,     0.96068,     0.95897,     0.95897,     0.95726,     0.95726,     0.95726,\n",
       "            0.95556,     0.95214,     0.95214,     0.95043,     0.94701,     0.94701,      0.9453,     0.94017,     0.93675,     0.93504,     0.93504,     0.93504,     0.93504,     0.93333,     0.93333,     0.93301,     0.93162,     0.93162,     0.92991,     0.92945,     0.92801,     0.92479,     0.92479,\n",
       "            0.92308,     0.92308,     0.91966,     0.91966,     0.91795,     0.91624,     0.91576,     0.91282,     0.91282,     0.91174,     0.91111,     0.90769,     0.90769,     0.90769,     0.90534,     0.90427,     0.90085,     0.89744,     0.89744,     0.89537,     0.89231,     0.89231,      0.8906,\n",
       "             0.8906,     0.88889,     0.88718,     0.88718,     0.88376,     0.88376,     0.88376,     0.88376,     0.88376,     0.88205,     0.88034,     0.88034,     0.87863,     0.87863,     0.87863,     0.87692,     0.87521,     0.87521,      0.8735,      0.8735,     0.87333,     0.87179,     0.87179,\n",
       "            0.87009,     0.87009,     0.86838,     0.86653,     0.86496,     0.86325,     0.85983,     0.85812,     0.85812,     0.85466,     0.85299,     0.84786,     0.84615,     0.84409,     0.84274,     0.84103,     0.84103,     0.84103,     0.83932,      0.8372,     0.83419,       0.831,     0.82857,\n",
       "            0.82536,     0.82222,     0.82051,     0.81893,     0.81709,     0.81197,     0.81197,     0.81197,     0.81026,     0.80855,     0.80855,     0.80757,     0.80684,     0.80406,     0.80342,     0.80342,     0.80342,     0.80198,     0.80085,         0.8,     0.79767,     0.79484,     0.79316,\n",
       "            0.79165,     0.78974,     0.78803,     0.78803,     0.78678,     0.78291,     0.78045,     0.77897,     0.77447,     0.77265,     0.77094,     0.76824,     0.76752,     0.76581,     0.76581,     0.76581,      0.7641,      0.7641,      0.7641,      0.7641,     0.76239,     0.76023,     0.75726,\n",
       "            0.75726,     0.75385,     0.75385,     0.75385,     0.75214,     0.75214,      0.7487,     0.74701,      0.7453,     0.74177,     0.74017,     0.73846,     0.73846,     0.73846,     0.73333,     0.73112,     0.72991,     0.72991,     0.72705,      0.7265,      0.7265,      0.7265,     0.72479,\n",
       "            0.72354,     0.72162,     0.71966,     0.71966,     0.71966,     0.71795,     0.71624,     0.71624,     0.71453,     0.71111,     0.71111,     0.71111,     0.71111,     0.71111,      0.7094,      0.7094,     0.70835,     0.70598,     0.70598,     0.70598,     0.70427,     0.70341,     0.69744,\n",
       "            0.69744,     0.69744,     0.69744,     0.69573,     0.69573,     0.69573,     0.69353,     0.69267,     0.68681,     0.68376,     0.68376,     0.68205,     0.68205,     0.68044,     0.67863,     0.67863,     0.67863,     0.67692,     0.67692,     0.67471,      0.6735,     0.67179,     0.67179,\n",
       "            0.67179,     0.66838,     0.66838,     0.66838,     0.66838,     0.66838,     0.66667,     0.66667,     0.66667,     0.66631,      0.6653,     0.66496,     0.66496,     0.66496,     0.66071,     0.65957,     0.65812,     0.65812,     0.65812,     0.65812,     0.65641,     0.65641,     0.65641,\n",
       "            0.65641,     0.65628,      0.6547,      0.6547,      0.6547,      0.6547,      0.6547,      0.6547,      0.6547,      0.6547,     0.65208,     0.64957,     0.64957,     0.64957,     0.64957,     0.64957,     0.64957,     0.64957,     0.64957,     0.64787,     0.64444,     0.64402,     0.64202,\n",
       "            0.64103,     0.63932,     0.63932,     0.63932,     0.63932,     0.63727,     0.63656,     0.63576,     0.63419,     0.63318,     0.63137,     0.63077,     0.63077,     0.63077,     0.62906,     0.62906,     0.62735,     0.62595,     0.62562,     0.62393,     0.62393,     0.62393,     0.62222,\n",
       "            0.62222,     0.62154,     0.62078,     0.62011,     0.61949,     0.61887,     0.61797,     0.61709,     0.61709,     0.61709,     0.61709,      0.6159,     0.61355,      0.6124,     0.61197,     0.61197,     0.60825,     0.60684,     0.60557,     0.60331,     0.60171,     0.60171,     0.60143,\n",
       "            0.60081,     0.60019,     0.59885,     0.59829,     0.59829,     0.59829,     0.59829,     0.59829,     0.59741,     0.59658,     0.59658,     0.59487,       0.594,     0.59316,     0.59316,     0.59316,     0.59316,     0.59205,     0.58976,     0.58974,     0.58961,     0.58694,     0.58632,\n",
       "            0.58466,     0.58462,     0.58462,     0.58462,     0.58291,     0.58291,     0.58113,     0.58002,     0.57917,     0.57856,     0.57794,     0.57778,     0.57778,     0.57778,     0.57599,     0.57503,     0.57436,     0.57436,     0.57436,     0.57436,     0.57436,     0.57436,     0.57436,\n",
       "            0.57436,     0.57436,     0.57436,     0.57436,     0.57376,     0.57265,     0.57102,     0.56923,     0.56923,     0.56923,     0.56844,     0.56752,     0.56581,     0.56581,      0.5641,     0.56355,     0.56036,     0.55854,     0.55749,     0.55726,     0.55669,     0.55547,     0.55446,\n",
       "            0.55385,     0.55385,     0.55362,     0.55273,     0.55214,     0.55214,     0.55214,     0.55214,     0.55214,     0.55158,     0.54958,     0.54699,     0.54666,     0.54634,     0.54601,     0.54569,     0.54536,     0.54475,     0.54408,     0.54359,     0.54359,     0.54188,     0.54188,\n",
       "            0.54188,     0.54188,     0.54188,     0.54188,     0.54188,     0.54017,     0.54017,     0.53846,     0.53846,     0.53846,     0.53675,     0.53675,     0.53458,     0.53333,     0.53333,     0.53301,     0.53202,     0.53059,     0.52821,     0.52817,     0.52778,      0.5274,     0.52701,\n",
       "            0.52663,     0.52544,     0.52448,     0.52395,     0.52342,     0.52159,     0.52027,     0.51966,     0.51966,     0.51966,     0.51778,     0.51731,     0.51683,     0.51635,     0.51533,     0.51277,     0.51235,     0.51193,     0.51151,     0.51108,     0.51045,     0.50982,     0.50928,\n",
       "            0.50893,     0.50858,     0.50823,     0.50788,     0.50548,     0.50428,     0.50354,     0.50256,     0.50256,     0.50256,     0.50256,     0.50256,     0.50256,     0.50256,     0.50256,     0.50256,      0.5023,     0.50119,     0.50085,     0.49941,     0.49826,     0.49736,     0.49694,\n",
       "            0.49652,      0.4961,     0.49533,     0.49252,     0.49231,      0.4907,      0.4906,     0.48972,     0.48889,     0.48547,     0.48531,     0.48327,     0.48216,     0.48186,      0.4816,     0.48134,     0.48108,     0.48082,     0.48056,     0.48034,     0.48034,     0.48034,     0.47952,\n",
       "            0.47846,     0.47827,     0.47808,     0.47789,     0.47771,     0.47752,     0.47733,     0.47715,     0.47696,     0.47298,     0.47179,     0.47179,     0.47179,     0.47179,     0.47119,     0.46819,     0.46625,     0.46477,     0.46372,     0.46213,     0.46092,     0.46004,     0.45876,\n",
       "            0.45812,     0.45812,     0.45812,      0.4564,     0.45589,     0.45538,     0.45488,     0.45256,     0.44927,     0.44848,     0.44786,     0.44786,     0.44786,     0.44743,     0.44598,     0.44444,     0.44444,     0.44412,     0.44297,     0.44274,     0.44274,     0.44274,     0.44069,\n",
       "            0.43981,     0.43932,     0.43912,     0.43729,     0.43663,     0.43598,     0.43469,     0.43328,     0.43003,     0.42877,      0.4281,     0.42743,     0.42564,     0.42564,     0.42564,     0.42564,     0.42461,     0.42362,     0.42299,     0.42236,      0.4188,     0.41783,     0.41709,\n",
       "            0.41709,     0.41324,      0.4102,      0.4098,      0.4094,     0.40899,     0.40859,     0.40854,     0.40816,     0.40779,     0.40741,     0.40703,     0.40655,     0.40598,      0.4054,     0.40427,     0.40288,     0.40177,     0.40078,         0.4,         0.4,         0.4,         0.4,\n",
       "            0.39866,     0.39475,     0.39271,     0.39145,     0.39068,     0.38982,     0.38458,     0.38383,     0.38308,     0.38291,     0.38291,     0.38255,     0.38094,     0.37732,     0.37515,     0.37353,     0.37217,     0.37052,     0.36929,     0.36739,     0.36627,     0.36222,     0.36184,\n",
       "            0.36147,     0.36109,     0.36072,     0.35976,     0.35855,     0.35686,     0.35562,     0.35523,     0.35489,     0.35454,      0.3542,     0.35386,      0.3511,     0.35043,     0.35029,     0.34988,     0.34947,     0.34906,     0.34663,     0.34451,     0.34312,     0.34188,     0.34188,\n",
       "            0.34165,     0.34067,     0.34017,     0.33967,     0.33906,     0.33821,     0.33603,     0.33512,     0.33148,      0.3305,     0.32921,     0.32441,     0.32262,     0.31952,      0.3185,     0.31748,     0.31646,     0.31304,     0.31111,     0.30952,     0.30898,     0.30854,      0.3081,\n",
       "            0.30762,     0.30669,       0.305,       0.304,     0.30368,     0.30335,     0.30302,      0.3027,     0.30159,     0.29901,     0.29729,     0.29679,     0.29629,      0.2958,      0.2916,     0.29064,     0.28972,     0.28844,     0.28528,     0.28119,     0.27737,     0.27502,     0.27419,\n",
       "            0.27308,     0.27142,     0.27061,     0.27009,     0.27009,     0.26961,     0.26794,     0.26729,     0.26577,     0.26434,     0.26372,     0.26221,     0.26108,     0.26053,     0.25998,     0.25439,     0.25349,     0.25128,     0.25128,     0.25043,     0.24954,     0.24909,     0.24863,\n",
       "            0.24818,     0.24767,     0.24702,     0.24637,     0.24615,     0.24194,     0.23997,     0.23664,     0.23395,     0.23299,     0.23034,     0.22887,     0.22774,     0.22649,     0.22399,     0.22202,     0.22076,     0.21855,     0.21791,     0.21726,     0.21313,     0.21019,     0.20925,\n",
       "            0.20841,      0.2079,     0.20738,     0.20686,     0.20461,     0.20401,     0.20341,     0.20312,     0.20282,     0.20252,     0.20223,     0.20193,     0.19992,     0.19861,     0.19829,     0.19829,      0.1964,     0.19589,     0.19538,     0.19486,     0.19256,     0.19085,     0.19002,\n",
       "            0.18673,      0.1852,     0.18284,     0.18241,     0.18198,     0.18155,     0.18099,     0.17987,     0.17817,     0.17679,     0.17545,     0.17395,      0.1725,     0.17143,     0.16857,     0.16564,     0.16439,     0.16143,     0.15602,     0.15144,     0.14713,     0.14527,     0.14314,\n",
       "            0.13915,     0.13846,     0.13845,     0.13247,     0.12583,     0.12127,     0.11773,     0.11649,     0.11287,     0.11028,     0.10732,     0.10408,     0.10302,     0.10079,    0.099565,    0.097217,    0.096709,      0.0962,    0.095655,    0.094636,    0.093333,     0.09151,     0.08878,\n",
       "           0.085066,    0.083284,    0.080196,     0.07847,    0.078004,    0.077538,    0.077072,    0.075027,    0.073207,    0.072616,    0.072025,    0.069409,     0.06815,    0.066458,    0.065827,    0.065196,    0.063597,    0.062205,    0.061221,    0.060535,     0.05985,    0.056832,    0.055625,\n",
       "           0.054672,    0.053769,    0.052903,    0.052271,    0.051639,    0.049347,    0.048216,    0.044285,    0.043777,     0.04327,    0.042762,    0.040677,    0.040289,    0.039901,    0.039512,    0.037511,    0.036501,    0.035002,    0.032891,    0.029891,     0.02898,    0.028738,    0.028497,\n",
       "           0.028255,    0.028013,    0.027771,    0.027529,    0.026878,    0.024744,    0.022965,    0.021744,    0.020683,    0.019446,    0.017067,    0.016756,    0.016446,    0.016135,    0.015825,    0.015514,    0.015275,    0.015085,    0.014896,    0.014707,    0.014518,    0.014329,     0.01414,\n",
       "           0.013951,    0.013762,    0.013391,    0.012868,    0.012344,    0.011827,    0.011329,     0.01083,    0.010332,   0.0081985,   0.0076879,   0.0071773,     0.00674,   0.0064485,   0.0061569,   0.0058654,   0.0055738,   0.0052823,   0.0034128,   0.0033302,   0.0032475,   0.0031649,   0.0030822,\n",
       "          0.0029996,   0.0029169,   0.0028343,   0.0027516,    0.002669,   0.0025863,   0.0025036,    0.002421,   0.0023383,   0.0022557,    0.002173,   0.0020904,   0.0020077,   0.0019251,   0.0018424,   0.0017598,           0,           0,           0,           0,           0,           0,           0,\n",
       "                  0,           0,           0,           0,           0,           0,           0,           0,           0,           0,           0,           0,           0,           0,           0,           0,           0,           0,           0,           0,           0,           0,           0,\n",
       "                  0,           0,           0,           0,           0,           0,           0,           0,           0,           0,           0]]), 'Confidence', 'Recall']]\n",
       "fitness: np.float64(0.5733439203981886)\n",
       "keys: ['metrics/precision(B)', 'metrics/recall(B)', 'metrics/mAP50(B)', 'metrics/mAP50-95(B)']\n",
       "maps: array([    0.55112])\n",
       "names: {0: 'face'}\n",
       "plot: True\n",
       "results_dict: {'metrics/precision(B)': np.float64(0.7144342083210924), 'metrics/recall(B)': np.float64(0.6201098374105191), 'metrics/mAP50(B)': np.float64(0.7733747083066271), 'metrics/mAP50-95(B)': np.float64(0.5511182772972509), 'fitness': np.float64(0.5733439203981886)}\n",
       "save_dir: WindowsPath('runs/detect/train5')\n",
       "speed: {'preprocess': 0.32110499520587105, 'inference': 2.7480789738842564, 'loss': 0.0, 'postprocess': 0.5893246740357488}\n",
       "task: 'detect'"
      ]
     },
     "execution_count": 15,
     "metadata": {},
     "output_type": "execute_result"
    }
   ],
   "source": [
    "# Train the model\n",
    "yolo_model.train(data=data_yaml_path, epochs=50, imgsz=640)"
   ]
  },
  {
   "cell_type": "code",
   "execution_count": 16,
   "metadata": {},
   "outputs": [
    {
     "name": "stdout",
     "output_type": "stream",
     "text": [
      "\n",
      "image 1/1 D:\\code_study\\ML_CODE\\kaggle\\ObjectDetection\\Human Faces Object Detection\\Human Faces (Object Detection) - YOLOv8\\output\\val\\images\\00000005.jpg: 480x640 1 face, 17.0ms\n",
      "Speed: 2.0ms preprocess, 17.0ms inference, 1.0ms postprocess per image at shape (1, 3, 480, 640)\n"
     ]
    },
    {
     "data": {
      "text/plain": [
       "<Figure size 1000x1000 with 1 Axes>"
      ]
     },
     "metadata": {},
     "output_type": "display_data"
    },
    {
     "name": "stdout",
     "output_type": "stream",
     "text": [
      "\n",
      "image 1/1 D:\\code_study\\ML_CODE\\kaggle\\ObjectDetection\\Human Faces Object Detection\\Human Faces (Object Detection) - YOLOv8\\output\\val\\images\\00000008.jpg: 448x640 1 face, 17.2ms\n",
      "Speed: 2.0ms preprocess, 17.2ms inference, 1.0ms postprocess per image at shape (1, 3, 448, 640)\n"
     ]
    },
    {
     "data": {
      "text/plain": [
       "<Figure size 1000x1000 with 1 Axes>"
      ]
     },
     "metadata": {},
     "output_type": "display_data"
    },
    {
     "name": "stdout",
     "output_type": "stream",
     "text": [
      "\n",
      "image 1/1 D:\\code_study\\ML_CODE\\kaggle\\ObjectDetection\\Human Faces Object Detection\\Human Faces (Object Detection) - YOLOv8\\output\\val\\images\\00000011.jpg: 448x640 (no detections), 4.0ms\n",
      "Speed: 2.0ms preprocess, 4.0ms inference, 1.0ms postprocess per image at shape (1, 3, 448, 640)\n"
     ]
    },
    {
     "data": {
      "text/plain": [
       "<Figure size 1000x1000 with 1 Axes>"
      ]
     },
     "metadata": {},
     "output_type": "display_data"
    },
    {
     "name": "stdout",
     "output_type": "stream",
     "text": [
      "\n",
      "image 1/1 D:\\code_study\\ML_CODE\\kaggle\\ObjectDetection\\Human Faces Object Detection\\Human Faces (Object Detection) - YOLOv8\\output\\val\\images\\00000018.jpg: 448x640 1 face, 4.0ms\n",
      "Speed: 1.0ms preprocess, 4.0ms inference, 1.0ms postprocess per image at shape (1, 3, 448, 640)\n"
     ]
    },
    {
     "data": {
      "text/plain": [
       "<Figure size 1000x1000 with 1 Axes>"
      ]
     },
     "metadata": {},
     "output_type": "display_data"
    },
    {
     "name": "stdout",
     "output_type": "stream",
     "text": [
      "\n",
      "image 1/1 D:\\code_study\\ML_CODE\\kaggle\\ObjectDetection\\Human Faces Object Detection\\Human Faces (Object Detection) - YOLOv8\\output\\val\\images\\00000023.jpg: 640x448 1 face, 17.6ms\n",
      "Speed: 1.0ms preprocess, 17.6ms inference, 1.0ms postprocess per image at shape (1, 3, 640, 448)\n"
     ]
    },
    {
     "data": {
      "text/plain": [
       "<Figure size 1000x1000 with 1 Axes>"
      ]
     },
     "metadata": {},
     "output_type": "display_data"
    },
    {
     "name": "stdout",
     "output_type": "stream",
     "text": [
      "\n",
      "image 1/1 D:\\code_study\\ML_CODE\\kaggle\\ObjectDetection\\Human Faces Object Detection\\Human Faces (Object Detection) - YOLOv8\\output\\val\\images\\00000058.jpg: 416x640 2 faces, 21.6ms\n",
      "Speed: 2.0ms preprocess, 21.6ms inference, 1.0ms postprocess per image at shape (1, 3, 416, 640)\n"
     ]
    },
    {
     "data": {
      "text/plain": [
       "<Figure size 1000x1000 with 1 Axes>"
      ]
     },
     "metadata": {},
     "output_type": "display_data"
    },
    {
     "name": "stdout",
     "output_type": "stream",
     "text": [
      "\n",
      "image 1/1 D:\\code_study\\ML_CODE\\kaggle\\ObjectDetection\\Human Faces Object Detection\\Human Faces (Object Detection) - YOLOv8\\output\\val\\images\\00000089.jpg: 640x448 1 face, 8.0ms\n",
      "Speed: 2.0ms preprocess, 8.0ms inference, 1.7ms postprocess per image at shape (1, 3, 640, 448)\n"
     ]
    },
    {
     "data": {
      "text/plain": [
       "<Figure size 1000x1000 with 1 Axes>"
      ]
     },
     "metadata": {},
     "output_type": "display_data"
    },
    {
     "name": "stdout",
     "output_type": "stream",
     "text": [
      "\n",
      "image 1/1 D:\\code_study\\ML_CODE\\kaggle\\ObjectDetection\\Human Faces Object Detection\\Human Faces (Object Detection) - YOLOv8\\output\\val\\images\\00000100.jpg: 640x448 1 face, 8.0ms\n",
      "Speed: 1.0ms preprocess, 8.0ms inference, 1.0ms postprocess per image at shape (1, 3, 640, 448)\n"
     ]
    },
    {
     "data": {
      "text/plain": [
       "<Figure size 1000x1000 with 1 Axes>"
      ]
     },
     "metadata": {},
     "output_type": "display_data"
    },
    {
     "name": "stdout",
     "output_type": "stream",
     "text": [
      "\n",
      "image 1/1 D:\\code_study\\ML_CODE\\kaggle\\ObjectDetection\\Human Faces Object Detection\\Human Faces (Object Detection) - YOLOv8\\output\\val\\images\\00000104.jpg: 640x480 1 face, 17.0ms\n",
      "Speed: 1.0ms preprocess, 17.0ms inference, 1.0ms postprocess per image at shape (1, 3, 640, 480)\n"
     ]
    },
    {
     "data": {
      "text/plain": [
       "<Figure size 1000x1000 with 1 Axes>"
      ]
     },
     "metadata": {},
     "output_type": "display_data"
    },
    {
     "name": "stdout",
     "output_type": "stream",
     "text": [
      "\n",
      "image 1/1 D:\\code_study\\ML_CODE\\kaggle\\ObjectDetection\\Human Faces Object Detection\\Human Faces (Object Detection) - YOLOv8\\output\\val\\images\\00000120.jpg: 640x448 1 face, 8.6ms\n",
      "Speed: 2.0ms preprocess, 8.6ms inference, 1.0ms postprocess per image at shape (1, 3, 640, 448)\n"
     ]
    },
    {
     "data": {
      "text/plain": [
       "<Figure size 1000x1000 with 1 Axes>"
      ]
     },
     "metadata": {},
     "output_type": "display_data"
    },
    {
     "name": "stdout",
     "output_type": "stream",
     "text": [
      "Process completed. Outputs are stored in: D:\\code_study\\ML_CODE\\kaggle\\ObjectDetection\\Human Faces Object Detection\\Human Faces (Object Detection) - YOLOv8\\output\n"
     ]
    }
   ],
   "source": [
    "# Function to draw rounded rectangle\n",
    "def draw_rounded_rectangle(img, start_point, end_point, color, thickness, radius):\n",
    "    x1, y1 = start_point\n",
    "    x2, y2 = end_point\n",
    "    img = cv2.rectangle(img, (x1 + radius, y1), (x2 - radius, y2), color, thickness)\n",
    "    img = cv2.rectangle(img, (x1, y1 + radius), (x2, y2 - radius), color, thickness)\n",
    "    img = cv2.circle(img, (x1 + radius, y1 + radius), radius, color, thickness)\n",
    "    img = cv2.circle(img, (x2 - radius, y1 + radius), radius, color, thickness)\n",
    "    img = cv2.circle(img, (x1 + radius, y2 - radius), radius, color, thickness)\n",
    "    img = cv2.circle(img, (x2 - radius, y2 - radius), radius, color, thickness)\n",
    "    return img\n",
    "\n",
    "# Display 10 sample images with detection results\n",
    "def display_samples_with_detections(model, images_dir, samples=10):\n",
    "    sample_images = os.listdir(images_dir)[:samples]\n",
    "    for img_name in sample_images:\n",
    "        img_path = os.path.join(images_dir, img_name)\n",
    "        results = model(img_path)[0]  # Get the first (and only) Results object\n",
    "        img = cv2.imread(img_path)\n",
    "        for box in results.boxes.xyxy.cpu().numpy():  # x1, y1, x2, y2\n",
    "            x1, y1, x2, y2 = map(int, box)\n",
    "            img = draw_rounded_rectangle(img, (x1, y1), (x2, y2), (0, 0, 255), 2, 10)  # Red color, thickness 2, radius 10\n",
    "        plt.figure(figsize=(10, 10))\n",
    "        plt.imshow(cv2.cvtColor(img, cv2.COLOR_BGR2RGB))\n",
    "        plt.axis('off')\n",
    "        plt.show()\n",
    "\n",
    "display_samples_with_detections(yolo_model, val_images_dir)\n",
    "\n",
    "print(\"Process completed. Outputs are stored in:\", output_dir)"
   ]
  }
 ],
 "metadata": {
  "kernelspec": {
   "display_name": "yoloV5",
   "language": "python",
   "name": "python3"
  },
  "language_info": {
   "codemirror_mode": {
    "name": "ipython",
    "version": 3
   },
   "file_extension": ".py",
   "mimetype": "text/x-python",
   "name": "python",
   "nbconvert_exporter": "python",
   "pygments_lexer": "ipython3",
   "version": "3.9.21"
  }
 },
 "nbformat": 4,
 "nbformat_minor": 2
}
